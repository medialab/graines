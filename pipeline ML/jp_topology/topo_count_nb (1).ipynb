{
 "cells": [
  {
   "cell_type": "code",
   "execution_count": 1,
   "metadata": {},
   "outputs": [],
   "source": [
    "import numpy as np\n",
    "import pandas as pd\n",
    "import bamboolib\n",
    "\n",
    "df=pd.read_csv(\"data/followers_graines_version_2021_09_21.csv\",dtype={'follower_id':'str',\"twitter_handle\":'str'})\n",
    "dfri=pd.read_csv(\"data/friends_graines.csv.gz\",dtype={'friend_id':'str',\"twitter_handle\":'str'})\n",
    "\n",
    "meta=pd.read_csv(\"data/followers_graines_version_2021_09_21.csv\",dtype={'follower_id':'str',\"twitter_handle\":'str'})\n",
    "dg=pd.read_csv('data/graines_metadata.csv',dtype={'id':'str'})"
   ]
  },
  {
   "cell_type": "code",
   "execution_count": null,
   "metadata": {},
   "outputs": [],
   "source": []
  },
  {
   "cell_type": "code",
   "execution_count": 11,
   "metadata": {},
   "outputs": [],
   "source": [
    "raisins=set(map(lambda x: str(x),dg['id'].values))\n",
    "\n",
    "dfri.head()\n",
    "net_fri={}\n",
    "for x,y in zip(dfri['friend_id'],dfri['twitter_handle']):\n",
    "    if x in raisins:\n",
    "        net_fri.setdefault(x,[]).append(y)\n",
    "\n",
    "net={}\n",
    "for x,y in zip(df['follower_id'],df['twitter_handle']):\n",
    "    if x in raisins:\n",
    "        net.setdefault(x,[]).append(y)"
   ]
  },
  {
   "cell_type": "code",
   "execution_count": null,
   "metadata": {},
   "outputs": [],
   "source": []
  },
  {
   "cell_type": "code",
   "execution_count": 14,
   "metadata": {},
   "outputs": [],
   "source": [
    "nb_followers_dict= dict(zip(dg.screen_name, dg.followers))"
   ]
  },
  {
   "cell_type": "code",
   "execution_count": 4,
   "metadata": {},
   "outputs": [],
   "source": [
    "net_fri={}\n",
    "for x,y in zip(dfri['friend_id'],dfri['twitter_handle']):\n",
    "    if x in raisins:\n",
    "        net_fri.setdefault(x,[]).append(y)"
   ]
  },
  {
   "cell_type": "code",
   "execution_count": null,
   "metadata": {},
   "outputs": [],
   "source": []
  },
  {
   "cell_type": "code",
   "execution_count": 5,
   "metadata": {},
   "outputs": [],
   "source": [
    "dfri['nb_followers']=dfri['twitter_handle'].map(nb_followers_dict.get)\n",
    "dfri.sample(10)\n",
    "\n",
    "dfri.head()\n",
    "net_fri_norm={}\n",
    "for x,y,w in zip(dfri['friend_id'],dfri['twitter_handle'],dfri['nb_followers']):\n",
    "    if x in raisins:\n",
    "        \n",
    "        if w>0:\n",
    "            net_fri_norm.setdefault(x,[]).append(1/np.log(w))\n",
    "        else:\n",
    "            #print(x,y,w)\n",
    "            pass\n",
    "        \n",
    "#matadon_ and mcefic missing in graines_metadata.csv"
   ]
  },
  {
   "cell_type": "code",
   "execution_count": 6,
   "metadata": {},
   "outputs": [],
   "source": [
    "topo={}\n",
    "for id,fol,fri in zip(dg['id'],dg['followers'], dg['friends']):\n",
    "    #print (id,fol,fri,len(net.get(str(id),[])),len(net_fri.get(str(id),[])),sum(net_fri_norm.get(str(id),[])))\n",
    "    if fol>0:\n",
    "        topo[id]={}\n",
    "        topo[id]['proportion of graines following me']=float(len(net.get(str(id),[]))/(fri+1))\n",
    "        topo[id]['proportion of graines I follow']=float(len(net_fri.get(str(id),[]))/(fol+1))\n",
    "        topo[id]['normalized proportion of graines I follow']=10000*float(sum(net_fri_norm.get(str(id),[]))/(fol+1))\n",
    "        #print ('topo',id,topo[id])\n",
    "\n",
    "# In[93]:\n",
    "\n",
    "\n",
    "pd.DataFrame.from_dict(topo).transpose().to_csv('topology.csv')\n",
    "\n",
    "vector_topo=pd.DataFrame.from_dict(topo).transpose()\n",
    "dtopo=pd.DataFrame.from_dict(topo).transpose()"
   ]
  },
  {
   "cell_type": "code",
   "execution_count": null,
   "metadata": {},
   "outputs": [],
   "source": []
  },
  {
   "cell_type": "code",
   "execution_count": null,
   "metadata": {},
   "outputs": [],
   "source": []
  }
 ],
 "metadata": {
  "kernelspec": {
   "display_name": "Python 3",
   "language": "python",
   "name": "python3"
  },
  "language_info": {
   "codemirror_mode": {
    "name": "ipython",
    "version": 3
   },
   "file_extension": ".py",
   "mimetype": "text/x-python",
   "name": "python",
   "nbconvert_exporter": "python",
   "pygments_lexer": "ipython3",
   "version": "3.8.5"
  }
 },
 "nbformat": 4,
 "nbformat_minor": 4
}
