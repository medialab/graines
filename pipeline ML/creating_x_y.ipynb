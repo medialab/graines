{
 "cells": [
  {
   "cell_type": "code",
   "execution_count": 2,
   "metadata": {},
   "outputs": [],
   "source": [
    "import pandas as pd\n",
    "import numpy as np"
   ]
  },
  {
   "cell_type": "code",
   "execution_count": 42,
   "metadata": {},
   "outputs": [],
   "source": [
    "data = pd.read_csv('data/data_ready.csv')\n",
    "# Get the Y labels\n",
    "map_code = {'non-graine':0, 'graine':1}\n",
    "data['label'] = data['sentiment'].map(map_code)"
   ]
  },
  {
   "cell_type": "code",
   "execution_count": 37,
   "metadata": {},
   "outputs": [],
   "source": [
    "emb = {}\n",
    "emb['tfidf'] = np.load('embeddings/tfidf.npy')\n",
    "emb['bert'] = np.load('embeddings/bert.npy')\n",
    "emb['features'] = np.load('embeddings/features.npy')\n",
    "emb['profile_pictures'] = np.load('embeddings/full_profile_pictures.npy')"
   ]
  },
  {
   "cell_type": "code",
   "execution_count": 38,
   "metadata": {},
   "outputs": [],
   "source": [
    "full_list = (emb['tfidf'], emb['profile_pictures'], emb['features'], emb['bert'])\n",
    "\n",
    "X = np.concatenate(full_list, axis=1)"
   ]
  },
  {
   "cell_type": "code",
   "execution_count": null,
   "metadata": {},
   "outputs": [],
   "source": []
  },
  {
   "cell_type": "code",
   "execution_count": 39,
   "metadata": {},
   "outputs": [],
   "source": [
    "import pandas as pd\n",
    "import numpy as np\n",
    "from datetime import datetime\n",
    "from sklearn.model_selection import train_test_split\n",
    "from sklearn.metrics import precision_recall_fscore_support, euclidean_distances\n",
    "from sklearn.svm import SVC\n",
    "\n",
    "\n",
    "def triangular_kernel(X, Y):\n",
    "    return 1 - abs(euclidean_distances(X, Y))\n",
    "\n",
    "\n",
    "classifiers = {\n",
    "    \"SVM_triangular_kernel\": SVC(kernel=triangular_kernel, C=3),\n",
    "    \"SVM_RBF_kernel\": SVC(),\n",
    "}\n",
    "\n"
   ]
  },
  {
   "cell_type": "code",
   "execution_count": 40,
   "metadata": {},
   "outputs": [],
   "source": [
    "X = emb['bert']\n",
    "y = list(data.label)"
   ]
  },
  {
   "cell_type": "code",
   "execution_count": 41,
   "metadata": {},
   "outputs": [
    {
     "name": "stdout",
     "output_type": "stream",
     "text": [
      "0    1253\n",
      "1       4\n",
      "dtype: int64\n",
      "0.5 0.025 0.047619047619047616\n"
     ]
    }
   ],
   "source": [
    "X_train, X_test, y_train, y_test = train_test_split(X, y, test_size=0.7, random_state=27)\n",
    "\n",
    "clf = classifiers['SVM_triangular_kernel']\n",
    "clf.fit(X_train, y_train)\n",
    "y_pred = clf.predict(X_test)\n",
    "print(pd.DataFrame(y_pred).value_counts())\n",
    "\n",
    "precision, recall, f1, _ = precision_recall_fscore_support(\n",
    "                y_test, y_pred, pos_label=1, average=\"binary\"\n",
    "            )\n",
    "print(precision, recall, f1)"
   ]
  },
  {
   "cell_type": "code",
   "execution_count": null,
   "metadata": {},
   "outputs": [],
   "source": []
  },
  {
   "cell_type": "code",
   "execution_count": null,
   "metadata": {},
   "outputs": [],
   "source": []
  },
  {
   "cell_type": "code",
   "execution_count": null,
   "metadata": {},
   "outputs": [],
   "source": []
  },
  {
   "cell_type": "code",
   "execution_count": null,
   "metadata": {},
   "outputs": [],
   "source": []
  }
 ],
 "metadata": {
  "kernelspec": {
   "display_name": "Python 3",
   "language": "python",
   "name": "python3"
  },
  "language_info": {
   "codemirror_mode": {
    "name": "ipython",
    "version": 3
   },
   "file_extension": ".py",
   "mimetype": "text/x-python",
   "name": "python",
   "nbconvert_exporter": "python",
   "pygments_lexer": "ipython3",
   "version": "3.8.5"
  }
 },
 "nbformat": 4,
 "nbformat_minor": 4
}
