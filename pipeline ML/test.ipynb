{
 "cells": [
  {
   "cell_type": "code",
   "execution_count": 149,
   "metadata": {},
   "outputs": [],
   "source": [
    "import pandas as pd\n",
    "import numpy as np\n",
    "import bamboolib"
   ]
  },
  {
   "cell_type": "code",
   "execution_count": 150,
   "metadata": {},
   "outputs": [],
   "source": [
    "data = pd.read_csv('data/data_ready.csv')\n",
    "\n",
    "# Get the Y labels\n",
    "map_code = {'non-graine':0, 'graine':1}\n",
    "data['label'] = data['sentiment'].map(map_code)"
   ]
  },
  {
   "cell_type": "code",
   "execution_count": 151,
   "metadata": {},
   "outputs": [],
   "source": [
    "emb = {}\n",
    "emb['tfidf'] = np.load('embeddings/tfidf.npy')\n",
    "emb['bert'] = np.load('embeddings/bert.npy')\n",
    "emb['features'] = np.load('embeddings/features.npy')\n",
    "emb['profile_pictures'] = np.load('embeddings/full_profile_pictures.npy')"
   ]
  },
  {
   "cell_type": "code",
   "execution_count": 38,
   "metadata": {},
   "outputs": [],
   "source": [
    "full_list = (emb['tfidf'], emb['profile_pictures'], emb['features'], emb['bert'])\n",
    "\n",
    "X = np.concatenate(full_list, axis=1)"
   ]
  },
  {
   "cell_type": "code",
   "execution_count": null,
   "metadata": {},
   "outputs": [],
   "source": []
  },
  {
   "cell_type": "code",
   "execution_count": null,
   "metadata": {},
   "outputs": [],
   "source": []
  },
  {
   "cell_type": "code",
   "execution_count": null,
   "metadata": {},
   "outputs": [],
   "source": []
  },
  {
   "cell_type": "code",
   "execution_count": 50,
   "metadata": {},
   "outputs": [],
   "source": [
    "#visualization"
   ]
  },
  {
   "cell_type": "code",
   "execution_count": 115,
   "metadata": {},
   "outputs": [],
   "source": [
    "import pandas as pd\n",
    "import numpy as np\n",
    "from sklearn.decomposition import PCA\n",
    "\n",
    "\n",
    "data = pd.read_csv(\"data/data_ready.csv\", index_col=[0])\n",
    "emb = np.load(\"embeddings/tfidf.npy\")\n",
    "\n",
    "data['label'] = data['label'].astype('object')\n",
    "\n",
    "pca = PCA(n_components = 2)\n",
    "emb_pca = pca.fit_transform(emb)\n",
    "\n",
    "df_emb = pd.DataFrame(emb_pca)\n",
    "df_emb = pd.concat([df_emb, data], axis=1)"
   ]
  },
  {
   "cell_type": "code",
   "execution_count": null,
   "metadata": {},
   "outputs": [],
   "source": []
  },
  {
   "cell_type": "code",
   "execution_count": 147,
   "metadata": {},
   "outputs": [],
   "source": [
    "emb = np.load(\"embeddings/tfidf.npy\", allow_pickle=True)\n",
    "data = pd.read_csv(\"data/data_ready.csv\", index_col=[0])\n",
    "data.label = data.label.astype('object')"
   ]
  },
  {
   "cell_type": "code",
   "execution_count": 148,
   "metadata": {},
   "outputs": [
    {
     "data": {
      "application/vnd.plotly.v1+json": {
       "config": {
        "plotlyServerURL": "https://plot.ly"
       },
       "data": [
        {
         "customdata": [
          [
           null
          ],
          [
           "stamina,"
          ],
          [
           null
          ],
          [
           "Game Artist 2D/3D/ Chara Modeler Gameuse"
          ],
          [
           "Politique internationale ,Asia regional security , U.S World Politics, Prof Uni . « Un expert,une opinion.Deux, une contradiction.Trois, une confusion »"
          ],
          [
           "Prefers real organic food and people that are real too. Duplicity, hmm... \nhave fun with that"
          ],
          [
           "Artiste. En ce moment sur un fan-manga Dragon Ball.\nJe réagis aussi à l'actualité en tant que citoyen français. Partisan d'une société apaisée. Apolitique."
          ],
          [
           "Research Fellow @NUSingapore\nWorking on making the global economy more sustainable and carbon neutral by 2050"
          ],
          [
           "simple passionné de météo🌩️❤️"
          ],
          [
           "L'écriture : mon jardin-planète que je cultive"
          ],
          [
           "Promo TSI 2020 @LyceeJeanPerrin, Étudiant en ING à @CY__Tech (Cergy) @UniversiteCergy, responsable à @LifeUpUCP, streamer et régisseur audiovisuel. Compte perso"
          ],
          [
           "ma photo est floue"
          ],
          [
           "stan account. RESPECT YOUR FAV. spn, mcu, tøp, hp, harry styles..."
          ],
          [
           "un visage d’ange avec un penchant pour le péché"
          ],
          [
           "Salem mon fils ."
          ],
          [
           "Boucher des Pyrénées, porte le béret hiver comme été, je suis pas cool avec tout le monde. La FranceleRoietl'Armée.Chasse Pêche et Boustifaille."
          ],
          [
           null
          ],
          [
           "A.H Sfaxi 🇫🇷 🇹🇳"
          ],
          [
           "Iniciativa creada para promover la preservación, conservación y restauración de los Ríos en Chile, sus recursos naturales, ecosistemas y patrimonio cultural."
          ],
          [
           null
          ],
          [
           null
          ],
          [
           "Toutes les #sorties #culture de #Dunkerque et son agglo : #concert #expo #theatre #spectacle #cine #atelier. Suivez-nous avec #DKCA !"
          ],
          [
           "@LIONAmlie1"
          ],
          [
           "“Sobre un mundo cobarde y avaro, sin justicia, belleza ni Dios, imponemos nosotros la garra del Imperio solar español…”"
          ],
          [
           null
          ],
          [
           "Qui me peut ? ⚰️🐹🐎🍰🚗🎶"
          ],
          [
           "🎓 Études culturelles |\n\n🐶 marty Mcfly | Voyages | Communication | Lifestyle | Musique / Festivals / cinéma et plus encore 💪🏻"
          ],
          [
           "parce que la vie c’est comme une boîte de chocolat #majoritesilencieuse #StopGiletsJaunes #antiLFI #antiRN et pour le @bescherelle"
          ],
          [
           null
          ],
          [
           "Uitblinkers in Digitale Transformatie. \n\nMilvum helpt bedrijven met het vertalen van digitale strategie naar concrete innovatie."
          ],
          [
           "courtier immobilier résidentiel , curieux et passionné d antiquités , musiques des années 70-80, randonnée et road trip"
          ],
          [
           "le Jugement dernier- Fin du Monde- USA, Angleterre et Israël  en Enfer- Détrôner les Rois, les Présidents, Effacer les frontières, rendre la Justice à Dieu"
          ],
          [
           "IG : @mateoguyon\nYT : https://www.youtube.com/channel/UCVq3knxxtmuvPmGmfwZclYg"
          ],
          [
           "Woman inside digital revolution for better human lives :-) #42born2code alumni | #MBADMB alumni | #UX #VUX #IA #HEALTH #PARKINSON"
          ],
          [
           null
          ],
          [
           null
          ],
          [
           "sic parvis magna"
          ],
          [
           null
          ],
          [
           "Plutôt déconnecté en #deepWork📵 permanent, je partage mes idées ➡️\n#IT #Data #proptech #agiles lors de mes remontées à la surface 🌅"
          ],
          [
           "Trending Business & Finance Soccer Country DIY & Home World News Amazing Technology Television"
          ],
          [
           "Salut la Twittosphère"
          ],
          [
           "will disappear soon"
          ],
          [
           "Supporter du seul grand club français"
          ],
          [
           "équilibre"
          ],
          [
           null
          ],
          [
           null
          ],
          [
           "🇺🇾Biochemist (PhD) interested in Plant Science 🌱. Dad of two. Husband. ⚽️ Football coach."
          ],
          [
           "Informaticien | DJ de Chambre | Blind Testeur | Casual Gamer | Joueur de cartes | MJ en devenir"
          ],
          [
           "Shooting ions into pieces. Views are not mine, likes don't mean anything."
          ],
          [
           "⚕️👩🏽‍⚕️||unapologetic feminist ♀️✊🏼|| 🇨🇲 🇨🇩||Non-religious☮️  || from bonaberi 😌\n. \n#EndAnglophoneCrisis"
          ],
          [
           "عينآي قطرتا ندى على زهور الشعر أمّا قلبي فذلك العصفور فوقهما لا يحطّ و لا يطير"
          ],
          [
           "auteur, illustrateur et réalisateur \n\nje suis le réal de la Web série gone sur YouTube allez y jeter un oeil 😉"
          ],
          [
           "A la Croisée des Fourchettes est un événement culinaire et culturel autours des cuisines du monde, organisé par l'association du même nom."
          ],
          [
           "Directrice Territoriale #Finistère @Pole_emploi • 12 agences de services • #emploi #recrutement #formation #VersUnMetier #digital #insertion #ESS #handicap #RSE"
          ],
          [
           "Enseignant en agronomie ESA Angers en cycles BTS / Licence et Ingenieur\nResponsable de formation BTS APV"
          ],
          [
           "SEND ME LOCATION"
          ],
          [
           "Gestionnaire Pôle Alternance @IutVannes.Relais départemental du programme #toutes politiques, militante LaRem depuis octobre 2016- Animatrice de comité"
          ],
          [
           "Entrepreneur reconverti & notaire engagé. Fondateur de @QuaidesNotaires. Innover pour durer, notaires d'avenir #TransfoNum #Notariat"
          ],
          [
           null
          ],
          [
           null
          ],
          [
           "Étudiant à l'@ISJT, mes tweets n'engagent que moi!! Passé par @RugbyramaFR @midi_olympique @CFM_EspritRock, @ladepechedumidi🏉🏉#TeamLH44 and a bit of wrestling"
          ],
          [
           null
          ],
          [
           "Francilien-Lyonnais • Droit • Union européenne • Actualité • Environnement • Pop Music • 🇫🇷🇩🇪🇪🇺🏳️‍🌈"
          ],
          [
           "Découvrez chaque jours des astuces pour Booster sa chaine YouTube #astucesYouTube #devenirYouTubeur #marketingVideo"
          ],
          [
           null
          ],
          [
           "l’homme de Durga"
          ],
          [
           "developer, sysadmin, anargeek"
          ],
          [
           "#Patriote - #Souverainiste - #Iréniste\n🇫🇷⚜️"
          ],
          [
           "très technique"
          ],
          [
           null
          ],
          [
           "Student in Tourism"
          ],
          [
           "Nouveau Silver Boutique dans le centre commercial Okabe"
          ],
          [
           "iel | Venez pas DM si c’est pour essayer de me sauter, je suis pas une nouille. Féministe. 🇻🇳/🇫🇷/🏳️‍🌈 ♎️♋️♓️ pv : @pv_oswen"
          ],
          [
           "° @Flodnd Photographe & Vidéaste Street/Urbain Nantais\n° Portrait | Mariage | Corporate | Original"
          ],
          [
           "Plus poisseux que moi tu meurs :p"
          ],
          [
           null
          ],
          [
           "Check out my YouTube channel! https://www.youtube.com/channel/UCaUSXmiVjmjCcAefaZBAvuA\n\n🗣️🇫🇷🇬🇧🇪🇸🇵🇹🇮🇹🇩🇪"
          ],
          [
           "I am a dropshipper with whom you will find bargains you are looking for in all categories"
          ],
          [
           "famille, santé, travail, j’suis dans les vieilleries"
          ],
          [
           "Fondateur @La_Causerie_ || ✍ @MilanActu"
          ],
          [
           "Développeur web spécialisé dans la pédagogie et occasionnellement réalisateur de direct"
          ],
          [
           "Wir rebellieren gegen Klimakrise & Artensterben. Zivil, ungehorsam & gewaltfrei für Klimagerechtigkeit! \n#StopptdieZerstörung #MitderWissenschaft"
          ],
          [
           null
          ],
          [
           "Customer Success Manager ~ @l_b_change ~ Just a mum working to achieve a meaningful life #ecommerce #relationclient #socialmedia #communication"
          ],
          [
           null
          ],
          [
           "🏳️‍🌈 graphics student in ynov |"
          ],
          [
           null
          ],
          [
           "J'accuse les hommes d'être bêtes et méchants, \nBêtes à  marcher au pas des régiments, \nDe n'être pas des hommes tout simplement."
          ],
          [
           "Love lover"
          ],
          [
           "Ecofeminist, history nerd, aspiring polyglot, lover of cake. Views my own but heavily influenced by the contents of my bookcase."
          ],
          [
           "j’aime le marbre et les supermarchés, et je suis, dieu merci, très homosexuel"
          ],
          [
           "My life is NBA 🏀 Spurs ❤️ J'aime le sport, l'esport et les spores."
          ],
          [
           "du IT mais pas que..."
          ],
          [
           "miss bouzole"
          ],
          [
           "Ma vie digne d'un film Netflix"
          ],
          [
           "Parce que l'économie c'est meilleur que les brocolis, Economiam redonne du goût au débat d'idée. A consommer sans (grande) modération"
          ],
          [
           null
          ],
          [
           "Le Pexe fédère les réseaux d’éco-entreprises afin de développer les filières environnement / maîtrise de l'énergie."
          ],
          [
           "Graphiste, développeur et musicien"
          ],
          [
           "Sagesse"
          ],
          [
           "16y.                                                                                   \n\nBeatmaker 🎶\n \n       Dieu vous bénisse  \n                      \n#KCORP"
          ],
          [
           "Directeur de la photographie contact[a]http://paulolinger.com"
          ],
          [
           "MD, PhD. Endocrinologie pédiatrique et biologie moléculaire. Hôpital Trousseau - AP-HP. Centre de Référence des Maladies Endocriniennes Rares de la Croissance."
          ],
          [
           "Lab Technician • DIY enthusiast"
          ],
          [
           null
          ],
          [
           "détermination, travail 🤝"
          ],
          [
           null
          ],
          [
           "Member of @ThunderbirdsSC. Player of #StarCitizen #FailyV #EFT #HuntShowdown. RP session, flying.... #DOOM \\o/\nReferal : STAR‑SCRR‑VWHG"
          ],
          [
           "« Étudier sans réfléchir est inutile. Réfléchir sans étudier est dangereux » Confucius"
          ],
          [
           "MG remplaçante au pays de la chocolatine , fan inconditionnelle de la cité de la peur et de Kaamelott, je squatte pas mal le cab de @docbulle"
          ],
          [
           "Lectrice, blogueuse livresque (beaucoup d'imaginaire, mais pas uniquement).\nma page FB :  https://www.facebook.com/leslecturesdemariejuliet"
          ],
          [
           "Pense, rêve et vie en 🇫🇷 Unterrichtet und schreibt auf 🇩🇪 @Sorbonne_Nvelle @DAADParis #Journaliste #Pigiste #ParisBerlin 💚"
          ],
          [
           "We are the Milan chapter of Speculative Futures, an international meetup community that focuses on Speculative and Critical Design."
          ],
          [
           "HPB surgery in the twittsphere #SoMe4HPB"
          ],
          [
           "#famille @jnml45 #Vélo #JeSuisUnDesDeux #velotaf"
          ],
          [
           "Quand je serai grande, je serai magicienne UX Designer de l'espace !"
          ],
          [
           "🇱🇧🇱🇧🇩🇿🇩🇿 lossssa j’suis un mec bien projet appolon en préparation insta: j_ackk110 |"
          ],
          [
           "26 ans - Députée @lecdh au #Parlbru & #PFWB Conseillère communale & Cheffe de groupe LB à #1082Berchem"
          ],
          [
           "« Je dépose en vos mains ce que je possédais de plus cher !... Adieu, n’oubliez point celui qui vous aima 𝑗𝑢𝑠𝑞𝑢’𝑎𝑢 𝑡𝑜𝑚𝑏𝑒𝑎𝑢 !... »"
          ],
          [
           "Lecturer at @nuigalway"
          ],
          [
           "#Startup Manager 🚀 Référent de l'accélérateur #retail d'Intermarché 🛒 Référent 1Kimpact Bordeaux 🌱 Associé Raisin de Plus (bar à 🍷 vegan)"
          ],
          [
           "UCD Brendan McGonnell Professor of Childhood Leukaemia research in Dublin @sysbioire @UCDMedicine @CHIatCrumlin.\nFrançais 🇫🇷 Gaeilge 🇮🇪  🏉 Own views."
          ],
          [
           "Artiste incompris 🖌 | Ma seule limite ? Les 280 caractères. | Créateur de richesse depuis 1998 | Futur magnat de l'immobilier. | France 🇫🇷 | 🦋💍"
          ],
          [
           "Game Dev – Teacher – Beginner Journalist – Gamer – YouTuber – English speaker (French too)"
          ],
          [
           "Roux , curieux , pagan , rustique et pragmatique , sauvage , dur , libre"
          ],
          [
           null
          ],
          [
           null
          ],
          [
           "je suis comme je suis et je ferai tout pour être + comme moi et un peut - comme vous"
          ],
          [
           "Climate Change/Crisis Video | Pollution | Solutions  | #climatechange #pollution #klimaatverandering #milieuvervuiling #klimaatcrisis"
          ],
          [
           "Passionné par les #organisations, je twitte sur #rh #management #DigitalLearning #apprenance #IntelligenceCollective #innovation"
          ],
          [
           "Je prône le twitt utile, pourtant j'aime vos twitts futiles (et pas que)."
          ],
          [
           "Yoooooo. I simp my OC as hell.\nFanarts rt ✨twttr artist🎨:➡️ @Hiroshi_kuroo ⬅️ check it maybeh 👀"
          ],
          [
           "Bien ou quoi?"
          ],
          [
           null
          ],
          [
           "Ex-emigrant: science, immigration, climate change. LicSc.(Tech) atmospheric science 🛰🌍, MSc. aeronautical eng. ✈ Kuntavaaliehdokas, Tampere, Perussuomalaiset."
          ],
          [
           "2A - Sciences Po Saint-Germain-en-Laye"
          ],
          [
           "Responsable du service profession comptable chez @ebp_france. Conseillère municipale, présidente du club de tennis d'Amou (classée 15/3)"
          ],
          [
           "Centre Technique INFORMATIQUE\ndepuis 2009 !\nPour Particuliers et Professionnels\nDépannage et Vente de matériel informatique et d'impression..."
          ],
          [
           "Parti politique en devenir. A l'écho du défi, Les Mousquetaires répondront par le courage."
          ],
          [
           "Arboriculteur"
          ],
          [
           "juriste environnementaliste"
          ],
          [
           "Trying to do things"
          ],
          [
           "Crypto companies and crypto enthusiasts from all around the world, help us for the restoration of #NotreDame and prove the positive social impact of cryptos."
          ],
          [
           "Just trying to be kind. A simple idea."
          ],
          [
           "Writer, worker, world widder! Bookworm and traveler. ✗o✗o #SocialNetworksAddict  #StarbucksAddict"
          ],
          [
           "Oe"
          ],
          [
           "Operating three Taiwan Yifang Fruit Tea Shops in Shenzhen"
          ],
          [
           "Mon sens de l’humour"
          ],
          [
           "- bzh 🇪🇺 🇫🇷"
          ],
          [
           null
          ],
          [
           "philanthrope,  masculiniste,activiste, intrépide mais très réservé, ,Occupé à me comprendre"
          ],
          [
           "Tout est une question de volonté \n#WeAreTheValley"
          ],
          [
           "Head of corporate training @WildCodeSchool. Bringing wildness to the corporate world!\n#edtech #coding  #TransfoNum #reskilling"
          ],
          [
           "Fuck le bénévolat"
          ],
          [
           "HUMBLE"
          ],
          [
           "17yo  french/english Transfem Nonbinary She/Her\nVast Error (and HS) SciAdv Fan\nFR/ENG"
          ],
          [
           "Coucou j'aimerais bien fait de connaissance !"
          ],
          [
           "🇵🇹 20yo | Ma vie est pas ouf donc on s’adapte"
          ],
          [
           "ΟΠΡΣΤΥΦΧΨΩ\n.\ninsta: https://www.instagram.com/p/CMzxZPKhgek/?igshid=23re3qppjlyj"
          ],
          [
           "Principal Scientist, Group Leader, Molecular Modeling & Comp. Chem. @IktosAI, working on structure-based generative models and retrosynthesis prediction"
          ],
          [
           "Ing. ambiental / Diseñador Industrial / Every passing minute is another chance to turn it all around / Playlist: Luis Miguel / Libro: La sombra del viento"
          ],
          [
           "Prst du conseil régional des notaires cour d’appel de Grenoble - Prst de la 3e com du 113e congrès des notaires - chargé d’enseignement à la fac de Grenoble"
          ],
          [
           "Observateur (majoritairement) silencieux\nSoutient les petits artistes locaux du quartier\nBannière by @Ariavegetable"
          ],
          [
           "Développeur front-end"
          ],
          [
           "La mélancolie, c'est le bonheur d'être triste."
          ],
          [
           "Le livre Homo Cooperans 2.0 lance un message clair: Réapproprions nous l'économie collaborative! Nous avons une opportunité en or, ne la perdons pas ;)"
          ],
          [
           "Père de famille, entrepreneur, responsable associatif prêt à presque tout pour aider son prochain. Mes tweets n'engagent que moi et un petit peu mon avocat."
          ],
          [
           null
          ],
          [
           "Journalist-writer-translator-photographer - food agriculture environment\nAdministrateur - Conservatoire des Espaces Naturels Ariège"
          ],
          [
           null
          ],
          [
           null
          ],
          [
           "Live in life, die in death. \nFollow your heart, do what you can.\n\nDedicated to : #haïku #tanka #poésie #micropoésie"
          ],
          [
           null
          ],
          [
           "🔴🔵ICI C'EST PARIS ! 🔴🔵"
          ],
          [
           "collaborateur médecin santé au travail, ancien médecin hospitalier"
          ],
          [
           null
          ],
          [
           "im locked up they won’t let me out"
          ],
          [
           "Dedicated to favorable outcomes in sustainable agriculture. Tweets about global #biotech, #agriculture, & #food news."
          ],
          [
           null
          ],
          [
           "CCO’s educational programs provide the latest clinically relevant, evidence-based education & support the competence of healthcare professional teams. #HBV #HCV"
          ],
          [
           "Association #Verdun #Meuse #Lovecraft #sff #littérature #evenement #JDR #cinema http://campusmiskatonic.fr"
          ],
          [
           null
          ],
          [
           "Colofon is a cloud-based writing app built to provide the best tool for writers #WritingCommunity\n\nhttp://instagram.com/colofon.io"
          ],
          [
           "Président de l'@Institut_Caelum | Directeur Général de @YouthsHorizon | Vice-Président d'@aidtudiants | JAEA 2020 🇺🇸🇫🇷 | Politique & Éducation"
          ],
          [
           "@GFXBeQuiet le meilleur Graphiste/Designer !!!"
          ],
          [
           "Creating better jobs for young people in fragile regions, particularly #refugees and women 🎓💼"
          ],
          [
           "\"A man with no label has allegiance only to what is right\""
          ],
          [
           null
          ],
          [
           "le twittos préféré de ton twittos préféré @kalashcriminel"
          ],
          [
           "🐸🌥️\nJunior Background artist at Sun Creature studio"
          ],
          [
           "22/11👼🏻"
          ],
          [
           "I'm the guy who was crazy enough to build the Bitronix JTA transaction manager all on his own. I work as a Software Engineer for Webtide. Use ZFS or die!"
          ],
          [
           "(coiffeuse)✂️✂️pas de MP"
          ],
          [
           "Front-end developer. Mainly. 🙄 Learning Go ! ReasonML enthousiast ! 👐\nWorking at @Bedrock_Stream as a @linkvalue dev ☺️"
          ],
          [
           "Je suis tellement un boulet que j'ai été canonisé."
          ],
          [
           null
          ],
          [
           "Romano dal 753 a.C."
          ],
          [
           null
          ],
          [
           "love for everybody til the drugs fade away"
          ],
          [
           "créateur de souvenirs"
          ],
          [
           "Quantum Computing News, Views & Features. Insight into the realm of Quantum Computing, Internet, Investment & Cryptography.\n#quantumcomputing #quantumzeitgeist"
          ],
          [
           "Nolite Te Bastardes Carborundorum"
          ],
          [
           "JunProf @UniHH\nglobal energy & climate justice, anthropocene & IR theory, postcolonial studies\noccasional sci-fi, queerfeminist & squirrel content🚀🏳️‍🌈🐿️"
          ],
          [
           "Avocat au Barreau de Bordeaux et de Bayonne - Consistoire israélite Bayonne/Biarritz"
          ],
          [
           "924💀 🇵🇹"
          ],
          [
           "Alluka💜 , 🏳️‍🌈"
          ],
          [
           "Compte perso et mes tweets n’engagent que moi"
          ],
          [
           "Graphic Designer / beau-gosse / obèse."
          ],
          [
           null
          ],
          [
           "Tahia Tounes 🇹🇳🇹🇳 #uyghurslivesmatter #freeouighours #freeuyghurs"
          ],
          [
           "MEMUP est une association ayant pour objet la défense des intérêts des étudiants micro-entrepreneurs utilisateurs de plateformes"
          ],
          [
           null
          ],
          [
           "Author #UNDERBUG: A Tale of Termites and Technology from Sci-Am/FSG. Old book: Oil On the Brain. Senior Editor: @ISSUESinST Views are my own, of course."
          ],
          [
           "Téléconseiller, geek, amateur de curry...\n@CFDT au boulot. Gauche laïque. \nLiberté, Égalité, Fraternité, Laïcité...🏳️‍🌈🏳️‍🌈🏳️‍🌈\nMarié 💍"
          ],
          [
           "French @PlayOverwatch team #BeheadUs\n\nLogo by @alexbarrault"
          ],
          [
           null
          ],
          [
           "Ex VP Sport Santé à l’@AFGES // élu UFR // Personnalité qualifié du conseil de gestion de l’@ADS_Strasbourg // licence 3 biologie moléculaire et cellulaire"
          ],
          [
           "@lakers"
          ],
          [
           "Analyste en intelligence économique\n#veille"
          ],
          [
           "paradoxe: toute personne va monter dans la hiérarchie jusqu’à atteindre son niveau d’incompétence ✌️... moi ça y est , j’ai monté tous les échelons 😉"
          ],
          [
           "Consultant politique & communication • Alumni @scpobx @cardiffuni • Opinions personnelles."
          ],
          [
           "Prof doc en lycée pro. Référente égalité. \nEtudiante en MEEF Documentation à #URCA. Je parle boulot pr le meilleur et pr le pire. #SamuelPaty #JeSuisProf"
          ],
          [
           "se equivocan al creerse libres, opinión que obedece al solo hecho de que son conscientes de sus acciones pero ignorantes de las causas que lo determinan.Spinoza"
          ],
          [
           "Palaiseau US ⚽️❤️ FC BLEACH"
          ],
          [
           null
          ],
          [
           "Website on agriculture: a think tank on agricultural issues #agriculture #food #agtech #international #Africa #innovation #Environnement #organic"
          ],
          [
           "Expert GreenIT - Beaujolais"
          ],
          [
           "Doctorant au labo. @Framespa5136 à l'@UTJeanJaures. Histoire des réseaux & Histoire de la construction au Moyen Âge\n- Président de @FilmsSaga"
          ],
          [
           "Digital Marketing Consultant | Online Entrepreneur | Blogger | Writer | Social Media & Content Marketer."
          ],
          [
           "Conseil en stratégies digitales  #webmarketing #communication #digital #socialmedia #médiationdessciences #brandcontent #seo #CM #santé #image #Bordeaux"
          ],
          [
           "PhD student in social epidemiology ~ Equity research team ~ \nWorking on positive health and resilience in a lifecourse context"
          ],
          [
           "Worked as a senior 3D artist for CallofDuty:WW2, COD:MW. #indiedev #gamedev #artstation"
          ],
          [
           "Déléguée Transformation Prévention Environnement @Enedis_Paris #Energy #DSO"
          ],
          [
           "16 ans de pure wati-beaugosse attitude\nobjectif : être lol partner"
          ],
          [
           "GOD 🙏-👨‍🎓🎒📚📖 Etudiant finissant en Génie Civil👷🏗️ à l'Université de la Fondation du Dr.Aristide. 5eme année !\nPassionné de Sport🇭🇹 🇧🇷\n⚽🏀🎾 🎮"
          ],
          [
           "Forex Treader, I love Real Madrid\n   \n                  \n\n                                       يقتلنا مالا يقال"
          ],
          [
           null
          ],
          [
           "Célestine 👫"
          ],
          [
           "“Ma seule motivation est d'informer le public sur ce qui est fait en leur nom et ce qui est fait contre eux” E.SNOWDEN"
          ],
          [
           "Executive staff with 20+ years of experience, MBA (General Management), Certified MSP® Practitioner in Programme Management, currently Head of WAPIS Programme"
          ],
          [
           "‏جزائري مسلم حراكي يحب كل التيارات بدون تعصب و لا طائفية."
          ],
          [
           "Inhale good shit, exhale bullshit"
          ],
          [
           "Optimiste à mi-temps"
          ],
          [
           "PhD Student @tudresden_de Passionate about Science, Bio & Reg Med., Modelling PSC/AdSC-Organoids Frmr @VallierLab @SCICambridge @CamBioScience 🇫🇷🇬🇧🇩🇪🇪🇺"
          ],
          [
           "Papa | Manager | Photographe | Apple User"
          ],
          [
           "s’intéresse, lis et réagi selon mon envie ...! éternelle rêveuse et éternelle concrète !"
          ],
          [
           "#conseillerstrategicetrelationspubliques #directeurdagence #promoteurimmobilier #urbanisme #architecture #innovation #intelligente"
          ],
          [
           "Intrapreneur | Flying things | Security | Mobility | New business models | and all the tech to enable it..."
          ],
          [
           null
          ],
          [
           "Attaché aux valeurs de la République et à la souveraineté nationale, hostile aux extrémismes. Ventes de vêtements dans l'Oise"
          ],
          [
           "Curating #biodiversity and #conservation tweets Main Account @trvstworld & FB 👉 https://bit.ly/2TA5PH8 Insta 👉 http://bit.ly/2OC3F7t ⛔ DMs"
          ],
          [
           "Rien ne veut rien dire."
          ],
          [
           "J'suis la pseudo-artiste polyA qui fait sentir bon la mannif  pour lutter avec pacifisme contre les carnistes capitalistes. (elle/her). 🌒🌕🌘"
          ],
          [
           null
          ],
          [
           "Explorer of the Earth, the solar system and nearby stars"
          ],
          [
           "🏳️‍🌈 fuck it"
          ],
          [
           "Just tryin' to imagine the world of tomorrow \n#Bitcoin"
          ],
          [
           "Artiste / Artisan"
          ],
          [
           "étudiant"
          ],
          [
           "❤ ingénieur Géologue et Géomaticien❤"
          ],
          [
           "Compte privé"
          ],
          [
           "Clg REP+ Delaunay en lutte #BlanquerDemission\nCompte non officiel animé par un groupe de personnel #islamogauchistes #feignasses. Nos tweets n'engagent que nous"
          ],
          [
           "Isotope Biogeochemist working high altitude and high latitude ecosystems"
          ],
          [
           "19yo 🌺\n Étudiante en 2ème année d'infirmière👩‍⚕️💉"
          ],
          [
           "Docteure spécialisée sur l'#élulocal #Participationcitoyenne #PetiteVille-Laboratoire Espace Travail/Architecte & Urbaniste-Atelier du Lieu/Garant #CNDP #LNOBPL"
          ],
          [
           "Nous sommes #progressifs #écologiques et pour le #bien. Contre le #déclin, la #pollution et le #mal. Transformons #Marseille. #TeamGrapewolf #AvecGrapeloup"
          ],
          [
           "d'ici : http://youtu.be/A_E9h16Jocw"
          ],
          [
           "VLA M'MÔ rêvons bien 😇😇 TRAVAILLONS FORT😎😎"
          ],
          [
           "Développeur & Formateur #python\nProfesseur de Maths par webcam http://mathscam.com/"
          ],
          [
           "positivité et bonnes ondes"
          ],
          [
           "la vie est BELLE"
          ],
          [
           "Graphiste // Motion Designer - Passionnée par les nouvelles technologies et les innovations graphiques #infographie #dataviz #webdesign"
          ],
          [
           "крашу коридор"
          ],
          [
           "Communication Officer #MasSeeds - United to grow 🌽🌻🌱"
          ],
          [
           "Agronome, Professeur adjoint sur les infrastructures végétalisées à l'Université Laval/Assistant Professor, Living green infrastructures Université Laval"
          ],
          [
           "Ici pour jouer dans la rigole/ouverture d'esprit demandée//\n❌Trop sérieux, premier degré, fachos et homophobes s'abstenir❌\n#TeamTatoué\nCat-father 😾"
          ],
          [
           "Gourmandise"
          ],
          [
           "🇷🇺🇫🇷"
          ],
          [
           "Most of people and organisations I follow with heart felt interest... the others are to see what kind of dodgy stuff they're are up to."
          ],
          [
           null
          ],
          [
           "Formateur IT le jour et gryphon le jour aussi. He/him. Profile pic by @FurryViza"
          ],
          [
           "APPEL AUX DONS - Nous, artistes, entrepreneur.e.s et http://citoyen.ne.s lançons une cagnotte pour soutenir dans l’urgence le personnel soignant français."
          ],
          [
           null
          ],
          [
           "Habitants de l'immeuble acquis en VEFA chez Icade à Nanterre, livré avec 6 mois de retard en fin 09/19 et qui connait beaucoup de défauts de conformité."
          ],
          [
           "mi piace approfondire"
          ],
          [
           "Non riesco ad annoiarmi. Ces tweets écrites sans suite, sans ordre, sans style"
          ],
          [
           "Smoky Smoky / Fan inconditionnel des Daft Punk et de mes 2 princes Pierre Gasly et Charles Leclerc"
          ],
          [
           "honnete"
          ],
          [
           "No one special"
          ],
          [
           "Tout le monde est un génie.  Mais si vous jugez un poisson sur ses capacités à grimper à un arbre,  il passera sa vie à croire qu'il est stupide."
          ],
          [
           null
          ],
          [
           "INTERNATIONAL HR TRANSFORMATION CONSULTANT"
          ],
          [
           "Indépendant | Histoire Incorrecte | Âme Slave 🇲🇫🇵🇱"
          ],
          [
           "Love & Peace"
          ],
          [
           null
          ],
          [
           null
          ],
          [
           "Passionné par l'Art et l'Archéologie en Extrême-Orient.- 🇰🇷🇯🇵🇰🇭 SFECO ❤️\n\n\nLicence Histoire de l'Art et Archéologie @Univ_Lorraine-\n\n\nAdmin. @CFantaysia"
          ],
          [
           "💗 𝐀𝐧𝐠𝐞𝐥\n\"Tout mortel a le sien, cet ange protecteur, cet invisible ami veille autour de son cœur.\" - Alphonse de Lamartine\n𝙃𝙚𝙖𝙫𝙚𝙣❤"
          ],
          [
           "Pulmonary and Critical care specialist - Sleep Medicine specialist - Health Management - coffee ☕️"
          ],
          [
           "ancien Pompier de Paris et de la Communauté Urbaine de Lyon #soutienspompiersFrance et #soutiensFDO"
          ],
          [
           "Supporter de l'@ol 🦁 | @WalkingDead_AMC universe fan, favorites characters are Beth Greene (@emmykinney) and Luciana Galvez (@danaygarcia1) |🇫🇷 (et 🇩🇿)"
          ],
          [
           "Vente de parcelles"
          ],
          [
           "Organe de propagande humoristique déconspirationniste du Québec. J'voulais être un Men In Black, mais j'ai jais reçu mon hiboux :("
          ],
          [
           "Spectateur de la bêtise humaine, loveur de l'image et briseur de game"
          ],
          [
           "Science for innovation\nVC (Medevice Capital)\nPartenariats stratégiques (Abolis Biotechnologies)\nhttp://FNEP.org - Mission 2021 : Souveraineté et résilience"
          ],
          [
           "One Piece / Fate / Kara no Kyoukai / Steins Gate / 5-toubun"
          ],
          [
           "Patriote 🇫🇷. Dans l'attente de l'insurrection des Peuples contre la tyrannie mondialiste."
          ],
          [
           "Mère,  amoureuse,  un peu folle et très très en colère"
          ],
          [
           "I enjoy chocolate - Do you? Then you're my friend!"
          ],
          [
           "Daily motivational quotes / Personal development / Wisdom/ Positivity / Good Vibes Only / We follow back"
          ],
          [
           "Cybersecurity pros specializing in data privacy, AI, Blockchain, IoT, cloud, crypto, data breach, cybercrime, compliance, GDPR, marketing automation, CIO, BTC."
          ],
          [
           "la vie est une aventure on est tous des héros"
          ],
          [
           "mars"
          ],
          [
           "Responsable com chez @supdesrh - Passée par @enedis | #communication #digital #numerique #innovation 📌"
          ],
          [
           null
          ],
          [
           "frick"
          ],
          [
           "The Art Marketing Company\n [ Intégrateur de Culture ] Conseil en Stratégie Culturelle #arts&businessclub"
          ],
          [
           "20 yo. \nAmoureux de @Kyiwix. ❤️\nHumour naze, complètement con (les blagues foireuses tmtc). 🤯\nEt je met des points à la fin de mes phrases. 🥂👌🏻"
          ],
          [
           null
          ],
          [
           "insta : @kevhixbx twitch : https://www.twitch.tv/hixbox13 (en pause pour le moment) Passionné d’Esport"
          ],
          [
           "Un giornale nuovo. Online e in edicola\nDiretto da @StefanoFeltri\n\nPer inviarci le tue lettere e segnalazioni scrivi a lettori@editorialedomani.it"
          ],
          [
           "World News |\nProud Tunisian 🇹🇳 |\nFluid Mechanics Engineer 🇹🇳🇫🇷 |\nLibra ♎ |\n\n#JusticeForAll"
          ],
          [
           "pour les gens comme nous les rêves n'existent pas..\nFoxLivesMatter🦊"
          ],
          [
           "Je suis ex Tullus Hostilius abattu par le Piaf    Pour une 9ème croisade puis le retour de toutes les libertés et surtout celle d’entreprendre"
          ],
          [
           "Gagner du temps, Gagner du sens ! L’ #IA au service de l’information juridique #Legalbot #Elearning #Entreprises @ingoufavocat #AdelineBodinBurgy @NicolasGenty"
          ],
          [
           "Universaliste, laïc, fier de la France 🇫🇷, de sa culture, de son histoire. Regarder les choses en face mais pas de manière anachronique et superficielle!"
          ],
          [
           "Coach en développement de carrière #emploi 💼 Valoriser son image professionnelle Préparation aux entretiens de recrutement #recruteur de talents 💪#i4EmploiR"
          ],
          [
           "Homme Blanc, hétéro, CSP++, THQI, tireur sportif : je suis l'antéchrist et j'en suis fier ! 😈\nNe baissez jamais les yeux face aux parasites !  👌🏻"
          ],
          [
           "As Island Press says, climate change is real. \"Dignity is our greatest asset.\""
          ],
          [
           "My Moojo vous accompagne de la genèse à la diffusion de votre projet #DigitalLearning via son expertise, sa communauté et sa plateforme !"
          ],
          [
           null
          ],
          [
           "Mina mina~ shima wa~ atakai.\nPaina-puru puru.\nAttama pokapoka.\nAho baka~!"
          ],
          [
           "Trouvez un homme plus amoureux que moi... 🙄"
          ],
          [
           "260114 Émilie❤"
          ],
          [
           "Ernst Georges is an experienced Freelancer Entrepreneur with a long track record of doing business in three countries Haiti, Dominican Republic, USA."
          ],
          [
           null
          ],
          [
           "Quoi qu'est-ce j'entends ? On a massacré une glycine centenaire à Montmartre ! \nMes tweets n'engagent que la citoyenne que je suis."
          ],
          [
           "MCU-PH en immunologie, fac de santé Angers, biologiste CHU Angers, chercheur Inserm, adjointe sport culture 2014-2020 les hauts d’Anjou, 🏀, 🎻"
          ],
          [
           null
          ],
          [
           "Entrepreneur"
          ],
          [
           "Pastafariste"
          ],
          [
           "staff editor @nytimes / @nytimeslearning\nprevious: Black History curriculum at the @schomburgcenter (Transatlantic Slavery Unit)"
          ],
          [
           null
          ],
          [
           null
          ],
          [
           "Experts Programme lead for @ClimateOutreach and freelance consultant. Previously head of communications at @IPCC_ch WGI & deputy editor of @CarbonBrief"
          ],
          [
           null
          ],
          [
           "J'aurais jamais d'inspi je crois..."
          ],
          [
           "Philosophe. Auteur de \"Les philosophes québécois et leur défense des religions\" (Connaissances et Savoirs, 2017)"
          ],
          [
           "Master MEEF Dijon"
          ],
          [
           "L'être humain ne doit jamais cesser de penser. C'est le seul rempart à la barbarie"
          ],
          [
           "Jeune Démocrate lillois. BN JDem chargé de l’animation des territoires. BR Jdem Hauts de France. bcp de titres pour pas grand chose."
          ],
          [
           "You're gonna carry that weight"
          ],
          [
           null
          ],
          [
           "Frère jumeau de l'autre"
          ],
          [
           "La satisfaction intérieure est en vérité ce que l'on peut espérer de plus grand"
          ],
          [
           "ma couverture c'est la BAC qui cherche ma weed"
          ],
          [
           "Standard nerd, NFT collector.\nCore Dev at @dokidokifinance for DeGacha.\n$DOKI $AZUKI"
          ],
          [
           "My sex is male and I identify as King of The Universe. My pronoun is Your Royal Highness Above All. Anything else is hateful and an agression against me."
          ],
          [
           "encule ta mer cbon ?"
          ],
          [
           "freelance journalist"
          ],
          [
           "🇫🇷🇱🇧 KovacBall worshipper Fervent supporter du dénommé Charles Perceval Leclerc"
          ],
          [
           "Je suis pas dans les affaires, je suis juste à côté. Franco-Italien"
          ],
          [
           "sancho7"
          ],
          [
           "Like green, music and life, are you ready for this weekend's grill party 🍗🍹🍾"
          ],
          [
           "If we are to feed, sustainably and responsibly, the 9.7 billion people who are expected to share our planet by 2050, the time to change is now #WeMakeItPossible"
          ],
          [
           "A la question que fais-tu dans la vie, seule réponse valable : je passe."
          ],
          [
           "POUR QUE VIVE LA FRANCE\nVIVE LE ROY"
          ],
          [
           "des mots si possible des phrases"
          ],
          [
           "Je suis une personne fidèle à mes sentiments et très stable dans ma pensee !!!"
          ],
          [
           null
          ],
          [
           "Conseil Local #parents d'#élèves #FCPE \nCollège #VictorHugo \nSite #Barbette : 11 R. Barbette\nSite #Epernon : 212 R. Vieille du Temple\n75003 #Paris #PIAL"
          ],
          [
           "Enseignant spécialisé, ex-journaliste"
          ],
          [
           "Promo 21 #MBAMCI \nPassionné par #Esport #Digital #Nocode\nLvl Noob sur #Webflow"
          ],
          [
           "P’tite kiné 🌺 Semi-raton de banlieue parisienne. Maman de Watson 🐈. Geek confirmée 👾 Passion vin rouge, viande et fromage 🍷"
          ],
          [
           null
          ],
          [
           "Je suis un être Libre et Souverain... c'est grave Docteur? Bien sur que non, vous êtes juste complotiste..."
          ],
          [
           "Executive Director of the National Association for Media Literacy Education. Mother of 2. Wife of 1. Friend of many. Also, I love my dog."
          ],
          [
           "Ecology student at Montpellier University, I am an aspiring researcher. I've always been passionate about the biology and ecology of the arachnids of the world."
          ],
          [
           null
          ],
          [
           "MSc |Bioinformatics @METU_ODTU & BSc |Biology @METU_ODTU\n#womeninstem #meskhetianturk"
          ],
          [
           null
          ],
          [
           "Auteure, poétesse et peintre. Oeuvres disponibles sur http://Amazon.fr et http://Galeriescreations.com. Vivons nos émotions !"
          ],
          [
           "#Software #Mobile #Application #Developper Amoureux de #technologies je me donne à fond sur ma quête de nouvelles connaissances et #blog par temps perdu"
          ],
          [
           "Connecting People with Energy, Water, and Gas Providers with the Best Digital Customer Experience(CX) & Workforce Experience(WX) platforms, powered by AI/ML/IoT"
          ],
          [
           "Pharmaceutical engineers\nChemistry#research"
          ],
          [
           "Groupe de services immobilier spécialisé sur l'investissement locatif.\nNous vous accompagnons sur la vente, le financement et la gestion immobilière."
          ],
          [
           "Marie Curie Fellow at Barcelona  | Computational biologist | Avid sci-fi reader | Lottocracy advocate & father | Weak agnostic | Blood A+"
          ],
          [
           "Independent HR Consultants for Hire! Supporting businesses and employees across the UK & EMEA"
          ],
          [
           "⠀⠀⠀⠀⠀⠀“I haven't been everywhere⠀⠀⠀⠀⠀ ⠀ ⠀⠀⠀⠀⠀ ⠀⠀⠀⠀but it's on my list” ⠀⠀⠀⠀⠀⠀⠀⠀⠀ ⠀⠀ ⠀⠀⠀ ⠀⠀⠀ ⠀⠀⠀ ⠀⠀⠀⠀ ☽ ☾ ⠀⠀⠀ ⠀⠀⠀ ⠀⠀⠀ ⠀⠀⠀ ⠀⠀ ⠀ig: itsflora_ ⠀⠀"
          ],
          [
           "#WeAreBanijay #BusinessClub #Actualités,@C8TV,@Cnews @canalplus @Tpmp @H2oprodoff #Storytelling #Branding .#adventure, #Influenceurs #talent, #stories"
          ],
          [
           "La valeur humaine"
          ],
          [
           null
          ],
          [
           "Climate Action is our focus. Together, let’s make it yours. 🌱"
          ],
          [
           "IUT de Belfort-Montbéliard, établissement d'enseignement supérieur, composante de l'UFC, formations de qualité de bac+2 (DUT) à bac+3 (licences pro.)"
          ],
          [
           "Inspectrice de l'éducation nationale Lettres - Littérature dans la voie professionnelle - Littérature de montagne - Mémoire et citoyenneté."
          ],
          [
           "Bioinformatician @ ICS/FORTH"
          ],
          [
           "Best Digital Trendz is an IT Technologies guest blog that delivers the latest IT software knowledge and covers top digital trends in Social Media etc."
          ],
          [
           "#engagement et #RSE @FerreroFR #alimentation #gourmandise"
          ],
          [
           "agenciero/wire journo @ associate professor - Secretario general RSF-España"
          ],
          [
           "Sports and Entertainment, Product Management, Communication."
          ],
          [
           "j'ai fait une connerie"
          ],
          [
           "Nous devons reprendre ce pays en main. En mémoire de nos anciens et pour le futur de nos enfants."
          ],
          [
           "New profile “ again”! Please follow back! Semi famous rockstar-metal vocalist, Vegan🌱, Animal rights advocate, Fighting for a better world ALL living beings!"
          ],
          [
           "Fan de #ACNH et surtout Monica mon code onirique : DA-0268-2268-5414 😍, fan de la ville de Paris🗼d’animés et Photographe amateur 📷 Instagram: toinou_photo"
          ],
          [
           "Maman en #IEF avec deux enfants dont un #autiste. Militante de l'IEF et blogueuse. #nonsco #education #homeschooling Je tiens aussi @Les archives de l'IEF."
          ],
          [
           "Youtubeur🤳🏿impopulaire,\nAuteur 📚 , 33 ans, @enmarche pour l'Excellence / #WeLoveWhatWeDo // Vive La République 🇲🇫🇪🇺"
          ],
          [
           "Prod live chez @Centurio_agence | http://twitch.tv/pheno_menal"
          ],
          [
           "papa de 2 enfants en #ief"
          ],
          [
           "I have come to the conclusion that while all artists are not chess players, all chess players are artists."
          ],
          [
           "QU'EST-CE VOUS FAITES DANS MA MAISON !? ~  Créateur de chroniques vidéos pop-culture geek ~ 50% sage, 50% fou et 100% peignoir,"
          ],
          [
           "Nº1 du matériel pour les passionnés du #FaitMaison - particuliers et pros. Tout pour conserver et transformer fruits&légumes, viandes, poissons, laitages..."
          ],
          [
           "Chaîne YouTube : Fredsweetsoles❤️👣\n\nAlways stay based, no matter what they say 💪🏻"
          ],
          [
           "Sponsorisé par Deutsche Grammophon"
          ],
          [
           "Designer / PhD (@EHESS_fr), Associate Professor @unimesfr #design, #care, #ethnography #drawing. Co-founder @DesignRecherche / VP @les_ard"
          ],
          [
           null
          ],
          [
           "Partner | CIPP/E | Digital | Privacy | IT | Aero & Space  - @LexingBelgium | @eLexing | - My book on drone law: https://goo.gl/5bUWi0"
          ],
          [
           "De l'art total rimbaldien (squart des Récollets, du Berry-Zébre, de la  Bellevilloise, Paris), à l'art numérique: Culture, démocratie, écologie"
          ],
          [
           "CEO @film_begin / Admin @acti_city / CManager @fspf_officiel @philippebesset @pharmaciendef / Ancien correspondant local de presse"
          ],
          [
           "Kritische Informationen und Intervention zu Biopolitik, Gentechnik und Reproduktionsmedizin"
          ],
          [
           "Ingénieur Informaticien, père de famille et Patriote."
          ],
          [
           "IT Professional | Master of Science in the Political Sciences (National Politics) | Book Reader | Music Fan | Left nor Right | Politically Homeless"
          ],
          [
           "For the conservation & sustainable use of marine resources 🌊🐟⛵️ Secretariat of @EPIntergroup_SD and @IUCN Fisheries Expert Group RT ≠ endorsement"
          ],
          [
           "Pdt/co-founder @lechainon2014 #ESS #innovation #ecologie #Solidarité #zerowaste  AGIR maintenant pour les générations futures. #Sportsdeglisse #proudmom"
          ],
          [
           "Stagiair Gerechtsdeurwaarder, interested in  #BE #EU #CoE #UN #HumanRights #IMF #OECD Views are my own, RT & follows are not endorsements."
          ],
          [
           "Servicio profesional en manejo preventivo y control de Plagas sinantropicas o vectores. Fumigacion con gas ph3 de maiz, harina, arroz, cacao, Cel #0991246730"
          ],
          [
           null
          ],
          [
           "epicureo ed edonistico 🍷"
          ],
          [
           "💼 Chargé d'Études Innovation / 25 yo / 🏀   #Basket #Innovation"
          ],
          [
           "🐺"
          ],
          [
           "community manager réseau microblogging... stratégie sociale livestream...instantaneite, interactivité, meerkating"
          ],
          [
           "🇧🇪🇯🇵"
          ],
          [
           "Homme à lunettes qui aime la moto. Geek à mes heures perdues."
          ],
          [
           null
          ],
          [
           "🏀🔬📚🌈"
          ],
          [
           "All the things.\nMaking Donalds great again"
          ],
          [
           null
          ],
          [
           "⚽  🎾  🏈  🏊‍♂️ 🚴‍♂️"
          ],
          [
           "Broadcast Journalist @BBCArabic"
          ],
          [
           null
          ],
          [
           "#ZermattSummit driving the concept of #finance serving #economy, economy serving #CommonGood and the common good serving the human being. #PeopleBeforeProfit"
          ],
          [
           "📸 http://flickr.com/rmnfiaert"
          ],
          [
           "Un trabajador honrado, infatigable buscador de la utopía, amante de la fantasia, producto de la realidad."
          ],
          [
           "#Marketing #Communication #Digital in mind 📲 / Sports addict / Passionnée du ballon rond ⚽ Joueuse & Coach #FootFéminin / Barça & #007 fan"
          ],
          [
           null
          ],
          [
           null
          ],
          [
           "IT Services & Products specialized to VFX & Media : Cloud Rendering & archive : http://imagein.cloud/"
          ],
          [
           null
          ],
          [
           "@Archeagglo #SysAdmin #infrastructure\n#Mix #RadioShow #TotalGroove"
          ],
          [
           "Psychologue,  ergonome, UX researcher & designer."
          ],
          [
           "Chef de projet web éditorial, blogtrotteuse et blogueuse #Voyage #Tourisme #Storytelling"
          ],
          [
           "Je suis une MILF = Mother I'd Like to Follow !  - EN COUPLE ⛔\n\nInfir-mère, geek/gameuse.\nParaît que parfois je suis sérieuse. \n\n(🚫team 1er degré)"
          ],
          [
           "Partage de l'actualité des #maladies chroniques ! Voix des Patients est une initiative de la Fondation Roche. #santé http://www.voixdespatients.fr"
          ],
          [
           "Journaliste Football L'Equipe\nPrésident Musée National du Sport"
          ],
          [
           "#TeamDoctorWho #teamgrizi #TeamSaintCharles"
          ],
          [
           "Homme cis, 25 ans, il/he -\nThésard en informatique -\nGameJammeur : http://celthim.itch.io -\n\nPolyA -\nSexpo -\n\nMontpellier"
          ],
          [
           "PhD Student, questioning the impact of social networks for books on reading and on the production #SIC #Elico @univ_lyon2 @uni_mainz @DAAD\n🇩🇪🇬🇧🇫🇷"
          ],
          [
           "Culture de la folie ordinaire"
          ],
          [
           "front end developer / Angular / React / ex-Gobelins"
          ],
          [
           "Journaliste à @6medias."
          ],
          [
           "Fighting entropy since 1982. Open Source Technologist & Infrastructure Automator & Trainer @camptocamp. Occasional tweets on #genealogy."
          ],
          [
           null
          ],
          [
           "0\"You can do anything but not everything--Anonymous"
          ],
          [
           "rousse bavarde d'après mon prof de français"
          ],
          [
           null
          ],
          [
           "Gestionnaire de l'info, traductrice, croqueuse d'images, microbiologiste défroquée, mordue de sciences. Habite chez son chat. THQI/TDAH (Gifted/ADHD), Métisse ∞"
          ],
          [
           "Beatmaker"
          ],
          [
           null
          ],
          [
           "Fier d'être noir africain"
          ],
          [
           "http://keybase.io/kavanista"
          ],
          [
           "GP @partechpartners - board member @ambossmed @brandwatch @ecovadis @NAKDfashion @rohlikcz @urbansportsclub backer @madedotcom @M_Files @sendinblue"
          ],
          [
           "ChemSec is a non-profit organisation working for a world free of hazardous chemicals by bridging the gap between decision-makers, science, NGOs, and industry."
          ],
          [
           "Executive Director of Transit Innovation Partnership. Former Chief Digital Officer for @nycgov & @nygov. Founder of open news platform."
          ],
          [
           null
          ],
          [
           "fan du @toulousefc et du @stadetoulousain. Team turboboulard"
          ],
          [
           "expert comptable | F2R conseil |vice présidente ordre des experts comptables orleans"
          ],
          [
           "Big Dreamer, Hard Worker #3DVFX The Foundry Nuke Artist. I also do photography on sundays 🤷🏻‍♂️"
          ],
          [
           "Passionné par l'informatique et les nouvelles technos, miagiste, papa de @opencompapp, #sysadm ;) #ProxmoxVE, #Docker, #TYPO3, #CakePHP enthousiaste :)"
          ],
          [
           null
          ],
          [
           "🦝"
          ],
          [
           "Green State TV is an interview series, sponsored by Syngenta, that seeks to engage people in conversations about agriculture, the environment and other issues."
          ],
          [
           "Rebel Scum. \nCo-founder and Former editor in chief @DCPlanetfr.\nCréateur http://ohdeer.fr"
          ],
          [
           "mon blog: A toi l'honneur !    http://corto74.blogspot.com"
          ],
          [
           null
          ],
          [
           null
          ],
          [
           "Weave the web of interspecies understanding with the Arachnomancy App; float the currents of the wind with @aerocene and the Aerocene App."
          ],
          [
           "Free software, individual & net freedom. Sailor.  Working from my catamaran on Technology Strategy @ Red Hat"
          ],
          [
           "Catalogue d'illustrations musicales: habillage d'antenne, musiques du monde, genres musicaux, ambiances sonore.\nCible: les professionnels de l'audiovisuel."
          ],
          [
           "Motard  Geek and co"
          ],
          [
           null
          ],
          [
           "Bush did 4/20, NDE pas NBA, la liberté mon frère c'est savoureux (Lacrim)"
          ],
          [
           null
          ],
          [
           "Jediné nezávislé testy výrobků a služeb na českém a slovenském trhu, spotřebitelská poradna, online databáze výsledků testů a nebezpečných výrobků a další."
          ],
          [
           "Animatrice radio http://Emission US rnb hip hop/Artiste deep house/electro funk/Eleve cours Florent/ acting international cinema IG: SISSOUSHINE"
          ],
          [
           "Ma fille est née en 2006 avec #MaladieRare #JacobsenSyndrome #deficience #surdite #IME #chartres #Dame #handicap #inclusion"
          ],
          [
           null
          ],
          [
           "Ingé dev ✌️"
          ],
          [
           "Bisounours féministe intersectionnelle, islamo-gauchiste bienpensante, addict au chocolat et aux blagues nulles."
          ],
          [
           "🎵Pourquoi mon roi est un Lama ?🎵"
          ],
          [
           "Professeure de français #classeinversée, web radio, tablettes en cours , formatrice lettres TICE #CAFFA , IAN LETTRES BORDEAUX"
          ],
          [
           "#webmarketing #tech #science #music #football🇫🇷⭐️⭐️🇪🇺"
          ],
          [
           "Communications Manager @OVHcloud"
          ],
          [
           "Scientist studying language, cognition, & social neuroscience. Skeptic. Fan of Orwell. Anti-#QAnon, Anti-#Disinfo. #Neurodiversity #FollowThePinkMartini 🍸"
          ],
          [
           "Sales, IT business specialist, startup addict, team player, passionate about innovative companies"
          ],
          [
           "✈️💫"
          ],
          [
           null
          ],
          [
           "Entrepreneur, Software Craftsman, Amateur Photographer, Father, and Gamer."
          ],
          [
           "People who are afraid of ridicule are the ones who are generally the most."
          ],
          [
           null
          ],
          [
           "Streamer et Speedrunner.\nBisounours accompli.\nhttp://fr.twitch.tv/jolenou"
          ],
          [
           null
          ],
          [
           "#insurance #audit #it"
          ],
          [
           "Eternellement havraise 🌊\nInterne de médecine générale\nRage monster à temps plein"
          ],
          [
           "Pensjonert fransklærer født i Kirkenes, bosatt sørpå og stadig feminist."
          ],
          [
           "Web, social media @DNDi. Swiss African. Views my own."
          ],
          [
           "militante socialiste, conseillère municipale d'opposition à #Limoges, professeur d'histoire-géographie"
          ],
          [
           "Clement_cdnl"
          ],
          [
           "Christophe. France.\nハイチューフランス支部"
          ],
          [
           "au point où j’en suis ll Droit-Criminologie (@tornadepv)"
          ],
          [
           "#Youtuber de 23 ans| Viens  t'abonner à ma chaîne youtube ça va saigner! Accrochez vous bien des têtes peuvent tomber..."
          ],
          [
           "L'élégance borderline."
          ],
          [
           "@CaveAuxPoetes @MardiMidi @ThinkRingo"
          ],
          [
           "idel à la campagne 🚘💊💉🏡"
          ],
          [
           "Hardware eres y en software te convertirás. El rincón de mis delirios. Cibernudismo: practiquemos el streap-tease de cerebro"
          ],
          [
           null
          ],
          [
           "Psychological scientist. Researching educational achievement @NTRscience. Tweets on academia, psychology, genetics. Member @ayoungacademy. Formerly @UniofOxford"
          ],
          [
           "Researcher, educator, father, cook, explorer, traveler. Professor @HKUniversity. Leader of the @ProjectMonsoon."
          ],
          [
           null
          ],
          [
           "Directrice Human Capital Strategy #digital #innovation #womenintech  @orange"
          ],
          [
           "http://www.youtube.com/c/NathanTarantlawriter"
          ],
          [
           "We all need to unite against injustice #HR1 #ForThePeopleAct #StopJimCrow2  #BlackLivesMatter #TeamPelosi #fbr #ctl #TheResistance Content curated by @Zaibatsu"
          ],
          [
           "error 404"
          ],
          [
           "Help me buy an M1 Mac Mini: CIMB BANK 7054880532\nhttp://streamlabs.com/farithaidil\nhttp://paypal.me/Aidil889\nhttp://audius.co/farithaidil\nhttps://www.twitch.tv/farithaidil75"
          ],
          [
           "MSc Climate Change and International Development at UEA. Equality, justice, climate action. 1/4 of shite-talking nerd extravaganza @podguidegalaxy for your ears"
          ],
          [
           "Bioinformatician and research fellow of the University of Birmingham. 🇮🇪 🇪🇺"
          ],
          [
           "A humanities e-journal showcasing quality academic work and review articles with a global outlook. From the editors of @laviedesidees"
          ],
          [
           null
          ],
          [
           "I tweet about marketing and presentation.\nWork : CMO @SewanGroupe\n❤️ Pixel perfect & 📐 90°"
          ],
          [
           "Développer, défendre l'accès à la #culture sur le #net et lutter pour préserver cette liberté\n#science #environnement #sante #techno #espace #liberte"
          ],
          [
           "Liberté-Egalité-Fraternité"
          ],
          [
           null
          ],
          [
           "Passionné de digital, Agile & UX Fan !\nDirecteur de mission & consultant Digital Commerce @ Gfi\n// Ex Resp. projets innovation & e-commerce @ Groupe 3SI"
          ],
          [
           "Working on creating space between stimulus and response. Opinions = my own."
          ],
          [
           "Award-winning journalist @BJTC_UK. \"one to watch\" @onewm. \n\n@AJEnglish @RonachanFilms\n\nMA TV @cityunilondon & MA GPE @sussexuni \n\nRT ≠ endorsements, views mine"
          ],
          [
           "Même si nous sommes juste en train de danser dans le noir."
          ],
          [
           "Cologne-based D-E translator, views my own"
          ],
          [
           null
          ],
          [
           "Athée religieux (depuis la ma(scarade)nif pour tous ) et apolitique depuis SarkHollande..juste envie de vivre libre et d'aimer... et depuis peu un insoumis. .."
          ],
          [
           "building something new"
          ],
          [
           "Horizons Expander @ http://Booking.com / René Chateau Internets / Photography / Ice hockey / Carbonara Club"
          ],
          [
           "TZ: UTC/GMT-4 AST (Antilles - West Indies) Couchâalaoüa"
          ],
          [
           "políglota 🇦🇷🇫🇷🇺🇸🇮🇹 | escorpio full-time | twitter es un constante nadie te preguntó"
          ],
          [
           "Bonjoir."
          ],
          [
           "Resident DJ @ Via Notte (Porto Vecchio, Corsica)"
          ],
          [
           "Love, Reading, Writing #myDNA (Big) Data & Privacy Lover, Picture & Music Lover #DREAMER #YouAreFootball #WeAreInTheGame Né(e) pour amener ma part de progrès"
          ],
          [
           "Agence d'ingénierie culturelle #ArtyBot Fondatrice @MomArtfamille #Upculture #Auctiongeek @TicketforChange"
          ],
          [
           "Health and science communicator, PR for Gesundheit Nordhessen and Klinikum Kassel, book lover, feminist, views are my own"
          ],
          [
           "🌈🍟🍺"
          ],
          [
           "Directeur des Projets Artistiques | TAP - Théâtre Auditorium de Poitiers | Festival À corps | Compte personnel | Spectacle vivant, littérature, architecture etc"
          ],
          [
           "We're an independent, non-profit, non-governmental org, committed to preventing and resolving deadly conflict. Our staff: https://twitter.com/i/lists/97745467"
          ],
          [
           "Page officielle du Département de sciences biologiques de l'Université de Montréal : Nouvelles, événements et plus."
          ],
          [
           "CEO Vulcan Consulting | @vulcaninsight | Columnist @sundaybusiness | Senior Advisor to @fightextremism | Former Europe Minister | Horse lover"
          ],
          [
           "J'ai le #FOMO mais je me soigne."
          ],
          [
           null
          ],
          [
           "Journaliste @M6 - Magazine et @equipedefrance"
          ],
          [
           "Journaliste à la recherche, honnête travailleur de l'information, jusqu'à récemment à l'emploi de La Presse, mais à Québec, histoire de mêler tout le monde."
          ],
          [
           "🇨🇵🇨🇦\nGraphiste entre autres choses"
          ],
          [
           null
          ],
          [
           null
          ],
          [
           "Journaliste // Directrice des rédactions // @pleine_vie, @NousDeuxMag, Les Veillées des Chaumières // Ex @Telestarmag, @Telepoche, @closerfr"
          ],
          [
           "I like to design sutff, tell stories and be indoors watching 3rd Rock from the Sun when it's rainy, cold and dreary."
          ],
          [
           "Hier twittert der Bund für Umwelt und Naturschutz Deutschland e.V. / Friends of the Earth Germany / Impressum: https://www.bund.net/impressum_twitter"
          ],
          [
           null
          ],
          [
           "Head of Digital Team @osfEUpolicy, Board member @EDRi.  Bilingual EN/ES tweets about politics, tech, internet policy. @beuc and @accessnow alumnus"
          ],
          [
           "Research Scientist @FishOceansCAN: population genetics | genomics | transcriptomics | salmon | bioinformatics | open science |"
          ],
          [
           "Reach me at 438-495-5762. Passionnate. Connected. True Relationship. I'm your Missing Link with the clients, the investors and your Happyness !"
          ],
          [
           "@realmadrid | @selecaoportugal | @F1 | @max33verstappen"
          ],
          [
           "Multimedia Journalist, Working for DW (Urdu Service),"
          ],
          [
           "Mes tweets n'engagent que moi, mon père, ma mère, mes frères et mes sœurs et Claude François Oooooh, Oooooh..."
          ],
          [
           "akademie der bildenden künste wien"
          ],
          [
           "I been ballin' so damn hard I swear I think that I'm Kobe / Yukihyo / OM et SFC / LA Lakers / Alien s. 07 / Pokefan"
          ],
          [
           "🎙 L’agence de #conférenciers, experts et journalistes, pour vos évènements d’entreprise en digital ou en présentiel.\n\n(ex Brand and Celebrities)"
          ],
          [
           "#Chercheur - #Scientifique -#Physiologiste\n#Nutrition_orthomoléculaire #Biochimie_micronutritionnelle #Variabilité_des_systèmes_biologiques #HRV #Nutrigénétique"
          ],
          [
           "ASIAN EVENTS EUROPE"
          ],
          [
           "Hakuna Matata"
          ],
          [
           "directeur collectivités locales @orange @alpesmaritimes Vice Président @telecomvalley #Numerique #IOT #SmartCity Mes propos n'engagent que moi."
          ],
          [
           "IS 20690"
          ],
          [
           "Maicress teste , tatonne , bidouille Ipads numerique classe Mat-CP #Smart Exemplary Educator Twitclass : @lutinsMatCP"
          ],
          [
           null
          ],
          [
           null
          ],
          [
           "Technical Artist.\nTools, shaders et roulades dans les champs."
          ],
          [
           "J’ai beaucoup cherché dans les forums ou des tutoriaux . Et je me suis dit pourquoi pas faire un site pour vous aider . Voici mon nouveau site."
          ],
          [
           "Formatrice & Coach. Fondatrice de WellatWork. Chargée d’enseignement à @EHB_IFFP_IUFFP #coaching #PCM #CNV #pratiquesnarratives"
          ],
          [
           null
          ],
          [
           "retraitée d'une bibliothèque municipale"
          ],
          [
           "ah ok"
          ],
          [
           "Innovation Expert - #Digital & #IoT / Founder @togezzer / Startups investor #proptech #cleantech #smartbuilding #sustainability #tech4good"
          ],
          [
           "Public Citizen's Global Trade Watch was created in 1995 to promote government & corporate accountability in #globalization & #trade."
          ],
          [
           "#Slasheuse #HealthCare #Brand #Facilitator #Innovation #Human #ChangeMaker #HacKtivProgress Whatelse #Riseandshine #RainbowYoga #Sensitive #OrganicDancer"
          ],
          [
           "La experiencia y conocimiento de nuestros antepasados es valiosa. Contra #FakeNews. Knowledge and experience of r ancestors is a treasure. \n I STAND FOR #Israel"
          ],
          [
           "Ai fait plein de trucs (réalisateur, journaliste, patron). J’en fais plein d'autres (Conseiller ministériel). Mes tweets n’engagent que moi (et encore...)"
          ],
          [
           "queer ✨ likes memes 👽 vegan 🌱 takes no shit 🔪🔪🔪 (iel) (they/them) ♐️☀️♈️🌙♉️🌅"
          ],
          [
           "Photographe chez @Forge_DImages Des vidéos avec @ProjetWh8 #Whovian #gadgetophile #féministe #photographie #websérie #TeamAllya #redhair [Elle/She/Her]"
          ],
          [
           "J’organise des événements, je fais du sport et je live #streamer #geek #sport #fromage #crème"
          ],
          [
           "Head of UK & Ireland TV coverage @AFP. Missing former homes New York, Washington and Paris."
          ],
          [
           "Uni of Lincoln (2:1(Hons) Biomedical Science), dog sis, cat mum, crocheter & Level 2 WAG Coach. Wife to @jpbrowny & slave to https://www.instagram.com/eandecats"
          ],
          [
           null
          ],
          [
           null
          ],
          [
           "Ingénierie du #DéveloppementDurable #Environnement - #DEEE #DEA - #Déchets - #Recyclage #Réemploi #Réutilisation #ESS"
          ],
          [
           "bébé anesth-réa  | sportive du dimanche | gourmande à mes heures perdues"
          ],
          [
           "Clinical psychologist, CBT therapist."
          ],
          [
           "co-Founder of @Privateaser / ex #Withings @NokiaHealth Paris & Boston / @CentraleParis Alumnus / @assocentraliens / Savvy Photographer / Amateur #Sailor /"
          ],
          [
           "Multilingual Communications Professional"
          ],
          [
           "DJ / Producer"
          ],
          [
           "#Finance #Politics #Sports #HipHop\n                     IG : BRAHMBEE"
          ],
          [
           "Réseau social à chier mais bon je suis toujours là"
          ],
          [
           "Against censorship, hatred and extremism. Moto: No fight, no win! African trotter."
          ],
          [
           "Cybersec guy, eating crypto charts every morning. Retweeting all the French mème shit and sometime important stuff\n#bitcoin"
          ],
          [
           "🇮🇹 ~ 🇵🇹 7️⃣ He said: \"One day you'll leave this world behind So live a life you will remember\"   / Avicci"
          ],
          [
           "Humanitarian. Father and husband. Director of the Johns Hopkins Center for Humanitarian Health and Professor at Johns Hopkins Bloomberg School of Public Health"
          ],
          [
           "« j’ai rien à t’offrir à part des coups de reins »"
          ],
          [
           null
          ],
          [
           null
          ],
          [
           "Founder & Advisor: Global Human Capital Strategy, Executive Compensation, Total Rewards & Performance:#Equality GlobalCitizen.\nTweets, Likes, RTs ≠ endorsements"
          ],
          [
           "Electronics Engineer (EIT to be) || Dance Artist/Choreographer || Musician || Fiverr freelancer."
          ],
          [
           null
          ],
          [
           "Reportera."
          ],
          [
           null
          ],
          [
           "Passionné de technologies web, de sports natures... et de rock !"
          ],
          [
           null
          ],
          [
           null
          ],
          [
           "keep moving Forward"
          ],
          [
           "« Mieux vaut prendre le changement par la main avant qu’il ne nous prenne par la gorge. »\nWinston Churchill"
          ],
          [
           "let em in 🗣"
          ],
          [
           "PhD Candidate University of Pisa & Wageningen University / #research topic: #innovation in #food supply chains"
          ],
          [
           "Plus j'avance , Plus je grandis ... Plus je comprends rien !"
          ],
          [
           null
          ],
          [
           "Étudiant L2 SVT et amoureux."
          ],
          [
           null
          ],
          [
           null
          ],
          [
           "‏‏http://ferkous.com/home/"
          ],
          [
           "C'est dans les éprouvettes que je produis des fraises à 0.1 % de neurones !"
          ],
          [
           "La #FrenchTech est le nom collectif pour désigner tous les acteurs de l’« écosystème de #startups » français en France et à l'étranger"
          ],
          [
           "Infirmière sur mon petit caillou 🌋 🇷🇪               \n        📍 Valhalla"
          ],
          [
           "Féministe passionnée de réseaux sociaux mais qui sait être dans l'action dans \"la vraie vie\" , je n'aime pas les masculinistes d'associations de pères"
          ],
          [
           "Data analyst, photographer, progressive."
          ],
          [
           "Ma devise Sourire à la vie Et Touchée par la cause Handicap qui concerne directement ma famille Curieuse des actualités Twitter un monde ouvert aux opinions"
          ],
          [
           null
          ],
          [
           "Curateur inamovible du Collège de Pataphysique. Praticien de la démonstration par l'absurde."
          ],
          [
           null
          ],
          [
           "#Absolwent   Wydział Wojskowo Lekarski w Łodzi   #TT #Prywatnie"
          ],
          [
           "En transit"
          ],
          [
           "The Innovation Evangelist - Global Keynote Speaker. Talks on innovation, AI, disruption and prospective..."
          ],
          [
           "“Know syphilis in all its manifestations and relations, and all other things clinical will be added unto you” (Sir William Osler, father of modern medicine)"
          ],
          [
           "every breaking wave"
          ],
          [
           "Entertainement platform capturing #data #marketing leads 👉 #Fans management & insights. Targeted advertising & direct comms 🎟🎶🏀🍿🎯"
          ],
          [
           "Vit à Poitiers, pianiste et fan de JVs."
          ],
          [
           "We support hacking and playing with electronics. We share open projects and create amazing products. \nOur Newsletter:\nhttp://www.open-electronics.org/newsletter"
          ],
          [
           "Bg"
          ],
          [
           "On a deux vies .La  deuxième commence le jour où on réalise qu'on n 'en a qu' une (Confucius )  \n#carpediem 🌍🍀🌏🌊#famille"
          ],
          [
           "Member of the European Parliament (MEP)\nhttp://www.nicosemsrott.eu"
          ],
          [
           "IDE de vos aînés 👨🏽‍⚕️"
          ],
          [
           "Father of three little Europeans. Also Head of Cabinet to European Ombudsman 🇪🇺"
          ],
          [
           "Le plus grand sportif de France"
          ],
          [
           "Arthur 20 ans, étudiant à @EpitechParis http://spaceactionhero.arthurvasseur.fr"
          ],
          [
           "WB team @EEDemocracy. Prev: Intl Advisor to Mayor of Šabac, Serbia. @IDS_UK and @UniofNottingham alumna. Dutch-Serbian. *views my own*"
          ],
          [
           null
          ],
          [
           "I fell for you, what a damn mistake that turned out to be."
          ],
          [
           "Vibes Cartel to the top ."
          ],
          [
           "je suis le représentant du chaos"
          ],
          [
           "24 |"
          ],
          [
           "User Experience & Interface Design.\nChief Designer of UX-UI at Renault Group, ex Samsung Electronics."
          ],
          [
           "تونسي و يكفيني ذلك فخرا"
          ],
          [
           "He smokin' weed and he changin', it ain't nothin' new."
          ],
          [
           null
          ],
          [
           "Pharmacist 💊💉Music addict 🎶 serieholic Bookworm freak 📚☕️📖 & travel lover ✈️💞 Tweets in English, French & Arabic ✌️🇹🇳"
          ],
          [
           "Gone du quartier Croix-Rousse (Lyon 4e)\net photo souvenir de la carte de joueur de mon grand-père au FC Barcelona 1937-38"
          ],
          [
           "“but to say that I'm a rainbow, to tell me that I'm bright, when I'm so used to feeling wrong, well it makes me feel alright” (she/her | 19)"
          ],
          [
           "BZH"
          ],
          [
           null
          ],
          [
           null
          ],
          [
           "23 yo • graduated from @EFAP_ • communication/journalism • passionate about travelling around the world • speaking French, English, Spanish • WHV Australia 2018"
          ],
          [
           null
          ],
          [
           "Communicante en veille, je tweete social media, webmarketing, e-commerce et bien sur communication : événementielle, produit, digitale..."
          ],
          [
           "Explorateurs de cette nouvelle Conversation entre Marques, Media & Culture / Créateurs du #MusicCinemaClub mk2 / Contributeurs @LADN_EU & #LaSorbonne"
          ],
          [
           "Historienne"
          ],
          [
           null
          ],
          [
           "Hello. Directrice marketing @lolivierassure je tweete #marketing #digital #communication #publicité. Le #velotaf c'est la vie. Et #SwedishFit aussi."
          ],
          [
           "« Etre vrai, peu le peuvent ! » - Friedrich Nietzsche"
          ],
          [
           "vivre les territoires, l'équité, continuer d'inscrire le développement durable dans toutes ses exigences et parler aux gens pour faire ça ensemble..."
          ],
          [
           "On change pas les habitudes qui gagnent. 🙅        \n\n\n\n\n\nIci c la porte ouverte à tt les baies vitrées ! 🤪"
          ],
          [
           null
          ],
          [
           null
          ],
          [
           null
          ],
          [
           "Working hard to keep you and your family safe and secure. We review trusted home security systems and create guides for you to make a more informed decision."
          ],
          [
           "infirmier gardien des Cartes de Clow. Fervent utilisateur des cartes Eto Celo."
          ],
          [
           "co-founder @finologee @digi_cash @mpulse_mpayment #FinTech #RegTech #InsurTech #PublicSpeaker #Host #ProudFatherOfTwoPrincesses #British #French #Rugby"
          ],
          [
           null
          ],
          [
           null
          ],
          [
           "Italian adopted by Brussels. Head of Brussels Office @CattaneoZanetto. Views are my own."
          ],
          [
           "architecture/urbanism/design/research/urban farming\n by Anouk Legendre & Nicola Desmaziere - \nFollow us on https://www.facebook.com/XTUarchitects"
          ],
          [
           "wooo pinaiz 🤦🏻‍♀️ on a déménagé (et on en a marre du covid) @psyche_Coon (insta)"
          ],
          [
           null
          ],
          [
           "Lawyer • Interested in Digital Rights: Copyright, Freedom of Expression, Privacy, NetNeutrality, etc • heading @direitosdig, Portugal • creator of memes • EN/PT"
          ],
          [
           null
          ],
          [
           null
          ],
          [
           "Masso 💫English teacher ; Full time Dreamer / Proud Ivorian / Instagram : @mbassadrice 🌺✨"
          ],
          [
           "Citizens serving the European Union to promote the respect for Families, Parents and Children's rights."
          ],
          [
           "Ingénieur java @3k1n0"
          ],
          [
           "Speaking out for #FairTrade & Trade Justice |  http://www.fairtrade-advocacy.org | RT ≠ endorsement"
          ],
          [
           "Freelance Journalist / Former @tagesanzeiger, @sonntagszeitung. MSc African Politics via @SOAS PGP: https://bit.ly/2HWjIHm Threema: 5Z8JJV4B"
          ],
          [
           "Professor @unil #Hypoxia #Exercise #Physiology #Health #Alps #Fatigue #HRV #Performance #RSH \nEx-elite triathlete & coach.\nProud of my family 😍"
          ],
          [
           "Ex CS:GO player, e-sport, rap and crypto enthusiast. \n⁶₆⁷"
          ],
          [
           "walang ganap"
          ],
          [
           "Mon amoureuse @cherryvxnillx\n\nthick thighs save lives\n\nCléosexuel"
          ],
          [
           null
          ],
          [
           "Fondatrice et directrice de l'Agence de concertation Palabreo \nDéfinitivement convaincue de l'absolue nécessité de la concertation."
          ],
          [
           "Ecologie, développement durable, cosmétiques naturelles, phytothérapie, naturopathie...\nProtection et défense des animaux."
          ],
          [
           "Analyste crédits dans le domaine bancaire- Conseillère Municipale, mission Relations avec les comités des Fêtes de quartier."
          ],
          [
           "🌍 Ökologisch konsequent. 🙋🏻‍♀️ Sozial engagiert. ✊🏽 Global solidarisch. 💚 Seit 1983. | Fraktion: @GrueneParlament | En français : @LesVertsSuisses"
          ],
          [
           "Serial entrepreneur in #celltherapy #genetherapy & #Biotechnology. President-CEO PDC*Line Pharma #Entrepreneurship #Leadership #VC"
          ],
          [
           "personal musings"
          ],
          [
           null
          ],
          [
           "MTK-Varsinais-Suomen aluepäällikkö, Hämeessä asuva turkulainen. Mielipiteet omia."
          ],
          [
           "Data Scientist - R&D - Machine Learning - NLP"
          ],
          [
           null
          ],
          [
           "Je veux juste dormir."
          ],
          [
           "@ToulouseFC / @FCBarcelona / @WissBenYedder"
          ],
          [
           "@GlobalAktion is a DK #solidaritymovement collaborating w. #socialmovements globally - fighting against #inequality & for political, social & economic #rights"
          ],
          [
           "Entreprise de services à la personne: ménage/repassage, garde d'enfants, jardinage, bricolage, gardiennage, assistance à personnes âgées et handicapées"
          ],
          [
           "A Fabrication Laboratory in Siegen, Germany."
          ],
          [
           "Parce qu'il n'y a point de génie sans un grain de folie ! Écrivain, apprentie historienne, artiste à ses heures perdues, créatrice...en somme une touche à tout!"
          ],
          [
           "➡️Animateur de La République En Marche Grand Chatellerault \n➡️Conseiller Municipal de #Châtellerault\n➡️Conseiller Communautaire de #grandchatellerault"
          ],
          [
           "Amandine Mouillet, #Commmunication #RP #medias #Numerique @GroupeCESI passionnée & curieuse des nouvelles techno mais pas que ☺️#MumOf1"
          ],
          [
           null
          ],
          [
           "Grand reporter Football @lequipe"
          ],
          [
           "Nous produisons des vidéos d'animation courtes, composées d'illustrations dessinées à la main. #videoexplicative #ExplainerVideos #eMarketing #eCommerce"
          ],
          [
           "#inclusion #climatscolaire #citoyenneté #laïcité #accompagnement... Enseignante, formatrice, parfois podcasteuse...\nhttps://m.soundcloud.com/user-901302539"
          ],
          [
           "#Entrepreneur, Business Development, passionné de nouvelles technologies et d'#actionsports| #iot, #innovation, #objetsconnectés, #ecommerce, #ski, #outdoor"
          ],
          [
           "Twitos de père en fils depuis 1880. J'arrêterai de parler de politique quand ils arrêteront de dire des conneries."
          ],
          [
           null
          ],
          [
           "VC @CreditMutInno I Investor in @planityofficiel, @saagie_io & @SchoolsMaria"
          ],
          [
           null
          ],
          [
           "FabLab et éco-design partagés"
          ],
          [
           null
          ],
          [
           null
          ],
          [
           "#Astoria #Art & #Event Space. Supporting our community artists and residents!"
          ],
          [
           "Öffentlichkeitsarbeit @frauenrat // Feministin // sie/ihr"
          ],
          [
           "🏳️‍🌈 • sac à dos à temps plein"
          ],
          [
           "#TeamPortugal      🥀"
          ],
          [
           "je suis un jeune camerounai qui aime bien lire,suivre de la musique faire du sport regardé la télé et passé du temps avec sa copine et je suis 1 grand bosseur"
          ],
          [
           "The transformation and development accelerator of @BNPP_Cardif"
          ],
          [
           null
          ],
          [
           null
          ],
          [
           "Jeune think-tank pragmatique à l'image du dynamique Nouvel Esprit Africain et convaincu de l'inévitable déclin de l'Occident."
          ],
          [
           "A single fantasy can transform a million realities. Maya Angelou\n RT ≠ approvals"
          ],
          [
           "Je prends mon vélo pour aller au cinéma"
          ],
          [
           "étudiante en philosophie. mon vinted : https://www.vinted.fr/membres/953032-yaminakhaldoun (envoyez l’argent)"
          ],
          [
           "beliaive croire en vos rêves"
          ],
          [
           "Inventeur du mot Zørglub | #COYG | One Piece | 🇨🇦"
          ],
          [
           "Interne de radiologie 👩🏾‍⚕️- APHP| #Panafricanism | #Seriephile | 🇧🇯 🙏🏿 🏳️"
          ],
          [
           null
          ],
          [
           null
          ],
          [
           null
          ],
          [
           "Executive wife of the husband, mère débordée de 5, avocat névrosé, SUF, dame KT, BFF of Picard, girl who doesn’t take no for an answer, #rotorgeek J'ai 9 vies"
          ],
          [
           "IFSI Laxou 💊💉"
          ],
          [
           "Anti-con Anti-facho.🇲🇦 \"Plus l'État est corrompu, plus les lois sont nombreuses"
          ],
          [
           "Non."
          ],
          [
           "Vil contrôleur de gestion @ Mairie de Lille - Dit gère"
          ],
          [
           "\"Onzin met een verlengsnoer\" vanuit de pyreneeën   http://facebook.com/pyrenees #fietsgek #cycling #trumpet #photograph"
          ],
          [
           "Under curfew evaluation.\n\nRenforcement des compétences en suivi et #évaluation.\n\nTweets par Sébastien Galéa."
          ],
          [
           "#xix = #webdesign + #illustration"
          ],
          [
           "@OM_Officiel ✯ | @pnlmusic"
          ],
          [
           "voyageur, solitaire, dévoreur de bouquins, cinéphile, soupe au lait, ne tolère aucune médiocrité, déteste l'hypocrisie, adore la mangue, la noix de coco..."
          ],
          [
           "Rien ne battra un peuple uni et révolté."
          ],
          [
           "Ici Il y a un enfant qui pleure"
          ],
          [
           "Informations sur l'éducation, la pédagogie et la curiosité"
          ],
          [
           "🌍 x ☀️ x ♥️"
          ],
          [
           "Just off to the pharmers market"
          ],
          [
           "Private sector Development specialist / World Bank projects-Burundi. Juriste, music lover, ordinary citizen.Mes tweets n'engagent que moi."
          ],
          [
           "3rd Scenario is: Scott Bugs Allen, Earl Tee Harris; L.A.'s Dynamic Duo of JazzFunkSoul, now  Spectra Jazz recording artists\n#baddestbandinla"
          ],
          [
           null
          ],
          [
           null
          ],
          [
           "Rédacteur du site le Scriptorium Ludique, membre du Studio09, co-auteur de Brunan - l'aventure au comptoir, roliste, bricoleur graphique..."
          ],
          [
           "☂️ http://Influenceur.se du bouli🎮Pan🏳️‍🌈 🦚 CF / NB SEDh ♿. Snap: Nyo_kaze Insta: nyo.Kaze @LSexWorkers"
          ],
          [
           "Fikirlerini paylaşmak iyidir. \nSosyal medyada fikir paylaşılır.\n Sosyal medya iyidir. (aslında bu tam olmadı ama idare edin)"
          ],
          [
           "Try Harder |\nhttp://instagram.com/corbelpierre/"
          ],
          [
           "Game programming student. 22yo"
          ],
          [
           "HUMOUR toujours ! Pertinence et impertinence sur tout et n'importe quoi. Bloqué par @R_Bachelot @DenisBrogniart et @NikosAliagas, des références quoi...."
          ],
          [
           "Historienne de l’art, écolo farouche... slow attitude, végétarienne & Swiss fondue addict 🫕 🇨🇭"
          ],
          [
           "逸見龍生。大学教員。18世紀フランス文学・思想。リヨン高等師範学校古典思想史研究所招聘教授。逸見龍生・小関武史編『百科全書の時空―典拠・生成・転位―』（2018）Dix-huitièmiste. Diderot et l'Encyclopédie. Opinions are my own.匿名鍵アカウントはお断りします"
          ],
          [
           "Just want to tryhard a game | movies & series addict\nSystem & security student"
          ],
          [
           null
          ],
          [
           "bg"
          ],
          [
           "Montréalais depuis quelques années @chimieparis @polymtl"
          ],
          [
           "Linux for Life"
          ],
          [
           null
          ],
          [
           null
          ],
          [
           "Super Reporter de @ForumLorie / Webmaster de http://www.lorie-collection.com"
          ],
          [
           "🇩🇿"
          ],
          [
           "Caricaturiste algérien/Algerian cartoonist @Kiosquetv5 @Liberte_Algerie"
          ],
          [
           "🇩🇿 @realmadrid"
          ],
          [
           "Deviens génial"
          ],
          [
           "#bijouxfantaisiepascher #bijouxtendance"
          ],
          [
           "Domaines d’intérêts: #Veille,#Web,#Réseauxsociaux ,#santé"
          ],
          [
           "my life is already fucked up anyway                       \n\n\n🌈☀️💟🌻🌈🌻🌼💟☀️🌼🌈💟"
          ],
          [
           null
          ],
          [
           "Je ne suis pas un panda."
          ],
          [
           "Passionné du Web depuis 1996, Growth Hacking, d’Histoire, Sports de Combat."
          ],
          [
           "Zoulette Hate Account 🔱Unité Hi Shin. ⚜️ Noah est le Zoulette God👺 Kishimoto est un chokeur 🤧"
          ],
          [
           "UX/UI Designer @scimob (Webedia Group) #94Seconds #94Degrees #WordAcademy #MathAcademy #KezakoMysteryPic #Consensus #PixelsChallenge & Photographer by Passion"
          ],
          [
           null
          ],
          [
           "Désespérément optimiste, Gothique soft & mère de famille déjantée, CM/Rédactrice la nuit,fatiguée le jour. #Archiaddict #saccageparis #paris17 #cannes #apresj20"
          ],
          [
           null
          ],
          [
           "évolution discontinue"
          ],
          [
           "your new favorite ugly clown 🤡"
          ],
          [
           "J'ai eu un diplôme de Droit une fois. Maintenant je suis beaucoup fonctionnaire, un peu gamer. Ou l'inverse je sais plus. 🕹️🇧🇪 ⚽⚫🔴"
          ],
          [
           "Fournisseuse de confitures originales @LapauseW - @HistoiresPremas - Newsletter #LesPetitsPlatsDAelys - Freelance -  Maman d'une petite fée. Blogueuse"
          ],
          [
           "Community Moderator @ Bandai Namco Entertainment Love fighting games especially #StreetFighter mangas and anime #DragonBall #SaintSeiya and Japanese Culture."
          ],
          [
           "Salut, je n'est pas de but particulier alors je laisse les chose venir  comme elles le sont ✌️"
          ],
          [
           "Wai trop 👍"
          ],
          [
           "Sales Manager @arte & Followeuse avant tout, je vous écoute."
          ],
          [
           null
          ],
          [
           null
          ],
          [
           null
          ],
          [
           "HDA, créatif, la peinture et le papier mâché(compte plus si secondaire)"
          ],
          [
           "zen"
          ],
          [
           "https://m.youtube.com/channel/UCYKlfQIHaHpVPB0Wm-lZzQg"
          ],
          [
           "youssef_kodi"
          ],
          [
           "Féministe / Militante / Formatrice égalité & lutte contre les violences - Collectif féministe contre le viol / Fondation des femmes / Collectif Place aux femmes"
          ],
          [
           "Je me laisse porter par les flots\n\n(lui/Il, je crois)"
          ],
          [
           "Le chocolat est crocaing. Cyril Lignac #Ekipafion"
          ],
          [
           "membre du directoire @CaisseEpargneMP @GroupeBPCE"
          ],
          [
           "Journaliste | Actuellement chez @Le_Progres | Dans les épisodes précédents  @LaCroix et @IjbaOfficiel"
          ],
          [
           "👩🏻‍💻 Mandy\n🚲 Dutch\n😷 Brussels\n🌍 @PvdDEuropa\n🐷🐮🐝🐱🦋🦊"
          ],
          [
           "20 yo | kayle"
          ],
          [
           null
          ],
          [
           "'Pole Dance, Ma vie en Équilibre', ed Glénat\nFreelance UI/UX designer\nAuthor of Debian 8, 9 and 11 default themes.\n📷 http://instagram.com/takajuliette"
          ],
          [
           "Responsable Communication #Marketing #Numérique #Innovations"
          ],
          [
           null
          ],
          [
           "cum amore, cum fide, cum intelligentia | #handwashing & #freedomtolove advocate | #saffron devotee | aspiring #minimalist | #economist of life | #PREVENTCANCER"
          ],
          [
           "Spécialiste Deep Learning et reconnaissance d'images.\n\nNous mettons au point des intelligences artificielles sur mesure pour les entreprises."
          ],
          [
           "Kelya Services est une #entreprise spécialisée dans le #serviceàlapersonne, le #nettoyage #industriel et l’#aide #sociale aux #personnes #âgées."
          ],
          [
           "Comédienne | #culture | #theatre | #spectaclevivant | #art |"
          ],
          [
           "DeputyDG @beuc, Consumer NGO. Consumer advocate and lawyer. Focus on consumer rights, enforcement, digital policies, AI, EU governance/Better Regulation."
          ],
          [
           "L’Association Européenne pour l’Education aux médias audiovisuels (AEEMA/EAAME) travaille à l'éducation numérique avec le Conseil de l'Europe."
          ],
          [
           "Journalist at @CNN Digital Worldwide. Ex VICE/WIRED/Hurriyet. Tips on all subjects welcome in FR, JPN, TR, SPN & PT to: emiko.jozuka@cnn.com"
          ],
          [
           null
          ],
          [
           "Architect, urban planner, citizen, partner, dad, on the ground"
          ],
          [
           "Trabajando por el cambio hacia un 🌎 más justo, sostenible y divertido🤸‍♀️💃🕺 desde @greenpeace_esp: #Bosques #Empresas #DDHH #Trade #RSC y +"
          ],
          [
           "salope on crache pas dans la soupe on la graille on la digère on en redemande 🤠"
          ],
          [
           "Decide not to use it,\nCurry, way downtown"
          ],
          [
           "Co-founder & creative director @with_barry - social creative agency. Also teaching @sciencespo & @UnivRennes_2"
          ],
          [
           "Follow me on Mastodon at @moobyfr@mamot.fr\ninode=1, pid=0"
          ],
          [
           "| Entre marketing digital, yoga, tweets inutiles | Normande expatriée dans la Yaute |"
          ],
          [
           "🇫🇷 3D Artist / Member @SoulsteamAMV"
          ],
          [
           "🐱🐼🍣🎎♥️🎸🦄"
          ],
          [
           "Le premier fabricant de programmes audiovisuels en Europe #StudiosAtlantis #DALS #Topchef #LRDS #Telefoot #50minutesinside #TopgearFrance #AOV #lmp"
          ],
          [
           null
          ],
          [
           "Rêve onirique #ACNH : 6518 7832 2589"
          ],
          [
           "19. je dessine (beaucoup) de robo aux cheveux bleus"
          ],
          [
           null
          ],
          [
           "Sauvez un prolétaire, mangez un actionnaire. Si vous êtes outrés par les grossièretés mais pas par la violence sociale, vous avez rien pigé."
          ],
          [
           "Hédoniste - WWCREW 🌐"
          ],
          [
           "MASTER2 : security information applied in fiber optic #technicien_Net_Google"
          ],
          [
           "Investor-to-state dispute settlement (ISDS) is rigged to the advantage of the US: https://blog.ffii.org/white-house-defends-isds/"
          ],
          [
           null
          ],
          [
           "Insta: cleement_lcq"
          ],
          [
           "Mage @Microsoft |  Product Leader for #Dynamics365| Bragging Rights - #UnifiedRouting #Omnichannel #D365CIF #AzureDNS #WinDNS | Artist | Poet"
          ],
          [
           "Enquêtez pour découvrir l'identité du mystérieux poilu Gueule d'ange. Un   #seriousgame des Archives départementales des Yvelines pendant la #1GM"
          ],
          [
           "Journaliste normande, là-haut sur la montagne. Madame Web du groupe @LeMessagerfr #HauteSavoie #Savoie #Ain  Bénévole @lachance_media à Grenoble"
          ],
          [
           null
          ],
          [
           null
          ],
          [
           "bio"
          ],
          [
           "Zombi España sin ventura..."
          ],
          [
           "Prof des écoles, je préfère dire « instituteur » à la Pagnol. Passionné par mon métier, l’environnement, le sport et la culture. Dur d’être choyés par des cons"
          ],
          [
           "Veille et actualité du numérique. #IUT #Université #pédagogie et ... #profdoc for ever"
          ],
          [
           "Crois le ou pas, mais c'est pas moi sur la PP. Ma mère aime bien mon humour aussi. Fais gaffe à @charlotteblaise elle peut mordre *keur*"
          ],
          [
           "Prof de #lettres La Malassise #classeinversée #ClasseMutuelle #ClasseClassique aussi #Twittconte #theatre #collaboration #storytelling @mala6_e @Malassise3c"
          ],
          [
           null
          ],
          [
           "La communication des #avocats depuis 1997 & j'aime les petites robes noires. La #médiation aussi! Praticien du #processuscollaboratif. @respectzone_org active"
          ],
          [
           "tututu"
          ],
          [
           "J'aime les chroniques judiciaires, l'humour noir et le vernis à ongles. Officie chez @mnbaq."
          ],
          [
           "Chœur Stella Maris – Direction musicale Olivier Bardot"
          ],
          [
           "Regarde les étoiles, Petit Renard."
          ],
          [
           "# → λ + Ø"
          ],
          [
           "msu de campagne pour externe et interne niveau1et2,j allais oublier le plus important père de 5 enfants de 4à17quatres gas et une fille au milieu"
          ],
          [
           "Live tweets from the careerday events @DKFZ | Questions & contributions are welcome |"
          ],
          [
           "☀ Béziers\n                                                                        📚 M2 Marketing/IMM - Grenoble IAE 🏔"
          ],
          [
           "Soy politólogo pero eso no quiere decir nada."
          ],
          [
           "Génération walkman à donf, devenue sourde mais pas muette. Il n'est pas nécessaire de goûter la merde pour savoir quel goût cela a. #FréjusOccupée"
          ],
          [
           "acab,\nblm \n\n✨she, her✨"
          ],
          [
           "Toute l'actualité des Amiibo. Des conseils pour construire sa collection d'amiibo. Et oú acheter ses Amiibo au meilleur prix?"
          ],
          [
           "(elle) i sleep in a shark’s stomach /féministe radicale"
          ],
          [
           "📹 Journaliste AFP TV au bureau régional de Lyon (Auvergne-Rhône-Alpes Bourgogne) @afpfr ex-Reportage Vidéo Paris #AFP /// Mes tweets n'engagent que moi !"
          ],
          [
           "Striving to learn some 🇺🇸EN/🇮🇹IT/🇯🇵JP / 🇩🇪 DE -- BA in Computer Eng., musician and curious about everything!"
          ],
          [
           "French nerdy tech-enthusiast, nature and music lover, learning new things everyday ! Information security Offense, Defense, and a whole lot of ranting."
          ],
          [
           "Guitariste"
          ],
          [
           "Cœur d'arti-chaud"
          ],
          [
           "Fueled by hype and spite. Low energy, zero chill. She. Retweets, rants, and the ever-blurring line between news & jokes. 🙃"
          ],
          [
           "Un mec lambda, avec des idées un peu chelou des fois ... T'aimes les crêpes ?"
          ],
          [
           "\"I thought what I'd do was, I'd pretend I was one of those deaf-mutes\""
          ],
          [
           "Computer Scientist, PhD. Bike commuter. #velotaf #Java"
          ],
          [
           null
          ],
          [
           "Je veux mourir comme j'aurais vécu, en accord avec mes convictions et dans le respect de ce que je suis physiquement et psychiquement"
          ],
          [
           "Journaliste  @i_DFrance, @brainmagazine,  @mixte_paris , @MagazineTrax, @tsugimag, @lesinrocks, \n@Noisey_FR, @laRadioNova, @revuetv \n/ Love is the message."
          ],
          [
           "Je fais le tour de ta vie je m’ennuie et je retourne à la mienne"
          ],
          [
           "Mange"
          ],
          [
           "Cdt SPP / Adj. Chef Gpt OPS @SDIS45 et chef Sce #DoctrineOps & #RETEX / membre @VISOV1 #MSGU / #gescrise #ComOps #FDF #SIC / Fan #A400MTacticalDisplay✈"
          ],
          [
           "Un laboratorio de fabricación digital en el que podrás construir (casi) cualquier cosa al alcance de tu imaginación.\n\n http://facebook.com/FabLabLeon"
          ],
          [
           "Documentaliste audiovisuelle / France 3 Occitanie / France Télévision"
          ],
          [
           "Ingenieur Conseil Culture et Environnement en Arboriculture et Maraîchage sur la zone sud-est de la France. Mes tweets n'engagent que moi."
          ],
          [
           "Interne d'AR"
          ],
          [
           "Job @Orange_France 🟧 / 🎸@Springsteen/ ⛷ @LesArcs /🏔@PilatmonParc / ⚾️ @baseballducks & @Yankees fan /#Cinema 🎬 /"
          ],
          [
           "Élue #Angers & #AngersAgglo\nDr. Aménagement et Urbanisme \nChercheure-consultante indépendante \n#Transition #Résilience #Réversibilité #Climat"
          ],
          [
           null
          ],
          [
           "pourvu qu'il pleuve"
          ],
          [
           null
          ],
          [
           "22 yo - 🇫🇷"
          ],
          [
           "enseignante cm1-cm2"
          ],
          [
           "Flâneuse"
          ],
          [
           null
          ],
          [
           null
          ],
          [
           "Explorateuse."
          ],
          [
           "Avocat, droit du numérique, protection des données personnelles (Digital and privacy Lawyer)"
          ],
          [
           "Dancer/Choreographer  Choréautrice"
          ],
          [
           "déteste le populisme et les raccourcis"
          ],
          [
           "#Innovation #Change #Mixity #Imagination for a better world. @SNCF_Digital Like photographie Views are my own"
          ],
          [
           "Buscando caminos hacia la justicia socioecológica, desde la academia, las calles y el campo en @CatAgroeco @FRACTAL_col @ecologistas @tramallol @InspiraTerrito1"
          ],
          [
           null
          ],
          [
           null
          ],
          [
           null
          ],
          [
           "All Ontario students should attend safe, well-maintained public schools that are funded as a critical part of our society's infrastructure."
          ],
          [
           null
          ],
          [
           "ai-je bien rêvé ?"
          ],
          [
           null
          ],
          [
           "Don't make me an optimist, you will ruin my life"
          ],
          [
           null
          ],
          [
           "Compte officiel de la section PS d'Asnières-sur-Seine.\nSecrétaire de section : @romainjehanin / \nContact : psasnieres@gmail.com"
          ],
          [
           "Ton regard de braise me rend merguez"
          ],
          [
           "𝐸́𝑡𝑢𝑑𝑖𝑎𝑛𝑡𝑒 𝑒𝑛 𝑑𝑟𝑜𝑖𝑡"
          ],
          [
           null
          ],
          [
           "Co-Fondateur et Web Spécialiste chez @LesCanetonsDuWeb"
          ],
          [
           null
          ],
          [
           null
          ],
          [
           "Streamer débutant, auto proclamé roi des Scratchs, Génie inventeurs des scotches et dieu vivant créateur des trucs qui collent !!\n\nOTPekko since release shitelo"
          ],
          [
           "Taking care of veggies, animals and food safety. Data are my fuel. Cinephile. ✈ 🇦🇺."
          ],
          [
           "Phd Student in Management / Université de Lorraine - Laboratoire CEREFIGE - GRH et Management public | motivation au travail, motivation de service public"
          ],
          [
           "Podcaster, broadcaster, Chief TWiT on the TWiT Netcast Network and The Tech Guy on the Premiere"
          ],
          [
           "📍Paris / Aix 🇨🇷 Pura Vida mind 🇨🇷"
          ],
          [
           "organisme de #formation, objectif : la #compétence au service  de la #performance dans une ambiance conviviale 🙂"
          ],
          [
           "Sbire niveau 3.   -20 en prise de décision.  +45 en fuite.\n+15 En récolte et lavage de légumes.\nInvocation fermière lvl 1 : Permet d'invoquer une poule par jour"
          ],
          [
           "Si j'traine en bas de chez toi j'fais chuter le prix de l'immobilier"
          ],
          [
           "An in-depth look at events and topics shaping #France. Every Friday at 5.45pm Paris time on @FRANCE24 with Nadia Charbit"
          ],
          [
           "M.M. Toujours les Mêmes 💚💛5A.❤💙\n🇫🇷🇲🇩"
          ],
          [
           "E❤\nMon but dans la vie ? mourir jeune le plus tard possible"
          ],
          [
           "Princesse le jour, hackeuse la nuit."
          ],
          [
           "El objetivo de la Delegación del @CSIC en la Comunidad Valenciana es acercar a la sociedad la #ciencia que producen nuestros once centros de investigación."
          ],
          [
           "I'm using this account to follow ONLY vegans, vegetarians, animal rights activists, and environmentalists"
          ],
          [
           null
          ],
          [
           "http://Jetsetliferadio.fr"
          ],
          [
           "Investigator @Earthsight"
          ],
          [
           "Tournament/Event Organizer - @Ubisoft EMEA esports project/broadcast manager for Rainbow Six Siege #R6EUL #R6APACL"
          ],
          [
           "Ok"
          ],
          [
           null
          ],
          [
           "Centres d'intérêts : #Pédagogie #ClasseInversée #Coopération #ClimatScolaire #SociétéApprenante #BienCommun #EDD #Education #RéalitéVirtuelle #EcoleInclusive"
          ],
          [
           "Cyber troubadour"
          ],
          [
           "Passionné de technologie - "
          ],
          [
           "Génération & Monétisation de trafic web.\nRéférenceur netlinkeur pro 📈 #SEO.\nCréateur de sites rentiers.\nCryptonaute, Générateur de #crypto 🚀  #DeFi"
          ],
          [
           "Site spécialisé de produits #Bio & #Naturels #CosmétiqueBio #Huile  #Hydrolat #Henné #Superaliments ... Découvrez la  #beauté et le bien-être au naturel 🌴 🌞 🌵"
          ],
          [
           null
          ],
          [
           null
          ],
          [
           "X.X.LXVI"
          ],
          [
           null
          ],
          [
           null
          ],
          [
           null
          ],
          [
           "aaaaaa"
          ],
          [
           "MED 3 ☤"
          ],
          [
           "#Santé #SantéPrécarité #Environnement #SportSanté #PromotionSanté #Prévention #SantéTerritoire"
          ],
          [
           "#positivechange #ProjectMgt #Transformation #BenefitsMaximisation #TransformAgility #digital #CollectiveIntelligence #multipotentiels#accompagnement #formation"
          ],
          [
           "JF, IT, banlieusarde, entrepreunariat.. Le penser et se taire? non le Tweeter."
          ],
          [
           "Grosse féministe à chats, sérivore et make-up addict."
          ],
          [
           "❦"
          ],
          [
           "Llce anglais lille 3, la flemme est en moi"
          ],
          [
           "Coeur blanc comme la neige d'hiver MEMBRE DE LA #KÔRÔYAGANG 💪, ⚽ FOLLOW_SON_NOUS_VIVANT"
          ],
          [
           "Directrice Associée\n#ConseilRH #Accompagnementdeproximité #DroitSocial #RelationsSociales #Accordscollectifs #Formation #EntretiensProfessionnels #BienEtre"
          ],
          [
           null
          ],
          [
           "Astrophysicist at AIM; CNRS, CEA, Paris-Saclay University"
          ],
          [
           "mistake to be beautyfull, i’ve got a beauty Dumb face, i don’t care i just love, wolf furry, 20 BOÏ, NSFW , 🇫🇷 Gardez vous de l'homme secret et du chien muet."
          ],
          [
           null
          ],
          [
           "https://www.snapchat.com/add/la_pourriture\n\n\nRejoins la folie et les bonnes ondes du net 😉"
          ],
          [
           "Bien plus qu’une Eau Minérale... #abatilles #abatilleswater #arcachon #buvonsbienbuvonslocal #moneaumaregion #grandcrudeleau"
          ],
          [
           "Family firms’ CEO, board member and Friday Group. Opinions are my own"
          ],
          [
           null
          ],
          [
           "Don’t get confused between my personality & my attitude. My personality is who i am, my attitude depends on who you are."
          ],
          [
           "OLYMPIQUE DE MARSEILLE ! #AJamaisLesPremiers #TeamOM ❤️"
          ],
          [
           "« Le plus petit des félins est une œuvre d’art » Léonard de Vinci\n#Felinpower #GrandAmiens #MaineCoon #Antifake  #28min #Teammariniére #TeamSNCF #Culture"
          ],
          [
           "A #marketing guy and a #videomaking one for #magic and poker on the internet"
          ],
          [
           "Independent consultant/entrepreneur in Information & Communications Τechnologies & Research infrastructures; Amateur meteorologist/football player/skier/father!"
          ],
          [
           "Head of Analysis @Ecuity_UK Consulting. Energy policy tweets. Views my own"
          ],
          [
           null
          ],
          [
           "She wanna meet carti... #celtics"
          ],
          [
           "Fan de LE TRAIN.\nBB67500 stan account.\nPP de la super talentueuse @ZazieZanie\nJe déteste Kirby.\nIl /lui"
          ],
          [
           "🇦🇲\nerwan_cnr"
          ],
          [
           null
          ],
          [
           "Zambian by birth, Scottish by parentage, Norwich by choice. Recovering journalist. Fuelled by caffeine and cortisol. Views = mine. Chart PR. @thequadram He/him."
          ],
          [
           "French freelance journalist on high-tech, healthcare, wellness and innovation issues"
          ],
          [
           "which not kill me makes me stronger - \nShow must go on"
          ],
          [
           "Astronomer. Postdoc @Stockholm_Uni. Past: Ph.D. @ObsStrasbourg. Dark matter, stellar streams, Milky Way dynamics and formation, Local Group :)"
          ],
          [
           "Le Jawa sympathique"
          ],
          [
           "20th World Congress of the International Federation of Automatic Control, July 9-14, 2017"
          ],
          [
           "•237•"
          ],
          [
           "mira mira oh toi mira qui vole parmi les nuages"
          ],
          [
           "I love Sundays, running, conversations with my friends, my kitchen, marketing experiences, flying, really great cocktails & sponge cakes! 🤓👩🏻‍💻🦄💫"
          ],
          [
           "Parasitology is a peer-reviewed journal published by Cambridge University Press. Impact Factor 2.783; 10th ranked journal in Parasitology."
          ],
          [
           "Motion designer from Belgium with Dagestani blood and turkish culture // Right now living and working in South Korea. 안녕하세요!\nhttps://cemilacikgoz.artstation.com"
          ],
          [
           "Vincent Mercier T4 - roc giffois - actuellement (entièrement) occupé par la PACES - Vincenculey à mi-temps"
          ],
          [
           "Do @livrept. Utopista nas horas vagas. Republicano e ecologista. Engenheiro com formação em filosofia. 🚲Gosto de escrever BDs."
          ],
          [
           "HONYAKU SERVICES is a translation agency based in Bangalore, India that specialized only in Japanese scientific and technical document translation."
          ],
          [
           "Designer / Formatrice Freelance #Design #Communication #Print #Edition #Web #Digital #Strategie #Formation @bruyeredesign"
          ],
          [
           null
          ],
          [
           null
          ],
          [
           "Malchanceux optimiste"
          ],
          [
           "Digital Marketing Strategist ✨ Grew up in France, now exploring the world 🌍"
          ],
          [
           null
          ],
          [
           null
          ],
          [
           null
          ],
          [
           "'Pas de chance'\n\nhttps://youtu.be/ZagDLC9ZQT4"
          ],
          [
           "PhD student in #nanophotonics at @Univ_BFC @FemtoSt #Besançon also storm chaser and paraglider in my free time"
          ],
          [
           "Formateur de formateurs.Certifié formateur à l'Entretien d'Explicitation#Accompagnement#ingénierie#Emploi #Formation#réseauxsociaux"
          ],
          [
           "Expert-Comptable Entrepreneur @CikleaConseil @biznessens- Past-President National @anecsnational membre de @ForceExperts"
          ],
          [
           "Youtubeur & Streameur affilé Twitch. Buildeur Minecraft. Créateur d'histoires rôleplay. @Diff_Aventures #Born2mine #Sandbox #Shahala http://twitch.tv/makyu___"
          ],
          [
           "Tshirts x Sweats x Tote bags.  Découvrez l'e-shop spécialisé dans les marques de T-shirts et accessoires cools, tendances et originaux #tshirtcorner"
          ],
          [
           "#couvreur #zingueur #toiture #couverture  ARTISAN91 Entreprise de toiture couverture"
          ],
          [
           "News | Arab World | in french"
          ],
          [
           "Étudiant en L2 Maths UGE\nInsta: @thedox77"
          ],
          [
           "Lecturer in the University of Prishtina/Kosova\n\nJournalist\n\nhttp://www.drengerguri.com"
          ],
          [
           "Accélérateur de médias innovants de @streetpress - Candidatez pour la session 2018 : http://urlz.fr/6znM - #tech #medias #incubateur @essecventures"
          ],
          [
           "Honest reviews :\n⭐⭐'' You suck at crypto invest, at least you tried'' - BTC wallet\n\n⭐ '' Who?!'' - Family\n\n⭐⭐⭐⭐⭐'' You are beautiful'' - James Blunt"
          ],
          [
           "Chargée de projet bioagresseurs et monitoring @ITBetterave (Institut Technique de la Betterave)"
          ],
          [
           "Analytics expert\n#Oracle #Analytics #BI #BigData\n\n*Opinions are my own*"
          ],
          [
           "des mots et des livres avec le @Fablelab"
          ],
          [
           "Youtubeur depuis peu de temps"
          ],
          [
           null
          ],
          [
           "conseiller municipal les républicains de venissieux"
          ],
          [
           "#EU Affairs & public opinion. Puzzling out the European Demos. Enseignant @Sciencespo & @EspolLille"
          ],
          [
           "Cuisine-moi, ce sont des recettes de cuisine expliquées par un chef sans chichis ni manières, bavardages et digressions inclus.\nRegarder c'est déjà cuisiner !"
          ],
          [
           "Ex Étudiant M2 Contrôle de Gestion - Aide à la Décision @IAE_G_Eiffel | Ex VP Filière IAE @federationares | Ex Président @FACreteil | Ex Elu @UPECactus"
          ],
          [
           "se xéloper (verbe) : se sentir sans charme, sans saveur et sans conversation"
          ],
          [
           null
          ],
          [
           "Hokage of aim @XamaxEsports | 20yo 🇨🇭\n\n\nhttp://twitch.tv/vari_le_gris"
          ],
          [
           null
          ],
          [
           "P-Zombie."
          ],
          [
           "👩🏻 28 ans | 📱🐴 #CM @pae_agence & #Journaliste Planète Cheval | 🏅#Marathon x2 | 🎞️ #Cinéphile | ⚽ #Meufdefoot | 🌿 #SeineEtMarne"
          ],
          [
           "Dog lover, software engineer, citizen (he/him).\n@spoogeek and @codeandscale fan"
          ],
          [
           "President of @MedGlobalOrg. Syrian American doctor. Gandhi Award Peace 2020. Chicagoan of the year 2016, Critical Care. Advocate for Refugees & humanitarianism"
          ],
          [
           "Préparationnaire."
          ],
          [
           "Citoyen critique & satirique."
          ],
          [
           "sook"
          ],
          [
           "20🎉 | Etudiant en Graphisme [Brassart Nantes]"
          ],
          [
           "Take nothing but pictures. Leave nothing but footprints. Kill nothing but time."
          ],
          [
           "🚴‍♂️🇬🇵"
          ],
          [
           "Delegat Occitan dau Comtat de Swagg.\n🎗🏴"
          ],
          [
           "photographe 📸 @interieur_gouv 🇫🇷"
          ],
          [
           "🇨🇵🇪🇺"
          ],
          [
           "Passionné de musique , photo, rando"
          ],
          [
           null
          ],
          [
           "🏴‍☠️ Ligth Yagami 📓 ﷺ"
          ],
          [
           "Fondateur de @fantastiquewar joueur de arma 3 et Pêcheur a ses heure perdu mais aussi Streamer https://www.twitch.tv/nanard72"
          ],
          [
           "places"
          ],
          [
           "Streamer qui stream et qui tease tous les deux mois son retour"
          ],
          [
           null
          ],
          [
           null
          ],
          [
           null
          ],
          [
           "ଘ(๑˃̵ᴗ˂̵)━☆ﾟ.*･｡ﾟ"
          ],
          [
           "Ombre blanche bientôt disponible !"
          ],
          [
           null
          ],
          [
           null
          ],
          [
           "Pour une suisse libre !"
          ],
          [
           "Dresseur de putes"
          ],
          [
           "Nerd"
          ],
          [
           "Keen on #arts, #technologies, natural and social #sciences, and #philosophy. Fan d'art, de technologie, de sciences naturelles et humaines et de philosophie."
          ],
          [
           "Créative web' & photo | En pré-prod.\nBe kind. 💜 | She/Elle 🌈🍒  | Baroudeuse 🧼 http://www.baroudeetrecettes.fr | PP by @makowwka"
          ],
          [
           null
          ],
          [
           "RYE"
          ],
          [
           null
          ],
          [
           "Bobo écolo-islamo-gauchiasse bien-pensant. Pur produit de la génération des baladeurs K7 et des VHS.  (il/he)"
          ],
          [
           "Adjoint du Département de l'expertise et des partenariats de l'IHEEF"
          ],
          [
           "Management Consulting firm in #Banking & #Financial Services,we focus on #Europe,EM & #Africa. Cabinet de conseil spécialiste du secteur financier.We're hiring!"
          ],
          [
           "Keep your medications at a safe temperature at home and on the go. Smart sensor + App for insulin, biologics, and hormones."
          ],
          [
           "Trader (petit) sur http://Binck.fr / Expert-comptable / Membre des Shifters / Escalade  / Fan de musique métal"
          ],
          [
           "Con troll tech nique"
          ],
          [
           "Si tu viens pour avoir des infos croustillantes sur ma vie de prof, tu vas être déçu.e\n\npkmn go 2872 6548 9276 \nfriend code  SW-7143-3049-2817"
          ],
          [
           "Des produits électroménager durables, bons pour la planète ! 🌳🌍 Découvrez en EXCLU notre indice de #durabilité 🎯 #Greentech #RSE #ESS #consommationdurable"
          ],
          [
           null
          ],
          [
           "#paris #aubervilliers #startup @icade @emgp @bspp @plainecommune #Icade #DirectIDF"
          ],
          [
           "Collaborative Urbanism + Architecture Process and Digital Tools"
          ],
          [
           "GM de l'organisation Unlimited sur Star Citizen. Je code, j'écris, je stream, je joue, et je fais des vidéos ^^"
          ],
          [
           "Motard 🏍 et entrepreneur"
          ],
          [
           "gratia,ae,f"
          ],
          [
           "Gageur en CDI, Utopiste en CDD, Fêtard au chômage."
          ],
          [
           "WebMarketer; NeoGeek, SerialDreamer; Sarcasm-Fan, Nailpolish-lover ...etc etc etc !"
          ],
          [
           "#Oilseed Analyst:#rapeseed #canola #osr #sunflower #soybean #biodiesel #oil #meal + funny markets as #pea #durum. truth seeker  OPINION HERE IS MY OWN"
          ],
          [
           "From Nantes & Paris"
          ],
          [
           "Social Media Manager at @France24_en, Journalist, Master in International Security, Middle East and Intelligence @SciencesPo. Views are my own."
          ],
          [
           null
          ],
          [
           "Végane, élevée au grain et à l'autodérision. Tweet le quotidien, RT des memes et des jolies images."
          ],
          [
           "🦦 Loutre et Vegan -  Trottinettes électro-responsables - INTP - esports - Idiot utile d'un antispecisme rampant financé par les GAFA - Il / He"
          ],
          [
           null
          ],
          [
           null
          ],
          [
           null
          ],
          [
           "#Éditeur de #Logiciels, \nPartenaire de #confiance pour la gestion des #donnéessensibles .\nLeader européen des solutions Cloud 100% sécurisées"
          ],
          [
           "Motivate and develop people at work and at home through training, management, coaching and personal development"
          ],
          [
           "ancien directeur adjoint de la rédaction de Libération, ancien rédacteur en chef de http://JusticeInfo.net, membre du Conseil du FIFDH  (Genève), collaborateur Akadem"
          ],
          [
           "YOP :)"
          ],
          [
           "Born in Ermont"
          ],
          [
           "Journaliste spécialisé TV, numérique, câble, satellite... Incorrigible ferroviphile. España. Polska. Et bla-bla sur bien d'autres sujets."
          ],
          [
           "Archiviste des temps modernes #archives #culture @loireatlantique #nantes #trompette #Vendée"
          ],
          [
           "Making your nights worth sleeping at @clever_cloud.\n\nMaking your youth worth living at @sgdf"
          ],
          [
           "\"La musique est la langue des émotions\". E. Kant"
          ],
          [
           null
          ],
          [
           null
          ],
          [
           "Favorite, Likes, Retweets & Following Don't = Endorsement"
          ],
          [
           "IT & Disney enthusiast - Co-Founder of @octopulseapp"
          ],
          [
           "🎮📸👨🏻‍💻📰 🎢 🌍"
          ],
          [
           "morri mas esqueci de deitar"
          ],
          [
           null
          ],
          [
           "Le monde du digital révolutionne le besoin de l'usage et non de la propriété !\nLes entreprises ont besoin de fléxibilité et de rentabilité."
          ],
          [
           "@EU_Commission VP for Interinstitutional Relations & Foresight. Coordinating the #EUBatteryAlliance. Co-chair of 🇪🇺🇬🇧 Joint Committee & Partnership Council."
          ],
          [
           "🇨🇩 & ChelseaFC ❤️"
          ],
          [
           null
          ],
          [
           "Winter is coming."
          ],
          [
           "appelez moi comme vous voulez"
          ],
          [
           "it’s always darkest before the dawn"
          ],
          [
           null
          ],
          [
           "Artiste/ UBUNTU 🙏🏾Tout est politique les amis. Mes tweets n’engagent que moi!( parce que ça peut engager quelqu’un d’autre parfois apparemment...)"
          ],
          [
           null
          ],
          [
           "👨‍🎓"
          ],
          [
           "Digital...SocialMedia...Journalist...Coach.....work @tagesanzeiger\nsnap: schube_13  insta: schube_13"
          ],
          [
           "Artiste & Auteur-Entrepreneur / Fondatrice @EditionsAnimees"
          ],
          [
           "Journaliste formée @ihecs - (photo)journaliste @BelgaNewsAgency \nWeb @lalibrebe Eco @lalibreEco\nCo-director of report @lordelarevo st.@ImagineDLM"
          ],
          [
           "🚀 Digital Product Designer @nurolecom, volunteer @ignite_hubs. Ex @irisworldwide @exo_skills. Alumni @Bellecour_EA. #UX #Design #ProductDesign #SocialDesign 👋"
          ],
          [
           "Pankki- ja rahoituslainsäädännön erityisasiantuntija valtiovarainministeriössä @VMuutiset."
          ],
          [
           "Passionné de cinéma - Réalisateur - Monteur"
          ],
          [
           "Professeur de Physique-chimie au lycée Antonin Artaud."
          ],
          [
           "In Brussels. Learning, reading & talking about #privacy, #politics, #indieweb, #media, #society and lots of other stuff."
          ],
          [
           "Feministe intersectionnelle decoloniale (radicale). j'fais des trucs askip.     She/her"
          ],
          [
           "Art, Design & Culture strategic communications advisory @brunswickarts | London & Amsterdam - views are my own"
          ],
          [
           null
          ],
          [
           "Reporter für Desinformation & Neue Rechte @correctiv_org @correctiv_fakt | #KeinFilterFürRechts • Hinweise: till.eckert@correctiv.org"
          ],
          [
           "Professor, media education"
          ],
          [
           "🎮🥁préparateur en pharmacie. #mortierpilon #geekjusquauboutdesdoigts #batteur #doubledash #rockandmetal chaîne Twitch: https://m.twitch.tv/kezos07/"
          ],
          [
           "No Pasaran"
          ],
          [
           "The fastest news gathering tool for publishers and journalists. We help media around the world save time, grow traffic and increase engagement."
          ],
          [
           "#Tunis-based freelance journo, writer, eyes & ears on #MENA, lifelong learner, lost idealist"
          ],
          [
           "Scottish, European, writer, university teacher. Arts, environment, communities, science. Climate matters. Opposed to UGE & fracking. RT not endorsement."
          ],
          [
           "Je cherche, je cherche et toujours je trouve et je cherche encore ...."
          ],
          [
           "Working at Roche. Personal account .My company is in no way bound by my tweets."
          ],
          [
           "Militant écologiste qui souhaite une nouvelle gauche plurielle."
          ],
          [
           "Sorbonne Paris lV, #Digital com, #Community manager# journaliste web"
          ],
          [
           null
          ],
          [
           null
          ],
          [
           null
          ],
          [
           "I write software that works / \"If it ain't fun, it probably ain't right\" / Software Engineer @pivotal / Tweets & opinions my own"
          ],
          [
           "Your paper sucks"
          ],
          [
           "New Indie Dev, ex-Cinema industry  // not a weeb btw"
          ],
          [
           "Agronegócio Internacional e Geopolítica. Um pouco de música (antigamente chamada rock).\nAqui só fala de política quando relacionada aos temas acima!"
          ],
          [
           null
          ],
          [
           "Freier Autor. Fokus: Fairer Handel, öffentliche Dienstleistungen und nachhaltige Entwicklung"
          ],
          [
           "🚀 freelance developer 🙊👨‍🎨"
          ],
          [
           "Boek 'De Gemaakte Planeet, leven in het Antropoceen' is nu te koop!\nFavs are bookmarks"
          ],
          [
           "Rouen/Strasbourg. 31 y.o Entrepreneur dans le btp, amoureux de l'Alsace et de LH . #tesla #model3"
          ],
          [
           "Reporter based on earth • founder of @infosreportages magazine • jonathan@infos-reportages.com"
          ],
          [
           null
          ],
          [
           "La performance énergétique au service de votre compétitivité. Efficacité énergétique et mobilité"
          ],
          [
           null
          ],
          [
           "Journaliste @afp Tokyo @afpfr, ex @20minutes"
          ],
          [
           "Welcome To The Official Twitter Page Of His Holiness\nPope Lucifer"
          ],
          [
           "Découvrir sur l'actualité web des Sourds, de la culture sourde, langue des signes, et des nouvelles technologies 🖥 http://www.supersignes.com"
          ],
          [
           "Estudiante de periodismo y freelancer. Escritor."
          ],
          [
           "communication BtoB et Corporate #eMarketing • #eBusiness • #IT #HighTech • #Télécoms • #RH • #Applis • #CM • #RS #influenceurs #relationspresse"
          ],
          [
           "Associate Director in EU Environmental/Chemical Policy & Economics at @woodPlc, Greek/French in London/Brussels,  @SolvayAlumni & @collegeofeurope alumna"
          ],
          [
           "#Jesaispasquoimettre\n\nPS: @GarminFR jpeux avoir mes 2 mois strava gratos ? stp"
          ],
          [
           "La Guerre a commencé...EXPECT US"
          ],
          [
           "#coureur #alsace #trail #bercelyne #"
          ],
          [
           "games, linux, meme, movie, music, science, serie, web"
          ],
          [
           null
          ],
          [
           "millions d’étoiles dans le ciel et je me demande c’est quoi la tienne"
          ],
          [
           "Viajero inquieto, ferroviario de profesión, como hobby modelista ferroviario, fabber y maker en potencia."
          ],
          [
           null
          ],
          [
           null
          ],
          [
           "By Endurence we Conquer. -Shackleton"
          ],
          [
           "La voix dans ma tête a une voix dans sa tête"
          ],
          [
           null
          ],
          [
           "Toulousaine, un peu de rugby, un peu de fashion, un peu de RH, beaucoup de coup de cœur/ coup de gueule, le tout parsemé de paillettes !"
          ],
          [
           "Je fais des montages pas très charlie. Motif d'unfollow et mange le respect. #TeamBoom #TeamCaméo #TeamPhotoshoppeusesDeQuentyn"
          ],
          [
           "Insti | bryanlucd   sorbonne : droit scp"
          ],
          [
           "Amsterdam / Ajax / IT manager / dad / geek / freak / Drum & Bass / Goa trance / sometimes mildly amusing"
          ],
          [
           null
          ],
          [
           "Développeur @reactjs ⚛️ à @easymovrobotics 🤖.\nAime les licornes 🦄 et le café ☕.\n#amigurumi maker 🧸.\nCommitto ergo sum."
          ],
          [
           "Chappuis Halder & Co. | Coqonut | #FinTech #InsurTech #Blockchain #cryptocurrency"
          ],
          [
           "et allez ça rechiale"
          ],
          [
           "Urbanita de nacimiento, defensor del medio rural de elección 🌿🐾🐺🐮. No es patria el suelo que se pisa, sino el suelo que se labra (A. Machado)"
          ],
          [
           "Seul #théâtreNational en région, le #TNS possède des salles de spectacle, une École d'art dramatique, des ateliers de décor et de costumes. Suivez-nous!"
          ],
          [
           "Journalist at AeroTime @AviationNews"
          ],
          [
           "Journaliste au Parisien dans l'édition des Yvelines"
          ],
          [
           "soy como el chile verde picante, pero sabroso.🌈"
          ],
          [
           null
          ],
          [
           "Si tu l'fais pas, moi, je l'fais, si tu l'sais pas, moi, je l'sais, comme si j'étais sorti d'HEC"
          ],
          [
           "Young activist and blogger in the liberty movement. Other interests: business and tech\n\nBComm 09 grad @jmsbconcordia + e-mngt/e-commerce grad at @ESG_UQAM"
          ],
          [
           "Ingénieur en Génie Civil.dormeur talentueux. 🇹🇬🇬🇭 i Don't really care about your life don't need you to care about mine."
          ],
          [
           "Directrice adjointe qui croit au dépassement de soi, au travail de collaboration, au changement et au bien-être."
          ],
          [
           "Adjoint au Maire @st_genis_laval en charge du #numérique et de l’Égalité Femmes / Hommes #égalitéFH #JamaisSansElles | Développeur iOS @bilenditech #télétravail"
          ],
          [
           "Photographer."
          ],
          [
           "Professeur documentaliste"
          ],
          [
           "Bringing together brain research and psychiatry"
          ],
          [
           "Architecte & docteure en géographie.\nPrévention des risques majeurs, construction en zone à risque et illustration scientifique.\nATER à l'IUGA @UGrenobleAlpes"
          ],
          [
           "Avocat 🥑"
          ],
          [
           "Txotx mon pote"
          ],
          [
           "Curating + creating the best resources for self-directed neurological optimization.  Help us create a better future for all."
          ],
          [
           null
          ],
          [
           "Cadreur/Monteur | Adore le cinéma et l'animation japonaise | Photographe à mes heures perdues"
          ],
          [
           "Robot milking cows in sunny Scotland, sheep running about too & new to the world of pumpkin patching, #OFC2021 Chair"
          ],
          [
           "📚📹🎧🎨🚲"
          ],
          [
           "Juriste spécialisé en droit de la Commande Publique ⚖️ - #SalondeProvence / #Marseille - #SocialDémocratie - @TerresdeProgres #TdP 🌳"
          ],
          [
           null
          ],
          [
           "the best or nothing."
          ],
          [
           null
          ],
          [
           ".architect"
          ],
          [
           "Global HR & Transformation  @orange // ex Comms @orange, @MirumSE & @Loreal // Prof @ECSParis"
          ],
          [
           "Portal nuclear.pl - więcej niż energetyka jądrowa"
          ],
          [
           "La web-série sur le rock indé par @_messak_"
          ],
          [
           "Veilleur de jour...\n#Communication #Energie #Japon #Musique"
          ],
          [
           null
          ],
          [
           null
          ],
          [
           "Rédacteur scientifique"
          ],
          [
           "This is the outlet I use in the mistaken belief I have some control and influence in the world."
          ],
          [
           null
          ],
          [
           "Découvrez les cultures de tous les pays"
          ],
          [
           "A New Space company with solutions covering the entire lifecycle of a space mission"
          ],
          [
           "Tête de liste @Lunel_Rassemble • Conseillère municipale #Lunel • Conseillère communautaire #CCPL • Conseillère régionale #LRMP #Occitanie"
          ],
          [
           "#TeamOM 782 #BlueArmy"
          ],
          [
           "Mediapolis : colloque sur les nouveaux médias, 12-13 avril 2012, Palais de la découverte (entrée libre)"
          ],
          [
           "Commission numérique du PCF - http://numerique.pcf.fr - organisateur des http://www.egrn.fr du 12/02/16 au 19/03/16"
          ],
          [
           "#goodvibes #teambarça #oenotouriste #vinrouge #teamOM #peuplemarseillais #pessacais #politique #citoyen #faireensemble"
          ],
          [
           "Senior Research Fellow @WRRDenktank | Evolution of Cooperation | Policy Advice | http://gijsbertwerner.com"
          ],
          [
           "23 ans/ingénieur / Sosie officiel de Sam Darnold /Seahawks / OM /\nÉcrit et Tweet pour @SeahawksFrance et @FrenchFStats"
          ],
          [
           "•Comprendre c'est se sentir capable de le faire"
          ],
          [
           "French Streamer / Developper / Mental Illness master"
          ],
          [
           "Docteur en Muséologie • Directeur du @ChateauBoutheon et de @AventureduTrain •  #Nature #Science #Patrimoine #TeamPat • #Forez #Loire • Natif des #Ardennes"
          ],
          [
           "• IT engineer • (former) Semi-competitive gamer  • Security and Linux enthusiast  • And now, Internet, please amaze me"
          ],
          [
           "Je recherche un vol spatial pour Anarres."
          ],
          [
           "667/LZ FCGB S/o Andreï Markov XTRM Ekip a vie comme Jaroslav Plasil"
          ],
          [
           "Prof des écoles /teacher , politisée/On the left ^^, geek et curieuse ;)  bots hunter on #Potus account \n#Resit everywhere #TrumpIsATreathOnEarth 🌊🌍🆘🖍"
          ],
          [
           "Author and freelance writer. Author of the book Bryssel myyty (2016)"
          ],
          [
           null
          ],
          [
           "sustainable finance- climate emergency - all views are my own ! @sciencespo @UninaIT @ColumbiaSIPA"
          ],
          [
           "Les Secrets de l'Humanité"
          ],
          [
           "Mala para el metate, buena para el petate."
          ],
          [
           null
          ],
          [
           "Label indépendant né en 2012. Vinyls, shoegaze, post-punk et tout le reste."
          ],
          [
           "Food Sovereignty ! Souveraineté Alimentaire ! Soberania Alimentaria!"
          ],
          [
           "socialement vôtre/bénévole Croix Rouge Paris 04/bénévole adjointe à la Direction Territoriale de l'Action Sociale de Paris/etc"
          ],
          [
           "emojis favoris: 😭💖😊✨™️😤😌💗✴️"
          ],
          [
           "Monteur Amateur - Agriculteur Pro."
          ],
          [
           "http://www.instagram.com/titoux666/ pour mon boulot."
          ],
          [
           "🙇"
          ],
          [
           "ENAK RESCUE TEAM is the first and the biggest Lifesavers Volunteers Rescue Team in Greece. Our Lifeguards are from ENAK, recognized by the Hellenic Coast Guard."
          ],
          [
           "Geek et Techno Addict (^_^)!"
          ],
          [
           "Directeur Adjoint Relation Client\n #relationclient  @OrangebankFR #experienceclient #banquedigitale #AgoraDirRC #Smartphonehour"
          ],
          [
           "Humaine non conforme"
          ],
          [
           "Amoureux des mots, antistrophiste, avocat, époux, hockeyeur, homme au foyer, juriste, lecteur, père, professeur de gestion, économie et droit, squasheur"
          ],
          [
           "my life is potatoes"
          ],
          [
           "📺 Canal+ / 🎞 🏰✈️ 📚"
          ],
          [
           null
          ],
          [
           null
          ],
          [
           "🏃‍♂️"
          ],
          [
           null
          ],
          [
           "Data enthusiast | Engineering Manager @datadoghq | Former student @CentraleParis & @ESSEC"
          ],
          [
           "j’suis pas drôle mais on fait avec 💁🏽‍♀️"
          ],
          [
           "Joueur pisslow elo pour @LokusEsport\nEn CDI à ses heures perdues"
          ],
          [
           "SMV Conseil RH - Recruter Developper les talents - Accompagner les départs #Recrutement #RH #QVT #RSE #digitalRH #MarqueEmployeur #diversite #Nantes #i4emploi"
          ],
          [
           "Connaissances et Savoirs offre la possibilité aux universitaires de publier gratuitement leurs projets d’étude et leurs recherches : thèses, mémoires…"
          ],
          [
           "Journaliste @beinsports_FR ■ Présentateur Ligue 1 Show ■ Instagram : bilalbouazzouni5"
          ],
          [
           "J’avais oublié que j’avais deux fois 18 ans comme disait la chanson!🏳️‍🌈😁 Je ne détiens pas mieux la vérité que vous, mais moi je le sais! @rose_triangle"
          ],
          [
           "Pour vivre heureux, vivons cachés...Et ensemble ‼️NO DM ‼️ NO LIST PLEASE"
          ],
          [
           "MC Calmage d'ambiance since 1993. Cléopâtre de la biture. Saltimbanque à temps partiel. Douce comme du satin et drôle comme un lutin\n#SessionPyjama"
          ],
          [
           null
          ],
          [
           null
          ],
          [
           null
          ],
          [
           "la passion et les rêves sont comme le temps, rien ne peut les arrêter // occitanie, ça sonne comme californie"
          ],
          [
           "K2"
          ],
          [
           "je suis ce que je suis! ✌ Mon opinion ne concerne que moi! Je suis libre de penser, de faire ce que je veux, je ne dois rien à personne à part mes parents! 🙏"
          ],
          [
           "Nique ta mère sale fils de pute. J’espère ton chibre il tombe        https://youtu.be/NZDS6-OI-7E"
          ],
          [
           "🐛 Incorrigible channel-hopper. Always Question Everything"
          ],
          [
           "La Filoche est un espace culturel géré par la communauté de communes #MoselleEtMadon en #Lorraine (#culture, #médiathèque, #ludothèque, #multimédia)"
          ],
          [
           "nsm  les gitans"
          ],
          [
           "🗣🗣"
          ],
          [
           "الأخــــــــــــلاق تخصص لن تجده يدرّس في جامعات الدنيا ! قد يحمله عامل النظافة ! ويرسب فيه الدكتور !"
          ],
          [
           null
          ],
          [
           "le bien du grand nombre, l’intérêt de l’unité, l’échange constructif même contradictoire. ceux qui insulte, impose leurs idées passez votre chemin ⛔️"
          ],
          [
           "Avocat\n\nDroit d'auteur - Droit de la santé - Droit pénal"
          ],
          [
           "23 ¿¿¿¿ chemistry engineer in six months ????\n\nhttp://paypal.me/drxpb\n@drxpb for private purposes"
          ],
          [
           "Mieux vaut agir que discourir - proverbe français #parisienne #TeamJuriste #droit #association #solidarite #droitdesetrangers #paris #marrakech"
          ],
          [
           "actu-aja.fr,  Passée par @Rmcsport et a survécu à Paris 8, comme quoi ! Bricoleuse du web, ancienne chargée de SEO, maintenant serial-killeuse de newsletter"
          ],
          [
           null
          ],
          [
           "📹 Journaliste. Actuellement chez @Francetele"
          ],
          [
           "Tutto può succedere."
          ],
          [
           "I help teams create games at http://Voodoo.io"
          ],
          [
           "🇫🇷 🗺 🐸"
          ],
          [
           "CTO @ Ekimetrics & CEO @ YOOI\n\n#Data. #Software. #Products. #Management. #Analytics. #Lean & #Agile."
          ],
          [
           null
          ],
          [
           "Concepteur-rédacteur @duodaki"
          ],
          [
           "Passionate about Art and History of the Middle East and East Asia | Consultant | Head of Quality"
          ],
          [
           "Learning games / Behaviour training games / Awareness games"
          ],
          [
           null
          ],
          [
           "Ça ira mieux demain même si je l'ai déjà dit hier"
          ],
          [
           "Dj, Beatmaker and Music Producer, Harvard Member, Pharmacologist, Blog Culturel « Romans et autres délices », Writer of HOTEL AMORⓇ Ebook to be"
          ],
          [
           "Référent départemental @enmarche78 @enmarchefr, militant @JeunesMacron"
          ],
          [
           "Artist, Graphic Designer, Amateur Photographer  || Paris/Bordeaux - Esk8  ||  J'suis l'plus beau des moches, j'suis affreux."
          ],
          [
           null
          ],
          [
           "Société de transport spécialisée  #tourisme #particuliers #scolaire #entreprises / location d'autocars, minibus, voitures."
          ],
          [
           "@MichaelJackson ♫♥ it's All For Love. Forever The King #MjFam #Moonwalker His Music Lives On Forever~ #MusicLover #LifeAfterDeath"
          ],
          [
           "Plateforme d'écoute et de téléchargement des nouveautés musicales à destination des médias #Yacast"
          ],
          [
           "Association Russie-Libertés. Human Rights NGO. ONG de défense des droits humains et des libertés en #Russie. Rejoignez-nous sur http://russie-libertes.org."
          ],
          [
           "Vidéaste indépendant/Co-founder de l'Axolotl galerie d'art/Co-founder du Métaxu/Co-founder de Displaying."
          ],
          [
           "Peinture, sculpture, chantournage, la bricole à 100%"
          ],
          [
           null
          ],
          [
           "Directeur Conseil @CGI_Consulting #Energy #SmartGrid #SmartBuilding #SmartCity #SmartHome #SmartMobility #IoT #Blockchain"
          ],
          [
           "Illustrator ,musician and just human)\nага"
          ],
          [
           "Dramaqueen."
          ],
          [
           null
          ],
          [
           "Responsable de Communication Mairie de Pontivy, Morbihan // #Communication #socialMedia #compublique #photographie #i4emploi"
          ],
          [
           "THINK business, PLAY technology, DO innovation -- with a little extra lingo & cultural mix | #Cyber #IIoT #FinTech | EurIng + @ImperialMBA | views are my own"
          ],
          [
           null
          ],
          [
           null
          ],
          [
           "Créateur de What The Cut - Série audio : @ClydeVanilla - Lord de @SealandGov\n\nContact : contact.antoinedaniel@gmail.com"
          ],
          [
           "Tech addict, Gamer, Music lover 🎧 and Android Software Engineer @Deezer. My tweets are my own"
          ],
          [
           "La musique classique - c'est rigolo. Le violon, moins. \n\nInstagram: http://instagram.com/klariscope\nDes chroniquettes à lire là ⬇️ http://www.klariscope.com"
          ],
          [
           null
          ],
          [
           "C'est pour ça. \nHE/HIM"
          ],
          [
           "💥 Je forme des milliers d’indépendants au #marketing chaque jour par email. #Consultant #B2B"
          ],
          [
           "🇪🇺Européenne #VoxPopuli ◼︎ Femme, ms ne comptez pas sur moi pour féminiser tous les mots ! ◼ #MedicalEyeCare ◼ CEO Agence Carré final #Paris #Hamburg ◼︎💍 🥋"
          ],
          [
           "Conseillère Pédagogique La Courneuve - Education Nationale"
          ],
          [
           "Had an unfortunate incident with a banana when diagnosed with type 1 diabetes in 2012. #T1D"
          ],
          [
           "Professor of Neurology, University of L’Aquila, Italy"
          ],
          [
           "Scientist turned journalist | Reading and writing | Climate change, science, Brazil and bicycles, in no particular order | Flute and congas"
          ],
          [
           "Official Twitter account of the CMA CGM Group, a world leader in #shipping and #logistics"
          ],
          [
           "Sage-Femme libérale Paris 10e, membre du @coll_SageFemme | Conseillère du @ceserPDL pour @La_FAGE | Ex-présidente de l'@Anesf_FR 2015 à 2017"
          ],
          [
           "Working @nedgia - Grupo @Naturgy. Views expressed are my own- Too often we enjoy the comfort of opinion without the discomfort of thought. (JFK)"
          ],
          [
           "#Digital #Web #Mobile #WebDoc #DMP #Cinéma @Ekino. @Fullsix"
          ],
          [
           "Associate Professor Political Science at University of Amsterdam | Lobbying | Interest groups | European Union"
          ],
          [
           "i'm geek french who like ,art, music, and love video game ,book ,life and food 🌈❤️"
          ],
          [
           null
          ],
          [
           "20 | Engineer | YouTuber | Osu! Enthusiast"
          ],
          [
           "Directeur Technique  @event2give  --  Head Of Ippon Managed Services at @ippontech"
          ],
          [
           "Un œil sur la planète !"
          ],
          [
           "Grand carnivore | fan de @manutd | #Burkina #lwili #Ouagadougou | #BF226"
          ],
          [
           "Provençal de sang, picard de cœur. Etudiant ingénieur. Amateur d'histoire, de vin rouge et de no-limit sur l'autoroute."
          ],
          [
           "I was born free and I will Die free. I am a Freeman!"
          ],
          [
           "πφλθη λλβξ. Soit dans la jungle, soit dans Verdansk. Mes tweets n’engagent que moi et moi seul. 🥷🏻🐲"
          ],
          [
           "Que l’Olympique."
          ],
          [
           "The European Anti-Poverty Network (EAPN) is the largest European network of anti-poverty NGOs, and European Organisations fighting poverty and social exclusion."
          ],
          [
           "Journaliste scientifique #questionssociales #sciencesdelavie, #autrice #documentaires jeunesse. Insatiable curiosité ."
          ],
          [
           "A national coalition whose mission is to promote the understanding & use of vaccines as recommended by the National Advisory Committee on Immunization (NACI)."
          ],
          [
           null
          ],
          [
           null
          ],
          [
           ". Composit IDs"
          ],
          [
           "25 ans • Animatrice • Folle et bizarre.\nJ'ai rencontré quelqu'un qui m'fait m'sentir aussi bien que quand j'écoute de la musique. \nMathieu ❤️"
          ],
          [
           "MUFC What else?"
          ],
          [
           "Pluralitas non est ponenda sine necessitate"
          ],
          [
           "I believe that we will win ! Always be a leader, not a follower. Rappeur amateur, suivez moi ici : @off_majin"
          ],
          [
           "Ar #Redadeg 🏃‍♀️evit ar #brezhoneg 21-29/05/2021 #Karaez #Gwengamp Bec'h de'i ! Course relais pour la #languebretonne #BZH #bzhg #GwennhaDu #emojibzh"
          ],
          [
           null
          ],
          [
           "Photos, Maths, Fursuit - Small Data, Human Learning, Analogization - Furfag - PhD in fursuit-building - PP par @Droukky"
          ],
          [
           null
          ],
          [
           "❤️"
          ],
          [
           "Labfolder is an innovative & intuitive electronic lab notebook (ELN): organize your data - plan experiments - record results - collaborate. Sign up for free!"
          ],
          [
           "slt la miss, dispo pour un verre ou quoi ? ^^' Sapiosenssuel, photographe amateur"
          ],
          [
           "30 ans de police dont 18 en BAC de nuit, écrivain auteur de 5 polars."
          ],
          [
           "Car ton nom tu, ò santa filha Es Libertat.\nCRFPA 2019 - Droit fiscal."
          ],
          [
           "CEO @OpiaCare \nMedecine Esthetique"
          ],
          [
           "open source and hardware project for a radiation measurement and mapping multicopter drone.\nAlso speaks of UAV, robotics, FOSS, DIY, programming and technology"
          ],
          [
           "Le Centre de Doc de la Mres : un service documentaire régional sur la nature, la transition, le climat ouvert à tous."
          ],
          [
           "Taipei / Paris.\nAlways between knowledge and creativity. Flirting with flying robots, civic techs and photography."
          ],
          [
           "Communication & Digital Content Manager - @groupeadp @parisaeroport - Tweets & RT are my own. 🚀"
          ],
          [
           "#RP @EYFrance #Transactions #Conseil #Secteurpublic #DD #IT #Distribution ..."
          ],
          [
           "Innovation studies, homo ludens, facilitateur LEGO® SERIOUS PLAY®, economist, musik non stop"
          ],
          [
           "FUN & STYLE ! \nShop nos looks ici : https://bit.ly/bzb-link  \nRendez-vous aussi sur Instagram : @Bizzbee"
          ],
          [
           "Jobbar med utvärdering på Skolverket."
          ],
          [
           null
          ],
          [
           "Lutte contre l'illettrisme dans les prisons - projets et passerelles réinsertion pour les personnes détenues - Fundraiser -"
          ],
          [
           "#immuno #haematology #myeloma #mmsm #MGCS #CARTcells @aphp @HopSaintLouis @Univ_Paris\n@UCSF Eyquem Lab"
          ],
          [
           "Ingénieur, développeur, programmeur, Français mais Breton avant tout, parfois geek, souvent technophile, un peu musicovore"
          ],
          [
           "Journaliste Scientifique"
          ],
          [
           "Metz 🇲🇦 🇦🇷"
          ],
          [
           "UX Designer @DV_Paris -  Photographer - Ex Business Developer @Synerghetic - #Creative Ex student at @HETIC"
          ],
          [
           "Lecteur addict, fan de #sciencefiction, #BD, mais pas que"
          ],
          [
           "#TeamOL #ASAB #TeamNO #TeamLacazette"
          ],
          [
           null
          ],
          [
           "Vice President Public Affairs Europe at Mars Incorporated 'views expressed here are my own'"
          ],
          [
           "PhD student in development economics #CERDI #Macroeconomics, fiscal management, financial systems, natural ressources"
          ],
          [
           "Reader at Edinburgh Uni. Energy, Carbon, Climate change."
          ],
          [
           "💬 IRL : communicant • 👀 Intérêts : #transfonum #socialmedia #livres #esport #podcasts"
          ],
          [
           "profesor; amante de la escritura en general,de la poesía y de la filosofía; internacionalista, solidario,practico el fútbol.amo fotos de paisajes y de las nubes"
          ],
          [
           "For the very latest OUYA Console news, press releases and updates, join the OUYA discussion forums and follow us on Twitter. @OUYAForums"
          ],
          [
           "For years I thought of myself as an introvert. Turns out I'm just taciturn."
          ],
          [
           null
          ],
          [
           "Consultant en bonne humeur, depuis 1544."
          ],
          [
           "La vie n'est qu'un moment d'une longue journée.."
          ],
          [
           "#Digital #CorporateCommunication #socialmedia / tweet #tech #Lifehack & #Productivity"
          ],
          [
           "Reporter @ Stranraer and Wigtownshire Free Press | jennifer@stranraer-freepress.co.uk | Read this: http://SeeDisclaimer.com | Committee (Events) @WiJ_Scotland |"
          ],
          [
           "Chercheur Inria en informatique (arithmétique des ordinateurs). Développeur de GNU MPFR. Cinéphile."
          ],
          [
           "Wrote \"Democracy in Question\", follow (post)democratic politics, climate justice, conflict (resolution). Visiting Fellow @LSE_WPS; Sr Consultant @CrisisGroup."
          ],
          [
           "J'enlève des agrafes."
          ],
          [
           "on the airport shuttle from crisis to crisis"
          ],
          [
           "18 ans"
          ],
          [
           "22 \\ #TeamOL 🦁 \\ @djsnake 🐍"
          ],
          [
           null
          ],
          [
           "Ancien obèse devenu sportif. Auteur du site Changer son Corps. Email : romain@changersoncorps.com"
          ],
          [
           null
          ],
          [
           "Jornalista e Editora"
          ],
          [
           null
          ],
          [
           "Enora may be doing her best, but her incompetent best is not good enough -\nLord Denning MR, Nettleship v Weston [1971] CA"
          ],
          [
           null
          ],
          [
           "French musician - Soundtrack composer http://soundcloud.com/misterm  | Technology enthusiast | Entrepreneur | Follow me:"
          ],
          [
           "Directeur de mission #emploi #compétences #formation. Smart Learning.  Passionné par la #Formpro #BigData #branches #Education. Team #CercleAPE @GARF_Asso"
          ],
          [
           "real estate agent"
          ],
          [
           "Communication digitale | Lauréat concours #101projets @Discover_map | #socialmedia #digital #sport #travel #voyage #blogvoyage"
          ],
          [
           null
          ],
          [
           "ESI L3 @La_FNESI"
          ],
          [
           "Precision Weed Control Scientist | PhD Student in ryegrass ID/ML | @Sydney_Science | @thoughtforfood | @AgriEducate | trail running | All views my own"
          ],
          [
           "« S’il y a une chose dont nous devons avoir peur,c’est de la peur elle-même » F.D. Roosevelt"
          ],
          [
           "Conseillère pédagogique en charge du numérique pour le département du Var.\nMes tweets n'engagent que moi."
          ],
          [
           null
          ],
          [
           "Le Taedium/in skate we trust ⛧\nDrum |\n\nфк красавчик"
          ],
          [
           "Science et culture\n\n#médiation"
          ],
          [
           "Bianconero ⚪⚫"
          ],
          [
           null
          ],
          [
           "20 ans - Paris"
          ],
          [
           ". . . . ODV . . . . du flow et du propos http://instagram.com/gabrielhoerr"
          ],
          [
           null
          ],
          [
           "Cercle Sofia Kovalevskaïa (CSK). Club de #maths #info d'#Occitanie ouvert aux collégiens, lycéens et plus. Organisation d'événements mathématiques #RJM #TFJM"
          ],
          [
           "Journalist #RFI english and free-lance #China #environment #migration"
          ],
          [
           null
          ],
          [
           null
          ],
          [
           null
          ],
          [
           "None of your business."
          ],
          [
           null
          ],
          [
           "Juste un endroit pour partager mes pensées.. 🐣💛 #TeamInsomniaque"
          ],
          [
           "Citoyen du monde currieux de tout sujets d'actualité et de societé avec un interêt particulier pour l'afrique. @Sedrick_Boyeka"
          ],
          [
           "🇫🇷 🇷🇺 Француз но люблю Россия."
          ],
          [
           null
          ],
          [
           "Caster/ Overwatch,  Regarde la NBA et surtout le Miami Heat, Caster @CastersNest Mail pro: bernabxpro@gmail.com Pas besoin du moniteur Modérateur Twitch/YT"
          ],
          [
           "Olivier Brunet, auteur photographe.\nPort d'attache à #Trégastel #Ploumanach\nCompte Instagram : @crocqebarz\nPage Facebook :"
          ],
          [
           "Formé @ESJParis / Passé par @telefoot_TF1 et @NonStopPeople"
          ],
          [
           "œuvre d'art à temps complet"
          ],
          [
           "Jamais satisfait."
          ],
          [
           "Chargé Action culturelle médiathèque de Lille ○ Soigne sa belgitude ○ Au féminin mon cœur souvent bat"
          ],
          [
           null
          ],
          [
           "I am half agony, half hope | Curator of your heart | J'aime Paul Eluard, les pivoines et Steve MacQueen | #Book #Arts #TeaLover | #RadFem | 💛 JKR |\nالله محبة"
          ],
          [
           "Médecine | #blogueur 🇬🇳 | @LaVoixDJeunes UNICEF | @mondoblog RFI | @ablogui."
          ],
          [
           "Quand je serai grand, je veux être seigneur du temps"
          ],
          [
           "l'humain est un animal prisonnier des constructions de son esprit"
          ],
          [
           "Communicante, 100% moi #loveItaly #citoyenspourleclimat ! mes tweets n’engagent que moi. #frozen4climate"
          ],
          [
           null
          ],
          [
           "Official account of UCSF Department of Urology's exercise and sexual wellness survey study"
          ],
          [
           "Ambassador Dialdirect •DestinyMan Top40• SA’s #1 VoiceOver Artist•MC•Radio DJ•Speaker•MD @mzansiArts_sa  •CEO @ WTG MediaHouse bookings: info@wtgmediahouse.com"
          ],
          [
           "Le suffrage par le sort est de la nature de la démocratie, le suffrage par choix est de celle de l'aristocratie.\n- Montesquieu."
          ],
          [
           null
          ],
          [
           null
          ],
          [
           "Entité de l’association Savoir Apprendre (@Exploradome), APIS est un atelier de conception et fabrication de manipulations scientifiques interactives."
          ],
          [
           "Results are obtained by exploiting opportunities, not by solving problems - Peter Drucker  #Innovation #AI #Robotics #Robot\n@SBREurope @NaoRobot @PepperTheRobot"
          ],
          [
           "Prof de calcul mental, du compas, du rapporteur et bien sûr, de la calculatrice autorisée - Concerïnomane - DJ. #LOSC #DJ #Concert"
          ],
          [
           null
          ],
          [
           "Le mensuel dédié à l'actualité de la #recherche et de l'#innovation #technologique"
          ],
          [
           "Bioinformatician (nm) : DNA to bits to knowledge"
          ],
          [
           "uoıssɐd ɐɯ ʇsǝ uoıʇɐuıʇsɐɹɔoɹd / @douniArt 💚 / http://www.tiktok.com/@procrastee"
          ],
          [
           null
          ],
          [
           "Un peu de politique sous le tapis, de la TVR sur la table, du ciné sur la commode; un peu bordélique mais c'est chez Moi !\nEntre, ne fais pas le timide 😁"
          ],
          [
           "WUHAAAAAAAN"
          ],
          [
           "Learnr Research is a European not-for-profit Research organization working on Open Source Components & AI,Blockchain/DLT for disruptive learning technologies."
          ],
          [
           "d'humeur irakienne"
          ],
          [
           "We are the world's leading mobile advertising network offering real-time bidding, cross-exchange and targeted ads benefiting both publishers and advertisers."
          ],
          [
           "Archivist specialized in Family Photography. Patrimonio Fotográfico. Docente Archivística Doméstica. ActivistArxivera. Part http://arqueologiadelpuntdevista.org"
          ],
          [
           "Compte pour tout les fans du G , Merci de nous offrir du bonheur chaque jour , on te kiff Gaspard !"
          ],
          [
           "la vie es belle que le bon dieu nous aide"
          ],
          [
           "Be yourself, bitch. #stmadison"
          ],
          [
           "Chef de projet,animée par #innovation, #gestiondeprojet, et intéressée par les sujets  #employeeadvocacy, #collaboratif.\nTous mes tweets n'engagent que moi."
          ],
          [
           "Discord : Zola#3507\nFuture costumière, sniper pour Lightnink, usine à octaling"
          ],
          [
           "#buidler at @BTUProtocol. Passionnate about #BTU #Bitcoin #Ethereum #Tokenomics #LeanStartup"
          ],
          [
           "Hellio - GEO PLC, acteur de la maîtrise de l'énergie."
          ],
          [
           null
          ],
          [
           "Founder @ Satory, we play with tech to raise your story."
          ],
          [
           "Organisme intergouvernemental de coopération halieutique regroupant Cabo Verde, Gambie, Guinée, Guinée Bissau, Mauritanie, Sénégal et Sierra Leone."
          ],
          [
           "Abandonner c'est se trahir soi même"
          ],
          [
           "Avocat spécialiste FSA en droit des successions. LL.M. droit européen et international économique. Élu Conseil communal d’Epalinges. #successionsCH #palinzard"
          ],
          [
           null
          ],
          [
           "Journaliste à @lessentiel. Formé au @CELSA_Officiel. olivier.loyens@lessentiel.lu #Luxembourg"
          ],
          [
           "Streameuse affiliée Twitch\nhttp://twitch.tv/alouquie"
          ],
          [
           "Associação D3 - Defesa dos Direitos Digitais. Pela defesa dos direitos digitais em Portugal. Junta-te a nós em http://direitosdigitais.pt"
          ],
          [
           ":)"
          ],
          [
           "Prédestiné aux grandes études mais petit parcours tu connais #BVB #RF #LCFC #OKC"
          ],
          [
           "Unité Mixte de Recherche @CNRS/ @CentraleNantes /ENSA Grenoble/      @ensaNantes1 composée des équipes CRENAU et CRESSON #Architecture #Ville #AAU @MinistereCC"
          ],
          [
           "Ma biographie c'est comme le soleil, quand tu la regardes t'as mal aux yeux. RIP sinje du soir et miam saussisse"
          ],
          [
           null
          ],
          [
           "19. @OL"
          ],
          [
           "L'homme, puis son authentique séjour terrestre, échangent une réciprocité de preuves. Ainsi le Mystère."
          ],
          [
           "J'aime les tartes la purée et les bateaux"
          ],
          [
           "Eva ❤️ | Alt-Right | charpentier déter, cis blanc 🇫🇷 de souche hétéro et qui a un vrai travail 🙃\nASPFER"
          ],
          [
           "| Imagine Dragons | ABC | perdue depuis la fin de GoT |"
          ],
          [
           "Bringing the news and information to the public that *they* don't want you to know."
          ],
          [
           null
          ],
          [
           null
          ],
          [
           "Communication participative et soutien aux projets à #Solon \nCo-initiatrice de #anousleconomie !\nhttp://anousleconomie.org"
          ],
          [
           "NREWORLD . We are Deal in  #Commercial #RealEstate #HOTELS #Worldwide . Hotels Buying-Selling-Lease & Brand Management. #Residential #REALESTATE #Properties ."
          ],
          [
           "Plant biologist at @ird_fr  @DIADE_lab @LAPSE_IRD / Crop Science for Development #Roots #Recherche #foodsecurity #mycorrizhae #rice #cereals"
          ],
          [
           "champion du monde de jokari sans élastique"
          ],
          [
           "Security expert 🥐 @synacktiv"
          ],
          [
           "ORCHESTRA is an ambitious NERC, long-term multi-centre science programme researching the Southern Ocean's influence on the global climate."
          ],
          [
           null
          ],
          [
           "Un peu bizarre mais ça va, je suis gentille ... \"Fait chaud\" en devenir 🥰"
          ],
          [
           "Piou ! 🎻☘🏕"
          ],
          [
           "\"Et pour dire simplement ce qu'on apprend au milieu des fléaux, qu'il y a dans les hommes plus de choses à admirer qu'à mépriser.\""
          ],
          [
           "FuzeTea, Tacos, OM, CU84 et Magistere droit, journalisme et communication"
          ],
          [
           "Facilitateur de projets éco-responsables\n#EthicalWebmarketing & #CommunicationDigitale"
          ],
          [
           "Du documentaire, de la justice, de la jeunesse, du social, du vivant. #justice #mineurs #PJJ #éducation #spectacle"
          ],
          [
           "#ACAB  \nvégétarien carnivore"
          ],
          [
           "The Office (US) est la meilleure chose qui soit arrivée à l'humanité"
          ],
          [
           "#raoulpbrosseau #artistepeintre #nantes #breizh"
          ],
          [
           null
          ],
          [
           "Business journalist, linguist. Media, foreign affairs background. Lived in France, UK, NZ, Bulgaria. Fan of literature, history & all things Scandinavian."
          ],
          [
           "🩺 Dijon              @nawelleee_"
          ],
          [
           null
          ],
          [
           "Passionné de voyages au long court et de rencontres interculturelles. Journaliste pigiste. Touche à tout. Ecrit // Vidéo // Montage // Photo"
          ],
          [
           "Jeremy / 20yo /Business \n\nenfantduswagg.contact@gmail.com"
          ],
          [
           "IN GOD WE TRUST"
          ],
          [
           "what ?!"
          ],
          [
           "#ÉducMédiasInfo"
          ],
          [
           "Digital Project Manager, Geek and Gamer"
          ],
          [
           "PE #ceinturesdecompétences #Twictée, #Twoulipo #Defiinférences, #MHM #MHF"
          ],
          [
           "21. insta: theo.169"
          ],
          [
           "1m89?"
          ],
          [
           "certaine personne sont prête tout par l'envie et par orgueil agissez découvrez qui a fait de vous un pentins."
          ],
          [
           null
          ],
          [
           "🥷🏼"
          ],
          [
           "Un mec sympa 🪐 PP/bannière : @Ouarmy"
          ],
          [
           null
          ],
          [
           "Journalist, film producer. Ex @ihecs . Has spent some time at @fpafrica & @libobserver #Society #Documentary #Humaninterest #Intersectionalfem \n\n✊✊🏼✊🏽✊🏿"
          ],
          [
           "Journalist in progress | @francetele | @IPJdauphine 41è"
          ],
          [
           "Recherche #Job #Communication 💻\n#LPCCPC\nMaster Culture, ESTHUA 🎓\nMusique ● Théâtre ● Photographie 🎭📸"
          ],
          [
           null
          ],
          [
           "Information Science & Systems Specialist / Digital Strategist @Swissintell / Cyberdefense project manager @vbs_ddps #cyber #security #privacy #military #IE #IA"
          ],
          [
           "CM en alternance former @BreakflipFR & @lolesports_fr | Je voue un culte à kt Rolster, Lewis Hamilton, Yuki, George, Griezmann et la TTA | 𝓷 ♡"
          ],
          [
           "Professor interested in why people respond to risks like extremes in weather and climate, how information is generated and used, and how we build resilience."
          ],
          [
           "Never Say Never ...   Tu vit Pour toi ou pour les autres !"
          ],
          [
           "Interested in European and Eurasian issues"
          ],
          [
           "A mathematician modeling ocean biogeochemical cycles and the global carbon cycle."
          ],
          [
           "🇫🇷🇬🇧I 18 yo I Big fan of @G2esports #G2ARMY I Pewpew on R6 | Former @Humanity_Esport I LFT French or EU"
          ],
          [
           null
          ],
          [
           "Product Manager (looking for a job!), former Acquisition Partnerships Manager at @Evaneos"
          ],
          [
           "Agence de Voyages Littéraires."
          ],
          [
           "Sous légende."
          ],
          [
           "Journaliste culture @AleteiaFR / Ex @RevueNarthex / Ex chargée de projets culturels @CVersailles /  Histoire de l'art, culture, patrimoine, musique."
          ],
          [
           "Futur président, mes hobbies sont le bowling et battre les bonnes. #FAPFAP2022"
          ],
          [
           "🎤🎼🚺🇫🇷 RAP\n“J'ai un démon dans mon esprit, une molécule, c'est ma meilleure amie !\n” http://instagram.com/griseldarappe/  #Rappeuse"
          ],
          [
           "Je prends le bus"
          ],
          [
           "#F1 #Fun #Friends #Family"
          ],
          [
           null
          ],
          [
           "Magdalena Studio | Creative studio\n• 💌 contacto@magdalenastudio.co"
          ],
          [
           "yo le rap"
          ],
          [
           "Entrepreneur, Tech & Réseaux. #Digital #Telecom #WIFI #triathlon #marathon #cashback Insta: #cblifestyle8.8"
          ],
          [
           "Electron libre, ex-REP, Curiouser and curiouser ... #LostInEducation"
          ],
          [
           "j'arrêterai le babinks pour toi"
          ],
          [
           "#Startup basée à Lille, Axomove c'est LA plateforme #esanté de #prévention et de #rééducation en santé physique📱🏃🏻‍♂️"
          ],
          [
           "tm verkiezingen in DH @Nieuwsuur | 2011/2016: Europe reporter BNR | 2005/2011: Balkans correspondent"
          ],
          [
           null
          ],
          [
           "Je fais trop de trucs. #entrepreneur #twitch #youtube @GeekDaysShow\n@LDLC_OL, #ShadowMaker.\n#Dahyun bias magueule.\nJe vais y arriver ! Bisous Maman !"
          ],
          [
           null
          ],
          [
           "Je préfère comprendre les gens qui comprennent que je ne les comprends pas. 🖖🏻"
          ],
          [
           "Enseignant Histoire-Géo REP+ / Syndicaliste SUD éducation 13 et Solidaires 13 / VISA 13"
          ],
          [
           "Founder / CEO of eXo Platform - Digital Workplace"
          ],
          [
           "🦇"
          ],
          [
           "✈️ 🇫🇷🇵🇹🇸🇪🇧🇪🇩🇴🇺🇸🇪🇸🇬🇧🇮🇹"
          ],
          [
           "polytech grenoble"
          ],
          [
           "a ok dacc👍🏼"
          ],
          [
           "Je tweet #WebMarketing #MarketingDigital et ça me plait 😋 + d'infos sur mon profil LinkedIn https://goo.gl/Ml5itW"
          ],
          [
           "1/ médiation et communication scientifique - 2/ diffusion et soutien au spectacle vivant - musique de chambre - « diplomatie culturelle »"
          ],
          [
           "Au sein de cette orchidée, je cueillerai l'or qui dort"
          ],
          [
           "illustratrice • graphiste • directrice artiste"
          ],
          [
           "Senior World Affairs Editor at CGTN, formerly AFP, roaming the globe from Switzerland to China via Singapore, LA, London + Vienna. Views my own etc..."
          ],
          [
           "#FreeBSD, motorcyle, rugby, things"
          ],
          [
           "Pas sociable, pas gentille, pas mignonne, NUISIBLE & pis c'est tout ! | #LaMamanDeGazouillis |#CoffeeAddict |#GensdeCom | #ExThoraxVide"
          ],
          [
           "Research scientist | Tweets on Data, Science, Social media, Digital"
          ],
          [
           "Docteur, prof en cpge à Amiens, chercheur associé Item (Cnrs-Ens)"
          ],
          [
           "Non"
          ],
          [
           "IP/IT attorney in New York and in Strasbourg, France, TTLF Fellow at Stanford Law, writing about free speech on social media, Yankees Fan (Worried). We need 28!"
          ],
          [
           "Nonprofit plasmid repository helping scientists share resources globally. Easily deposit and request plasmids or visit the Addgene blog for science news."
          ],
          [
           "Je suis myope."
          ],
          [
           "Molecular Biologist. MSc Infectious Diseases, PhD Microbiology. Diagnostics, antibiotics, COVID. Citado en el Q'hubo. 🇫🇷➡️🇨🇴"
          ],
          [
           "| Pour qu'on s'refasse faut d'la maille |\n\nhttps://soundcloud.com/dohzz"
          ],
          [
           "#Pédagogie #Ecole #Inclusion #Savoirs #Profs #ManuelsScolaires #RéformeLycée #lecture #Ecriture #Mathématiques #Poésie #Théâtre"
          ],
          [
           "Sophrologue, EMDR, Formatrice, Pdte @EuxEntr Pilote Task Force Femmes #EgalitéFH et @Jmpe_france  #RelaisToutesPolitiques69 #NeRienLaisserPasser"
          ],
          [
           "je sais ce que j'ai à faire et je le fais\n⭕"
          ],
          [
           "Presidente Asociación Colombiana de Usuarios de Internet\nMember @Icannatlarge\nISOC Member\nNeutralidad de la Red.\nTransformación Digital.\nEconomía Digital"
          ],
          [
           "@realmadrid | @RMbaloncesto | @Dallasmavs | @Rafaelnadal | @luka7doncic |  KEKRA FC #MFFL"
          ],
          [
           "Atheist #mcfc fanatic Citizen of nowhere Allergic to right-wing bullshit   Putatur quidquid velunt OBE (Order of the Bert Empire)"
          ],
          [
           "Créateur du site @WikiNabia (aussi rédacteur @nabesnews)"
          ],
          [
           "🇫🇷🇫🇷🇫🇷"
          ],
          [
           "French Tipster \n\n📈Mid Odds \n\n⚽️🎾Mainly European Football & Tennis (liquid markets)\n\n🏦Pinnacle Odds + sometimes Acca & Funs on soft bookmakers\n\nSTAY TUNED"
          ],
          [
           "Astrophotographie 80ED - NEQ5 - Nikon D5300\nBosse dans l'informatique et fan du Nîmes Olympique!\nhttps://www.astrobin.com/users/Moguest/"
          ],
          [
           "Journaliste free lance. Ex-Faites entrer l'accusé. J'écris des bouquins mais garde un œil grand ouvert sur l'actualité"
          ],
          [
           "Tu connais les bails ma guele #PPFF"
          ],
          [
           "Étudiant de 21 ans.                                                                                      \nLet justice be done though the heavens fall."
          ],
          [
           "Media and communication specialist. Bilingual multimedia reporter. Columnist."
          ],
          [
           "RH puis Collaboratrice parlementaire HB |💫Ceux qui pensent que c’est impossible sont priés de ne pas déranger ceux qui essayent {CC} My Own #Art #EM #circo2202"
          ],
          [
           "#RXpharmaLAB le site Internet des assistant(e)s techniques en #pharmacie (ATP), #pharmacien(ne)s, technicien(ne)s en pharmacie, présenté par #formatp.ca"
          ],
          [
           null
          ],
          [
           "Microalgae, bioenergetics, photosynthesis, biophysics,   - Postdoc @UCBerkeley, \n🇲🇫"
          ],
          [
           "Micro Mounts (MM) manufactured Photography panels & social business cards made from Aluminum metal."
          ],
          [
           null
          ],
          [
           null
          ],
          [
           "des billets dans mon cul j’ai la chiasse"
          ],
          [
           "Architect. Master degree in Building and urbanism. Chartered member on Association of  Spanish Architects, Legal Architects A. Project Management International."
          ],
          [
           "En tout cas, je suis pas encore danhéré  🤝🏾"
          ],
          [
           "HumaReC – Humanities Research and Continuous Publishing: a digital New Testament Test-case"
          ],
          [
           "Professeur d’histoire CPGE Faidherbe Lille"
          ],
          [
           "Journaliste reporter et d'investigations à la radio #Lidefau Butembo et Observateur @Observateurs.\ncontacts : johnetumba2@gmail.com|+243994356385,+243811447289"
          ],
          [
           "Bienvenue aux curieux / vege / vegan ! :) Threads en FAV. 🥑 #TeamGuaca. Double compte."
          ],
          [
           null
          ],
          [
           "Président fondateur @AssoJoontaado / Comité Miss Peul Diaspora.. Sur Twitter depuis mon anniversaire ! #TeamPeulh #TeamJoontaado"
          ],
          [
           "Solutions engineer @OneTrust #privacy"
          ],
          [
           "Editor of @itsfreezinginla climate change magazine + green engineer at @burohappold. she/her"
          ],
          [
           "étudiante en mathématiques, adhérente @RNational_off🇫🇷 #EnAvantpourUnNouveauFront avec @MLP_officiel🌹, membre du CDP, 15 ans en afrique 🌍☀️"
          ],
          [
           null
          ],
          [
           "|Abou bakr ndour| |IG:Abouu_baakr| |Snap:Abouu-baakr| |FCB|OM| Cheikh Ahmadou bamba ❤️❤️"
          ],
          [
           "#Designs and distributes  #microelectronic boards with softwares based on #Arduino technology"
          ],
          [
           "passionnée ! La vie toute la vie"
          ],
          [
           "Juriste (presque plus) junior en puissance. Diplômée de Droit - M2 ASR Descartes. Poursuit les fraudeurs à l’assurance maladie. Future audienciere. Bride 2020."
          ],
          [
           "I 💪 GYM ~ BOURG EN STRESS 🇫🇷 ~ 21y ♐\nSNAP : kevin_suran 👻 ~ INSTA : kevin__srn 📸 Hard Music 📀 TEAM AKRAM 💥"
          ],
          [
           "La Cagnotte en ligne dédiée aux patient et à son entourage #Fairedubien #Autourdesoi #Lapetitecagnottequimonte🚀🌻🇫🇷"
          ],
          [
           null
          ],
          [
           null
          ],
          [
           "Computational chemistry & Table tennis!"
          ],
          [
           "♌ 🏳️‍🌈"
          ],
          [
           "🥖 Baguette-man #gamedev, game jam lover, guinea pig aficionado 🐹🐹🐹🐹 #EyejamGames Check website below! ⬇️"
          ],
          [
           "📍Montréal 🇨🇦\nMarketing Manager @Telus"
          ],
          [
           null
          ],
          [
           "Mother. Writer. Dreamer. Schemer. Also editor of @mebeacon, with @Mainepeople. Views my own."
          ],
          [
           "Senior Civil Engineer and Consultant @SCET-Tunisie Afrique Centrale, \nC. E. O SOTERIA ENGINEERING"
          ],
          [
           "maître Black Pipe"
          ],
          [
           "En Master de cyber sécurité"
          ],
          [
           "(E🖤)  soucis psychologique avec http://chess.com et les sinjes"
          ],
          [
           "Politique, république, souverainisme, laïcité, France. Non aux communautarismes, à l'islamisme, aux racismes."
          ],
          [
           "mettez votre masque 😷  et en couvrant la bouche ET le nez."
          ],
          [
           "Murid, Professionnel Multimédia, IPTV, Designer, Réalisateur, Developper, Broadcaster, OTT, Mafatihul Bichri International, LLC; Senflix #muridquotes"
          ],
          [
           "Secretary General @Eurochild_org Tweeting in personal capacity #childrights #EUpolitics #civilsociety"
          ],
          [
           "| j'gribouille (des fois) | ni dieu ni maître | jukebox ambulant | she / elle |"
          ],
          [
           "CTO @sensiolabs #Symfony We’re Hiring !"
          ],
          [
           "Pharmacist and biochemistry."
          ],
          [
           "L2 💉\nCherche femme pour tiramisu"
          ],
          [
           null
          ],
          [
           "Suivez les experts du cabinet de conseil spécialiste de la #cybersecurite @HarmonieSSI, leurs blog posts, leurs interventions et les news importantes du secteur"
          ],
          [
           null
          ],
          [
           "Archéologue / Bibliothécaire"
          ],
          [
           "Need services ? Contact @open_bug_bounty"
          ],
          [
           "🤖 Classic generative weirdo & teacher▪️Co-founder of interactions design studio 2Roqs▪️http://hic.link/v3ga"
          ],
          [
           "Parisienne, en vadrouille à #Bruxelles. Et sinon ça va ? Non peut-être ! Allez dit, c'est excessivement énervant !!"
          ],
          [
           "Ecologist, Presenter and Filmmaker from The Top Of The Tree. Big on #SciComm, collaboration & engagement. Producer: @HighWaterFilm, @vitaminseafilm and others."
          ],
          [
           null
          ],
          [
           "Droit public et Télécoms /  Alum. @AssasParis2 @HECParis"
          ],
          [
           "@Festival_aix, @Triosora, previously @VerbierFestival Academy & musicologist in the making"
          ],
          [
           "Security Operations Orchestration Platforms #CyberExposure #ThreatIntelligence #Orchestration #Automation #SecOps #CERT #SOC #DFIR #CSIRT Open-source project"
          ],
          [
           "Enseignante d'Histoire-Géographie-EMC"
          ],
          [
           "Communication - storytelling - gamification. ✉️frnck.plss@gmail.com"
          ],
          [
           "Moins, c'est mieux"
          ],
          [
           "Créateurs de contenus audiovisuels\n🔴⚫"
          ],
          [
           "French-American, mom, enthusiastic hiker, founder and CEO @Mondoforte, communication for International Development, agriculture and food security."
          ]
         ],
         "hovertemplate": "label=0<br>0=%{x}<br>1=%{y}<br>description=%{customdata[0]}<extra></extra>",
         "legendgroup": "0",
         "marker": {
          "color": "#636efa",
          "symbol": "circle"
         },
         "mode": "markers",
         "name": "0",
         "showlegend": true,
         "type": "scattergl",
         "x": [
          -0.047218179624772295,
          -0.049212823469298776,
          -0.049880294977676654,
          -0.053096417318912036,
          -0.012785282515919408,
          -0.12188147677424242,
          0.09878876402628224,
          -0.15978261697688892,
          0.10892241266921616,
          0.05369093007471245,
          0.02300682187142737,
          -0.005332716455946005,
          -0.05211874912788674,
          0.08979058171794427,
          -0.025000657267199095,
          0.3282108826392534,
          -0.04847042248084362,
          -0.05070262911728118,
          0.1366786102770459,
          -0.04884094603429462,
          -0.049398337197730895,
          0.13781734744896243,
          -0.056271343102946195,
          0.05342714648524388,
          -0.0493023245220416,
          -0.02379917014471373,
          0.021822894517516695,
          0.32932539033885283,
          -0.04902435485361969,
          -0.06486858370363179,
          0.0861480903612518,
          0.22061826620383568,
          -0.05515302718617872,
          -0.07724194646248829,
          -0.046861701336126785,
          -0.054922073512722484,
          -0.04609072240444309,
          -0.04620705658265383,
          0.16844658331591275,
          -0.075479877949681,
          0.12243493701994951,
          -0.05234645597041893,
          0.003982123763315129,
          -0.04933756146358965,
          -0.05378666410576096,
          -0.044719594310001026,
          -0.12086368286806638,
          0.1609421957315922,
          -0.08727459856515449,
          -0.06147361099470798,
          -0.04999252001992421,
          0.29620554286398565,
          0.29198097735343154,
          0.03707564875298285,
          0.13595991093271634,
          -0.052861855733458744,
          0.06518421282411535,
          0.06493072076864638,
          -0.04988784720129364,
          -0.04424115857505321,
          -0.04519945252791458,
          -0.05735484835174852,
          -0.04036569351577009,
          0.0027511480890216092,
          -0.04776549700071374,
          0.14099615033078033,
          -0.05272433818172161,
          -0.04683386708429552,
          -0.042639146145488534,
          -0.05424175276995864,
          -0.1052269774357575,
          0.028079956652552925,
          0.16444224635576152,
          -0.045936506047005325,
          0.01608963397029673,
          -0.047302953565402345,
          -0.08957454999906396,
          -0.13478036536040616,
          0.042769093650940004,
          -0.040700616930278696,
          0.20631865056609297,
          -0.04500162484999159,
          -0.04856904238834579,
          -0.08932692547203816,
          -0.04617089493471877,
          -0.10238302891698838,
          -0.05137938249529892,
          0.20615705090771855,
          -0.06552095322403177,
          -0.11746148937468254,
          0.14456849904815428,
          0.06989919941392901,
          0.059533034568525954,
          0.05261340558742737,
          0.010441128198652476,
          0.07979004097858294,
          -0.05052914288302731,
          0.2613728334741476,
          0.023514138722301174,
          -0.04722988018485384,
          -0.03535221521492642,
          0.16146003665473377,
          0.25349648856265256,
          -0.05917392188678112,
          -0.04579334639660692,
          -0.04608765790062925,
          -0.04724559194245454,
          -0.10861646298180956,
          -0.0008263900044021136,
          0.6504735026904118,
          0.029870224112191604,
          0.036709302443129255,
          -0.16780599027139737,
          -0.14899599826675794,
          0.08528172703028115,
          0.11782998351379068,
          0.036575582277655734,
          0.0791073917046817,
          0.17699286600229772,
          -0.07968214478859197,
          0.11558301297087975,
          -0.13626916614065682,
          0.17952685285765596,
          -0.0709501573468121,
          0.010632965137686558,
          -0.04482930246301172,
          -0.04566072107030298,
          0.19187691993567876,
          -0.05717944633235203,
          0.05792972065198728,
          0.14709894304190996,
          -0.08687419080322875,
          -0.02341732912940327,
          -0.046173746776868786,
          -0.07044843821264801,
          -0.010613814009013244,
          0.08304103246736862,
          0.15499986140285543,
          0.220125171562288,
          -0.04945924283596475,
          -0.047072751148242026,
          -0.09225566828673776,
          -0.2396224286823829,
          -0.0855461099297157,
          -0.1111728831846938,
          -0.04802530143368585,
          -0.07803430925682257,
          0.11794561824275308,
          -0.04847354193431422,
          -0.0500475451945882,
          -0.035582061210376964,
          0.16426234309264315,
          -0.14535707974861312,
          0.028331122203825766,
          -0.04948404338496326,
          0.00960036430968451,
          0.11556561267492364,
          0.025125261358901686,
          -0.05087813650504385,
          -0.10948743201014488,
          -0.0297061336542155,
          0.3263075147050454,
          0.03613008626698387,
          -0.04342792970687588,
          0.18746863629131874,
          0.13436427276181842,
          0.17286544035021617,
          -0.04301376657919974,
          -0.03854637230143847,
          -0.04787274904960195,
          -0.04663559358408332,
          -0.07131460592604852,
          -0.050638048915269,
          -4.703179072727112e-05,
          -0.017856714451155845,
          -0.050853213914265075,
          -0.06171277929112745,
          -0.10893841120173044,
          -0.05171686769523624,
          -0.14814960977297553,
          -0.0395129632123172,
          -0.04754809940714185,
          -0.1275448644684996,
          0.13428338881184634,
          0.013217817057500388,
          -0.15070036562654865,
          -0.10998901724687082,
          -0.04494611789619523,
          0.12886444464171087,
          -0.07262886677511139,
          -0.05245356614277176,
          -0.1743644127774189,
          0.20957184123590666,
          -0.07830549776985593,
          0.0806284357074571,
          -0.048158663045741554,
          -0.04516035905210958,
          -0.05364169257518815,
          -0.12436276724838075,
          0.11157885780061863,
          -0.1254977874448858,
          -0.05080579423811441,
          -0.0631285329159137,
          0.22896585132085318,
          -0.04569752110262158,
          -0.051287169777627484,
          0.08603460712200962,
          -0.052649845886145824,
          -0.044605198953427336,
          -0.046473868273019574,
          0.22271204585490295,
          -0.04989878696438956,
          -0.22723530348085902,
          0.05034169889005188,
          -0.064700816241199,
          -0.04972102563532979,
          0.20515681239035977,
          -0.049138858738042364,
          -0.004430668478669935,
          0.10143014267564085,
          -0.052022877774885325,
          0.12129167880026513,
          0.22060005003296,
          -0.053071455204841744,
          -0.04546713054677128,
          -0.07628616060283526,
          -0.0546336588457923,
          0.2352406069045056,
          -0.07395279882661289,
          0.011133171056233042,
          -0.1583896204714105,
          -0.08153000958132998,
          -0.05272709906183846,
          0.07002645918596864,
          0.24058529823928787,
          -0.05829736620342875,
          -0.053405533755271004,
          -0.046870810700275684,
          0.12843731758375626,
          -0.1273905877005533,
          -0.051598630867723615,
          -0.05006933103337834,
          -0.04142367224083076,
          -0.07220184512238588,
          -0.05774909727211859,
          0.08807137323823944,
          -0.043087158804559045,
          -0.17977431590487972,
          -0.044406975803171586,
          0.32093006295693555,
          -0.08235279093512662,
          -0.025849346639232898,
          0.14923694873270787,
          -0.04338636031588281,
          -0.2369242377196572,
          -0.051985758498911565,
          -0.181148282355094,
          -0.04254803422620148,
          -0.04604583265275821,
          0.027155286907403854,
          -0.04380205063534971,
          0.14195776902571822,
          -0.05110895229269075,
          -0.006671474673460408,
          -0.002369797924399412,
          0.2293675928498777,
          -0.05100257426029752,
          0.04184847678645627,
          0.059348566391542595,
          0.03214832900153686,
          0.10613180496796339,
          0.0680981013533827,
          -0.0479507645420988,
          -0.08196894231385024,
          -0.015410570275673566,
          0.08924827913673859,
          -0.047854246088327876,
          -0.05591246791477975,
          -0.22124684037821107,
          -0.048408967069048306,
          0.06679284642562425,
          0.10493896620817587,
          -0.04814056721284145,
          0.3213235469027038,
          -0.04960280716264575,
          -0.04296511709789673,
          0.190486946884478,
          0.006503508422941775,
          -0.06376720581123306,
          0.11794026973835216,
          -0.04114156999620029,
          -0.0623032267875589,
          -0.03608270510123695,
          -0.059590203627820165,
          -0.04853833944674372,
          -0.044939973485340394,
          0.18385345559690994,
          0.16923909161720793,
          -0.09745069917066078,
          0.4490083223230188,
          0.052808411405921296,
          0.11363886870259766,
          0.13279505133909078,
          0.3964258148950809,
          -0.02653745830617876,
          -0.06054738827819011,
          0.19792415181397233,
          0.05640984605686955,
          -0.08746862961060348,
          -0.06638000680246062,
          -0.10538507798114678,
          0.16911509614084927,
          -0.049313514638874185,
          -0.03117714398271474,
          -0.050930898739834855,
          -0.048271827438052216,
          0.05544732366416009,
          0.30983852388347327,
          -0.04550521983935585,
          0.02845358925240506,
          -0.01039732142197999,
          -0.07387580709462392,
          0.09252957655258655,
          0.27510258034965057,
          0.09086074659070333,
          0.4757339837854302,
          0.25094165290037734,
          0.116277809029149,
          -0.09513509675995119,
          0.24518972810054734,
          -0.05116927184426849,
          -0.04798264219071252,
          0.04606372503805323,
          -0.05176617481009303,
          -0.10797595998696646,
          -0.050483004889065035,
          0.1508004185801581,
          0.09404616898425709,
          -0.04708615751974754,
          -0.047756969465571356,
          -0.04934842210565372,
          -0.11030552758863273,
          -0.05069983977921787,
          -0.0553810773001567,
          -0.17156204094217928,
          -0.04714448952123989,
          0.014177154215632148,
          0.2123786688943847,
          -0.04852820853774176,
          0.218415248427708,
          0.26908288961334254,
          -0.06819840075608224,
          -0.04734246846697605,
          0.10201507646069741,
          0.20975609627100109,
          0.08094402484283987,
          -0.08345635378596933,
          -0.20552038568627432,
          -0.04528836349770178,
          -0.07045493041041762,
          0.05935587119765326,
          0.1363954291667536,
          -0.048251400506653774,
          -0.13947181143693899,
          -0.22310922104951955,
          0.20488035673046576,
          0.15726190863006775,
          0.039484759735070214,
          0.10807477583218561,
          -0.051508749795794784,
          -0.003038417928847493,
          -0.03422440935884415,
          -0.010807591769503116,
          0.17386833112078826,
          -0.05394906945633881,
          0.2606138678693784,
          -0.20537829699357532,
          -0.2481007888177711,
          -0.047722972730662054,
          -0.05274399404808774,
          -0.04688391568007046,
          0.0667082801574923,
          0.21406922154286556,
          -0.1299647745584393,
          -0.06367019212679793,
          0.25803054080442567,
          -0.07307039494819996,
          -0.1274722515090015,
          -0.08873698491064501,
          -0.0728301533126484,
          0.056798047754863364,
          -0.05063780760324642,
          -0.08820077798045486,
          0.2517619966437385,
          0.2525489643526825,
          -0.05530487953701446,
          -0.15355847247864213,
          0.009266693489941132,
          -0.05922353037410963,
          -0.09662897600173355,
          -0.01850495106563788,
          0.2867067803725758,
          -0.09173067072248062,
          0.3094185165487669,
          0.2044042889700178,
          0.05288340816770953,
          -0.04915223489296501,
          0.09284718686212264,
          -0.13319035157671827,
          0.13074081658804518,
          0.14177381018289886,
          -0.0725473204818899,
          -0.015412666116409684,
          -0.07087788131125199,
          -0.04986866697613703,
          -0.09509990802939343,
          0.26334432925758405,
          0.053871117622408995,
          -0.050809771703551866,
          0.14873768280809951,
          -0.06372352171089242,
          -0.19695935927003932,
          0.08268495387819526,
          -0.12300902747578842,
          0.15700361907129928,
          -0.04382129157951443,
          -0.04908784219035285,
          -0.043146551312797224,
          -0.04492883092024191,
          -0.05350633872936688,
          -0.04763015105050726,
          0.06194830059257175,
          -0.04547785518624835,
          -0.049222205811620234,
          -0.11424075548648566,
          -0.05016914237956817,
          -0.05009981712118347,
          -0.05487825306384932,
          -0.04346608606957979,
          -0.1791677735495575,
          -0.05244792428025986,
          0.5095594364278294,
          -0.043675171445805544,
          -0.04967416598188982,
          -0.04562867657295755,
          -0.09879449384368111,
          -0.04934111636098254,
          -0.08337145644784745,
          -0.05439048358487563,
          0.11372613123212642,
          0.059317241714146374,
          0.2551897874380057,
          -0.013453255436358145,
          -0.04929884802448107,
          -0.020180030714274766,
          -0.21666336621244833,
          0.36540661262918916,
          -0.050353556032211935,
          -0.04327588346343899,
          -0.06571485306395235,
          -0.048897906668798605,
          -0.07194652649333222,
          0.1056068241565241,
          -0.04523187925903732,
          0.2311897673364509,
          -0.04853449547245871,
          -0.04835898635766873,
          -0.024903615110736688,
          -0.051155493218203466,
          -0.05527765102523757,
          -0.19022050458515208,
          -0.13767690233923874,
          -0.049217395020391665,
          0.07462614812288164,
          -0.00572253644867116,
          -0.11155068865325742,
          0.14407346655212663,
          -0.047252836417647846,
          -0.04993075401540144,
          -0.17659876394596016,
          -0.1134821058704283,
          -0.03612329755190604,
          -0.046342543054678886,
          -0.05074391930337839,
          -0.25208936751085165,
          -0.09419513452735717,
          0.11477520623732809,
          -0.10073555064590121,
          -0.039974568346835576,
          0.09181481550738389,
          -0.05330090267796178,
          -0.05447265218717773,
          -0.0545879692420521,
          0.017411790297163,
          0.0964070053340221,
          -0.04908346595027487,
          0.03728128464311988,
          0.02288905725042382,
          0.05888845903523558,
          -0.06851153103453016,
          -0.0591496563704889,
          -0.07873408750334289,
          -0.07327637976035127,
          -0.04955351619352625,
          -0.04801856258085107,
          -0.09472134631991622,
          -0.17580637635157784,
          -0.05164600251840965,
          0.09136193585093136,
          -0.04828748838712372,
          -0.060071389350112914,
          0.06250209904583615,
          -0.04900735921748315,
          -0.10259072248033811,
          -0.03590633650983365,
          -0.04914900752812683,
          -0.037081984754358865,
          0.03718493184984049,
          0.04709471335234567,
          -0.04722616869520604,
          -0.04229033893846236,
          0.1192752580776888,
          0.14198218565219772,
          -0.04742265222917038,
          -0.0688330456383007,
          -0.1356298762227957,
          -0.053881895770917045,
          -0.0586897585372734,
          -0.05133538752870965,
          -0.09587487708328984,
          -0.04374513649556986,
          -0.06497536111601777,
          -0.14758362817151227,
          -0.22540003521674276,
          -0.17345739026981344,
          -0.04743922157525257,
          -0.10013894857626096,
          0.1326631847752623,
          -0.04655860359815243,
          -0.048675385772716816,
          0.10775120206323166,
          -0.1489363467210193,
          -0.08379311995764922,
          0.16837994892309294,
          -0.107610498817723,
          -0.04005692365748469,
          0.20856674512782053,
          -0.06754117520732071,
          -0.05336422678964432,
          -0.04252452986176698,
          -0.03213136075200069,
          -0.04684665334117868,
          -0.04710198476505619,
          0.01398637978151217,
          -0.04138113385018409,
          -0.19366762866436418,
          -0.04673922904591568,
          0.07393331987883282,
          -0.11981648013669209,
          0.3346873081034688,
          -0.08564878596019804,
          0.07794867536178864,
          -0.045763663138163296,
          0.01976175574574864,
          0.383000113142467,
          -0.03466367968014725,
          -0.04820594489357097,
          -0.04697256227413628,
          0.0667246777210439,
          -0.1773452761733409,
          -0.10823854579040137,
          -0.08712306852094791,
          -0.10677033919181059,
          -0.07323072062778697,
          -0.17442142804530164,
          -0.051308807259543725,
          -0.08032847028622193,
          0.10277676255349043,
          -0.05138229100720996,
          0.03832270797716902,
          0.10645539110158526,
          -0.045335552470156255,
          -0.05446006764472994,
          -0.047739504888530834,
          -0.0009759285203115493,
          -0.07639786336422469,
          -0.05206110386896833,
          -0.05072206323865503,
          -0.05711070728197876,
          0.06296367087437851,
          0.15343407717140115,
          0.062239039803034406,
          -0.04315062614790358,
          -0.029235024505267052,
          -0.051389044787743816,
          -0.05952619729965324,
          -0.10536554524435239,
          -0.05736087073831286,
          0.015706252564455073,
          0.1415881470653619,
          -0.0772803492735456,
          -0.004365286171229958,
          0.12262174369674575,
          -0.1270519460769091,
          -0.11441652840485048,
          -0.049569778590953406,
          -0.044321919513203724,
          -0.020543686127393913,
          -0.003483369407934056,
          -0.044228135045610996,
          -0.0844762560392414,
          -0.05598340243011477,
          -0.0471070010085855,
          -0.05333282672667408,
          0.015237025858369554,
          -0.09404065220148702,
          -0.12844592941980523,
          -0.08638781378341497,
          -0.20654379256547375,
          0.11560777006399976,
          0.0982407702943584,
          -0.048992660916402135,
          -0.06032821123516069,
          -0.08613109144849637,
          -0.05087623191471927,
          -0.04584504047689762,
          -0.04616442622445309,
          0.36824627214273464,
          -0.05135919310463562,
          -0.045855664508454214,
          -0.0498142055182565,
          0.1615910672684807,
          -0.08751833719236934,
          -0.12191583658092425,
          0.046359237429793206,
          -0.04925734568735547,
          0.032154731183085795,
          -0.04787044257322002,
          -0.04847948922542485,
          -0.055734663398827856,
          0.3193073045295353,
          0.42775624855504585,
          -0.014841294555547169,
          0.2999291462904478,
          -0.05838091628083924,
          0.19421342041544976,
          -0.05446082825998751,
          0.33942162726582226,
          -0.05185278556115541,
          -0.0437550349041536,
          -0.010008650609468175,
          -0.13282183905046488,
          -0.17216281906431097,
          -0.05519474142476654,
          -0.10179630830757436,
          0.17318458976100287,
          -0.12142817491403383,
          -0.04722198876034961,
          0.06694019014229856,
          -0.13264065264246241,
          0.12277731932934713,
          -0.15202343441420405,
          0.18906602440864614,
          -0.04694575944933643,
          -0.17067180717437858,
          -0.04608818010882741,
          -0.11341855116684518,
          -0.14236566214264842,
          0.1726018392652503,
          -0.04917718185413945,
          -0.10160521745082367,
          -0.04895267787321729,
          -0.10005578266065966,
          -0.04894738658896232,
          -0.08409575732923187,
          0.3250346455717811,
          -0.1088838828006356,
          -0.04878482913775023,
          -0.054464880069779245,
          -0.05682784038529433,
          -0.1078797069682601,
          -0.045816032748054465,
          0.06370071887479758,
          0.07932166787197732,
          -0.04759384956436407,
          -0.04619801583571319,
          0.14987904531993132,
          0.016115493050979687,
          0.10738351985413835,
          0.1063113379746501,
          -0.04716452544579861,
          -0.052339156178530744,
          -0.04869595645272899,
          -0.20022042184446495,
          0.12326939282803154,
          -0.06103216792184257,
          0.22594637023169123,
          -0.0479716584321398,
          -0.14778818568953758,
          -0.0814170477954447,
          0.04581696421249716,
          -0.047594872554791674,
          -0.1121609637824256,
          -0.049931198354453206,
          -0.04768967286318475,
          -0.05928368825116258,
          -0.20748512430255328,
          -0.044849889099622495,
          -0.07034829883714848,
          -0.06798556657381516,
          -0.09936883279747487,
          -0.08727884705993151,
          -0.04864773467267222,
          -0.04295110777488717,
          -0.0465470863526001,
          0.41914621172563077,
          0.04115089935975338,
          0.17099737507788673,
          -0.020310624671926618,
          -0.07646727619395385,
          -0.05202012221475419,
          -0.049520043419578226,
          -0.04666991916476193,
          -0.06342888385570362,
          -0.04706183158219178,
          0.023701051498159126,
          -0.055087767473847665,
          -0.09087888878453865,
          0.13686694917796913,
          -0.07456749002047496,
          0.15939807778536272,
          0.26639713400279297,
          0.02929047352840751,
          -0.05357538432125532,
          -0.03927651720874897,
          0.07250654168539497,
          -0.051439128942358636,
          0.09603593957277355,
          0.3740999397642103,
          -0.04661996368590658,
          -0.07518893033145622,
          -0.044221347574807945,
          0.022819263994645216,
          -0.050411275036468924,
          -0.048227438146024745,
          -0.13221867417225963,
          -0.049100002676308006,
          -0.04185967811964786,
          -0.04877251162751349,
          0.3403509221456304,
          -0.23592721855959034,
          -0.050678656801367544,
          -0.048666996648769695,
          0.19989293305579556,
          -0.05383334178859493,
          0.06051748642482024,
          -0.00737477254337328,
          -0.008890194727833969,
          -0.024317357191017595,
          0.09743600712690323,
          -0.05001479083237068,
          -0.049956857491530164,
          -0.04890032342666181,
          -0.07317625680164838,
          -0.051879098565598754,
          0.014923268086686793,
          -0.04810658473756954,
          0.19152445853536162,
          0.043971186719046325,
          0.08778908941666616,
          -0.04789367205624213,
          -0.05351647886619282,
          0.2725483407773643,
          0.055269575326275903,
          0.008764641209695188,
          0.21647898100872937,
          -0.0486359764056762,
          -0.13023242310903124,
          -0.030020835557363335,
          -0.09019796549077487,
          -0.048842430399730456,
          -0.04959771389044768,
          0.13474299884950308,
          -0.020975140269058678,
          -0.04585006825873329,
          -0.05264310958380761,
          -0.05815786528974901,
          0.13710386967237764,
          0.05406502331724778,
          -0.04450783812125916,
          -0.09239816873302606,
          -0.05240666593245553,
          -0.04740740975907359,
          -0.03586350877585923,
          -0.09106997967341854,
          -0.046302483695559254,
          -0.0527569964366465,
          0.1919584991943978,
          -0.04842429495646824,
          -0.04598752186402128,
          -0.0508244761915994,
          -0.04755244287129912,
          -0.04895207122950849,
          -0.035399891031522274,
          -0.09750975633161425,
          -0.04369660595984293,
          0.10598760934368244,
          0.11549881151863713,
          0.06330570366674383,
          -0.062828559648332,
          -0.05169751358368917,
          0.1418186942986022,
          -0.045745665531766906,
          -0.04026164351005353,
          -0.0660130940172704,
          0.16880275626861674,
          0.06557816767392446,
          -0.11471656767678766,
          0.22959359880778288,
          -0.044033633240124624,
          0.008741690916381502,
          -0.052279790847527756,
          -0.045601644208024136,
          -0.04860905881411999,
          0.14306158613737902,
          -0.04610858447161767,
          -0.05411990594691187,
          -0.05072777924500464,
          0.041403269509451106,
          0.09703454818297415,
          0.05429391221074576,
          0.0008018500431787267,
          0.05934906512572122,
          -0.050029368584656904,
          -0.04699057748888046,
          0.09339448040429939,
          -0.07912060295667518,
          -0.04342571893847887,
          -0.048220286468553294,
          -0.08492123521535319,
          0.11392686361143681,
          0.11526099920213144,
          -0.021820094988904713,
          -0.09384184187572743,
          0.12084822911884653,
          -0.11658241629345682,
          -0.043724980385373834,
          -0.10551432756136411,
          -0.024670849320070975,
          0.13528671039803683,
          -0.0998918595532351,
          -0.07255307784891767,
          -0.07735862840191939,
          0.044887971144360515,
          -0.05752720641453085,
          -0.05114524246009237,
          0.1144823753610037,
          -0.04815562373620771,
          -0.0712350725858915,
          0.13398741354524252,
          -0.05003271237422857,
          0.11935452416344186,
          -0.04820694273877064,
          -0.07489969439127805,
          -0.18048000031197658,
          -0.04042697748809342,
          -0.05007497070522977,
          -0.07524978210018306,
          0.12073223501284905,
          0.06291846940574722,
          -0.04351633545602294,
          -0.04327007411571055,
          -0.044947946635965796,
          -0.051477343243381705,
          0.2708947849019356,
          0.0854632770992823,
          0.1524992518732127,
          0.10756912331166212,
          -0.04633663289820587,
          0.1935487928534781,
          -0.053801222054667565,
          0.0927317698277024,
          -0.051344560695569294,
          0.0019431909404654941,
          -0.05458527012698496,
          0.3562301092026308,
          -0.11252016407695746,
          -0.047653488559545695,
          -0.0542460322323212,
          0.20090310411966658,
          -0.05578190587530605,
          0.08233117631957769,
          -0.06524395209526904,
          0.07932676487149995,
          -0.026300315852678384,
          -0.15442732387445102,
          -0.047342471234083,
          -0.09859811181333607,
          -0.16098142542456564,
          0.10770194073507913,
          -0.09887122005224723,
          -0.05825337629378565,
          -0.04699772379804455,
          0.3010619498135539,
          -0.10258152375301918,
          0.4256172950842641,
          -0.04648030250079735,
          0.004036801695933147,
          0.16299157894419142,
          -0.0342751828935217,
          0.3534385124025691,
          -0.03970339539437015,
          -0.041101575093025366,
          -0.00138815552592163,
          -0.05131725367777097,
          -0.026847455958807897,
          -0.046224887332413145,
          -0.04954273994504548,
          -0.053449472148212135,
          -0.045109486965595476,
          -0.04846878312080255,
          -0.04417845213263607,
          -0.04553544852503244,
          -0.026167245978480372,
          -0.04865630850258738,
          0.1855776687711504,
          -0.1398320354452199,
          0.1189603710425255,
          -0.05045493515406932,
          -0.04511726069125122,
          -0.05626206429122958,
          -0.11282323308196682,
          -0.04816302156224321,
          0.0194636243439571,
          -0.045676198956756515,
          -0.09550840687813907,
          -0.05216320325082139,
          0.1773006963811427,
          0.09701424329437311,
          -0.04958656821154218,
          -0.05150924951718047,
          0.0245366671624865,
          -0.04712593896174812,
          -0.04894979644509955,
          0.08594034473590013,
          -0.1636121161011167,
          0.1110803573874836,
          -0.20558361566432792,
          -0.0431193605276932,
          0.353043618722875,
          0.23572493760349947,
          0.22811478425231477,
          -0.12670504960531995,
          0.005308671638929324,
          0.14130891263905537,
          0.13743579182497345,
          0.4673449409734369,
          -0.11311870597404661,
          -0.04651642214331128,
          -0.042533249052278704,
          -0.056603088567903394,
          -0.07461396221599946,
          -0.05345201785300361,
          -0.048334655113806045,
          -0.04269916176010042,
          -0.046563097972188626,
          0.12906244341947892,
          0.21799886330867074,
          0.20231115046188508,
          -0.04759047139906085,
          -0.04687734444347727,
          -0.047441379605759205,
          -0.051529871188662785,
          -0.048194809614141215,
          -0.05006678625137076,
          -0.04446999374326385,
          0.057951065363556015,
          -0.04058548421615172,
          -0.05599486464242051,
          0.10052387433802865,
          0.006464138387656589,
          -0.045766249247836656,
          0.14494773451462653,
          0.23588915875060767,
          -0.04215479433323217,
          -0.05196395083754217,
          -0.06684315722264418,
          0.057097235479864915,
          -0.05110325220657248,
          0.09905378549177382,
          0.024178303904011114,
          -0.146053023391785,
          -0.05158614865654064,
          -0.13189980621429115,
          0.0770410701260028,
          0.15501783936056107,
          -0.2036473985196352,
          -0.08754184400787332,
          -0.1349196509915725,
          -0.05337044609076021,
          -0.0744721473086781,
          0.27573749644420625,
          -0.051904069930561424,
          -0.05128628418967354,
          -0.105291982945601,
          -0.11726775220467026,
          -0.06849331405508519,
          -0.08562447050110376,
          0.1048972813405781,
          -0.1464232394736223,
          -0.043655736236674195,
          -0.022604320355042576,
          -0.10315492331015672,
          -0.09788449761231437,
          -0.1504951031839643,
          0.040617968060728586,
          0.038903577212442586,
          -0.12479320767933834,
          -0.055217109248648415,
          -0.046695046937132154,
          -0.05052555823597812,
          -0.046723971822727584,
          -0.13645331102273886,
          -0.04244889013419762,
          -0.049641627909571294,
          -0.047624492933501385,
          0.10413347820964809,
          -0.16968790359080352,
          0.04151387703515253,
          0.04294903323775611,
          -0.04762292569744137,
          0.19838289645835935,
          0.03330702072032801,
          -0.003066508064282243,
          -0.02108237311033782,
          -0.16319852247623717,
          0.20660355956982426,
          -0.10473511716699074,
          0.3007540392914607,
          -0.10239928848825339,
          0.18780151900415634,
          0.11839802560608266,
          -0.0464914728636665,
          0.11948073813411265,
          -0.09931678927126696,
          0.15393464925997835,
          0.06854065653091543,
          0.000602799739513084,
          -0.05619447840834843,
          -0.08735208339530895,
          0.009469009345640392,
          -0.049629179246348853,
          -0.03862062443410023,
          -0.0938009924934721,
          -0.1517812308081042,
          -0.048938225776362664,
          -0.044272402699859464,
          -0.04957830574711374,
          -0.01034981701068413,
          -0.05646890656635245,
          -0.0502499374141399,
          0.11258049168946557,
          -0.04903029849822745,
          -0.05102197589827883,
          0.09727165716205907,
          -0.04957292103396653,
          -0.04758343008001266,
          0.17503275977087634,
          -0.046407812109939904,
          0.07807820915433922,
          -0.04870975115177876,
          -0.05260337655853448,
          -0.04328926461866893,
          -0.05067390682792971,
          -0.04959135716861928,
          -0.04604067762492238,
          -0.05047065758735946,
          0.010063226770387554,
          0.1805054368927631,
          -0.053455474431549715,
          0.19563804130768928,
          -0.031123200517573796,
          0.32767723054191616,
          -0.04950612829768261,
          -0.044853438574056825,
          0.24348480758015298,
          0.3478060223640224,
          -0.005332932903229778,
          -0.19225126869826403,
          0.10331586827704199,
          -0.052404346247527336,
          0.08784378413212628,
          0.16510168479926854,
          -0.04870412690668723,
          -0.039990454675259586,
          -0.09927070825010936,
          0.22697955975873554,
          0.041312245201995855,
          -0.04430417263382097,
          0.1403981535352676,
          -0.04637331466708133,
          -0.09067835689868552,
          -0.05696400420976001,
          -0.18727205328818083,
          -0.05141489573916145,
          0.131991049360981,
          0.06448385157261839,
          -0.046417224921146916,
          -0.04623145226518557,
          -0.048714664459079,
          0.2731337021356402,
          -0.18013925677468995,
          0.28230363728810487,
          -0.04383416916196484,
          -0.09597465953762865,
          0.016373146541128234,
          0.004009949926846143,
          -0.0888112126952855,
          0.22947172952669198,
          -0.04437711788454617,
          -0.04671540038897889,
          -0.05268546628671184,
          -0.10995852264241673,
          -0.04704880192056745,
          0.14263274409445872,
          -0.048970973963664136,
          0.5539832454618622,
          -0.14250250627260325,
          -0.04811587616026102,
          -0.04332649072057311,
          -0.07418045753676791,
          -0.007710813659435099,
          -0.12451374897031921,
          -0.04941491061680818,
          0.09631115083445559,
          -0.04544462690787409,
          -0.04971413574597245,
          -0.06744169566554581,
          -0.03835637955210726,
          0.016858322320342733,
          -0.061163336310240034,
          -0.048291710675425925,
          0.09805927333101619,
          0.09483245650749057,
          -0.15685014264755362,
          -0.0051696240688442014,
          -0.09512731238983342,
          -0.05154210015341064,
          -0.049757645273075364,
          -0.06486294508598432,
          -0.027932404340524568,
          -0.05488320753084291,
          -0.2170405211875245,
          -0.06985069747490362,
          -0.09988060125172644,
          0.13459079765802023,
          -0.1414370417057436,
          -0.01893274655576014,
          -0.053218253953269165,
          -0.05678423607818176,
          -0.050341357965518266,
          -0.0519093264570515,
          -0.09574500707800881,
          -0.05977501801801846,
          -0.05902831142409694,
          0.15540997108811705,
          0.09687196629761961,
          -0.055525353955256075,
          -0.05833640317694607,
          -0.0003167687321696859,
          0.28554789786914053,
          -0.09986878046012332,
          -0.04633391349600942,
          0.219814119051347,
          -0.04531919478540967,
          -0.04524623719499447,
          -0.14224004459996997,
          0.23640082240232496,
          0.11414144557154905,
          -0.005296359761661564,
          -0.11328477317670663,
          -0.031086777863965378,
          0.04786145251178456,
          -0.05033806102672652,
          -0.06059507662949899,
          -0.04950651740374631,
          0.24234876357425503,
          0.07937152337383768,
          -0.030087546902983365,
          -0.049981668190986484,
          -0.07615148517768447,
          0.08133826831193743,
          -0.051270685499656826,
          0.4124698446870868,
          0.13025404528601997,
          -0.044667453903321566,
          -0.06223803219076957,
          -0.04314618000334109,
          0.09299341991503743,
          -0.050588575014345244,
          0.03744532567609989,
          0.12410667363956829,
          0.3614565903436045,
          -0.08083464911125149,
          0.0461229130657471,
          -0.0416429181672199,
          -0.05052068064101674,
          0.06735507109699758,
          -0.18242257537017698,
          -0.07454960342495948,
          0.1969355648061919,
          0.14518724506544978,
          -0.052765719788372335,
          -0.049017775330659846,
          -0.11553475857664429,
          0.07938565466440135,
          -0.045453316749006295,
          -0.03632788215747643,
          -0.13570359641954863,
          -0.044625724258864165,
          0.05501074324808486,
          -0.17541022500418518,
          -0.0459217563436122,
          0.1624314150100201,
          -0.04565103707899749,
          -0.10970210534241151,
          -0.0486662443532423,
          -0.05266012000498101,
          -0.05799454195893671,
          -0.05070644556975602,
          0.1475980230471267,
          0.08613718816422157,
          -0.047643169747398455,
          -0.04925284005582119,
          -0.047146075120034846,
          -0.24573670224300964,
          -0.0516409635158077,
          0.15500205385188567,
          -0.13169390368011336,
          0.03272609782595976,
          -0.04420978353442778,
          0.1428023807883167,
          0.029438082737155268,
          -0.0387810724126859,
          -0.1022249840277729,
          0.14677481759872238,
          0.1835386985550323,
          -0.050161730460738546,
          0.17889564213036424,
          -0.13644271700925173,
          0.07213215722430172,
          -0.02332074445902214,
          -0.02434734649206912,
          -0.16900037499731307,
          -0.05142732892290293,
          -0.13452024839753338,
          0.29480063228007997,
          -0.04528782784924171,
          -0.05589383333019811,
          0.08894068928860428,
          -0.05110783873378923,
          0.17903264196083143,
          -0.051965509394140116,
          -0.04303901900378135,
          -0.016311506237764548,
          -0.05201250103814417,
          -0.17753018039493448,
          0.03140466566041607,
          -0.04101025792082868,
          -0.042925635901886805,
          0.13267652011987538,
          -0.0965194781453338,
          -0.04692078845560533,
          -0.047089611644098216,
          -0.04489969706072471,
          -0.052299066863713675,
          -0.04734838765380116,
          -0.07328884663477732,
          0.019714043785622484,
          0.008830746016399198,
          0.005694762196629013,
          0.19012140155027998,
          -0.04783557139373933,
          0.2188482980591812,
          0.014072792722884236,
          0.19521656346645402,
          -0.050573432414295634,
          -0.053642811568610844,
          -0.049737199253957746,
          0.1631013381292952,
          -0.0556420419433613,
          0.23447089295292045,
          0.06779415689067222,
          -0.05294884729355997,
          0.34904451790030283,
          0.026334431031048062,
          -0.05027032599007679,
          -0.0494146598692004,
          -0.046022808136660834,
          0.1203601587427,
          0.11395311674826011,
          -0.09765988492625342,
          -0.009631183657373088,
          0.21162067728596995,
          -0.04882050299037231,
          -0.03904140126902624,
          -0.04368053167698555,
          -0.0759331555543538,
          -0.05088867641228684,
          -0.06420502176607194,
          -0.045207357602897326,
          -0.050250193135894586,
          -0.21050093655869803,
          -0.057037276291468965,
          -0.04608358982810041,
          0.006869335129083032,
          -0.08649935157360798,
          -0.043222793593811024,
          0.013165948929630904,
          -0.04696840829073201,
          0.041078417452986876,
          -0.12549959518513398,
          0.21265163265922582,
          0.12151455938172596,
          0.09793154260335317,
          0.064928075337132,
          -0.05183009285440064,
          -0.0450818873705597,
          -0.10247575575989804,
          -0.046234336152177154,
          -0.05137425399569522,
          0.12718026045854602,
          -0.11143162334317214,
          -0.04567006508738638,
          -0.04796811328319165,
          0.08136123926551472,
          -0.15444599903809703,
          0.08286626234655951,
          -0.05203883257340083,
          0.008167412611237598,
          0.09753070254228356,
          0.028371862016306745,
          0.05060723750438026,
          -0.09544488536003749,
          -0.1472395670866352,
          -0.1905754261771397,
          -0.17247168770302748,
          0.10581789868091394,
          -0.15309618480890416,
          -0.04817297048731896,
          -0.12069147545555851,
          -0.1381686711944409,
          -0.051488032760068705,
          -0.0603105210217475,
          -0.0934167344305842,
          0.13087680328599205,
          0.07808831884849664,
          0.3362646744464236,
          -0.0969580187591851,
          0.14276129524838585,
          -0.0045596118177980175,
          -0.17441857296500554,
          -0.04208082001543619,
          -0.1848210959427396,
          -0.05685790386933988,
          -0.04970245497051882,
          -0.042767275253870744,
          0.20783532363152807,
          -0.05905358402254206,
          -0.00727048153882376,
          -0.06367131560038179,
          0.05716413527561048,
          -0.04624456929034192,
          -0.06925809607208078,
          -0.043351605085067635,
          -0.046357404475741625,
          -0.09071746938461613,
          0.06352358855052072,
          0.2566120809312047,
          -0.03424946317832645,
          -0.05654705972461021,
          -0.17991926938071065,
          0.4099904459320488,
          -0.13245721087916046,
          -0.10820817892010048,
          -0.05140797751811748,
          -0.047410713731495836,
          -0.0322638818956901,
          -0.05276507410064039,
          -0.05141226048055305,
          0.09985564257304178,
          -0.04943522020276932,
          0.007999640703672616,
          -0.04311269545018245,
          -0.048151972320040835,
          -0.07798059259918227,
          0.1443798521481627,
          -0.052066026487489446,
          -0.05141156947439188,
          -0.1215911680895973,
          -0.09071140017980213,
          -0.08311893961361058,
          -0.04722976356176816,
          0.5029926208850931,
          -0.1905590350026814,
          -0.12109665800079661,
          -0.051325679720378284,
          -0.015205804912040335,
          0.14689036091990612,
          -0.05790155118900774,
          -0.08376181314284616,
          0.11748540304819662,
          -0.0803786275817143,
          0.035225607913628755,
          -0.14427022674924966,
          -0.03922747573078711,
          -0.05383844930179333,
          -0.051115818487120455,
          -0.013162885799177881,
          -0.044119545180478906,
          -0.048931078155143394,
          -0.04762204060176364,
          -0.07410331705470496,
          -0.04419582103224152,
          -0.0646398014334612,
          0.10977817905471658,
          -0.05103221602364765,
          -0.0481586138620615,
          -0.046855172040948086,
          -0.04999461838862492,
          -0.13148899773593492,
          0.16012300628451476,
          0.1344323291408596,
          -0.05027587291824559,
          -0.036830728802028166,
          0.04088277505750023,
          -0.045979753596222625,
          -0.04627154341911181,
          -0.03676084120691684,
          0.07493031919040705,
          -0.05108056931190621,
          0.13304766779330182,
          -0.10395095379682953,
          -0.051772397332439865,
          -0.051697622937426226,
          -0.050330941696787514,
          -0.11106691037083193,
          -0.04748233917662914,
          0.024905815089729763,
          0.25710527333476674,
          -0.053669377175621126,
          -0.048352809627295996,
          0.13376640666558878,
          -0.04030602327464807,
          0.03896436770808369,
          -0.03373933995131879,
          -0.045835604648620826,
          0.08294668261283547,
          -0.05235797069697175,
          -0.018630951368630376,
          -0.048266438380923565,
          0.08261205523680601,
          0.18677008440163953,
          0.02673316379251252,
          0.02884843055408694,
          -0.15348726608845487,
          -0.04553021049628597,
          0.5086810120451357,
          -0.042784879014821454,
          -0.05153386006945049,
          0.35379261009500246,
          -0.08214059810919179,
          0.2645032542957762,
          -0.048406519441705494,
          0.3402657662493505,
          -0.10409048545798597,
          -0.05039710476656737,
          -0.04946944651932047,
          0.42070126542791214,
          -0.0514964287311473,
          -0.11445875386831977,
          -0.051132136768458174,
          -0.1750145697507244,
          -0.0772677354563664,
          0.12240071471224692,
          0.13246068382830795,
          -0.05364693245646087,
          0.18990957878803286,
          -0.028454017833388093,
          -0.07946095292961464,
          0.2510817434103065,
          -0.04635211892623314,
          -0.10485499582136955,
          0.10940142668551268,
          0.001569715494912057,
          0.047634366380516324,
          -0.047622899610176524,
          -0.026087156189712774,
          -0.05070872230362119,
          -0.054312626350348496,
          -0.05721241156681343,
          -0.028467562320793477,
          0.1115220103238216,
          0.17080193228007412,
          -0.053482504962556195,
          -0.043330774585917525,
          0.12240405055503868,
          0.3200859509883337,
          0.09389800096470881,
          0.18805419510842245,
          -0.20455776479466317,
          -0.04837904676359508,
          -0.05043340757858333,
          0.10487974289620451,
          -0.092086836341486,
          -0.08424975816820567,
          0.1409531751132374,
          -0.05881607785609532,
          -0.1492467243190263,
          -0.04685948280712842,
          0.07381137710719458,
          -0.051761313384782064,
          0.16513651022883952,
          0.08273346269089522,
          0.07789071084167369,
          0.3251176801563279,
          -0.04999220855697635,
          0.03386528514986235,
          -0.0518365073366549,
          -0.05148446850669313,
          -0.11405676047873313,
          -0.021836005660513334,
          -0.04375396378407956,
          0.20996422388592023,
          -0.05018926291210078,
          -0.09604952384340931,
          -0.05893429821016067,
          -0.03858802714513477,
          -0.11791641557251478,
          -0.05219948996157814,
          -0.053362596170010955,
          -0.04909531738326671,
          0.16550680894220515,
          -0.04561072576092817,
          -0.048809208490503,
          -0.015413742245649127,
          -0.04929291635934999,
          -0.07439626024299967,
          -0.08792713078038154,
          -0.024742802313984968,
          -0.04160726282468445,
          -0.07695035785845024,
          0.12168519564040434,
          -0.22284602583969945,
          0.019058608575901973,
          -0.15409974422257278,
          -0.1414590369968354,
          -0.08785281603152705,
          -0.050290621169542526,
          -0.09559819561747007,
          0.10935721690669849,
          -0.04481842257855295,
          0.14134795288645802,
          0.10136216009330588,
          0.04249387550708267,
          0.10603906082003037,
          -0.06084550763064697,
          -0.045869715513678765,
          -0.05433019882920838,
          0.035476537550486346,
          -0.05550223692661625,
          -0.08613566117390445,
          0.06126767227859326,
          0.31358989596999715,
          -0.07114050617193161,
          -0.048994534035090166,
          0.09851690152344679,
          -0.05081724442024691,
          0.16389280590707409,
          0.006280702409354115,
          -0.10175529333832213,
          0.1904308641203523,
          -0.05007493426881569,
          -0.045097094248109,
          -0.05415665348676597,
          0.05076872978767161,
          0.1636984734811577,
          0.14565647429244002,
          -0.04409286051376767,
          -0.10613959085316164,
          -0.0502324562192213,
          0.05091801154043786,
          -0.10044703451251272,
          -0.008451192612329366,
          -0.049222326444895506,
          -0.1503233691230289,
          -0.1326251659348476,
          0.07967180335528706,
          -0.028932920607342403,
          0.04400110969692886,
          -0.040273623152924515,
          -0.002068258257910311,
          0.20745055701776308,
          0.22711595707151958,
          -0.04949427136573041,
          -0.16167650395198424,
          0.0021748855362228045,
          -0.046502329280421334,
          -0.06578911049650787,
          0.03754502903740775,
          0.035761949306951514,
          0.0051984711738365785,
          0.0064427538692626,
          -0.10132343506617175,
          0.08270153853880059,
          0.07733229610429299,
          -0.05006426826778242,
          -0.04994816170708424,
          -0.06382047938760976,
          -0.038593022507371816,
          -0.05234909629735295,
          0.14446092434684027,
          -0.14000747591329382,
          0.11205045252038673,
          -0.11315556294703003,
          -0.03458621685202539,
          0.11200077947050935,
          -0.008556492965838311,
          -0.04898999679299797,
          -0.022989394373676267,
          -0.057393214645693205,
          -0.12016786099995197,
          0.04739355131743511,
          -0.04600484981754278,
          -0.05130915701502705,
          -0.11597866121313279,
          0.15897551093527099,
          0.09186644115918015,
          -0.03156357546448671,
          0.23499099563094242,
          -0.026263119018031016,
          0.22231372145336223,
          -0.05387850880645996,
          -0.04954761035739303,
          -0.0585259963520256,
          -0.05743728944626966,
          -0.051295050411765575,
          -0.14575822870301783,
          -0.09701004025756584,
          -0.04941867662328981,
          0.12904224965923894,
          0.06886201031356315,
          -0.018819140362260286,
          0.28088983039253934,
          -0.05703767750793528,
          -0.07718669612527367,
          -0.010086008300421109,
          -0.06342080698490664,
          -0.11935102151962056,
          -0.022974402289920298,
          -0.05152255601012068,
          0.26710150792252185,
          -0.053435138373945604,
          -0.0449816810605436,
          -0.04482653932049962,
          -0.0967540487982402,
          0.054629447306444194,
          -0.23245456048105154,
          -0.0504814505160659,
          0.018617371823170924,
          -0.11617765873071523,
          -0.06043990849904826,
          -0.04218063838108793,
          -0.04402085007066607,
          0.005581561825220258,
          0.09450272979355855,
          -0.15065244626888544
         ],
         "xaxis": "x",
         "y": [
          -0.035118515479997746,
          -0.03264197610571994,
          -0.036711590887217475,
          -0.03601389315118965,
          -0.056936354580685127,
          0.06816278795718786,
          -0.158812805768543,
          0.14190692709350541,
          0.12462645738207152,
          -0.21583681517647219,
          -0.04363517481395011,
          -0.06980568600128018,
          -0.027585847284372404,
          -0.16339086935606378,
          -0.05539176015021494,
          -0.16498031056146584,
          -0.03243406397710578,
          -0.03403655428482611,
          0.08847024439175617,
          -0.03649861500171645,
          -0.03662282404359424,
          0.027497107463370578,
          -0.05367688771629526,
          -0.04805183352149496,
          -0.035548732546067274,
          -0.07689542240236795,
          -0.04796641689985038,
          -0.06949306726903091,
          -0.03452357698004198,
          -0.011808874078177736,
          -0.026391031642096843,
          -0.11462440392293284,
          -0.03780701780949807,
          -0.0013516853250591604,
          -0.02869360204105531,
          -0.03514591806628213,
          -0.0256714026460596,
          -0.03151354671859718,
          -0.019032242399677067,
          0.0040758680304465635,
          0.02583584734701887,
          -0.02907197439628981,
          -0.025757642028704012,
          -0.03108864257211247,
          -0.040646079952199474,
          -0.02837517491770943,
          0.0717199854287573,
          0.1487409080908769,
          0.008495611427567456,
          -0.020630657656942136,
          -0.03627714012425417,
          -0.14516569515919664,
          -0.015155613919407371,
          0.06067930235944895,
          0.05584884111440221,
          -0.0497208410737428,
          0.05725908871075346,
          0.044117471044225615,
          -0.036037735102465246,
          -0.030890864748168313,
          -0.007858458914749431,
          -0.05210702455179554,
          -0.03203217362017229,
          -0.0490264243876033,
          -0.036238538308745745,
          0.14134129404570545,
          -0.038791231663067464,
          -0.0410542301280944,
          -0.04070314451412732,
          -0.013792885844942229,
          0.02194333760842791,
          -0.09538118405960432,
          -0.1710277223515599,
          -0.030341146177476422,
          -0.12355647823912977,
          -0.03429134205885723,
          0.009393352953552855,
          0.07139200642060102,
          -0.14642519863858416,
          -0.02561831744769361,
          0.06871315601656802,
          -0.03041901490053537,
          -0.029092875734131364,
          0.006704456615614191,
          -0.04277564903382813,
          0.028830228615858083,
          -0.04082964331861091,
          -0.039267472049113,
          -0.014760986110324033,
          0.2665453246835967,
          -0.21855118894113512,
          -0.08640926400940852,
          -0.1242570278811108,
          -0.13310594367289538,
          -0.09982511573523724,
          -0.12812795137442098,
          -0.038343948066418096,
          0.10875667824495364,
          -0.04805648384189154,
          -0.04598344189116899,
          -0.05177069369284701,
          0.12324100690764822,
          0.15785417727431159,
          -0.024762522677941812,
          -0.031219529898137414,
          -0.03538859310786612,
          -0.032368282991419486,
          0.06609565484594876,
          -0.072381969037383,
          0.2817042368724724,
          -0.08705677587809701,
          -0.04850717051954798,
          0.1581902399970627,
          0.14137833320174006,
          0.07786011392296473,
          -0.1138793895247933,
          -0.12688615037679363,
          0.07058736705923506,
          -0.15871623910287583,
          -0.0018580910469317656,
          0.11453788920496798,
          0.08609455910667109,
          0.10003800327346711,
          -0.017901448923286923,
          -0.0454624106894472,
          -0.028557339256689376,
          -0.026326935049564345,
          -0.3488659036212463,
          -0.017394557780814255,
          -0.13650170944419854,
          -0.23835468420243963,
          0.003840742238700661,
          -0.05895739011325242,
          -0.032496176557139746,
          0.0036294847021334556,
          -0.02180893620335246,
          0.0522723074399259,
          0.016132181986901625,
          -0.03437489405727983,
          -0.03443117947066212,
          -0.03169226752081517,
          0.01703282914851836,
          0.3344098711703033,
          0.01577944817384868,
          0.06912102770772754,
          -0.03398195885667058,
          0.004216219947078279,
          0.08630127476028812,
          -0.0368949941571444,
          -0.03133672459934323,
          -0.0697119137714105,
          0.04239786558368114,
          0.12629351282425044,
          -0.10798029376693613,
          -0.035005311952077324,
          0.10294088456216524,
          0.08502505760473036,
          -0.1020349484346963,
          -0.04498133946841319,
          0.057788868687073294,
          0.04433026260095185,
          0.2002575493442452,
          -0.07463556899540078,
          -0.03884278802181131,
          -0.09676953202036764,
          -0.11265832601018169,
          -0.0660657490115324,
          -0.02853528152990193,
          -0.017898317369819505,
          -0.03548040390248705,
          -0.024922524237812202,
          0.015001214769013966,
          -0.03288358918844049,
          -0.05929180811692652,
          -0.023144753703877,
          -0.03511253620977969,
          -0.027526729142799633,
          0.0374625560324636,
          -0.035428998152744695,
          0.14396578337688676,
          -0.023299550373962745,
          -0.036086539314847337,
          0.08190996350129356,
          0.1335486773397496,
          -0.10610168209836444,
          0.11355984443341201,
          0.03699196674676952,
          -0.02974834764008313,
          0.03360587819606609,
          -0.014361599726773634,
          -0.039918524049892636,
          0.15916452838108677,
          0.1023236335883001,
          -0.01294605136002522,
          -0.28851828630075516,
          -0.036855749169922916,
          -0.02873269143769567,
          -0.035163974778893825,
          0.0897935050835529,
          0.12125243341113229,
          0.09777508353723123,
          -0.03229601738432435,
          -0.016251830704443644,
          0.16684579485255996,
          -0.03239712101891371,
          -0.03492049738033447,
          -0.1402949671405115,
          -0.043684647490623944,
          -0.029584920607356294,
          -0.03435661879071117,
          0.03754302359833375,
          -0.039346245449725384,
          0.25689221938495543,
          0.04347885434825281,
          -0.014188009211885268,
          -0.032870949433047664,
          0.1442669588087998,
          -0.03647628654641906,
          -0.024429066659508628,
          -0.09470432701997372,
          -0.022322996348072253,
          -0.14904441942161978,
          0.10916213770937185,
          -0.028109478455147035,
          -0.03363428590275603,
          0.012735414533219972,
          -0.03623854046964664,
          0.15712066923606144,
          0.0004480633829268182,
          -0.008385102485525913,
          0.12144309684318988,
          -0.006105569944576883,
          -0.028912034968120448,
          0.06384323789978322,
          0.16707184662015626,
          -0.027202919447716044,
          -0.04034980398505949,
          -0.036909408486980363,
          -0.14269734745669702,
          0.09425516163229489,
          -0.037102319661758865,
          -0.02478093172973292,
          -0.041056920915920996,
          -0.0011835303016837634,
          -0.03581362716971157,
          -0.062062434401584196,
          -0.018444336433071102,
          0.15565824711023638,
          -0.03219207186932816,
          0.1488856746894904,
          0.0031693636074960852,
          -0.0650291883094521,
          -0.10881971757502111,
          -0.02993538536735099,
          0.29886191423030317,
          -0.03485388069922366,
          0.18931700340641713,
          -0.03539088139510843,
          -0.03577546791204248,
          -0.04115728238637409,
          -0.03722983225288854,
          -0.05626402695831121,
          0.0023223762265018873,
          -0.024705549914600472,
          -0.03609082319877897,
          -0.13573198051692298,
          -0.028683245448827856,
          -0.11757230669600802,
          0.04285497327530857,
          -0.04668686137940344,
          -0.044704354945725326,
          -0.09174126062262272,
          -0.031842782731781274,
          0.010619553444957184,
          -0.03913562012357718,
          -0.04589458227875748,
          -0.03404244316199368,
          -0.041525625495472944,
          0.2293378255721077,
          -0.03472560332501462,
          -0.09779386151936796,
          -0.13181918856856342,
          -0.03353093894255771,
          0.21574641926767352,
          -0.03526125768226422,
          -0.04731224992588551,
          0.04083701981320377,
          -0.04416060562216139,
          -0.02773773458317705,
          -0.17074007053966228,
          -0.02645615204223268,
          -0.020097703252511145,
          -0.02246882278314071,
          -0.020896297551649182,
          -0.03316803468917199,
          -0.029755416893086972,
          0.07173762418601501,
          0.08793462656238332,
          0.03263882866473055,
          0.2926362612561126,
          0.1528304747299123,
          0.13753239008840265,
          0.022706742837380584,
          0.29222810298288615,
          0.005915092120305959,
          -0.03316390544463763,
          0.07820513644475886,
          -0.07334496532528227,
          0.015048828442798676,
          -0.00904077952017761,
          0.04370070373600682,
          -0.048678304354982334,
          -0.03231391132571145,
          -0.024298529819451704,
          -0.03858377049833225,
          -0.03570947996076881,
          0.16914604917982407,
          0.03123145433002007,
          -0.03299673163142061,
          -0.08396449751194,
          -0.07190888544609716,
          -0.0038864550489884496,
          -0.1810955155996804,
          -0.19092759682317734,
          0.07024367032238311,
          0.20431355852223426,
          0.2233659885924232,
          -0.20955781800726692,
          0.017848680059603876,
          0.17204340266140652,
          -0.03985236345439573,
          -0.02979581855175014,
          -0.12957967958524283,
          -0.03930087032254004,
          0.047832503338805135,
          -0.03162792318363664,
          -0.2242690724646863,
          0.03146190692079117,
          -0.033071918025407016,
          -0.03789584146645516,
          -0.03739878653697173,
          0.06544680990885782,
          -0.03638679903538657,
          -0.040641164245503514,
          0.16069805312533722,
          -0.031124621757982925,
          -0.17612877850102562,
          0.02122694276466389,
          -0.031128365992413032,
          -0.011342066857305166,
          0.16338133999469612,
          -0.010442241032753572,
          -0.03150389810847984,
          0.09402166609944995,
          0.02648562919376933,
          -0.06484505094876883,
          0.003139654200942199,
          0.19160499945707818,
          -0.03800537051174645,
          -0.036367453690170484,
          -0.0003696373214642896,
          -0.37769823613074727,
          -0.03293272056872192,
          0.08735724171596994,
          0.2297252476947368,
          -0.14637753980294435,
          -0.10333447333794041,
          -0.03952904011187308,
          -0.2352776449888017,
          -0.040396737983813887,
          -0.02049353986177552,
          -0.0306324507661756,
          -0.030099953595102227,
          0.12818194466636784,
          -0.030032385203796814,
          -0.21116010292937518,
          0.23483616753027012,
          0.2956147888554403,
          -0.03946071214672415,
          -0.02614928965583134,
          -0.03128527412880383,
          -0.0448459181887049,
          0.0291866774954979,
          0.09463466976886815,
          -0.019646668563705828,
          0.03556233788259502,
          -0.006480884011478049,
          0.10420149252055,
          0.007569973738504278,
          0.0037080151813658336,
          -0.005769466421057253,
          -0.034936381045126114,
          0.01166405563797832,
          0.25460977996694717,
          0.14088044990028098,
          -0.03189419653847402,
          0.13956068362674776,
          -0.03589872824336411,
          -0.02782353303593915,
          0.05940888047981385,
          -0.07121765937476833,
          0.06736142624804346,
          0.020201433002099173,
          0.1817616970864918,
          -0.00996386756545737,
          -0.023263461741984476,
          -0.040332281737546764,
          0.07007359213519689,
          0.09382185191063248,
          -0.018824615942102708,
          -0.08964614340884956,
          -0.025280143870906928,
          -0.04871749772547233,
          -0.005936672096727447,
          -0.036301864684220045,
          0.020353772769406146,
          0.1920367127055208,
          0.06988616337206095,
          -0.037783563586275264,
          0.08055053184157072,
          0.19040054966873157,
          0.21106651314357613,
          0.028216489630780085,
          0.06754961712055554,
          0.15229244907337405,
          -0.029119207047876666,
          -0.0340379461893913,
          -0.02182946318118002,
          -0.026937490417985557,
          -0.029686145333078583,
          -0.035838256099085246,
          -0.051380785219195806,
          -0.028166109453765024,
          -0.03655054083311036,
          0.07843515498715696,
          -0.036600649585818504,
          -0.03657044641778715,
          -0.023832708794910833,
          -0.032568821676320865,
          0.19987781351054978,
          -0.03235638344516052,
          0.32275915384062603,
          0.017066216999022263,
          -0.036125376326351016,
          -0.0342162952258113,
          0.04607633409940447,
          -0.02377726307828727,
          -0.005270665336917236,
          -0.03226753920170234,
          0.0628391347132426,
          -0.24181861373672642,
          0.10906016044065327,
          -0.023749720166016636,
          -0.03479693187625773,
          -0.03457646008785139,
          0.2581368409410771,
          0.2163727153132204,
          -0.03473019158944699,
          -0.04013760645801154,
          -0.021233247209691688,
          -0.03375109879052542,
          -0.019222773484970826,
          0.07189576491143634,
          -0.028930859831963963,
          0.2343349362103874,
          -0.03212612650660991,
          -0.031276296891675756,
          -0.04239456380797756,
          -0.03207428278881826,
          -0.02644532504009145,
          0.17697091011991853,
          0.10736613762712684,
          -0.03402514379557862,
          -0.010025852979048934,
          -0.017143788658848573,
          0.06353532201245253,
          0.021241326330876713,
          -0.03424736428036752,
          -0.03552670310002699,
          0.14072325014069434,
          0.07832780351217704,
          -0.042222603582563065,
          -0.03205610449465049,
          -0.03852739431033935,
          0.3342470214222856,
          0.040017966409129975,
          0.0377034715250301,
          0.06235750896053399,
          -0.04501119346232188,
          -0.07301467418506517,
          -0.035127908550972524,
          -0.040079121090326825,
          -0.030940409954856637,
          -0.0703114878815132,
          -0.16482658245115805,
          -0.03102801742599432,
          -0.04268624793063813,
          -0.10678150891840218,
          0.05039889746708852,
          -0.009034916041635498,
          -0.03298354127177715,
          0.033958218803693874,
          -0.0029507685700752425,
          -0.037446173656650664,
          -0.03038611647213623,
          0.03778080795557899,
          0.18450734480013573,
          -0.03623517493259782,
          -0.11264902830938059,
          -0.030864295029478933,
          -0.02937721147757314,
          0.06256757986219492,
          -0.030160384939457087,
          0.06122883578674417,
          -0.028597038779159905,
          -0.036703032210168775,
          -0.023196752736005383,
          -0.09758535912684708,
          0.043015891192164195,
          -0.03599747675856331,
          -0.026060596666723893,
          0.02679349058273154,
          0.13890766638144103,
          -0.03447152196231167,
          -0.014178416535563197,
          0.11486910195803694,
          -0.039987417289318476,
          -0.019273527152854752,
          -0.03842631942621193,
          0.01822714868603969,
          -0.03537065548825127,
          -0.03317115147728546,
          0.10277221534899102,
          0.26047905401039134,
          0.17492177159177263,
          -0.03261085064974213,
          0.05050653820060364,
          -0.057875644634560186,
          -0.03612669006907734,
          -0.031767711235447936,
          0.15632245179311585,
          0.11818553221730022,
          -0.016508899416427532,
          -0.01934173112906477,
          0.04505510152160464,
          -0.026499898104626694,
          -0.007204518398917883,
          -0.023297650723040315,
          -0.03359117292113285,
          -0.028116847705451496,
          -0.044658275775690814,
          -0.03382741337623381,
          -0.026915152207202538,
          0.03879243584989851,
          -0.023868542450529294,
          0.18445941025525292,
          -0.03206926680332547,
          0.05607329074481914,
          0.05954856994005688,
          0.2492559939777695,
          0.004067332758543517,
          -0.24143505364582615,
          -0.03951810586095888,
          -0.04219914341817937,
          0.204114559713103,
          -0.036923667677029225,
          -0.03234713202843433,
          -0.03832082900268777,
          -0.05650970428084672,
          0.17141955880145077,
          0.06360075601528681,
          0.010099885005049125,
          0.10114614324091757,
          -0.012888353536747903,
          0.15247342875637715,
          -0.038079919153078526,
          0.0175526106475224,
          -0.13915224346472246,
          -0.03241606811191813,
          -0.01068638175969065,
          0.09126950301492748,
          -0.03877312641451137,
          -0.027373277890352963,
          -0.030517172558110463,
          -0.09189777519563555,
          0.0038161404624689017,
          -0.034802868649872684,
          -0.03680328645007576,
          -0.026363629840549803,
          -0.09214006593215314,
          -0.25391030467362513,
          0.08376382123161434,
          -0.03268750763873319,
          -0.05404235535706162,
          -0.03818483897282229,
          -0.010044294672930656,
          0.02374103406791742,
          -0.027352030077820225,
          0.2312019324219234,
          -0.05029660882053455,
          0.006312127918734046,
          -0.0492117513281352,
          -0.1752311930295769,
          0.09527302052989794,
          0.05569823656929526,
          -0.034681362023049896,
          -0.030157144795084245,
          -0.031706496565557865,
          -0.051872585046545946,
          -0.02584052189178753,
          0.030585543795597275,
          -0.030840029256037467,
          -0.02595928010251555,
          -0.025111944671015667,
          -0.1868111579909244,
          0.026874746387279172,
          0.11250770114435792,
          -0.012184365108542842,
          0.21840165669510944,
          0.050483249089351735,
          -0.16650626445892946,
          -0.03391415335671926,
          -0.018143188030945803,
          0.0047968022414311955,
          -0.039169457907473074,
          -0.030913015275235434,
          -0.0314352621045051,
          0.312915982097542,
          -0.036785910018421075,
          -0.02889846186695332,
          -0.024377565825761123,
          -0.06950705989162807,
          0.006099436970523406,
          0.06783387352450741,
          -0.1997871899245697,
          -0.03259547394826883,
          -0.040172744045179565,
          -0.031411621025977644,
          -0.035740747494606005,
          -0.02283289820290344,
          -0.14517465065544458,
          0.08978998760291614,
          -0.06245192561535173,
          -0.04568537474568652,
          -0.026537855602037568,
          -0.05198475176606814,
          -0.04051868173813132,
          0.22401960719923988,
          -0.03395862953270261,
          -0.029337944449032486,
          -0.03439512262158498,
          0.10683041095471106,
          0.14702570187635877,
          -0.024797640702311673,
          0.0506698156422864,
          0.10764520499965971,
          0.07359004850048531,
          -0.03338438941700838,
          -0.022648611022723652,
          0.11265455908270937,
          0.1216598564327173,
          0.13364422310476579,
          0.04027205210228724,
          -0.03837499694032221,
          0.15287417180483198,
          -0.030090269599023806,
          0.041589850647537785,
          0.12045294266088274,
          -0.3320022356443378,
          -0.03186802042108572,
          0.03282455674114722,
          -0.03458014890384912,
          0.039558975543849614,
          -0.03316196092860341,
          0.0026824504822444174,
          0.2046702828741596,
          0.01428717558308425,
          -0.03643645496447751,
          -0.057239766111544126,
          -0.043587423942823104,
          0.06215397820001995,
          -0.02925745381251181,
          -0.10321611354992181,
          0.07544256843991201,
          -0.03263903152075129,
          -0.030189420082144328,
          -0.1327571144156532,
          -0.07886821200029547,
          -0.1427168896778505,
          -0.08681786470898142,
          -0.04042336317499775,
          -0.040316843434453124,
          -0.03563601287812241,
          0.17479506280739812,
          0.07148453358369815,
          -0.018931860309451848,
          0.2377888868263055,
          -0.0337408968495151,
          0.11894998217135597,
          0.007994793009475787,
          0.006059829257164512,
          -0.03493148806323794,
          0.10095804214567888,
          -0.03713639134073673,
          -0.0335955577310151,
          -0.027856433799884856,
          0.21792108959344605,
          -0.030389323473967722,
          -0.004658387492012227,
          -0.02482750693850742,
          0.04909407407930542,
          0.024298998464604624,
          -0.030554862948114807,
          -0.054014369067224115,
          -0.0315756492238418,
          0.3263962916641451,
          -0.035251081342176735,
          -0.017881879405018918,
          -0.02216499362884624,
          -0.006578328837401482,
          -0.029293416490637884,
          -0.036121548613024204,
          -0.031180526975342036,
          -0.018911693945398246,
          -0.035401774679601754,
          -0.19203622362299452,
          -0.05076631312770698,
          0.019455221521107072,
          0.06591325292188582,
          -0.0004901555010514565,
          0.04770603731856744,
          0.20991811341202057,
          -0.08955623686331937,
          -0.03979112135718245,
          -0.023561493027588372,
          -0.009747921452533016,
          -0.041671181230734426,
          0.07842570149296998,
          0.29742701065792104,
          -0.03483304781664071,
          0.008063767958143335,
          -0.028594745674184987,
          -0.03466043141633357,
          -0.03588857838300204,
          -0.026329215102335053,
          0.12630693159825956,
          -0.03261394571635318,
          -0.041923179554613756,
          -0.037522686506312734,
          -0.1589719180054911,
          0.292923271309559,
          -0.03630948839441574,
          -0.034436914981775577,
          0.1355367709289198,
          -0.029750891774670024,
          -0.18007155997616378,
          -0.03613430470134041,
          -0.040747669966400564,
          -0.026235584321406345,
          0.10936310963613607,
          -0.03259550055677618,
          -0.035398818676167725,
          -0.034418232966140105,
          0.18712156232271127,
          -0.03812557010740523,
          -0.08225150886689493,
          -0.041885970801693415,
          0.18690781604609497,
          0.05998737213118435,
          -0.04881563648651749,
          -0.03434208158976909,
          -0.03963929416447771,
          0.15379571185097865,
          -0.09865441932548324,
          -0.09973115723237054,
          0.02584208330295311,
          -0.0334825288172771,
          0.09656164309980786,
          -0.07269129979610688,
          0.03403680014428877,
          -0.03484155393717449,
          -0.0351075063538554,
          0.026875259920508703,
          -0.03789861381862035,
          -0.03433724778038137,
          -0.03619993055008438,
          -0.013319029788202489,
          -0.07419596960963168,
          0.07655972732173266,
          0.029328604751523484,
          0.024422432928487003,
          -0.03820185542767815,
          -0.033482430485201393,
          -0.025288507194971072,
          0.012027501183152198,
          -0.02795096986453868,
          -0.03863776950398124,
          0.20389451268556902,
          -0.036241887459402954,
          -0.033384229032506874,
          -0.03753435696678546,
          -0.03209612522723527,
          -0.034660461148615256,
          -0.023993263779790233,
          0.025060639170864703,
          -0.02846064141253282,
          -0.32675293550472184,
          0.10789875306847994,
          -0.12914237845736143,
          -0.023986430963203922,
          -0.034359947836165264,
          0.028022740556117722,
          -0.03294297182331332,
          -0.026043644887210136,
          -0.01780166980846737,
          -0.1952344775933368,
          0.05521871265105812,
          0.08729958667579105,
          -0.2171774547110349,
          -0.03730678227127001,
          -0.14336298251090374,
          -0.03973865465857675,
          -0.03204400322322573,
          -0.03590096736120378,
          -0.071083548136611,
          -0.03449987900335351,
          -0.03656390165607815,
          -0.03457977987121009,
          -0.08943025690817875,
          -0.27603235722717423,
          -0.12496288850937715,
          -0.023040959353731474,
          -0.08681715866338081,
          -0.019136848894930364,
          -0.03258399054023042,
          -0.16714392760952307,
          0.03763291233990631,
          -0.02984499970686883,
          -0.041608638596651995,
          0.02403367690515049,
          -0.07412983246887812,
          -0.1300449224568158,
          0.0015846322392393047,
          0.03927117511825084,
          0.007154112690018745,
          0.05407458507738822,
          -0.03014849344510161,
          0.07431174461107641,
          -0.049276611199047346,
          0.045546433445843276,
          0.021455038924401478,
          -0.0031427668383713307,
          -0.002000915610395108,
          -0.01508120626800018,
          -0.0277798113251039,
          -0.03635437413981513,
          0.025871848982582102,
          -0.03593281532870626,
          -0.0007544018103516879,
          -0.024577823298308946,
          -0.03376183526998227,
          -0.13698181613011617,
          -0.03557793801273742,
          0.014138165826113814,
          0.17946719989556864,
          -0.025662828591328315,
          -0.041063140221528426,
          -0.005008622680945049,
          -0.03825511954717238,
          -0.0015764820448249386,
          -0.03131766617397976,
          -0.028936308980666355,
          -0.028744431229161472,
          -0.03817607462561671,
          -0.10090802171987862,
          0.003604929960198712,
          -0.18274539025909836,
          0.07125869201616057,
          -0.02941810649819458,
          -0.010768397960862123,
          -0.04407404812744575,
          -0.11432379285270866,
          -0.03630453876987146,
          -0.08265350783678392,
          -0.04186396866696951,
          0.13412662465508873,
          0.07193417143817295,
          -0.027370217972537116,
          -0.03226998943050013,
          -0.026041527880292282,
          -0.040718066797356144,
          -0.04097325563173611,
          -0.011043050340162511,
          -0.00842749951058435,
          0.192973784387837,
          0.1357068054647098,
          -0.03002296030956601,
          0.07359547538604223,
          0.1511802296624304,
          -0.10740835314656255,
          0.0285392598319354,
          -0.021954943955741137,
          -0.03522412691904318,
          -0.2537828608997502,
          0.06582097623590123,
          -0.13274741819564043,
          -0.0398239592387402,
          -0.028672085517013203,
          0.07904248303525725,
          -0.020497053397943443,
          0.0028605208868063984,
          -0.023438992398786995,
          -0.024176813323938583,
          -0.03596020451702592,
          -0.03544136002461909,
          -0.05337872380026828,
          -0.028538833448284718,
          -0.04007731461126952,
          -0.03830747785734698,
          -0.03140338613193117,
          -0.0365962412886739,
          -0.029198103241602644,
          -0.03217012307546285,
          0.050797745463026,
          -0.031760406212580174,
          -0.16950658093901982,
          0.09921289595612276,
          0.026820902242984505,
          -0.03923527720413439,
          -0.03167694438294548,
          -0.03419508308552744,
          0.05600730215942379,
          -0.03635068423272069,
          -0.1718143140500062,
          -0.028021640879012044,
          0.0018494697009710616,
          -0.027440620531266693,
          0.12799797665290535,
          0.09361579389059003,
          -0.03834842773910318,
          -0.037365927055575225,
          -0.019918015614250995,
          -0.0331802409892308,
          -0.034778282664175084,
          -0.04206838506492924,
          0.14608225518427773,
          0.14064713407711776,
          0.2523558148021014,
          -0.024636911960438768,
          0.19392164900857506,
          0.09991357523190375,
          0.0902597630084366,
          0.0942539220952934,
          -0.10317437365822382,
          -0.10448890882387114,
          -0.051929274730511635,
          0.24985935245935895,
          0.06469210983832342,
          -0.028525220764558323,
          -0.024953059051703346,
          -0.04206673197429869,
          -0.0015205869559335474,
          -0.035737000967330415,
          -0.03609740295157786,
          -0.030359069389354138,
          -0.02718121530956879,
          0.13909039047547714,
          0.23288924505565622,
          0.01499044709914478,
          -0.031489771883166595,
          -0.033610116505404346,
          -0.03085415450722616,
          -0.03846445773627122,
          -0.03222001917295432,
          -0.031653241816734685,
          -0.02797867052666744,
          0.004249392725793212,
          -0.034501742392860045,
          -0.015980141193771016,
          -0.13157006733268964,
          -0.0357298486975123,
          -0.029846700071729505,
          -0.039558988744329025,
          0.10659696026409998,
          -0.029094835285894436,
          -0.03862461329769082,
          -0.0035770673523430334,
          0.0616121965568925,
          -0.03790871580684748,
          -0.03353636314585316,
          -0.06325245829951673,
          0.11118728362373059,
          -0.036189428212412944,
          0.0839687244323005,
          0.08242657266432744,
          -0.0033867430167858923,
          0.21545094875179652,
          0.00859255936496003,
          0.1004667580397906,
          -0.03561534202959812,
          -0.006308380899663693,
          0.038540772198975205,
          -0.04083776792388031,
          -0.037063328300417316,
          0.03197928041180049,
          0.07036381344844485,
          -0.0323952503516606,
          0.028243660813374875,
          -0.17544738129119375,
          0.1466169834454094,
          -0.030412497033640625,
          -0.06168719224023238,
          0.03151005308136164,
          0.012401797461467998,
          0.12083356822766077,
          -0.02323487606087921,
          0.06013055881420683,
          0.07300123148462094,
          -0.010303662096829504,
          -0.027303618909524173,
          -0.03706064302310563,
          -0.033798090171670105,
          0.11578360902014839,
          -0.029270178126500457,
          -0.03580564630513093,
          -0.038238294749801,
          0.06203664500651473,
          0.12255103131982185,
          0.053793501555861455,
          0.0632198142298244,
          -0.0383697524622729,
          0.002995964223727799,
          0.04229487853575222,
          0.07333693668881879,
          -0.03938286985769032,
          0.13862836283268956,
          0.16886015515234823,
          0.026369890286996808,
          0.1948065398246214,
          0.032054520623406524,
          -0.09525324693554732,
          0.09564192503415721,
          -0.03465415625200918,
          0.05512657162554593,
          0.058136671663485906,
          -0.04328039115554477,
          0.052858842698521466,
          -0.043944131743190847,
          -0.05402447455543705,
          0.019857662200047563,
          -0.02043743541336024,
          -0.03675401373167566,
          -0.03508446331713263,
          0.050060725005417396,
          0.13075330025230486,
          -0.03425836758594574,
          -0.03735193515889117,
          -0.036411649018944926,
          -0.02746437353019147,
          -0.030635004328066023,
          -0.03675734481284149,
          0.12548695055805378,
          -0.036675893788595065,
          -0.0334706686691714,
          0.10062725503731253,
          -0.03276490872405816,
          -0.03756264653832019,
          0.10021009260138,
          -0.03038344337850548,
          -0.09262670587483672,
          -0.03433273812361031,
          -0.03836899556507201,
          -0.027561536397956794,
          -0.03664501710126504,
          -0.03767503528693209,
          -0.03190001956582986,
          -0.03657612000477994,
          -0.08948689841613859,
          0.1919264039165537,
          -0.0275501246943787,
          0.31388141279462195,
          -0.014107486827252009,
          0.23609115594262348,
          -0.03595147710160831,
          -0.02973195548481958,
          0.05374522685841426,
          0.21169735592861952,
          0.08988584304693752,
          0.17642369121839785,
          0.06329301239360911,
          -0.020251572342500107,
          -0.022916221721931706,
          0.05495316857360678,
          -0.038232643064183475,
          -0.024249123781450395,
          0.05439625662061456,
          -0.2310568374608528,
          -0.0430918550301346,
          -0.05341132252743348,
          0.014631287125563018,
          -0.008889115998423227,
          0.026374463630180697,
          -0.009126066395359242,
          0.1482912873473642,
          -0.038140108794200475,
          0.00019441177225041213,
          -0.10185368466488293,
          -0.03212767192979653,
          -0.03353158015929672,
          -0.033842859747143725,
          0.15700003870247362,
          0.1594158131944064,
          0.20655398547086523,
          -0.02626354959906207,
          0.022745885519035104,
          -0.05086898460250857,
          -0.029361801634695008,
          -0.0005694420548843701,
          0.0136016061921231,
          -0.030421822635279743,
          -0.031100091367777586,
          -0.024648965283823432,
          0.055543776767884585,
          -0.03361924124470274,
          0.15619979055345212,
          -0.036165329833673036,
          0.2106845916128788,
          0.14870333979748168,
          -0.03318712340790593,
          -0.026332989500471665,
          0.0011644173892929712,
          -0.09204035694475211,
          0.0871224191550659,
          -0.03608633542540212,
          -0.19708356730961035,
          -0.03164607528068438,
          -0.03990924051999187,
          -0.02011882416546421,
          -0.03599022260356882,
          0.11901343971742451,
          -0.020726816236242503,
          -0.03490174895305005,
          0.08566594546764272,
          0.089292505400902,
          0.1269625966650537,
          -0.046406632247513006,
          0.05724476680691798,
          -0.037529838164076665,
          -0.026084347860621516,
          -0.005126123581317928,
          -0.04300526409855749,
          -0.03661253719866565,
          0.24608179239672615,
          -0.006845966439844948,
          0.023956024027088973,
          -0.28802801108399395,
          0.06855946187654681,
          -0.06782283663180683,
          -0.005057533357122233,
          -0.05421552370371509,
          -0.035171549113132146,
          -0.04025135461010165,
          0.021310496272157826,
          -0.02703239039860613,
          -0.02278303251362884,
          0.1692167921950576,
          -0.16350287335192673,
          -0.04834216176680832,
          -0.02809937930135131,
          0.1394525284064466,
          0.09720830367972176,
          0.03958304639577502,
          -0.032768217014851456,
          0.10727722574044853,
          -0.03186382615963477,
          -0.029704013902183708,
          0.1323425898752022,
          0.07712685204873639,
          0.12906786902506442,
          -0.03292336670520716,
          0.03663608306789876,
          -0.04742264143489576,
          0.00946488060677343,
          -0.035381839469928275,
          -0.010386778394644145,
          -0.03463244547999361,
          -0.20607030730495407,
          0.06486285922262768,
          -0.06245255837550721,
          -0.03599869662899402,
          -0.005110653023136425,
          -0.05396249170380386,
          -0.03727265488997098,
          0.25267586925486596,
          -0.19089033495016766,
          -0.03656139152935234,
          -0.02147111355874036,
          -0.02726524627039814,
          -0.11529936321434908,
          -0.02398309688019671,
          -0.059509740658958116,
          0.06043028851326507,
          0.1642765885714316,
          -0.006778581035731443,
          -0.03971939538657661,
          -0.02713838262611966,
          -0.03696818116150946,
          -0.2346845708697383,
          0.1837591858208592,
          0.020573000270265814,
          0.08890480153160717,
          0.05052648322192216,
          -0.03632804353571897,
          -0.0358922023666349,
          0.08019794963894823,
          -0.0350545685894586,
          -0.02854502333879047,
          -0.06133188813509003,
          0.10437230602290004,
          -0.03133734843598289,
          -0.09898170909535405,
          0.1611443416929856,
          -0.032653728338566224,
          0.09028664462561821,
          -0.02532737520705479,
          0.07874905163423022,
          -0.03603346190307034,
          -0.03008062521837245,
          -0.02704812296496738,
          -0.02765870382420895,
          -0.05228533847416161,
          0.08242047295252079,
          -0.03824765186326648,
          -0.03572471440735645,
          -0.03948438158982685,
          0.2927203919121789,
          -0.03716210250243262,
          0.009072131237037793,
          0.10934977746548248,
          0.035633252290492246,
          -0.03439047042433524,
          0.03487263875496599,
          -0.012746604576864317,
          -0.034074216767078905,
          0.0447181320191642,
          0.02126104330033009,
          -0.011028331738524567,
          -0.027967251387279284,
          0.07766912863697666,
          0.07665679141825159,
          -0.21475811150589097,
          -0.06555494641202626,
          0.06280574584813717,
          0.1760025482151212,
          -0.03762029088684283,
          0.08238493936893888,
          0.0146941476673629,
          -0.0028405375053424287,
          -0.03555424663734528,
          -0.07930451589191206,
          -0.023480964391372417,
          0.1552754796123577,
          -0.040475040716532656,
          -0.027755491965151514,
          -0.07337205574332233,
          -0.038311846327893646,
          0.18270245539095828,
          -0.04377966358883991,
          -0.023411024590888313,
          -0.04024806756613623,
          0.046928569373944164,
          0.025546011911310267,
          -0.03980339245752068,
          -0.032486385392617716,
          -0.03281021568840427,
          -0.029999924843474638,
          -0.029456333588176436,
          -0.018408914660283812,
          -0.13654628198683252,
          -0.05013331048733961,
          -0.07529725583937602,
          0.059079276202900294,
          -0.04091094735832523,
          -0.2644780216258669,
          -0.05446996460495353,
          0.016559220377019616,
          -0.03478332790460518,
          -0.03423121520047992,
          -0.03382245199777445,
          -0.15531119050995357,
          -0.04171869995674604,
          -0.31793971027844226,
          0.00041307890596434244,
          -0.02570432750969788,
          0.09730667307342213,
          -0.10705471658806169,
          -0.038833724032609034,
          -0.036505688718521966,
          -0.03143944796946441,
          -0.004996266442873926,
          0.06279938247666006,
          0.0022997741451095503,
          -0.06111337050750327,
          0.11219127168571694,
          -0.029129382130239235,
          -0.03497850882221863,
          -0.031138331739744524,
          -0.008175197915226045,
          -0.03341364534413183,
          -0.018581851298658466,
          -0.030469756111924602,
          -0.03637710617400545,
          0.2656743171133466,
          -0.029298446079292332,
          -0.031828930081802084,
          -0.15760022790255984,
          0.09484841385573275,
          -0.0342694794673496,
          -0.11874734014767684,
          -0.03512602701452895,
          0.046995331244973716,
          0.09068531862412556,
          0.08604115616533944,
          0.027666516567311387,
          0.1290638817482603,
          0.006426864708209482,
          -0.034972075615290095,
          -0.017664900744872827,
          0.05456685083177133,
          -0.033640064917808285,
          -0.03757547570617224,
          0.13518526762150052,
          0.057349558516957035,
          -0.030862075794549703,
          -0.035388798775493405,
          0.1851828815068634,
          0.11394928254883764,
          -0.05670833430046084,
          -0.03817171012380728,
          -0.09247711741814729,
          -0.15142021921438986,
          -0.1075249931832644,
          0.0031085940390301312,
          0.025638605448565093,
          0.12435636399264423,
          0.16373709622547275,
          0.16663936393150913,
          0.052496330210489335,
          0.3499692609779615,
          -0.01596571341299341,
          0.05978016388090834,
          0.11980313891981764,
          -0.03960175120782512,
          -0.029195345422612116,
          0.06064898105572828,
          -0.04955802972028197,
          0.08651443528778607,
          0.28030605069229586,
          0.040207437465065346,
          -0.12131782375829765,
          -0.08631030605360102,
          0.17755155241296208,
          -0.03932753869248103,
          0.20133762421822793,
          -0.02631163096499516,
          -0.0345435309360033,
          -0.027691554187194708,
          -0.027537358792785443,
          -0.02771921000593308,
          -0.07508483583506834,
          -0.020358331498879407,
          0.024852798769152286,
          -0.03155905657492973,
          -0.01244915815061695,
          -0.02831214908624243,
          -0.02969357215992778,
          0.01903386585211983,
          -0.06374468956677169,
          0.22873475491058073,
          -0.043164734037901706,
          -0.036648746290168226,
          0.17061925859262966,
          0.0972049036855095,
          0.1072967114222566,
          0.03431580469884129,
          -0.023259691955954932,
          -0.02753055158137101,
          -0.05535742855576228,
          -0.03756159054327949,
          -0.037362201202450325,
          -0.1297963700902234,
          -0.022416807746550495,
          -0.0782781218138141,
          -0.04230404541917495,
          -0.03238814893317154,
          -0.014473273002786119,
          0.005027900966779872,
          -0.03833305415001921,
          -0.031927826277418664,
          0.0679733620120655,
          0.019980584878911342,
          0.0009142293313545865,
          -0.03745753861395519,
          0.3817524738359661,
          0.20738140946251804,
          0.07445809507693818,
          -0.04129307842111993,
          -0.02396937759875666,
          -0.09204217617284306,
          -0.012280870168216393,
          0.025114538448618957,
          0.06411933572710755,
          0.004974211509344099,
          -0.026780956521518722,
          0.13238533196619107,
          -0.03155934186276954,
          -0.038330751809663215,
          -0.021154155653974868,
          -0.03050076236208188,
          -0.03402201554963766,
          -0.034715615268750714,
          -0.03466962242418118,
          -0.010883621600097038,
          -0.027250909653830712,
          -0.02959422038476473,
          0.0809686254958265,
          -0.025203875477172445,
          -0.023767516785219316,
          -0.03495377665015554,
          -0.037179492979308754,
          0.07199096348162441,
          0.030388013833316924,
          -0.12981997269788012,
          -0.03612442789238718,
          -0.04016736195516767,
          -0.008956845622737275,
          -0.031706677593435054,
          -0.03236071236940002,
          -0.031217076945767645,
          -0.03164824469099032,
          -0.040083110517383204,
          0.08196202528744444,
          0.04408075514843714,
          -0.03929522167232966,
          -0.0390834642590443,
          -0.03578534036216165,
          0.06359913486803662,
          -0.028575251823562672,
          -0.11756514110427807,
          0.07863667269609488,
          -0.03880137156598698,
          -0.036009254252066906,
          -0.06960111523354459,
          -0.03380903628303012,
          -0.05335301618984006,
          -0.02336303019766805,
          -0.0442563099376721,
          0.054742827988042704,
          -0.03751630579618613,
          -0.012142921817657727,
          -0.03224218253672653,
          -0.2122674870239034,
          0.04918710578932798,
          -0.13221991899650865,
          -0.02913136650268554,
          0.13840918562119242,
          -0.029620134791961045,
          0.1516717743139901,
          -0.02934220916664834,
          -0.03690858277418099,
          0.20993477181645206,
          -0.0025400284471312506,
          0.14032298027472276,
          -0.030756939009723212,
          0.15495101158812644,
          0.04633568531716657,
          -0.02705825612154878,
          -0.035685411171262366,
          -0.008930800964844549,
          -0.03516841011784246,
          0.04935330051671373,
          -0.0352569840842644,
          0.17349552493533674,
          -0.004381842903347877,
          0.013047044856803873,
          -0.10645625363987313,
          -0.025550088282451176,
          -0.05597431295266734,
          -0.0444353370263416,
          -0.0016042042933262024,
          0.21250994545896446,
          -0.03310426225795417,
          0.036515441384698345,
          0.04556203780753377,
          -0.06446369703291376,
          -0.025580917904345225,
          -0.03319130195624085,
          -0.02466115916760381,
          -0.04397359607122961,
          -0.0353787744808413,
          -0.026487104469138913,
          -0.06389527414365054,
          0.04962071893098591,
          -0.09510934794451932,
          -0.0410654514144753,
          -0.02688646071935624,
          0.012903245019659842,
          0.02671975514111833,
          0.03496298662440334,
          0.1369596299368893,
          0.21338935366225664,
          -0.029406878408184543,
          -0.038123878832587395,
          0.06453158916038325,
          0.02321116442790277,
          0.017464252940700725,
          0.10005768475305711,
          -0.024320093204210306,
          0.1433996254316649,
          -0.03086389877928315,
          -0.2058051109704628,
          -0.03864327742193096,
          -0.022664310230277294,
          -0.05215360627422751,
          0.08434476544529826,
          0.14960180776900628,
          -0.0360358585953311,
          0.03895247988644624,
          -0.03770109551691776,
          -0.037654970724463915,
          0.08644756133790699,
          -0.03120717553549868,
          -0.027678612324026252,
          0.14171056486997383,
          -0.02265377655914964,
          0.016796039714709332,
          -0.028329478102736203,
          -0.02404055511824242,
          0.07037006989527125,
          -0.04030837979656796,
          -0.04338906966067976,
          -0.03220873529054326,
          -0.029008268526922787,
          -0.03423574721999366,
          -0.03536115690698311,
          -0.07078750920526157,
          -0.035328415752245865,
          0.0007252041317930574,
          0.0032976622737090166,
          -0.013126211220385212,
          -0.028563571190535854,
          0.0020338412058318843,
          -0.10139633841928151,
          0.21484352484637886,
          -0.10725212714431585,
          0.11318348487054034,
          0.13010128359606665,
          0.04971773838428797,
          -0.0367852361239582,
          0.006856862292924641,
          0.1196928413613038,
          -0.03504467672522098,
          0.14817224413622204,
          -0.13237158780003794,
          -0.1323099353582666,
          -0.2769719727710885,
          -0.032857364256151,
          -0.03317353794261057,
          -0.021902638765567962,
          -0.11553639364257914,
          -0.024914601184117532,
          0.030025080960265016,
          -0.12721167255655266,
          0.15657611024255666,
          -0.0006905719366252171,
          -0.03541036740285036,
          -0.11026558829525308,
          -0.03371780419598414,
          -0.36315039536377286,
          -0.02635171344947731,
          0.050193545365030366,
          0.04872225263279018,
          -0.037379747382100245,
          -0.03179984397452683,
          -0.03728131664128616,
          -0.1515530997359633,
          0.054039778455075474,
          -0.02683947709457266,
          -0.0425082820881494,
          0.13980555764460198,
          -0.024266899561163575,
          -0.14480757456166915,
          0.04053829026854937,
          -0.022844193338399103,
          -0.04356437713122497,
          0.11840660273321015,
          0.11719823943644495,
          -0.3443191773033166,
          -0.02170474766662075,
          -0.012021166196836797,
          -0.033474754094211495,
          -0.03546098390482999,
          -0.3607463412163102,
          0.2406566603260512,
          -0.035440363872021874,
          0.15849903667834195,
          -0.031207730613693127,
          -0.028737100436977345,
          -0.007228721153960717,
          -0.039273600606431855,
          -0.061602189218899185,
          -0.1090804876462332,
          0.12699802291301093,
          0.05045154099764427,
          -0.028158669838704,
          -0.08909323038188825,
          -0.03447341967786173,
          -0.02615271133338102,
          -0.013590523527996777,
          -0.022568425303164455,
          -0.039611302144613905,
          -0.049687819991035546,
          0.10684195406507967,
          -0.27011175668079496,
          0.070092695160801,
          -0.021093249654299925,
          -0.015966074893230396,
          -0.039921596529609436,
          -0.031498489557486416,
          -0.04757387990485281,
          -0.022589224121063133,
          0.048671358054823616,
          -0.02394493867683069,
          -0.031698969041511045,
          -0.03938101877279136,
          0.07660570607431218,
          -0.00032867478633858555,
          0.020973617088173035,
          -0.02570325808550008,
          0.021084072281893254,
          -0.07195373614324753,
          0.23613408730544533,
          -0.03363155062690182,
          -0.03601912323011392,
          -0.02788624819471324,
          -0.02265848816533754,
          -0.03787154293447767,
          0.11110116535040197,
          0.0479885348208217,
          -0.03554493663757643,
          0.1128274634177501,
          -0.08656360904393458,
          -0.03360753210765433,
          -0.06306062253411196,
          -0.02645702107703509,
          0.0002701464973814285,
          -0.051785059257738304,
          -0.01756771060514988,
          0.08614633825435783,
          -0.06551350555592009,
          -0.0332190326882996,
          0.10077770539490304,
          -0.039529141648216276,
          -0.030034243344109153,
          -0.022098639060434813,
          0.03663308769314873,
          -0.08609052100333328,
          0.29236733754335276,
          -0.039299862533287114,
          -0.03830826497425402,
          0.07613968708333892,
          -0.022571221938687696,
          -0.029440750044702958,
          -0.027626449193028813,
          -0.0778323027586127,
          0.1067811601264939,
          0.10698522072627194
         ],
         "yaxis": "y"
        },
        {
         "customdata": [
          [
           null
          ],
          [
           null
          ],
          [
           null
          ],
          [
           "Président d'ACDPN, Maître de conférences en Biologie-Biochimie. Mes tweets n'engagent personne et les retweets/likes ne valent pas soutien."
          ],
          [
           "Ecoathlète, Championne d'Europe xterra 2016-2017-2019,  \nDéveloppement durable CDOS Ardennes, ambassadrice Comité Ethique et sport"
          ],
          [
           "Directeur exécutif BU DS Orano. \nBU DS c'est 4000 Ingénieurs, Techniciens et Opérateurs pour le Démantèlement, la gestion des dechets et les Services associés."
          ],
          [
           "LREM avant / non-affilié maintenant / 🚫Gilets jaunes"
          ],
          [
           "Smart data is the new #bigdata. Cleverm8 conçoit et propose des produits d'IA différenciative en SaaS/API. #AI #CognitiveAutomation #AI #cognitive #SmartData"
          ],
          [
           "Etudiant en Sciences Politiques @UCLouvain_be | Président @AGLouvain | 🏳‍🌈·🌿·✊ | He Him"
          ],
          [
           null
          ],
          [
           "Journaliste - Reporter @ouestafnews -. Passionné du #Web | Community manager #Football"
          ],
          [
           null
          ],
          [
           "Néo interne de gyneco obs 👩‍⚕️"
          ],
          [
           "Chief Marketing & Digital Officer"
          ],
          [
           "✧  Phenicia     ♡ 　　　  .\n     ✩    CS:GO\n  *　　　　 ʚ🌸ɞ.　\n   Psychologie 　　　Bordeaux ✧ *\n       ✧ soutien TDS \n      Deathcore \\o/ Metalcore　　"
          ],
          [
           "👨‍⚕Etudiant en 4ème année de médecine\n\n📍Toulouse\n\n💊Pharmacien"
          ],
          [
           null
          ],
          [
           "lectureholic, féministe & entrepreneuse #inclusion #diversity #empowerment #education #santé mes tweets n’engagent que moi"
          ],
          [
           "Etudiant #D3 #medecine 25YO"
          ],
          [
           "Enseignant-chercheur en électronique @Universite_Caen @GreycLab  #médiationScientifique #livingLab #fabLab #LearningLab #InnovationPédagogique #curieux"
          ],
          [
           null
          ],
          [
           "Des cercles vicieux et vertueux, des boules de neige et des serpents qui se mordent la queue. Biologiste discret."
          ],
          [
           "#psychiatre #criminologie  #victimologie\nDocteur ès pervers narcissiques mais pas que. Homo sapiens migrans. L'âme soeur n'existe pas, cherchez pas."
          ],
          [
           "Grand Reporter à @BFMBusiness. Ex-JDD, La Tribune, Fig Eco, Nouvel Eco et Bateaux. Livres: \"L'Etat accro au tabac\" et \"Natixis, enquête sur une faillite d'Etat\""
          ],
          [
           "Scientist @CNRS @institutcochin studying macrophages and other myeloid cells as hosts for viral and non-viral pathogens"
          ],
          [
           "Analyser l’information médiatique, identifier les nouvelles problématiques dans les pays d’origine, de transit et d’accueil, diffuser une cartographie dynamique"
          ],
          [
           "Researcher & Lecturer @ Médialab, Sciences Po.\n\nEngineer, data scientist, mathematician.\nResearcher in complex systems and computational social sciences."
          ],
          [
           "Équipe de modélisation de l'épidémiologie et de l'évolution des maladies infectieuses (CNRS, IRD, Université de Montpellier)"
          ],
          [
           "Document@liste en Institut de Formations Paramédicales - Veille pédagogique & technique - \"On ne force pas une curiosité, on l'éveille\" (D. Pennac)"
          ],
          [
           "Senior Researcher \nMigration, digital technologies, biometrics, deportation of foreigners...\nSwitzerland, Turkey, France, EU..."
          ],
          [
           "Ingénieur-chercheur en modélisation statistique\nPour plus de justice, stop à la dictature sanitaire."
          ],
          [
           "Consultant Pilote de Projets Qualité et Sécurité des Soins, Management, Gestion de crise, Expérience patient, QVT, Simulation\nConseil & Formation"
          ],
          [
           "Ass. Prof. in philosophy of science (Sorbonne Univ.). Sociality, cooperation, consensus, diversity + phil. biology & economics.\nRégulièrement: #FilPhiloSciences"
          ],
          [
           "Chargé de la stratégie bas carbone à la communauté d'agglomération de La Rochelle. Stephanois de 💚, père de 👭 et dévoreur de 📚. Mes tweets n’engagent que moi"
          ],
          [
           "The kind of independent scientist people claim they want to hear from, until they dislike the conclusions they hear. Spectacularly combustible. \"a real person?\""
          ],
          [
           "Interested among other subjects in microgrids, energy storage, renewable energies and electric mobility."
          ],
          [
           "VP of R&D @truepic. CoIlaborator on @contentauth & @c2pa_org. Building countermeasures to deceptively-manipulated media and deepfakes. 🇺🇲🇨🇦🇪🇬"
          ],
          [
           null
          ],
          [
           "Postdoc LSCE/LOCEAN/@Sorbonne_Univ_, machine learning for oceanography. 🇲🇦🇫🇷 @africaiknow"
          ],
          [
           "Engineer & PhD in Food Sciences; working as scientific affairs in Danone, I love yogurt and feel strongly concerned by nutritional societal issues 😉"
          ],
          [
           "#Communication #Scientifique ● Mes tweets n'engagent que ceux qui les lisent..."
          ],
          [
           "Co-Founder Creatiwity, Cardioid Games.\nSwitch : SW-7133-1456-5425\nhttp://covid-journal.org"
          ],
          [
           "Sensibiliser au diagnostic précoce des maladies rares #rarediseases #rheumatology #ethic #literature #pain #immunology #muscledisease #IA #chess #atdqm"
          ],
          [
           null
          ],
          [
           "Médecin généraliste et chef de clinique. Ancien enseignant chercheur spécialisé en stats.  Enseignant/tuteur/directeurtheses etc. Gamer geek qd jai le tps!"
          ],
          [
           "« Toi qui chemines, il n'y a pas de chemin; le chemin se fait en marchant »"
          ],
          [
           "Étudiant à l'ENSIM, diplômé d'un DUT MP, je souhaite travailler dans la #robotique et les #IA !\nJ'adore les arts touchants à l'univers #manga, #SF et #comics :)"
          ],
          [
           "Savoir*Devenir, Sorbonne Nouvelle,TRANSLITERACY, MOOC, Education aux Médias, Littératies numériques, Diversité culturelle, Gouvernance d'Internet, UNESCO, UE"
          ],
          [
           "J'adore la musique metal/rock, les jeux vidéos. Je suis fan de jeu survie, horreur, RP... Ancienne joueuse FailyV: Angel Lemmy. J'écris aussi des poèmes."
          ],
          [
           "Je ne suis ni pour, ni contre. Bien au contraire! 🔴⚫️"
          ],
          [
           "soignant itinerant, toujours joyeux, jamais content ! #Fitness #BodyAttack #CrossFit"
          ],
          [
           null
          ],
          [
           "Postdoc in Numerical/Analytical Relativity: @LIGO, @unibirmingham. Formerly @UIBGRG, @SussexUni & @cardiffPHYSX. Opinions my own. 🏴󠁧󠁢󠁷󠁬󠁳󠁿 🇦🇹 🇪🇺"
          ],
          [
           "Saas enthousiast, human centric (honest, direct, benevolent) and metrics addict + investor via @sriwgroup @wingbydw, ex @serenacap"
          ],
          [
           "We're a not-for-profit research and campaigning organisation aiming to make the Eurozone & #ECB support a fair, democratic and sustainable economy."
          ],
          [
           "Mathematician/Fellow, Mentor/Adviser #EUvsVirus, Cofounder @pubreform @freejournalnet @SciOpenness, Strategy @oa_math #OpenScience #FairOA #FBPE #FBR"
          ],
          [
           "Heliantis experimentations. Prestataire de services en experimentations agronomique, Selection et production de semences."
          ],
          [
           "Muséographe // #Sciences #Space #Astro #Culture //"
          ],
          [
           "Farmer, CCA, IFAO/NSCIA Director, Pioneer Rep serving W Norfolk & E Elgin since 1972, Balancing Economy&Agronomy, Curer of Meats&Brewer of Beer. Life is Great!"
          ],
          [
           null
          ],
          [
           "Securing #land to create #community-owned #biodynamic #organic #farms for people & #planet-friendly #farming. #communityshares #ecological #food"
          ],
          [
           "The BC2 Basel Computational Biology Conference is Switzerland's main event in the domain of Computational Biology, find out more: https://tinyurl.com/y6grazad"
          ],
          [
           "Chercheuse, dyslexique et bien d'autres choses.\n#Psychology #Neuroscience #Ageing #MindWandering"
          ],
          [
           "Enseignant-Chercheur au laboratoire @FAST_orsay\nVice-Doyen de la Faculté des Sciences d'Orsay\n@UnivParisSaclay"
          ],
          [
           "Compte officiel d'ONU Changements climatiques. Également en anglais @UNFCCC, espagnol @CMNUCC, russe @RKIKOON & en allemand @UNKlima. Notre cheffe: @PEspinosaC"
          ],
          [
           null
          ],
          [
           null
          ],
          [
           "Welcome to the future of tomorrow."
          ],
          [
           "Follow me, I know where I'm going to :D I'm a roman catholic"
          ],
          [
           "On dit qu'au siècle prochain ou encore à celui d'après il y aura des vallées, des pâturages où nous pourrons nous rassembler en paix si on y arrive. G. Snyder"
          ],
          [
           "Pour être intéressant, soyez intéressé"
          ],
          [
           "Strategy prof at @IMD_BSchool. Helps people improve their decisions & problem solving. \nSomewhat dedicated triathlete."
          ],
          [
           "#Conférencière, #Coach #Auteure, CEO En haut de l’Affiche, formation Leadership, négociation. #Artiste EP #RebelleBienveillante  https://youtu.be/U-oMYan35tg"
          ],
          [
           null
          ],
          [
           "PhD in Bio - Nature Fan & World (Wide Web) Citizen - #Data naturalist #Genome #Food #Mind #Tech #Biomimicry"
          ],
          [
           "#bascarbone #teamarchi #teaminge #teamR&D\n@elioth @169architecture\nplus sur linkedin qu'ici : https://www.linkedin.com/in/meunierguillaume"
          ],
          [
           "PhD Pharmacologie, PharmD, Praticien Hospitalier; « Il vous est jamais arrivé de tomber sur un mec qu’il fallait pas faire c..? c’est moi ... » (in Gran Torino)"
          ],
          [
           null
          ],
          [
           "Ingénieur en solutions digitales pour le service public, fils d'agriculteurs. Père d'une fille. Entre France et Corée.  Lutte contre toute discrimination."
          ],
          [
           "Ça sortira pas d internet !"
          ],
          [
           "Homme de pub. Mari perfectible.\nPère aimant. Ami franc. Manager sérieux. Twitto insérieux. Citoyen bienveillant. Rendons 2021 meilleur."
          ],
          [
           "Utopiste pragmatique // Naturellement positif et optimiste //\n| C'est plus facile de s'indigner que de penser. | Leïla Slimani"
          ],
          [
           "#enseignant #lycée #SVT #formateur #CAFFA #IAN #numérique #auteurBD co-créateur de @Survive_On_Mars"
          ],
          [
           "Citoyen progressiste.  Et Malraux qui résonne : le vingt et unième siècle sera mystique ou ne sera pas..."
          ],
          [
           "History doesn't repeat itself, but it often rhymes.\n\nAlso on Gab and Minds as @JuliusRuechel"
          ],
          [
           "Docteur en médecine générale et\nmembre officiel de la team #LesRemplaçantsCesBranleurs, #nofakemed\n#MonMasqueTeProtège"
          ],
          [
           "comediante, tragediante, ragedediante.\n\nCo - auteur de chroniques youtube\n\n cortex libris : \nhttp://youtu.be/gyh49IGVAWg\nvous allez me dire : \nhttp://youtu.be/mJnv2dDTsRc"
          ],
          [
           "Directeur de publication @lemondelenergie. Journaliste et #CM freelance, ex-@Europe1 ; #énergie #renouvelables // Carte de presse 100 143"
          ],
          [
           "27 yo - Maman d'une jolie Louise - aide soignante en psychiatrie 🏥👵🏼 - végétarienne"
          ],
          [
           "AI/ML Sympathetic , Computer Engineer, Software Architect , Technical advisor for Government of Canada, philosophy, Senegal Ngaye Méckhé/ Québec St-Foy."
          ],
          [
           "Paléontologue bénévole @Le_Museum (CR2P, UMR 7207), recherche, fouilles, préparation... Sauropod systematics 🦕. Chef d'entreprise à mes heures perdues."
          ],
          [
           "Recruiting manager @Sanofi - sustainable future through innovation / Digital addict and 6-strings guitars player !"
          ],
          [
           "#COBOL #Perl #Sonar #Sodifrance #PascalAutourDuMonde #Neau"
          ],
          [
           "Spécialist in internet investigation,digital security,social media research,data journalism,freedom of information and reporting statisticsBloqué par #quatremer"
          ],
          [
           "Je défends les Lumières et l’universalisme de la raison humaine. La nuance n’est pas mon fort et je réponds aussi quand je ne sais pas 🤷🏼‍♂️"
          ],
          [
           "Directeur Expérience Clients Assistance de Covéa 🚀 Co-fondateur de Hi! #BrainHacks #SciencesComportementales"
          ],
          [
           "Gone fission. Interested in energy systems, publicly funded housing, public banking. Thats what the public in republic is about.\nMember of @Socdems Galway East."
          ],
          [
           "ma famille, mon vélo,entre De Vlaeminck et Francesco Moser, le Nord, le Cap Sizun et les Abruzzes."
          ],
          [
           "Lyna, your average trans girl. 34yo. .Je ne suis pas la panda rousse que vous recherchez #DealeuseDeCute (Elle/She)"
          ],
          [
           "Don't know what to put here"
          ],
          [
           null
          ],
          [
           "Pneumologue anti #tabac & pro #justicesociale🌺  . \n@cote_science    \n\n#nofreeLunch pour les docs .\nI dream things that never were and say why not: ...JB Shaw📖"
          ],
          [
           "Les Choses De La Vie.\nPfizer2+"
          ],
          [
           "Postgraduate degrees in maths & geopolitics.\nDebunk myths & lies spread against Jews & Israel. \nLe conflit israelo-arabe est une equation geopolitique complexe."
          ],
          [
           "reporter @TheIntercept \nhttp://theintercept.com/staff/sharonle…\nviews=mine \ntips: sharon.lerner@theintercept.com"
          ],
          [
           "blocage immédiat si insulte ou manque de respect..."
          ],
          [
           "✝️🇫🇷 #LaRacailleTue"
          ],
          [
           "I'm the woman on the silver mountain 🏔️\nBSc Electric Power Engineering, studying MSc in Nuclear Engineering"
          ],
          [
           null
          ],
          [
           "Délégué régional EDF en Bourgogne-Franche-Comté #BFC"
          ],
          [
           "Chercheur (et enseignant) sur l'addiction à l' #alcool, #amiens, #alcoologie, #UPJV, #inserm, #umr1247"
          ],
          [
           "Senior Director in Translational Medicine @kymabltd. Excited about science, immunology, antibodies and new therapies. Tweets and opinions are my own.🇪🇺"
          ],
          [
           "Belgian Screen Composer / une part d'ombre / champion / quartier des banques /\n\nmud flow, Lisza et cie.."
          ],
          [
           "Data science, drug discovery and everything in between. Views are my own."
          ],
          [
           "Infirmier Argentologue Diplômé d'état"
          ],
          [
           "Plateforme d'Ingénierie pédagogique et médiation des savoirs de la recherche vers l'enseignement en sciences (SVT et SPC) ENS de Lyon"
          ],
          [
           "Maitre de conférences au Muséum @Le_Museum, @ISYEBsp\n@ISYEB_UMR / Responsable scientifique des Editions du MNHN / Publications @Publi_MNHN"
          ],
          [
           "PostDoc/climate modeller at MPI-M with focus on the interaction of vegetation/land-use and climate, visualization & optimism. (All views are my own.)"
          ]
         ],
         "hovertemplate": "label=1<br>0=%{x}<br>1=%{y}<br>description=%{customdata[0]}<extra></extra>",
         "legendgroup": "1",
         "marker": {
          "color": "#EF553B",
          "symbol": "circle"
         },
         "mode": "markers",
         "name": "1",
         "showlegend": true,
         "type": "scattergl",
         "x": [
          -0.04762078392351863,
          -0.051406248543591215,
          -0.04933225767873756,
          0.1627643652483986,
          0.032099908666964945,
          0.20946482421984197,
          -0.04511344395644491,
          -0.006251766327591089,
          -0.00988650580683052,
          -0.040373846111991386,
          -0.015987188071324765,
          -0.05587179412796746,
          0.10616848252449973,
          -0.06514365249904859,
          -0.045487653190177,
          0.09241399001983554,
          -0.04995959942970012,
          0.011530065469251742,
          -0.04459878864536046,
          -0.017005260909092164,
          -0.03105443433308631,
          0.3100737324336313,
          0.038553905679168984,
          0.11929811038194023,
          -0.14276949146170628,
          0.16876395713740955,
          -0.10892943110247359,
          0.4129250664216317,
          0.08452119706638529,
          -0.08694436728125517,
          0.18575391366944763,
          0.19593692359538362,
          -0.1040562616758933,
          0.5862033450089259,
          -0.15184143812625658,
          -0.12722572757189604,
          -0.16444331427604725,
          -0.04928305894362854,
          -0.07498942104671906,
          -0.1498653057940584,
          0.09446233774032411,
          -0.0633615327109192,
          -0.005009472904083431,
          -0.04130430614229533,
          0.10996261207104888,
          0.1639658734670887,
          0.1924818429685881,
          -0.03523732444355355,
          0.19009665215315863,
          0.059017863132630646,
          -0.04700190361318642,
          0.0334808190167993,
          -0.10817237729278521,
          -0.08916730535864494,
          -0.19903654691639885,
          -0.05522855365867232,
          0.22600271015782808,
          -0.0342216798847349,
          -0.11602906483058668,
          -0.046506602655564507,
          -0.0991658064789908,
          -0.16767741231554908,
          0.009918679465426643,
          0.18083774774350228,
          0.008020584394675973,
          -0.056985315372738564,
          -0.047412863970308576,
          -0.19148749621443878,
          -0.08170627036890545,
          0.05057754687923989,
          -0.0025397574554074914,
          -0.07064340428489617,
          0.05346810287309099,
          -0.05211567184250088,
          -0.08063270042357637,
          -0.043376549618133094,
          0.10960601632921539,
          -0.0489980963682232,
          0.09558497500712967,
          -0.017824115680589482,
          0.0424269122073825,
          0.25628982789758464,
          0.05242299273268267,
          0.13031270601019096,
          -0.11045700560445477,
          0.2152095102203795,
          0.023314254677702262,
          0.18364157906256054,
          0.06418747328133623,
          -0.09474968089995692,
          -0.024545918205000274,
          -0.10647346576657146,
          -0.04522584968603682,
          -0.15934844047204108,
          0.38429480465572385,
          0.1658004085385591,
          -0.1639254389215061,
          0.2697280103910397,
          0.11456709533995567,
          -0.09331815798657186,
          -0.05289278388296841,
          -0.05094298056369044,
          0.26449496597883015,
          0.0021339483327274256,
          -0.06413490211781804,
          0.08564883044073632,
          0.03495997858624883,
          -0.14609607226797827,
          -0.05253042645014441,
          -0.008363763284286485,
          0.026782784302326796,
          -0.19337484435796037,
          0.049690569239385814,
          -0.19067922748883018,
          -0.04985683512554961,
          0.3388637804019926,
          0.13775471477833406,
          -0.23110479271448378
         ],
         "xaxis": "x",
         "y": [
          -0.03404218857376286,
          -0.03711736556104816,
          -0.03572126080217857,
          -0.046560723585321706,
          -0.06490096935968374,
          -0.09020221288783288,
          -0.042323543269467745,
          0.027980268753358253,
          -0.014803109291852827,
          -0.023786153635902703,
          -0.004856375002252063,
          -0.02425476425115683,
          0.11998502454642242,
          -0.009887596981057888,
          -0.02992301309138379,
          0.07346779230081159,
          -0.03344848616191234,
          -0.11382477585492728,
          -0.029746060409190152,
          -0.030759355396281933,
          -0.03715326658634943,
          0.06649281642168327,
          -0.14357671976544806,
          -0.025871387573492236,
          0.10462127536749467,
          -0.016870006625707527,
          0.06542967049482101,
          0.33468279794406963,
          0.03248216189007077,
          0.05333465400355462,
          0.07431727973599653,
          0.14263991422440478,
          0.04367884267853178,
          0.3281765563503237,
          0.12694721868602182,
          0.07246769234257679,
          0.15137387912286313,
          -0.03205325368664624,
          -0.004640050138220429,
          0.09946459377923311,
          -0.18885054170769736,
          -0.015440793068574408,
          -0.019185069018865835,
          -0.03582244527956817,
          0.011302724068234345,
          -0.03813088278060525,
          -0.16183553228423997,
          -0.0254818371853644,
          -0.05951915163647548,
          -0.2037115393112515,
          -0.05229000521073802,
          -0.06440289238823331,
          0.041143695346270104,
          0.027727892987116705,
          0.19305483078642177,
          -0.025197585625816993,
          0.1620643050749955,
          -0.007719762140392481,
          0.0713123822691631,
          -0.03244896377378071,
          0.03385307284701589,
          0.15402575287756362,
          -0.04555918348413357,
          0.10502531519379721,
          -0.026739640572852597,
          -0.03795816837886914,
          -0.03420092572727062,
          0.20982079231266224,
          -0.0098894536326798,
          -0.03177874787269619,
          -0.07629259645642682,
          -0.012346152104553318,
          0.05745087469248329,
          -0.03508664295540803,
          0.037187381334733746,
          -0.03467679053881565,
          -0.06177612095060587,
          -0.03136532878011556,
          -0.07225099950755723,
          -0.07958549734574527,
          0.04438175065203911,
          0.08623563445381457,
          0.06660525646524104,
          -0.13724572738089852,
          0.062307778783700044,
          0.09251534543604337,
          0.026127262205948236,
          0.14501000793069735,
          -0.023787520403239542,
          0.040981255027451806,
          -0.046151881017954664,
          0.04930094867329395,
          -0.03191823738649664,
          0.14897833740591437,
          -0.23013549762594368,
          0.18231582880225064,
          0.13923196788876396,
          -0.08638150160173304,
          -0.21010908544548276,
          0.01277415096171357,
          -0.03864935278527711,
          -0.012978187345050901,
          0.08556625061309756,
          -0.06932135514051296,
          -0.013196499801328457,
          0.06533848589078119,
          -0.1191642984599497,
          0.12810287121393538,
          -0.03470615104266218,
          -0.03021112304771337,
          -0.039503425422924184,
          0.17042356070989806,
          -0.0443468569798778,
          0.1682343867412736,
          -0.04503628364547972,
          0.16165087936757183,
          0.07343834431614422,
          0.24160937425891763
         ],
         "yaxis": "y"
        }
       ],
       "layout": {
        "autosize": true,
        "legend": {
         "title": {
          "text": "label"
         },
         "tracegroupgap": 0
        },
        "margin": {
         "t": 60
        },
        "template": {
         "data": {
          "bar": [
           {
            "error_x": {
             "color": "#2a3f5f"
            },
            "error_y": {
             "color": "#2a3f5f"
            },
            "marker": {
             "line": {
              "color": "#E5ECF6",
              "width": 0.5
             }
            },
            "type": "bar"
           }
          ],
          "barpolar": [
           {
            "marker": {
             "line": {
              "color": "#E5ECF6",
              "width": 0.5
             }
            },
            "type": "barpolar"
           }
          ],
          "carpet": [
           {
            "aaxis": {
             "endlinecolor": "#2a3f5f",
             "gridcolor": "white",
             "linecolor": "white",
             "minorgridcolor": "white",
             "startlinecolor": "#2a3f5f"
            },
            "baxis": {
             "endlinecolor": "#2a3f5f",
             "gridcolor": "white",
             "linecolor": "white",
             "minorgridcolor": "white",
             "startlinecolor": "#2a3f5f"
            },
            "type": "carpet"
           }
          ],
          "choropleth": [
           {
            "colorbar": {
             "outlinewidth": 0,
             "ticks": ""
            },
            "type": "choropleth"
           }
          ],
          "contour": [
           {
            "colorbar": {
             "outlinewidth": 0,
             "ticks": ""
            },
            "colorscale": [
             [
              0,
              "#0d0887"
             ],
             [
              0.1111111111111111,
              "#46039f"
             ],
             [
              0.2222222222222222,
              "#7201a8"
             ],
             [
              0.3333333333333333,
              "#9c179e"
             ],
             [
              0.4444444444444444,
              "#bd3786"
             ],
             [
              0.5555555555555556,
              "#d8576b"
             ],
             [
              0.6666666666666666,
              "#ed7953"
             ],
             [
              0.7777777777777778,
              "#fb9f3a"
             ],
             [
              0.8888888888888888,
              "#fdca26"
             ],
             [
              1,
              "#f0f921"
             ]
            ],
            "type": "contour"
           }
          ],
          "contourcarpet": [
           {
            "colorbar": {
             "outlinewidth": 0,
             "ticks": ""
            },
            "type": "contourcarpet"
           }
          ],
          "heatmap": [
           {
            "colorbar": {
             "outlinewidth": 0,
             "ticks": ""
            },
            "colorscale": [
             [
              0,
              "#0d0887"
             ],
             [
              0.1111111111111111,
              "#46039f"
             ],
             [
              0.2222222222222222,
              "#7201a8"
             ],
             [
              0.3333333333333333,
              "#9c179e"
             ],
             [
              0.4444444444444444,
              "#bd3786"
             ],
             [
              0.5555555555555556,
              "#d8576b"
             ],
             [
              0.6666666666666666,
              "#ed7953"
             ],
             [
              0.7777777777777778,
              "#fb9f3a"
             ],
             [
              0.8888888888888888,
              "#fdca26"
             ],
             [
              1,
              "#f0f921"
             ]
            ],
            "type": "heatmap"
           }
          ],
          "heatmapgl": [
           {
            "colorbar": {
             "outlinewidth": 0,
             "ticks": ""
            },
            "colorscale": [
             [
              0,
              "#0d0887"
             ],
             [
              0.1111111111111111,
              "#46039f"
             ],
             [
              0.2222222222222222,
              "#7201a8"
             ],
             [
              0.3333333333333333,
              "#9c179e"
             ],
             [
              0.4444444444444444,
              "#bd3786"
             ],
             [
              0.5555555555555556,
              "#d8576b"
             ],
             [
              0.6666666666666666,
              "#ed7953"
             ],
             [
              0.7777777777777778,
              "#fb9f3a"
             ],
             [
              0.8888888888888888,
              "#fdca26"
             ],
             [
              1,
              "#f0f921"
             ]
            ],
            "type": "heatmapgl"
           }
          ],
          "histogram": [
           {
            "marker": {
             "colorbar": {
              "outlinewidth": 0,
              "ticks": ""
             }
            },
            "type": "histogram"
           }
          ],
          "histogram2d": [
           {
            "colorbar": {
             "outlinewidth": 0,
             "ticks": ""
            },
            "colorscale": [
             [
              0,
              "#0d0887"
             ],
             [
              0.1111111111111111,
              "#46039f"
             ],
             [
              0.2222222222222222,
              "#7201a8"
             ],
             [
              0.3333333333333333,
              "#9c179e"
             ],
             [
              0.4444444444444444,
              "#bd3786"
             ],
             [
              0.5555555555555556,
              "#d8576b"
             ],
             [
              0.6666666666666666,
              "#ed7953"
             ],
             [
              0.7777777777777778,
              "#fb9f3a"
             ],
             [
              0.8888888888888888,
              "#fdca26"
             ],
             [
              1,
              "#f0f921"
             ]
            ],
            "type": "histogram2d"
           }
          ],
          "histogram2dcontour": [
           {
            "colorbar": {
             "outlinewidth": 0,
             "ticks": ""
            },
            "colorscale": [
             [
              0,
              "#0d0887"
             ],
             [
              0.1111111111111111,
              "#46039f"
             ],
             [
              0.2222222222222222,
              "#7201a8"
             ],
             [
              0.3333333333333333,
              "#9c179e"
             ],
             [
              0.4444444444444444,
              "#bd3786"
             ],
             [
              0.5555555555555556,
              "#d8576b"
             ],
             [
              0.6666666666666666,
              "#ed7953"
             ],
             [
              0.7777777777777778,
              "#fb9f3a"
             ],
             [
              0.8888888888888888,
              "#fdca26"
             ],
             [
              1,
              "#f0f921"
             ]
            ],
            "type": "histogram2dcontour"
           }
          ],
          "mesh3d": [
           {
            "colorbar": {
             "outlinewidth": 0,
             "ticks": ""
            },
            "type": "mesh3d"
           }
          ],
          "parcoords": [
           {
            "line": {
             "colorbar": {
              "outlinewidth": 0,
              "ticks": ""
             }
            },
            "type": "parcoords"
           }
          ],
          "pie": [
           {
            "automargin": true,
            "type": "pie"
           }
          ],
          "scatter": [
           {
            "marker": {
             "colorbar": {
              "outlinewidth": 0,
              "ticks": ""
             }
            },
            "type": "scatter"
           }
          ],
          "scatter3d": [
           {
            "line": {
             "colorbar": {
              "outlinewidth": 0,
              "ticks": ""
             }
            },
            "marker": {
             "colorbar": {
              "outlinewidth": 0,
              "ticks": ""
             }
            },
            "type": "scatter3d"
           }
          ],
          "scattercarpet": [
           {
            "marker": {
             "colorbar": {
              "outlinewidth": 0,
              "ticks": ""
             }
            },
            "type": "scattercarpet"
           }
          ],
          "scattergeo": [
           {
            "marker": {
             "colorbar": {
              "outlinewidth": 0,
              "ticks": ""
             }
            },
            "type": "scattergeo"
           }
          ],
          "scattergl": [
           {
            "marker": {
             "colorbar": {
              "outlinewidth": 0,
              "ticks": ""
             }
            },
            "type": "scattergl"
           }
          ],
          "scattermapbox": [
           {
            "marker": {
             "colorbar": {
              "outlinewidth": 0,
              "ticks": ""
             }
            },
            "type": "scattermapbox"
           }
          ],
          "scatterpolar": [
           {
            "marker": {
             "colorbar": {
              "outlinewidth": 0,
              "ticks": ""
             }
            },
            "type": "scatterpolar"
           }
          ],
          "scatterpolargl": [
           {
            "marker": {
             "colorbar": {
              "outlinewidth": 0,
              "ticks": ""
             }
            },
            "type": "scatterpolargl"
           }
          ],
          "scatterternary": [
           {
            "marker": {
             "colorbar": {
              "outlinewidth": 0,
              "ticks": ""
             }
            },
            "type": "scatterternary"
           }
          ],
          "surface": [
           {
            "colorbar": {
             "outlinewidth": 0,
             "ticks": ""
            },
            "colorscale": [
             [
              0,
              "#0d0887"
             ],
             [
              0.1111111111111111,
              "#46039f"
             ],
             [
              0.2222222222222222,
              "#7201a8"
             ],
             [
              0.3333333333333333,
              "#9c179e"
             ],
             [
              0.4444444444444444,
              "#bd3786"
             ],
             [
              0.5555555555555556,
              "#d8576b"
             ],
             [
              0.6666666666666666,
              "#ed7953"
             ],
             [
              0.7777777777777778,
              "#fb9f3a"
             ],
             [
              0.8888888888888888,
              "#fdca26"
             ],
             [
              1,
              "#f0f921"
             ]
            ],
            "type": "surface"
           }
          ],
          "table": [
           {
            "cells": {
             "fill": {
              "color": "#EBF0F8"
             },
             "line": {
              "color": "white"
             }
            },
            "header": {
             "fill": {
              "color": "#C8D4E3"
             },
             "line": {
              "color": "white"
             }
            },
            "type": "table"
           }
          ]
         },
         "layout": {
          "annotationdefaults": {
           "arrowcolor": "#2a3f5f",
           "arrowhead": 0,
           "arrowwidth": 1
          },
          "autotypenumbers": "strict",
          "coloraxis": {
           "colorbar": {
            "outlinewidth": 0,
            "ticks": ""
           }
          },
          "colorscale": {
           "diverging": [
            [
             0,
             "#8e0152"
            ],
            [
             0.1,
             "#c51b7d"
            ],
            [
             0.2,
             "#de77ae"
            ],
            [
             0.3,
             "#f1b6da"
            ],
            [
             0.4,
             "#fde0ef"
            ],
            [
             0.5,
             "#f7f7f7"
            ],
            [
             0.6,
             "#e6f5d0"
            ],
            [
             0.7,
             "#b8e186"
            ],
            [
             0.8,
             "#7fbc41"
            ],
            [
             0.9,
             "#4d9221"
            ],
            [
             1,
             "#276419"
            ]
           ],
           "sequential": [
            [
             0,
             "#0d0887"
            ],
            [
             0.1111111111111111,
             "#46039f"
            ],
            [
             0.2222222222222222,
             "#7201a8"
            ],
            [
             0.3333333333333333,
             "#9c179e"
            ],
            [
             0.4444444444444444,
             "#bd3786"
            ],
            [
             0.5555555555555556,
             "#d8576b"
            ],
            [
             0.6666666666666666,
             "#ed7953"
            ],
            [
             0.7777777777777778,
             "#fb9f3a"
            ],
            [
             0.8888888888888888,
             "#fdca26"
            ],
            [
             1,
             "#f0f921"
            ]
           ],
           "sequentialminus": [
            [
             0,
             "#0d0887"
            ],
            [
             0.1111111111111111,
             "#46039f"
            ],
            [
             0.2222222222222222,
             "#7201a8"
            ],
            [
             0.3333333333333333,
             "#9c179e"
            ],
            [
             0.4444444444444444,
             "#bd3786"
            ],
            [
             0.5555555555555556,
             "#d8576b"
            ],
            [
             0.6666666666666666,
             "#ed7953"
            ],
            [
             0.7777777777777778,
             "#fb9f3a"
            ],
            [
             0.8888888888888888,
             "#fdca26"
            ],
            [
             1,
             "#f0f921"
            ]
           ]
          },
          "colorway": [
           "#636efa",
           "#EF553B",
           "#00cc96",
           "#ab63fa",
           "#FFA15A",
           "#19d3f3",
           "#FF6692",
           "#B6E880",
           "#FF97FF",
           "#FECB52"
          ],
          "font": {
           "color": "#2a3f5f"
          },
          "geo": {
           "bgcolor": "white",
           "lakecolor": "white",
           "landcolor": "#E5ECF6",
           "showlakes": true,
           "showland": true,
           "subunitcolor": "white"
          },
          "hoverlabel": {
           "align": "left"
          },
          "hovermode": "closest",
          "mapbox": {
           "style": "light"
          },
          "paper_bgcolor": "white",
          "plot_bgcolor": "#E5ECF6",
          "polar": {
           "angularaxis": {
            "gridcolor": "white",
            "linecolor": "white",
            "ticks": ""
           },
           "bgcolor": "#E5ECF6",
           "radialaxis": {
            "gridcolor": "white",
            "linecolor": "white",
            "ticks": ""
           }
          },
          "scene": {
           "xaxis": {
            "backgroundcolor": "#E5ECF6",
            "gridcolor": "white",
            "gridwidth": 2,
            "linecolor": "white",
            "showbackground": true,
            "ticks": "",
            "zerolinecolor": "white"
           },
           "yaxis": {
            "backgroundcolor": "#E5ECF6",
            "gridcolor": "white",
            "gridwidth": 2,
            "linecolor": "white",
            "showbackground": true,
            "ticks": "",
            "zerolinecolor": "white"
           },
           "zaxis": {
            "backgroundcolor": "#E5ECF6",
            "gridcolor": "white",
            "gridwidth": 2,
            "linecolor": "white",
            "showbackground": true,
            "ticks": "",
            "zerolinecolor": "white"
           }
          },
          "shapedefaults": {
           "line": {
            "color": "#2a3f5f"
           }
          },
          "ternary": {
           "aaxis": {
            "gridcolor": "white",
            "linecolor": "white",
            "ticks": ""
           },
           "baxis": {
            "gridcolor": "white",
            "linecolor": "white",
            "ticks": ""
           },
           "bgcolor": "#E5ECF6",
           "caxis": {
            "gridcolor": "white",
            "linecolor": "white",
            "ticks": ""
           }
          },
          "title": {
           "x": 0.05
          },
          "xaxis": {
           "automargin": true,
           "gridcolor": "white",
           "linecolor": "white",
           "ticks": "",
           "title": {
            "standoff": 15
           },
           "zerolinecolor": "white",
           "zerolinewidth": 2
          },
          "yaxis": {
           "automargin": true,
           "gridcolor": "white",
           "linecolor": "white",
           "ticks": "",
           "title": {
            "standoff": 15
           },
           "zerolinecolor": "white",
           "zerolinewidth": 2
          }
         }
        },
        "xaxis": {
         "anchor": "y",
         "autorange": true,
         "domain": [
          0,
          1
         ],
         "range": [
          -0.30706428404585534,
          0.7054484192254156
         ],
         "title": {
          "text": "0"
         },
         "type": "linear"
        },
        "yaxis": {
         "anchor": "x",
         "autorange": true,
         "domain": [
          0,
          1
         ],
         "range": [
          -0.43154510967350684,
          0.4355993473787257
         ],
         "title": {
          "text": "1"
         },
         "type": "linear"
        }
       }
      },
      "image/png": "[encoded data removed]",
      "text/html": [
       "<div>                            <div id=\"3c5555e5-3ac3-484c-ab64-52c1bb6518c2\" class=\"plotly-graph-div\" style=\"height:525px; width:100%;\"></div>            <script type=\"text/javascript\">                require([\"plotly\"], function(Plotly) {                    window.PLOTLYENV=window.PLOTLYENV || {};                                    if (document.getElementById(\"3c5555e5-3ac3-484c-ab64-52c1bb6518c2\")) {                    Plotly.newPlot(                        \"3c5555e5-3ac3-484c-ab64-52c1bb6518c2\",                        [{\"customdata\": [[null], [\"stamina,\"], [null], [\"Game Artist 2D/3D/ Chara Modeler Gameuse\"], [\"Politique internationale ,Asia regional security , U.S World Politics, Prof Uni . \\u00ab\\u00a0Un expert,une opinion.Deux, une contradiction.Trois, une confusion\\u00a0\\u00bb\"], [\"Prefers real organic food and people that are real too. Duplicity, hmm... \\nhave fun with that\"], [\"Artiste. En ce moment sur un fan-manga Dragon Ball.\\nJe r\\u00e9agis aussi \\u00e0 l'actualit\\u00e9 en tant que citoyen fran\\u00e7ais. Partisan d'une soci\\u00e9t\\u00e9 apais\\u00e9e. Apolitique.\"], [\"Research Fellow @NUSingapore\\nWorking on making the global economy more sustainable and carbon neutral by 2050\"], [\"simple passionn\\u00e9 de m\\u00e9t\\u00e9o\\ud83c\\udf29\\ufe0f\\u2764\\ufe0f\"], [\"L'\\u00e9criture : mon jardin-plan\\u00e8te que je cultive\"], [\"Promo TSI 2020 @LyceeJeanPerrin, \\u00c9tudiant en ING \\u00e0 @CY__Tech (Cergy) @UniversiteCergy, responsable \\u00e0 @LifeUpUCP, streamer et r\\u00e9gisseur audiovisuel. Compte perso\"], [\"ma photo est floue\"], [\"stan account. RESPECT YOUR FAV. spn, mcu, t\\u00f8p, hp, harry styles...\"], [\"un visage d\\u2019ange avec un penchant pour le p\\u00e9ch\\u00e9\"], [\"Salem mon fils .\"], [\"Boucher des Pyr\\u00e9n\\u00e9es, porte le b\\u00e9ret hiver comme \\u00e9t\\u00e9, je suis pas cool avec tout le monde. La FranceleRoietl'Arm\\u00e9e.Chasse P\\u00eache et Boustifaille.\"], [null], [\"A.H Sfaxi \\ud83c\\uddeb\\ud83c\\uddf7 \\ud83c\\uddf9\\ud83c\\uddf3\"], [\"Iniciativa creada para promover la preservaci\\u00f3n, conservaci\\u00f3n y restauraci\\u00f3n de los R\\u00edos en Chile, sus recursos naturales, ecosistemas y patrimonio cultural.\"], [null], [null], [\"Toutes les #sorties #culture de #Dunkerque et son agglo : #concert #expo #theatre #spectacle #cine #atelier. Suivez-nous avec #DKCA !\"], [\"@LIONAmlie1\"], [\"\\u201cSobre un mundo cobarde y avaro, sin justicia, belleza ni Dios, imponemos nosotros la garra del Imperio solar espa\\u00f1ol\\u2026\\u201d\"], [null], [\"Qui me peut ? \\u26b0\\ufe0f\\ud83d\\udc39\\ud83d\\udc0e\\ud83c\\udf70\\ud83d\\ude97\\ud83c\\udfb6\"], [\"\\ud83c\\udf93 \\u00c9tudes culturelles |\\n\\n\\ud83d\\udc36 marty Mcfly | Voyages | Communication | Lifestyle | Musique / Festivals / cin\\u00e9ma et plus encore \\ud83d\\udcaa\\ud83c\\udffb\"], [\"parce que la vie c\\u2019est comme une bo\\u00eete de chocolat #majoritesilencieuse #StopGiletsJaunes #antiLFI #antiRN et pour le @bescherelle\"], [null], [\"Uitblinkers in Digitale Transformatie. \\n\\nMilvum helpt bedrijven met het vertalen van digitale strategie naar concrete innovatie.\"], [\"courtier immobilier r\\u00e9sidentiel , curieux et passionn\\u00e9 d antiquit\\u00e9s , musiques des ann\\u00e9es 70-80, randonn\\u00e9e et road trip\"], [\"le Jugement dernier- Fin du Monde- USA, Angleterre et Isra\\u00ebl  en Enfer- D\\u00e9tr\\u00f4ner les Rois, les Pr\\u00e9sidents, Effacer les fronti\\u00e8res, rendre la Justice \\u00e0 Dieu\"], [\"IG : @mateoguyon\\nYT : https://www.youtube.com/channel/UCVq3knxxtmuvPmGmfwZclYg\"], [\"Woman inside digital revolution for better human lives :-) #42born2code alumni | #MBADMB alumni | #UX #VUX #IA #HEALTH #PARKINSON\"], [null], [null], [\"sic parvis magna\"], [null], [\"Plut\\u00f4t d\\u00e9connect\\u00e9 en #deepWork\\ud83d\\udcf5 permanent, je partage mes id\\u00e9es \\u27a1\\ufe0f\\n#IT #Data #proptech #agiles lors de mes remont\\u00e9es \\u00e0 la surface \\ud83c\\udf05\"], [\"Trending Business & Finance Soccer Country DIY & Home World News Amazing Technology Television\"], [\"Salut la Twittosph\\u00e8re\"], [\"will disappear soon\"], [\"Supporter du seul grand club fran\\u00e7ais\"], [\"\\u00e9quilibre\"], [null], [null], [\"\\ud83c\\uddfa\\ud83c\\uddfeBiochemist (PhD) interested in Plant Science \\ud83c\\udf31. Dad of two. Husband. \\u26bd\\ufe0f Football coach.\"], [\"Informaticien | DJ de Chambre | Blind Testeur | Casual Gamer | Joueur de cartes | MJ en devenir\"], [\"Shooting ions into pieces. Views are not mine, likes don't mean anything.\"], [\"\\u2695\\ufe0f\\ud83d\\udc69\\ud83c\\udffd\\u200d\\u2695\\ufe0f||unapologetic feminist \\u2640\\ufe0f\\u270a\\ud83c\\udffc|| \\ud83c\\udde8\\ud83c\\uddf2 \\ud83c\\udde8\\ud83c\\udde9||Non-religious\\u262e\\ufe0f  || from bonaberi \\ud83d\\ude0c\\n. \\n#EndAnglophoneCrisis\"], [\"\\u0639\\u064a\\u0646\\u0622\\u064a \\u0642\\u0637\\u0631\\u062a\\u0627 \\u0646\\u062f\\u0649 \\u0639\\u0644\\u0649 \\u0632\\u0647\\u0648\\u0631 \\u0627\\u0644\\u0634\\u0639\\u0631 \\u0623\\u0645\\u0651\\u0627 \\u0642\\u0644\\u0628\\u064a \\u0641\\u0630\\u0644\\u0643 \\u0627\\u0644\\u0639\\u0635\\u0641\\u0648\\u0631 \\u0641\\u0648\\u0642\\u0647\\u0645\\u0627 \\u0644\\u0627 \\u064a\\u062d\\u0637\\u0651 \\u0648 \\u0644\\u0627 \\u064a\\u0637\\u064a\\u0631\"], [\"auteur, illustrateur et r\\u00e9alisateur \\n\\nje suis le r\\u00e9al de la Web s\\u00e9rie gone sur YouTube allez y jeter un oeil \\ud83d\\ude09\"], [\"A la Crois\\u00e9e des Fourchettes est un \\u00e9v\\u00e9nement culinaire et culturel autours des cuisines du monde, organis\\u00e9 par l'association du m\\u00eame nom.\"], [\"Directrice Territoriale #Finist\\u00e8re @Pole_emploi \\u2022 12 agences de services \\u2022 #emploi #recrutement #formation #VersUnMetier #digital #insertion #ESS #handicap #RSE\"], [\"Enseignant en agronomie ESA Angers en cycles BTS / Licence et Ingenieur\\nResponsable de formation BTS APV\"], [\"SEND ME LOCATION\"], [\"Gestionnaire P\\u00f4le Alternance @IutVannes.Relais d\\u00e9partemental du programme #toutes politiques, militante LaRem depuis octobre 2016- Animatrice de comit\\u00e9\"], [\"Entrepreneur reconverti & notaire engag\\u00e9. Fondateur de @QuaidesNotaires. Innover pour durer, notaires d'avenir #TransfoNum #Notariat\"], [null], [null], [\"\\u00c9tudiant \\u00e0 l'@ISJT, mes tweets n'engagent que moi!! Pass\\u00e9 par @RugbyramaFR @midi_olympique @CFM_EspritRock, @ladepechedumidi\\ud83c\\udfc9\\ud83c\\udfc9#TeamLH44 and a bit of wrestling\"], [null], [\"Francilien-Lyonnais \\u2022 Droit \\u2022 Union europ\\u00e9enne \\u2022 Actualit\\u00e9 \\u2022 Environnement \\u2022 Pop Music \\u2022 \\ud83c\\uddeb\\ud83c\\uddf7\\ud83c\\udde9\\ud83c\\uddea\\ud83c\\uddea\\ud83c\\uddfa\\ud83c\\udff3\\ufe0f\\u200d\\ud83c\\udf08\"], [\"D\\u00e9couvrez chaque jours des astuces pour Booster sa chaine YouTube #astucesYouTube #devenirYouTubeur #marketingVideo\"], [null], [\"l\\u2019homme de Durga\"], [\"developer, sysadmin, anargeek\"], [\"#Patriote - #Souverainiste - #Ir\\u00e9niste\\n\\ud83c\\uddeb\\ud83c\\uddf7\\u269c\\ufe0f\"], [\"tr\\u00e8s technique\"], [null], [\"Student in Tourism\"], [\"Nouveau Silver Boutique dans le centre commercial Okabe\"], [\"iel | Venez pas DM si c\\u2019est pour essayer de me sauter, je suis pas une nouille. F\\u00e9ministe. \\ud83c\\uddfb\\ud83c\\uddf3/\\ud83c\\uddeb\\ud83c\\uddf7/\\ud83c\\udff3\\ufe0f\\u200d\\ud83c\\udf08 \\u264e\\ufe0f\\u264b\\ufe0f\\u2653\\ufe0f pv : @pv_oswen\"], [\"\\u00b0 @Flodnd Photographe & Vid\\u00e9aste Street/Urbain Nantais\\n\\u00b0 Portrait | Mariage | Corporate | Original\"], [\"Plus poisseux que moi tu meurs :p\"], [null], [\"Check out my YouTube channel! https://www.youtube.com/channel/UCaUSXmiVjmjCcAefaZBAvuA\\n\\n\\ud83d\\udde3\\ufe0f\\ud83c\\uddeb\\ud83c\\uddf7\\ud83c\\uddec\\ud83c\\udde7\\ud83c\\uddea\\ud83c\\uddf8\\ud83c\\uddf5\\ud83c\\uddf9\\ud83c\\uddee\\ud83c\\uddf9\\ud83c\\udde9\\ud83c\\uddea\"], [\"I am a dropshipper with whom you will find bargains you are looking for in all categories\"], [\"famille, sant\\u00e9, travail, j\\u2019suis dans les vieilleries\"], [\"Fondateur @La_Causerie_ || \\u270d @MilanActu\"], [\"D\\u00e9veloppeur web sp\\u00e9cialis\\u00e9 dans la p\\u00e9dagogie et occasionnellement r\\u00e9alisateur de direct\"], [\"Wir rebellieren gegen Klimakrise & Artensterben. Zivil, ungehorsam & gewaltfrei f\\u00fcr Klimagerechtigkeit! \\n#StopptdieZerst\\u00f6rung #MitderWissenschaft\"], [null], [\"Customer Success Manager ~ @l_b_change ~ Just a mum working to achieve a meaningful life #ecommerce #relationclient #socialmedia #communication\"], [null], [\"\\ud83c\\udff3\\ufe0f\\u200d\\ud83c\\udf08 graphics student in ynov |\"], [null], [\"J'accuse les hommes d'\\u00eatre b\\u00eates et m\\u00e9chants, \\nB\\u00eates \\u00e0  marcher au pas des r\\u00e9giments, \\nDe n'\\u00eatre pas des hommes tout simplement.\"], [\"Love lover\"], [\"Ecofeminist, history nerd, aspiring polyglot, lover of cake. Views my own but heavily influenced by the contents of my bookcase.\"], [\"j\\u2019aime le marbre et les supermarch\\u00e9s, et je suis, dieu merci, tr\\u00e8s homosexuel\"], [\"My life is NBA \\ud83c\\udfc0 Spurs \\u2764\\ufe0f J'aime le sport, l'esport et les spores.\"], [\"du IT mais pas que...\"], [\"miss bouzole\"], [\"Ma vie digne d'un film Netflix\"], [\"Parce que l'\\u00e9conomie c'est meilleur que les brocolis, Economiam redonne du go\\u00fbt au d\\u00e9bat d'id\\u00e9e. A consommer sans (grande) mod\\u00e9ration\"], [null], [\"Le Pexe f\\u00e9d\\u00e8re les r\\u00e9seaux d\\u2019\\u00e9co-entreprises afin de d\\u00e9velopper les fili\\u00e8res environnement / ma\\u00eetrise de l'\\u00e9nergie.\"], [\"Graphiste, d\\u00e9veloppeur et musicien\"], [\"Sagesse\"], [\"16y.                                                                                   \\n\\nBeatmaker \\ud83c\\udfb6\\n \\n       Dieu vous b\\u00e9nisse  \\n                      \\n#KCORP\"], [\"Directeur de la photographie contact[a]http://paulolinger.com\"], [\"MD, PhD. Endocrinologie p\\u00e9diatrique et biologie mol\\u00e9culaire. H\\u00f4pital Trousseau - AP-HP. Centre de R\\u00e9f\\u00e9rence des Maladies Endocriniennes Rares de la Croissance.\"], [\"Lab Technician \\u2022 DIY enthusiast\"], [null], [\"d\\u00e9termination, travail \\ud83e\\udd1d\"], [null], [\"Member of @ThunderbirdsSC. Player of #StarCitizen #FailyV #EFT #HuntShowdown. RP session, flying.... #DOOM \\\\o/\\nReferal : STAR\\u2011SCRR\\u2011VWHG\"], [\"\\u00ab \\u00c9tudier sans r\\u00e9fl\\u00e9chir est inutile. R\\u00e9fl\\u00e9chir sans \\u00e9tudier est dangereux \\u00bb Confucius\"], [\"MG rempla\\u00e7ante au pays de la chocolatine , fan inconditionnelle de la cit\\u00e9 de la peur et de Kaamelott, je squatte pas mal le cab de @docbulle\"], [\"Lectrice, blogueuse livresque (beaucoup d'imaginaire, mais pas uniquement).\\nma page FB :  https://www.facebook.com/leslecturesdemariejuliet\"], [\"Pense, r\\u00eave et vie en \\ud83c\\uddeb\\ud83c\\uddf7 Unterrichtet und schreibt auf \\ud83c\\udde9\\ud83c\\uddea @Sorbonne_Nvelle @DAADParis #Journaliste #Pigiste #ParisBerlin \\ud83d\\udc9a\"], [\"We are the Milan chapter of Speculative Futures, an international meetup community that focuses on Speculative and Critical Design.\"], [\"HPB surgery in the twittsphere #SoMe4HPB\"], [\"#famille @jnml45 #V\\u00e9lo #JeSuisUnDesDeux #velotaf\"], [\"Quand je serai grande, je serai magicienne UX Designer de l'espace !\"], [\"\\ud83c\\uddf1\\ud83c\\udde7\\ud83c\\uddf1\\ud83c\\udde7\\ud83c\\udde9\\ud83c\\uddff\\ud83c\\udde9\\ud83c\\uddff lossssa j\\u2019suis un mec bien projet appolon en pr\\u00e9paration insta: j_ackk110 |\"], [\"26 ans - D\\u00e9put\\u00e9e @lecdh au #Parlbru & #PFWB Conseill\\u00e8re communale & Cheffe de groupe LB \\u00e0 #1082Berchem\"], [\"\\u00ab\\u00a0Je d\\u00e9pose en vos mains ce que je poss\\u00e9dais de plus cher !... Adieu, n\\u2019oubliez point celui qui vous aima \\ud835\\udc57\\ud835\\udc62\\ud835\\udc60\\ud835\\udc5e\\ud835\\udc62\\u2019\\ud835\\udc4e\\ud835\\udc62 \\ud835\\udc61\\ud835\\udc5c\\ud835\\udc5a\\ud835\\udc4f\\ud835\\udc52\\ud835\\udc4e\\ud835\\udc62 !...\\u00a0\\u00bb\"], [\"Lecturer at @nuigalway\"], [\"#Startup Manager \\ud83d\\ude80 R\\u00e9f\\u00e9rent de l'acc\\u00e9l\\u00e9rateur #retail d'Intermarch\\u00e9 \\ud83d\\uded2 R\\u00e9f\\u00e9rent 1Kimpact Bordeaux \\ud83c\\udf31 Associ\\u00e9 Raisin de Plus (bar \\u00e0 \\ud83c\\udf77 vegan)\"], [\"UCD Brendan McGonnell Professor of Childhood Leukaemia research in Dublin @sysbioire @UCDMedicine @CHIatCrumlin.\\nFran\\u00e7ais \\ud83c\\uddeb\\ud83c\\uddf7 Gaeilge \\ud83c\\uddee\\ud83c\\uddea  \\ud83c\\udfc9 Own views.\"], [\"Artiste incompris \\ud83d\\udd8c | Ma seule limite ? Les 280 caract\\u00e8res. | Cr\\u00e9ateur de richesse depuis 1998 | Futur magnat de l'immobilier. | France \\ud83c\\uddeb\\ud83c\\uddf7 | \\ud83e\\udd8b\\ud83d\\udc8d\"], [\"Game Dev \\u2013 Teacher \\u2013 Beginner Journalist \\u2013 Gamer \\u2013 YouTuber \\u2013 English speaker (French too)\"], [\"Roux , curieux , pagan , rustique et pragmatique , sauvage , dur , libre\"], [null], [null], [\"je suis comme je suis et je ferai tout pour \\u00eatre + comme moi et un peut - comme vous\"], [\"Climate Change/Crisis Video | Pollution | Solutions  | #climatechange #pollution #klimaatverandering #milieuvervuiling #klimaatcrisis\"], [\"Passionn\\u00e9 par les #organisations, je twitte sur #rh #management #DigitalLearning #apprenance #IntelligenceCollective #innovation\"], [\"Je pr\\u00f4ne le twitt utile, pourtant j'aime vos twitts futiles (et pas que).\"], [\"Yoooooo. I simp my OC as hell.\\nFanarts rt \\u2728twttr artist\\ud83c\\udfa8:\\u27a1\\ufe0f @Hiroshi_kuroo \\u2b05\\ufe0f check it maybeh \\ud83d\\udc40\"], [\"Bien ou quoi?\"], [null], [\"Ex-emigrant: science, immigration, climate change. LicSc.(Tech) atmospheric science \\ud83d\\udef0\\ud83c\\udf0d, MSc. aeronautical eng. \\u2708 Kuntavaaliehdokas, Tampere, Perussuomalaiset.\"], [\"2A - Sciences Po Saint-Germain-en-Laye\"], [\"Responsable du service profession comptable chez @ebp_france. Conseill\\u00e8re municipale, pr\\u00e9sidente du club de tennis d'Amou (class\\u00e9e 15/3)\"], [\"Centre Technique INFORMATIQUE\\ndepuis 2009 !\\nPour Particuliers et Professionnels\\nD\\u00e9pannage et Vente de mat\\u00e9riel informatique et d'impression...\"], [\"Parti politique en devenir. A l'e\\u0301cho du de\\u0301fi, Les Mousquetaires re\\u0301pondront par le courage.\"], [\"Arboriculteur\"], [\"juriste environnementaliste\"], [\"Trying to do things\"], [\"Crypto companies and crypto enthusiasts from all around the world, help us for the restoration of #NotreDame and prove the positive social impact of cryptos.\"], [\"Just trying to be kind. A simple idea.\"], [\"Writer, worker, world widder! Bookworm and traveler. \\u2717o\\u2717o #SocialNetworksAddict  #StarbucksAddict\"], [\"Oe\"], [\"Operating three Taiwan Yifang Fruit Tea Shops in Shenzhen\"], [\"Mon sens de l\\u2019humour\"], [\"- bzh \\ud83c\\uddea\\ud83c\\uddfa \\ud83c\\uddeb\\ud83c\\uddf7\"], [null], [\"philanthrope,  masculiniste,activiste, intr\\u00e9pide mais tr\\u00e8s r\\u00e9serv\\u00e9, ,Occup\\u00e9 \\u00e0 me comprendre\"], [\"Tout est une question de volont\\u00e9 \\n#WeAreTheValley\"], [\"Head of corporate training @WildCodeSchool. Bringing wildness to the corporate world!\\n#edtech #coding  #TransfoNum #reskilling\"], [\"Fuck le b\\u00e9n\\u00e9volat\"], [\"HUMBLE\"], [\"17yo  french/english Transfem Nonbinary She/Her\\nVast Error (and HS) SciAdv Fan\\nFR/ENG\"], [\"Coucou j'aimerais bien fait de connaissance !\"], [\"\\ud83c\\uddf5\\ud83c\\uddf9 20yo | Ma vie est pas ouf donc on s\\u2019adapte\"], [\"\\u039f\\u03a0\\u03a1\\u03a3\\u03a4\\u03a5\\u03a6\\u03a7\\u03a8\\u03a9\\n.\\ninsta: https://www.instagram.com/p/CMzxZPKhgek/?igshid=23re3qppjlyj\"], [\"Principal Scientist, Group Leader, Molecular Modeling & Comp. Chem. @IktosAI, working on structure-based generative models and retrosynthesis prediction\"], [\"Ing. ambiental / Dise\\u00f1ador Industrial / Every passing minute is another chance to turn it all around / Playlist: Luis Miguel / Libro: La sombra del viento\"], [\"Prst du conseil r\\u00e9gional des notaires cour d\\u2019appel de Grenoble - Prst de la 3e com du 113e congr\\u00e8s des notaires - charg\\u00e9 d\\u2019enseignement \\u00e0 la fac de Grenoble\"], [\"Observateur (majoritairement) silencieux\\nSoutient les petits artistes locaux du quartier\\nBanni\\u00e8re by @Ariavegetable\"], [\"D\\u00e9veloppeur front-end\"], [\"La m\\u00e9lancolie, c'est le bonheur d'\\u00eatre triste.\"], [\"Le livre Homo Cooperans 2.0 lance un message clair: R\\u00e9approprions nous l'\\u00e9conomie collaborative! Nous avons une opportunit\\u00e9 en or, ne la perdons pas ;)\"], [\"P\\u00e8re de famille, entrepreneur, responsable associatif pr\\u00eat \\u00e0 presque tout pour aider son prochain. Mes tweets n'engagent que moi et un petit peu mon avocat.\"], [null], [\"Journalist-writer-translator-photographer - food agriculture environment\\nAdministrateur - Conservatoire des Espaces Naturels Ari\\u00e8ge\"], [null], [null], [\"Live in life, die in death. \\nFollow your heart, do what you can.\\n\\nDedicated to : #ha\\u00efku #tanka #po\\u00e9sie #micropo\\u00e9sie\"], [null], [\"\\ud83d\\udd34\\ud83d\\udd35ICI C'EST PARIS ! \\ud83d\\udd34\\ud83d\\udd35\"], [\"collaborateur m\\u00e9decin sant\\u00e9 au travail, ancien m\\u00e9decin hospitalier\"], [null], [\"im locked up they won\\u2019t let me out\"], [\"Dedicated to favorable outcomes in sustainable agriculture. Tweets about global #biotech, #agriculture, & #food news.\"], [null], [\"CCO\\u2019s educational programs provide the latest clinically relevant, evidence-based education & support the competence of healthcare professional teams. #HBV #HCV\"], [\"Association #Verdun #Meuse #Lovecraft #sff #litt\\u00e9rature #evenement #JDR #cinema http://campusmiskatonic.fr\"], [null], [\"Colofon is a cloud-based writing app built to provide the best tool for writers #WritingCommunity\\n\\nhttp://instagram.com/colofon.io\"], [\"Pr\\u00e9sident de l'@Institut_Caelum | Directeur G\\u00e9n\\u00e9ral de @YouthsHorizon | Vice-Pr\\u00e9sident d'@aidtudiants | JAEA 2020 \\ud83c\\uddfa\\ud83c\\uddf8\\ud83c\\uddeb\\ud83c\\uddf7 | Politique & \\u00c9ducation\"], [\"@GFXBeQuiet le meilleur Graphiste/Designer !!!\"], [\"Creating better jobs for young people in fragile regions, particularly #refugees and women \\ud83c\\udf93\\ud83d\\udcbc\"], [\"\\\"A man with no label has allegiance only to what is right\\\"\"], [null], [\"le twittos pr\\u00e9f\\u00e9r\\u00e9 de ton twittos pr\\u00e9f\\u00e9r\\u00e9 @kalashcriminel\"], [\"\\ud83d\\udc38\\ud83c\\udf25\\ufe0f\\nJunior Background artist at Sun Creature studio\"], [\"22/11\\ud83d\\udc7c\\ud83c\\udffb\"], [\"I'm the guy who was crazy enough to build the Bitronix JTA transaction manager all on his own. I work as a Software Engineer for Webtide. Use ZFS or die!\"], [\"(coiffeuse)\\u2702\\ufe0f\\u2702\\ufe0fpas de MP\"], [\"Front-end developer. Mainly. \\ud83d\\ude44 Learning Go ! ReasonML enthousiast ! \\ud83d\\udc50\\nWorking at @Bedrock_Stream as a @linkvalue dev \\u263a\\ufe0f\"], [\"Je suis tellement un boulet que j'ai \\u00e9t\\u00e9 canonis\\u00e9.\"], [null], [\"Romano dal 753 a.C.\"], [null], [\"love for everybody til the drugs fade away\"], [\"cr\\u00e9ateur de souvenirs\"], [\"Quantum Computing News, Views & Features. Insight into the realm of Quantum Computing, Internet, Investment & Cryptography.\\n#quantumcomputing #quantumzeitgeist\"], [\"Nolite Te Bastardes Carborundorum\"], [\"JunProf @UniHH\\nglobal energy & climate justice, anthropocene & IR theory, postcolonial studies\\noccasional sci-fi, queerfeminist & squirrel content\\ud83d\\ude80\\ud83c\\udff3\\ufe0f\\u200d\\ud83c\\udf08\\ud83d\\udc3f\\ufe0f\"], [\"Avocat au Barreau de Bordeaux et de Bayonne - Consistoire isra\\u00e9lite Bayonne/Biarritz\"], [\"924\\ud83d\\udc80 \\ud83c\\uddf5\\ud83c\\uddf9\"], [\"Alluka\\ud83d\\udc9c , \\ud83c\\udff3\\ufe0f\\u200d\\ud83c\\udf08\"], [\"Compte perso et mes tweets n\\u2019engagent que moi\"], [\"Graphic Designer / beau-gosse / ob\\u00e8se.\"], [null], [\"Tahia Tounes \\ud83c\\uddf9\\ud83c\\uddf3\\ud83c\\uddf9\\ud83c\\uddf3 #uyghurslivesmatter #freeouighours #freeuyghurs\"], [\"MEMUP est une association ayant pour objet la d\\u00e9fense des int\\u00e9r\\u00eats des \\u00e9tudiants micro-entrepreneurs utilisateurs de plateformes\"], [null], [\"Author #UNDERBUG: A Tale of Termites and Technology from Sci-Am/FSG. Old book: Oil On the Brain. Senior Editor: @ISSUESinST Views are my own, of course.\"], [\"T\\u00e9l\\u00e9conseiller, geek, amateur de curry...\\n@CFDT au boulot. Gauche la\\u00efque. \\nLibert\\u00e9, \\u00c9galit\\u00e9, Fraternit\\u00e9, La\\u00efcit\\u00e9...\\ud83c\\udff3\\ufe0f\\u200d\\ud83c\\udf08\\ud83c\\udff3\\ufe0f\\u200d\\ud83c\\udf08\\ud83c\\udff3\\ufe0f\\u200d\\ud83c\\udf08\\nMari\\u00e9 \\ud83d\\udc8d\"], [\"French @PlayOverwatch team #BeheadUs\\n\\nLogo by @alexbarrault\"], [null], [\"Ex VP Sport Sant\\u00e9 \\u00e0 l\\u2019@AFGES // \\u00e9lu UFR // Personnalit\\u00e9 qualifi\\u00e9 du conseil de gestion de l\\u2019@ADS_Strasbourg // licence 3 biologie mol\\u00e9culaire et cellulaire\"], [\"@lakers\"], [\"Analyste en intelligence \\u00e9conomique\\n#veille\"], [\"paradoxe: toute personne va monter dans la hi\\u00e9rarchie jusqu\\u2019\\u00e0 atteindre son niveau d\\u2019incomp\\u00e9tence \\u270c\\ufe0f... moi \\u00e7a y est , j\\u2019ai mont\\u00e9 tous les \\u00e9chelons \\ud83d\\ude09\"], [\"Consultant politique & communication \\u2022 Alumni @scpobx @cardiffuni \\u2022 Opinions personnelles.\"], [\"Prof doc en lyc\\u00e9e pro. R\\u00e9f\\u00e9rente \\u00e9galit\\u00e9. \\nEtudiante en MEEF Documentation \\u00e0 #URCA. Je parle boulot pr le meilleur et pr le pire. #SamuelPaty #JeSuisProf\"], [\"se equivocan al creerse libres, opini\\u00f3n que obedece al solo hecho de que son conscientes de sus acciones pero ignorantes de las causas que lo determinan.Spinoza\"], [\"Palaiseau US \\u26bd\\ufe0f\\u2764\\ufe0f FC BLEACH\"], [null], [\"Website on agriculture: a think tank on agricultural issues #agriculture #food #agtech #international #Africa #innovation #Environnement #organic\"], [\"Expert GreenIT - Beaujolais\"], [\"Doctorant au labo. @Framespa5136 \\u00e0 l'@UTJeanJaures. Histoire des r\\u00e9seaux & Histoire de la construction au Moyen \\u00c2ge\\n- Pr\\u00e9sident de @FilmsSaga\"], [\"Digital Marketing Consultant | Online Entrepreneur | Blogger | Writer | Social Media & Content Marketer.\"], [\"Conseil en strat\\u00e9gies digitales  #webmarketing #communication #digital #socialmedia #m\\u00e9diationdessciences #brandcontent #seo #CM #sant\\u00e9 #image #Bordeaux\"], [\"PhD student in social epidemiology ~ Equity research team ~ \\nWorking on positive health and resilience in a lifecourse context\"], [\"Worked as a senior 3D artist for CallofDuty:WW2, COD:MW. #indiedev #gamedev #artstation\"], [\"D\\u00e9l\\u00e9gu\\u00e9e Transformation Pr\\u00e9vention Environnement @Enedis_Paris #Energy #DSO\"], [\"16 ans de pure wati-beaugosse attitude\\nobjectif : \\u00eatre lol partner\"], [\"GOD \\ud83d\\ude4f-\\ud83d\\udc68\\u200d\\ud83c\\udf93\\ud83c\\udf92\\ud83d\\udcda\\ud83d\\udcd6 Etudiant finissant en G\\u00e9nie Civil\\ud83d\\udc77\\ud83c\\udfd7\\ufe0f \\u00e0 l'Universit\\u00e9 de la Fondation du Dr.Aristide. 5eme ann\\u00e9e !\\nPassionn\\u00e9 de Sport\\ud83c\\udded\\ud83c\\uddf9 \\ud83c\\udde7\\ud83c\\uddf7\\n\\u26bd\\ud83c\\udfc0\\ud83c\\udfbe \\ud83c\\udfae\"], [\"Forex Treader, I love Real Madrid\\n   \\n                  \\n\\n                                       \\u064a\\u0642\\u062a\\u0644\\u0646\\u0627 \\u0645\\u0627\\u0644\\u0627 \\u064a\\u0642\\u0627\\u0644\"], [null], [\"C\\u00e9lestine \\ud83d\\udc6b\"], [\"\\u201cMa seule motivation est d'informer le public sur ce qui est fait en leur nom et ce qui est fait contre eux\\u201d E.SNOWDEN\"], [\"Executive staff with 20+ years of experience, MBA (General Management), Certified MSP\\u00ae Practitioner in Programme Management, currently Head of WAPIS Programme\"], [\"\\u200f\\u062c\\u0632\\u0627\\u0626\\u0631\\u064a \\u0645\\u0633\\u0644\\u0645 \\u062d\\u0631\\u0627\\u0643\\u064a \\u064a\\u062d\\u0628 \\u0643\\u0644 \\u0627\\u0644\\u062a\\u064a\\u0627\\u0631\\u0627\\u062a \\u0628\\u062f\\u0648\\u0646 \\u062a\\u0639\\u0635\\u0628 \\u0648 \\u0644\\u0627 \\u0637\\u0627\\u0626\\u0641\\u064a\\u0629.\"], [\"Inhale good shit, exhale bullshit\"], [\"Optimiste \\u00e0 mi-temps\"], [\"PhD Student @tudresden_de Passionate about Science, Bio & Reg Med., Modelling PSC/AdSC-Organoids Frmr @VallierLab @SCICambridge @CamBioScience \\ud83c\\uddeb\\ud83c\\uddf7\\ud83c\\uddec\\ud83c\\udde7\\ud83c\\udde9\\ud83c\\uddea\\ud83c\\uddea\\ud83c\\uddfa\"], [\"Papa | Manager | Photographe | Apple User\"], [\"s\\u2019int\\u00e9resse, lis et r\\u00e9agi selon mon envie ...! \\u00e9ternelle r\\u00eaveuse et \\u00e9ternelle concr\\u00e8te !\"], [\"#conseillerstrategicetrelationspubliques #directeurdagence #promoteurimmobilier #urbanisme #architecture #innovation #intelligente\"], [\"Intrapreneur | Flying things | Security | Mobility | New business models | and all the tech to enable it...\"], [null], [\"Attach\\u00e9 aux valeurs de la R\\u00e9publique et \\u00e0 la souverainet\\u00e9 nationale, hostile aux extr\\u00e9mismes. Ventes de v\\u00eatements dans l'Oise\"], [\"Curating #biodiversity and #conservation tweets Main Account @trvstworld & FB \\ud83d\\udc49 https://bit.ly/2TA5PH8 Insta \\ud83d\\udc49 http://bit.ly/2OC3F7t \\u26d4 DMs\"], [\"Rien ne veut rien dire.\"], [\"J'suis la pseudo-artiste polyA qui fait sentir bon la mannif  pour lutter avec pacifisme contre les carnistes capitalistes. (elle/her). \\ud83c\\udf12\\ud83c\\udf15\\ud83c\\udf18\"], [null], [\"Explorer of the Earth, the solar system and nearby stars\"], [\"\\ud83c\\udff3\\ufe0f\\u200d\\ud83c\\udf08 fuck it\"], [\"Just tryin' to imagine the world of tomorrow \\n#Bitcoin\"], [\"Artiste / Artisan\"], [\"\\u00e9tudiant\"], [\"\\u2764 ing\\u00e9nieur G\\u00e9ologue et G\\u00e9omaticien\\u2764\"], [\"Compte priv\\u00e9\"], [\"Clg REP+ Delaunay en lutte #BlanquerDemission\\nCompte non officiel anim\\u00e9 par un groupe de personnel #islamogauchistes #feignasses. Nos tweets n'engagent que nous\"], [\"Isotope Biogeochemist working high altitude and high latitude ecosystems\"], [\"19yo \\ud83c\\udf3a\\n \\u00c9tudiante en 2\\u00e8me ann\\u00e9e d'infirmi\\u00e8re\\ud83d\\udc69\\u200d\\u2695\\ufe0f\\ud83d\\udc89\"], [\"Docteure sp\\u00e9cialis\\u00e9e sur l'#\\u00e9lulocal #Participationcitoyenne #PetiteVille-Laboratoire Espace Travail/Architecte & Urbaniste-Atelier du Lieu/Garant #CNDP #LNOBPL\"], [\"Nous sommes #progressifs #\\u00e9cologiques et pour le #bien. Contre le #d\\u00e9clin, la #pollution et le #mal. Transformons #Marseille. #TeamGrapewolf #AvecGrapeloup\"], [\"d'ici : http://youtu.be/A_E9h16Jocw\"], [\"VLA M'M\\u00d4 r\\u00eavons bien \\ud83d\\ude07\\ud83d\\ude07 TRAVAILLONS FORT\\ud83d\\ude0e\\ud83d\\ude0e\"], [\"D\\u00e9veloppeur & Formateur #python\\nProfesseur de Maths par webcam http://mathscam.com/\"], [\"positivit\\u00e9 et bonnes ondes\"], [\"la vie est BELLE\"], [\"Graphiste // Motion Designer - Passionn\\u00e9e par les nouvelles technologies et les innovations graphiques #infographie #dataviz #webdesign\"], [\"\\u043a\\u0440\\u0430\\u0448\\u0443 \\u043a\\u043e\\u0440\\u0438\\u0434\\u043e\\u0440\"], [\"Communication Officer #MasSeeds - United to grow \\ud83c\\udf3d\\ud83c\\udf3b\\ud83c\\udf31\"], [\"Agronome, Professeur adjoint sur les infrastructures v\\u00e9g\\u00e9talis\\u00e9es \\u00e0 l'Universit\\u00e9 Laval/Assistant Professor, Living green infrastructures Universit\\u00e9 Laval\"], [\"Ici pour jouer dans la rigole/ouverture d'esprit demand\\u00e9e//\\n\\u274cTrop s\\u00e9rieux, premier degr\\u00e9, fachos et homophobes s'abstenir\\u274c\\n#TeamTatou\\u00e9\\nCat-father \\ud83d\\ude3e\"], [\"Gourmandise\"], [\"\\ud83c\\uddf7\\ud83c\\uddfa\\ud83c\\uddeb\\ud83c\\uddf7\"], [\"Most of people and organisations I follow with heart felt interest... the others are to see what kind of dodgy stuff they're are up to.\"], [null], [\"Formateur IT le jour et gryphon le jour aussi. He/him. Profile pic by @FurryViza\"], [\"APPEL AUX DONS - Nous, artistes, entrepreneur.e.s et http://citoyen.ne.s lan\\u00e7ons une cagnotte pour soutenir dans l\\u2019urgence le personnel soignant fran\\u00e7ais.\"], [null], [\"Habitants de l'immeuble acquis en VEFA chez Icade \\u00e0 Nanterre, livr\\u00e9 avec 6 mois de retard en fin 09/19 et qui connait beaucoup de d\\u00e9fauts de conformit\\u00e9.\"], [\"mi piace approfondire\"], [\"Non riesco ad annoiarmi. Ces tweets \\u00e9crites sans suite, sans ordre, sans style\"], [\"Smoky Smoky / Fan inconditionnel des Daft Punk et de mes 2 princes Pierre Gasly et Charles Leclerc\"], [\"honnete\"], [\"No one special\"], [\"Tout le monde est un g\\u00e9nie.  Mais si vous jugez un poisson sur ses capacit\\u00e9s \\u00e0 grimper \\u00e0 un arbre,  il passera sa vie \\u00e0 croire qu'il est stupide.\"], [null], [\"INTERNATIONAL HR TRANSFORMATION CONSULTANT\"], [\"Ind\\u00e9pendant | Histoire Incorrecte | \\u00c2me Slave \\ud83c\\uddf2\\ud83c\\uddeb\\ud83c\\uddf5\\ud83c\\uddf1\"], [\"Love & Peace\"], [null], [null], [\"Passionn\\u00e9 par l'Art et l'Arch\\u00e9ologie en Extr\\u00eame-Orient.- \\ud83c\\uddf0\\ud83c\\uddf7\\ud83c\\uddef\\ud83c\\uddf5\\ud83c\\uddf0\\ud83c\\udded SFECO \\u2764\\ufe0f\\n\\n\\nLicence Histoire de l'Art et Arch\\u00e9ologie @Univ_Lorraine-\\n\\n\\nAdmin. @CFantaysia\"], [\"\\ud83d\\udc97 \\ud835\\udc00\\ud835\\udc27\\ud835\\udc20\\ud835\\udc1e\\ud835\\udc25\\n\\\"Tout mortel a le sien, cet ange protecteur, cet invisible ami veille autour de son c\\u0153ur.\\\" - Alphonse de Lamartine\\n\\ud835\\ude43\\ud835\\ude5a\\ud835\\ude56\\ud835\\ude6b\\ud835\\ude5a\\ud835\\ude63\\u2764\"], [\"Pulmonary and Critical care specialist - Sleep Medicine specialist - Health Management - coffee \\u2615\\ufe0f\"], [\"ancien Pompier de Paris et de la Communaut\\u00e9 Urbaine de Lyon #soutienspompiersFrance et #soutiensFDO\"], [\"Supporter de l'@ol \\ud83e\\udd81 | @WalkingDead_AMC universe fan, favorites characters are Beth Greene (@emmykinney) and Luciana Galvez (@danaygarcia1) |\\ud83c\\uddeb\\ud83c\\uddf7 (et \\ud83c\\udde9\\ud83c\\uddff)\"], [\"Vente de parcelles\"], [\"Organe de propagande humoristique d\\u00e9conspirationniste du Qu\\u00e9bec. J'voulais \\u00eatre un Men In Black, mais j'ai jais re\\u00e7u mon hiboux :(\"], [\"Spectateur de la b\\u00eatise humaine, loveur de l'image et briseur de game\"], [\"Science for innovation\\nVC (Medevice Capital)\\nPartenariats strat\\u00e9giques (Abolis Biotechnologies)\\nhttp://FNEP.org - Mission 2021 : Souverainet\\u00e9 et r\\u00e9silience\"], [\"One Piece / Fate / Kara no Kyoukai / Steins Gate / 5-toubun\"], [\"Patriote \\ud83c\\uddeb\\ud83c\\uddf7. Dans l'attente de l'insurrection des Peuples contre la tyrannie mondialiste.\"], [\"M\\u00e8re,  amoureuse,  un peu folle et tr\\u00e8s tr\\u00e8s en col\\u00e8re\"], [\"I enjoy chocolate - Do you? Then you're my friend!\"], [\"Daily motivational quotes / Personal development / Wisdom/ Positivity / Good Vibes Only / We follow back\"], [\"Cybersecurity pros specializing in data privacy, AI, Blockchain, IoT, cloud, crypto, data breach, cybercrime, compliance, GDPR, marketing automation, CIO, BTC.\"], [\"la vie est une aventure on est tous des h\\u00e9ros\"], [\"mars\"], [\"Responsable com chez @supdesrh - Pass\\u00e9e par @enedis | #communication #digital #numerique #innovation \\ud83d\\udccc\"], [null], [\"frick\"], [\"The Art Marketing Company\\n [ Int\\u00e9grateur de Culture ] Conseil en Strat\\u00e9gie Culturelle #arts&businessclub\"], [\"20 yo. \\nAmoureux de @Kyiwix. \\u2764\\ufe0f\\nHumour naze, compl\\u00e8tement con (les blagues foireuses tmtc). \\ud83e\\udd2f\\nEt je met des points \\u00e0 la fin de mes phrases. \\ud83e\\udd42\\ud83d\\udc4c\\ud83c\\udffb\"], [null], [\"insta : @kevhixbx twitch : https://www.twitch.tv/hixbox13 (en pause pour le moment) Passionn\\u00e9 d\\u2019Esport\"], [\"Un giornale nuovo. Online e in edicola\\nDiretto da @StefanoFeltri\\n\\nPer inviarci le tue lettere e segnalazioni scrivi a lettori@editorialedomani.it\"], [\"World News |\\nProud Tunisian \\ud83c\\uddf9\\ud83c\\uddf3 |\\nFluid Mechanics Engineer \\ud83c\\uddf9\\ud83c\\uddf3\\ud83c\\uddeb\\ud83c\\uddf7 |\\nLibra \\u264e |\\n\\n#JusticeForAll\"], [\"pour les gens comme nous les r\\u00eaves n'existent pas..\\nFoxLivesMatter\\ud83e\\udd8a\"], [\"Je suis ex Tullus Hostilius abattu par le Piaf    Pour une 9\\u00e8me croisade puis le retour de toutes les libert\\u00e9s et surtout celle d\\u2019entreprendre\"], [\"Gagner du temps, Gagner du sens ! L\\u2019 #IA au service de l\\u2019information juridique #Legalbot #Elearning #Entreprises @ingoufavocat #AdelineBodinBurgy @NicolasGenty\"], [\"Universaliste, la\\u00efc, fier de la France \\ud83c\\uddeb\\ud83c\\uddf7, de sa culture, de son histoire. Regarder les choses en face mais pas de mani\\u00e8re anachronique et superficielle!\"], [\"Coach en d\\u00e9veloppement de carri\\u00e8re #emploi \\ud83d\\udcbc Valoriser son image professionnelle Pr\\u00e9paration aux entretiens de recrutement #recruteur de talents \\ud83d\\udcaa#i4EmploiR\"], [\"Homme Blanc, h\\u00e9t\\u00e9ro, CSP++, THQI, tireur sportif : je suis l'ant\\u00e9christ et j'en suis fier ! \\ud83d\\ude08\\nNe baissez jamais les yeux face aux parasites !  \\ud83d\\udc4c\\ud83c\\udffb\"], [\"As Island Press says, climate change is real. \\\"Dignity is our greatest asset.\\\"\"], [\"My Moojo vous accompagne de la gen\\u00e8se \\u00e0 la diffusion de votre projet #DigitalLearning via son expertise, sa communaut\\u00e9 et sa plateforme !\"], [null], [\"Mina mina~ shima wa~ atakai.\\nPaina-puru puru.\\nAttama pokapoka.\\nAho baka~!\"], [\"Trouvez un homme plus amoureux que moi... \\ud83d\\ude44\"], [\"260114 \\u00c9milie\\u2764\"], [\"Ernst Georges is an experienced Freelancer Entrepreneur with a long track record of doing business in three countries Haiti, Dominican Republic, USA.\"], [null], [\"Quoi qu'est-ce j'entends ? On a massacr\\u00e9 une glycine centenaire \\u00e0 Montmartre ! \\nMes tweets n'engagent que la citoyenne que je suis.\"], [\"MCU-PH en immunologie, fac de sant\\u00e9 Angers, biologiste CHU Angers, chercheur Inserm, adjointe sport culture 2014-2020 les hauts d\\u2019Anjou, \\ud83c\\udfc0, \\ud83c\\udfbb\"], [null], [\"Entrepreneur\"], [\"Pastafariste\"], [\"staff editor @nytimes / @nytimeslearning\\nprevious: Black History curriculum at the @schomburgcenter (Transatlantic Slavery Unit)\"], [null], [null], [\"Experts Programme lead for @ClimateOutreach and freelance consultant. Previously head of communications at @IPCC_ch WGI & deputy editor of @CarbonBrief\"], [null], [\"J'aurais jamais d'inspi je crois...\"], [\"Philosophe. Auteur de \\\"Les philosophes qu\\u00e9b\\u00e9cois et leur d\\u00e9fense des religions\\\" (Connaissances et Savoirs, 2017)\"], [\"Master MEEF Dijon\"], [\"L'\\u00eatre humain ne doit jamais cesser de penser. C'est le seul rempart \\u00e0 la barbarie\"], [\"Jeune D\\u00e9mocrate lillois. BN JDem charg\\u00e9 de l\\u2019animation des territoires. BR Jdem Hauts de France. bcp de titres pour pas grand chose.\"], [\"You're gonna carry that weight\"], [null], [\"Fr\\u00e8re jumeau de l'autre\"], [\"La satisfaction int\\u00e9rieure est en v\\u00e9rit\\u00e9 ce que l'on peut esp\\u00e9rer de plus grand\"], [\"ma couverture c'est la BAC qui cherche ma weed\"], [\"Standard nerd, NFT collector.\\nCore Dev at @dokidokifinance for DeGacha.\\n$DOKI $AZUKI\"], [\"My sex is male and I identify as King of The Universe. My pronoun is Your Royal Highness Above All. Anything else is hateful and an agression against me.\"], [\"encule ta mer cbon ?\"], [\"freelance journalist\"], [\"\\ud83c\\uddeb\\ud83c\\uddf7\\ud83c\\uddf1\\ud83c\\udde7 KovacBall worshipper Fervent supporter du d\\u00e9nomm\\u00e9 Charles Perceval Leclerc\"], [\"Je suis pas dans les affaires, je suis juste \\u00e0 c\\u00f4t\\u00e9. Franco-Italien\"], [\"sancho7\"], [\"Like green, music and life, are you ready for this weekend's grill party \\ud83c\\udf57\\ud83c\\udf79\\ud83c\\udf7e\"], [\"If we are to feed, sustainably and responsibly, the 9.7 billion people who are expected to share our planet by 2050, the time to change is now #WeMakeItPossible\"], [\"A la question que fais-tu dans la vie, seule r\\u00e9ponse valable : je passe.\"], [\"POUR QUE VIVE LA FRANCE\\nVIVE LE ROY\"], [\"des mots si possible des phrases\"], [\"Je suis une personne fid\\u00e8le \\u00e0 mes sentiments et tr\\u00e8s stable dans ma pensee !!!\"], [null], [\"Conseil Local #parents d'#\\u00e9l\\u00e8ves #FCPE \\nColl\\u00e8ge #VictorHugo \\nSite #Barbette : 11 R. Barbette\\nSite #Epernon : 212 R. Vieille du Temple\\n75003 #Paris #PIAL\"], [\"Enseignant sp\\u00e9cialis\\u00e9, ex-journaliste\"], [\"Promo 21 #MBAMCI \\nPassionn\\u00e9 par #Esport #Digital #Nocode\\nLvl Noob sur #Webflow\"], [\"P\\u2019tite kin\\u00e9 \\ud83c\\udf3a Semi-raton de banlieue parisienne. Maman de Watson \\ud83d\\udc08. Geek confirm\\u00e9e \\ud83d\\udc7e Passion vin rouge, viande et fromage \\ud83c\\udf77\"], [null], [\"Je suis un \\u00eatre Libre et Souverain... c'est grave Docteur? Bien sur que non, vous \\u00eates juste complotiste...\"], [\"Executive Director of the National Association for Media Literacy Education. Mother of 2. Wife of 1. Friend of many. Also, I love my dog.\"], [\"Ecology student at Montpellier University, I am an aspiring researcher. I've always been passionate about the biology and ecology of the arachnids of the world.\"], [null], [\"MSc |Bioinformatics @METU_ODTU & BSc |Biology @METU_ODTU\\n#womeninstem #meskhetianturk\"], [null], [\"Auteure, po\\u00e9tesse et peintre. Oeuvres disponibles sur http://Amazon.fr et http://Galeriescreations.com. Vivons nos \\u00e9motions !\"], [\"#Software #Mobile #Application #Developper Amoureux de #technologies je me donne \\u00e0 fond sur ma qu\\u00eate de nouvelles connaissances et #blog par temps perdu\"], [\"Connecting People with Energy, Water, and Gas Providers with the Best Digital Customer Experience(CX) & Workforce Experience(WX) platforms, powered by AI/ML/IoT\"], [\"Pharmaceutical engineers\\nChemistry#research\"], [\"Groupe de services immobilier sp\\u00e9cialis\\u00e9 sur l'investissement locatif.\\nNous vous accompagnons sur la vente, le financement et la gestion immobili\\u00e8re.\"], [\"Marie Curie Fellow at Barcelona  | Computational biologist | Avid sci-fi reader | Lottocracy advocate & father | Weak agnostic | Blood A+\"], [\"Independent HR Consultants for Hire! Supporting businesses and employees across the UK & EMEA\"], [\"\\u2800\\u2800\\u2800\\u2800\\u2800\\u2800\\u201cI haven't been everywhere\\u2800\\u2800\\u2800\\u2800\\u2800 \\u2800 \\u2800\\u2800\\u2800\\u2800\\u2800 \\u2800\\u2800\\u2800\\u2800but it's on my list\\u201d \\u2800\\u2800\\u2800\\u2800\\u2800\\u2800\\u2800\\u2800\\u2800 \\u2800\\u2800 \\u2800\\u2800\\u2800 \\u2800\\u2800\\u2800 \\u2800\\u2800\\u2800 \\u2800\\u2800\\u2800\\u2800 \\u263d \\u263e \\u2800\\u2800\\u2800 \\u2800\\u2800\\u2800 \\u2800\\u2800\\u2800 \\u2800\\u2800\\u2800 \\u2800\\u2800 \\u2800ig: itsflora_ \\u2800\\u2800\"], [\"#WeAreBanijay #BusinessClub #Actualit\\u00e9s,@C8TV,@Cnews @canalplus @Tpmp @H2oprodoff #Storytelling #Branding .#adventure, #Influenceurs #talent, #stories\"], [\"La valeur humaine\"], [null], [\"Climate Action is our focus. Together, let\\u2019s make it yours. \\ud83c\\udf31\"], [\"IUT de Belfort-Montb\\u00e9liard, \\u00e9tablissement d'enseignement sup\\u00e9rieur, composante de l'UFC, formations de qualit\\u00e9 de bac+2 (DUT) \\u00e0 bac+3 (licences pro.)\"], [\"Inspectrice de l'\\u00e9ducation nationale Lettres - Litt\\u00e9rature dans la voie professionnelle - Litt\\u00e9rature de montagne - M\\u00e9moire et citoyennet\\u00e9.\"], [\"Bioinformatician @ ICS/FORTH\"], [\"Best Digital Trendz is an IT Technologies guest blog that delivers the latest IT software knowledge and covers top digital trends in Social Media etc.\"], [\"#engagement et #RSE @FerreroFR #alimentation #gourmandise\"], [\"agenciero/wire journo @ associate professor - Secretario general RSF-Espa\\u00f1a\"], [\"Sports and Entertainment, Product Management, Communication.\"], [\"j'ai fait une connerie\"], [\"Nous devons reprendre ce pays en main. En m\\u00e9moire de nos anciens et pour le futur de nos enfants.\"], [\"New profile \\u201c again\\u201d! Please follow back! Semi famous rockstar-metal vocalist, Vegan\\ud83c\\udf31, Animal rights advocate, Fighting for a better world ALL living beings!\"], [\"Fan de #ACNH et surtout Monica mon code onirique : DA-0268-2268-5414 \\ud83d\\ude0d, fan de la ville de Paris\\ud83d\\uddfcd\\u2019anim\\u00e9s et Photographe amateur \\ud83d\\udcf7 Instagram: toinou_photo\"], [\"Maman en #IEF avec deux enfants dont un #autiste. Militante de l'IEF et blogueuse. #nonsco #education #homeschooling Je tiens aussi @Les archives de l'IEF.\"], [\"Youtubeur\\ud83e\\udd33\\ud83c\\udfffimpopulaire,\\nAuteur \\ud83d\\udcda , 33 ans, @enmarche pour l'Excellence / #WeLoveWhatWeDo // Vive La R\\u00e9publique \\ud83c\\uddf2\\ud83c\\uddeb\\ud83c\\uddea\\ud83c\\uddfa\"], [\"Prod live chez @Centurio_agence | http://twitch.tv/pheno_menal\"], [\"papa de 2 enfants en #ief\"], [\"I have come to the conclusion that while all artists are not chess players, all chess players are artists.\"], [\"QU'EST-CE VOUS FAITES DANS MA MAISON !? ~  Cr\\u00e9ateur de chroniques vid\\u00e9os pop-culture geek ~ 50% sage, 50% fou et 100% peignoir,\"], [\"N\\u00ba1 du mat\\u00e9riel pour les passionn\\u00e9s du #FaitMaison - particuliers et pros. Tout pour conserver et transformer fruits&l\\u00e9gumes, viandes, poissons, laitages...\"], [\"Cha\\u00eene YouTube : Fredsweetsoles\\u2764\\ufe0f\\ud83d\\udc63\\n\\nAlways stay based, no matter what they say \\ud83d\\udcaa\\ud83c\\udffb\"], [\"Sponsoris\\u00e9 par Deutsche Grammophon\"], [\"Designer / PhD (@EHESS_fr), Associate Professor @unimesfr #design, #care, #ethnography #drawing. Co-founder @DesignRecherche / VP @les_ard\"], [null], [\"Partner | CIPP/E | Digital | Privacy | IT | Aero & Space  - @LexingBelgium | @eLexing | - My book on drone law: https://goo.gl/5bUWi0\"], [\"De l'art total rimbaldien (squart des R\\u00e9collets, du Berry-Z\\u00e9bre, de la  Bellevilloise, Paris), \\u00e0 l'art num\\u00e9rique: Culture, d\\u00e9mocratie, \\u00e9cologie\"], [\"CEO @film_begin / Admin @acti_city / CManager @fspf_officiel @philippebesset @pharmaciendef / Ancien correspondant local de presse\"], [\"Kritische Informationen und Intervention zu Biopolitik, Gentechnik und Reproduktionsmedizin\"], [\"Ing\\u00e9nieur Informaticien, p\\u00e8re de famille et Patriote.\"], [\"IT Professional | Master of Science in the Political Sciences (National Politics) | Book Reader | Music Fan | Left nor Right | Politically Homeless\"], [\"For the conservation & sustainable use of marine resources \\ud83c\\udf0a\\ud83d\\udc1f\\u26f5\\ufe0f Secretariat of @EPIntergroup_SD and @IUCN Fisheries Expert Group RT \\u2260 endorsement\"], [\"Pdt/co-founder @lechainon2014 #ESS #innovation #ecologie #Solidarit\\u00e9 #zerowaste  AGIR maintenant pour les g\\u00e9n\\u00e9rations futures. #Sportsdeglisse #proudmom\"], [\"Stagiair Gerechtsdeurwaarder, interested in  #BE #EU #CoE #UN #HumanRights #IMF #OECD Views are my own, RT & follows are not endorsements.\"], [\"Servicio profesional en manejo preventivo y control de Plagas sinantropicas o vectores. Fumigacion con gas ph3 de maiz, harina, arroz, cacao, Cel #0991246730\"], [null], [\"epicureo ed edonistico \\ud83c\\udf77\"], [\"\\ud83d\\udcbc Charg\\u00e9 d'\\u00c9tudes Innovation / 25 yo / \\ud83c\\udfc0   #Basket #Innovation\"], [\"\\ud83d\\udc3a\"], [\"community manager r\\u00e9seau microblogging... strat\\u00e9gie sociale livestream...instantaneite, interactivit\\u00e9, meerkating\"], [\"\\ud83c\\udde7\\ud83c\\uddea\\ud83c\\uddef\\ud83c\\uddf5\"], [\"Homme \\u00e0 lunettes qui aime la moto. Geek \\u00e0 mes heures perdues.\"], [null], [\"\\ud83c\\udfc0\\ud83d\\udd2c\\ud83d\\udcda\\ud83c\\udf08\"], [\"All the things.\\nMaking Donalds great again\"], [null], [\"\\u26bd  \\ud83c\\udfbe  \\ud83c\\udfc8  \\ud83c\\udfca\\u200d\\u2642\\ufe0f \\ud83d\\udeb4\\u200d\\u2642\\ufe0f\"], [\"Broadcast Journalist @BBCArabic\"], [null], [\"#ZermattSummit driving the concept of #finance serving #economy, economy serving #CommonGood and the common good serving the human being. #PeopleBeforeProfit\"], [\"\\ud83d\\udcf8 http://flickr.com/rmnfiaert\"], [\"Un trabajador honrado, infatigable buscador de la utop\\u00eda, amante de la fantasia, producto de la realidad.\"], [\"#Marketing #Communication #Digital in mind \\ud83d\\udcf2 / Sports addict / Passionn\\u00e9e du ballon rond \\u26bd Joueuse & Coach #FootF\\u00e9minin / Bar\\u00e7a & #007 fan\"], [null], [null], [\"IT Services & Products specialized to VFX & Media : Cloud Rendering & archive : http://imagein.cloud/\"], [null], [\"@Archeagglo #SysAdmin #infrastructure\\n#Mix #RadioShow #TotalGroove\"], [\"Psychologue,  ergonome, UX researcher & designer.\"], [\"Chef de projet web \\u00e9ditorial, blogtrotteuse et blogueuse #Voyage #Tourisme #Storytelling\"], [\"Je suis une MILF = Mother I'd Like to Follow !  - EN COUPLE \\u26d4\\n\\nInfir-m\\u00e8re, geek/gameuse.\\nPara\\u00eet que parfois je suis s\\u00e9rieuse. \\n\\n(\\ud83d\\udeabteam 1er degr\\u00e9)\"], [\"Partage de l'actualit\\u00e9 des #maladies chroniques ! Voix des Patients est une initiative de la Fondation Roche. #sant\\u00e9 http://www.voixdespatients.fr\"], [\"Journaliste Football L'Equipe\\nPr\\u00e9sident Mus\\u00e9e National du Sport\"], [\"#TeamDoctorWho #teamgrizi #TeamSaintCharles\"], [\"Homme cis, 25 ans, il/he -\\nTh\\u00e9sard en informatique -\\nGameJammeur : http://celthim.itch.io -\\n\\nPolyA -\\nSexpo -\\n\\nMontpellier\"], [\"PhD Student, questioning the impact of social networks for books on reading and on the production #SIC #Elico @univ_lyon2 @uni_mainz @DAAD\\n\\ud83c\\udde9\\ud83c\\uddea\\ud83c\\uddec\\ud83c\\udde7\\ud83c\\uddeb\\ud83c\\uddf7\"], [\"Culture de la folie ordinaire\"], [\"front end developer / Angular / React / ex-Gobelins\"], [\"Journaliste \\u00e0 @6medias.\"], [\"Fighting entropy since 1982. Open Source Technologist & Infrastructure Automator & Trainer @camptocamp. Occasional tweets on #genealogy.\"], [null], [\"0\\\"You can do anything but not everything--Anonymous\"], [\"rousse bavarde d'apr\\u00e8s mon prof de fran\\u00e7ais\"], [null], [\"Gestionnaire de l'info, traductrice, croqueuse d'images, microbiologiste d\\u00e9froqu\\u00e9e, mordue de sciences. Habite chez son chat. THQI/TDAH (Gifted/ADHD), M\\u00e9tisse \\u221e\"], [\"Beatmaker\"], [null], [\"Fier d'\\u00eatre noir africain\"], [\"http://keybase.io/kavanista\"], [\"GP @partechpartners - board member @ambossmed @brandwatch @ecovadis @NAKDfashion @rohlikcz @urbansportsclub backer @madedotcom @M_Files @sendinblue\"], [\"ChemSec is a non-profit organisation working for a world free of hazardous chemicals by bridging the gap between decision-makers, science, NGOs, and industry.\"], [\"Executive Director of Transit Innovation Partnership. Former Chief Digital Officer for @nycgov & @nygov. Founder of open news platform.\"], [null], [\"fan du @toulousefc et du @stadetoulousain. Team turboboulard\"], [\"expert comptable | F2R conseil |vice pr\\u00e9sidente ordre des experts comptables orleans\"], [\"Big Dreamer, Hard Worker #3DVFX The Foundry Nuke Artist. I also do photography on sundays \\ud83e\\udd37\\ud83c\\udffb\\u200d\\u2642\\ufe0f\"], [\"Passionn\\u00e9 par l'informatique et les nouvelles technos, miagiste, papa de @opencompapp, #sysadm ;) #ProxmoxVE, #Docker, #TYPO3, #CakePHP enthousiaste :)\"], [null], [\"\\ud83e\\udd9d\"], [\"Green State TV is an interview series, sponsored by Syngenta, that seeks to engage people in conversations about agriculture, the environment and other issues.\"], [\"Rebel Scum. \\nCo-founder and Former editor in chief @DCPlanetfr.\\nCr\\u00e9ateur http://ohdeer.fr\"], [\"mon blog: A toi l'honneur !    http://corto74.blogspot.com\"], [null], [null], [\"Weave the web of interspecies understanding with the Arachnomancy App; float the currents of the wind with @aerocene and the Aerocene App.\"], [\"Free software, individual & net freedom. Sailor.  Working from my catamaran on Technology Strategy @ Red Hat\"], [\"Catalogue d'illustrations musicales: habillage d'antenne, musiques du monde, genres musicaux, ambiances sonore.\\nCible: les professionnels de l'audiovisuel.\"], [\"Motard  Geek and co\"], [null], [\"Bush did 4/20, NDE pas NBA, la libert\\u00e9 mon fr\\u00e8re c'est savoureux (Lacrim)\"], [null], [\"Jedin\\u00e9 nez\\u00e1visl\\u00e9 testy v\\u00fdrobk\\u016f a slu\\u017eeb na \\u010desk\\u00e9m a slovensk\\u00e9m trhu, spot\\u0159ebitelsk\\u00e1 poradna, online datab\\u00e1ze v\\u00fdsledk\\u016f test\\u016f a nebezpe\\u010dn\\u00fdch v\\u00fdrobk\\u016f a dal\\u0161\\u00ed.\"], [\"Animatrice radio http://Emission US rnb hip hop/Artiste deep house/electro funk/Eleve cours Florent/ acting international cinema IG: SISSOUSHINE\"], [\"Ma fille est n\\u00e9e en 2006 avec #MaladieRare #JacobsenSyndrome #deficience #surdite #IME #chartres #Dame #handicap #inclusion\"], [null], [\"Ing\\u00e9 dev \\u270c\\ufe0f\"], [\"Bisounours f\\u00e9ministe intersectionnelle, islamo-gauchiste bienpensante, addict au chocolat et aux blagues nulles.\"], [\"\\ud83c\\udfb5Pourquoi mon roi est un Lama ?\\ud83c\\udfb5\"], [\"Professeure de fran\\u00e7ais #classeinvers\\u00e9e, web radio, tablettes en cours , formatrice lettres TICE #CAFFA , IAN LETTRES BORDEAUX\"], [\"#webmarketing #tech #science #music #football\\ud83c\\uddeb\\ud83c\\uddf7\\u2b50\\ufe0f\\u2b50\\ufe0f\\ud83c\\uddea\\ud83c\\uddfa\"], [\"Communications Manager @OVHcloud\"], [\"Scientist studying language, cognition, & social neuroscience. Skeptic. Fan of Orwell. Anti-#QAnon, Anti-#Disinfo. #Neurodiversity #FollowThePinkMartini \\ud83c\\udf78\"], [\"Sales, IT business specialist, startup addict, team player, passionate about innovative companies\"], [\"\\u2708\\ufe0f\\ud83d\\udcab\"], [null], [\"Entrepreneur, Software Craftsman, Amateur Photographer, Father, and Gamer.\"], [\"People who are afraid of ridicule are the ones who are generally the most.\"], [null], [\"Streamer et Speedrunner.\\nBisounours accompli.\\nhttp://fr.twitch.tv/jolenou\"], [null], [\"#insurance #audit #it\"], [\"Eternellement havraise \\ud83c\\udf0a\\nInterne de m\\u00e9decine g\\u00e9n\\u00e9rale\\nRage monster \\u00e0 temps plein\"], [\"Pensjonert franskl\\u00e6rer f\\u00f8dt i Kirkenes, bosatt s\\u00f8rp\\u00e5 og stadig feminist.\"], [\"Web, social media @DNDi. Swiss African. Views my own.\"], [\"militante socialiste, conseill\\u00e8re municipale d'opposition \\u00e0 #Limoges, professeur d'histoire-g\\u00e9ographie\"], [\"Clement_cdnl\"], [\"Christophe. France.\\n\\u30cf\\u30a4\\u30c1\\u30e5\\u30fc\\u30d5\\u30e9\\u30f3\\u30b9\\u652f\\u90e8\"], [\"au point o\\u00f9 j\\u2019en suis ll Droit-Criminologie (@tornadepv)\"], [\"#Youtuber de 23 ans| Viens  t'abonner \\u00e0 ma cha\\u00eene youtube \\u00e7a va saigner! Accrochez vous bien des t\\u00eates peuvent tomber...\"], [\"L'\\u00e9l\\u00e9gance borderline.\"], [\"@CaveAuxPoetes @MardiMidi @ThinkRingo\"], [\"idel \\u00e0 la campagne \\ud83d\\ude98\\ud83d\\udc8a\\ud83d\\udc89\\ud83c\\udfe1\"], [\"Hardware eres y en software te convertir\\u00e1s. El rinc\\u00f3n de mis delirios. Cibernudismo: practiquemos el streap-tease de cerebro\"], [null], [\"Psychological scientist. Researching educational achievement @NTRscience. Tweets on academia, psychology, genetics. Member @ayoungacademy. Formerly @UniofOxford\"], [\"Researcher, educator, father, cook, explorer, traveler. Professor @HKUniversity. Leader of the @ProjectMonsoon.\"], [null], [\"Directrice Human Capital Strategy #digital #innovation #womenintech  @orange\"], [\"http://www.youtube.com/c/NathanTarantlawriter\"], [\"We all need to unite against injustice #HR1 #ForThePeopleAct #StopJimCrow2  #BlackLivesMatter #TeamPelosi #fbr #ctl #TheResistance Content curated by @Zaibatsu\"], [\"error 404\"], [\"Help me buy an M1 Mac Mini: CIMB BANK 7054880532\\nhttp://streamlabs.com/farithaidil\\nhttp://paypal.me/Aidil889\\nhttp://audius.co/farithaidil\\nhttps://www.twitch.tv/farithaidil75\"], [\"MSc Climate Change and International Development at UEA. Equality, justice, climate action. 1/4 of shite-talking nerd extravaganza @podguidegalaxy for your ears\"], [\"Bioinformatician and research fellow of the University of Birmingham. \\ud83c\\uddee\\ud83c\\uddea \\ud83c\\uddea\\ud83c\\uddfa\"], [\"A humanities e-journal showcasing quality academic work and review articles with a global outlook. From the editors of @laviedesidees\"], [null], [\"I tweet about marketing and presentation.\\nWork : CMO @SewanGroupe\\n\\u2764\\ufe0f Pixel perfect & \\ud83d\\udcd0 90\\u00b0\"], [\"D\\u00e9velopper, d\\u00e9fendre l'acc\\u00e8s \\u00e0 la #culture sur le #net et lutter pour pr\\u00e9server cette libert\\u00e9\\n#science #environnement #sante #techno #espace #liberte\"], [\"Libert\\u00e9-Egalit\\u00e9-Fraternit\\u00e9\"], [null], [\"Passionn\\u00e9 de digital, Agile & UX Fan !\\nDirecteur de mission & consultant Digital Commerce @ Gfi\\n// Ex Resp. projets innovation & e-commerce @ Groupe 3SI\"], [\"Working on creating space between stimulus and response. Opinions = my own.\"], [\"Award-winning journalist @BJTC_UK. \\\"one to watch\\\" @onewm. \\n\\n@AJEnglish @RonachanFilms\\n\\nMA TV @cityunilondon & MA GPE @sussexuni \\n\\nRT \\u2260 endorsements, views mine\"], [\"M\\u00eame si nous sommes juste en train de danser dans le noir.\"], [\"Cologne-based D-E translator, views my own\"], [null], [\"Ath\\u00e9e religieux (depuis la ma(scarade)nif pour tous ) et apolitique depuis SarkHollande..juste envie de vivre libre et d'aimer... et depuis peu un insoumis. ..\"], [\"building something new\"], [\"Horizons Expander @ http://Booking.com / Ren\\u00e9 Chateau Internets / Photography / Ice hockey / Carbonara Club\"], [\"TZ: UTC/GMT-4 AST (Antilles - West Indies) Couch\\u00e2alao\\u00fca\"], [\"pol\\u00edglota \\ud83c\\udde6\\ud83c\\uddf7\\ud83c\\uddeb\\ud83c\\uddf7\\ud83c\\uddfa\\ud83c\\uddf8\\ud83c\\uddee\\ud83c\\uddf9 | escorpio full-time | twitter es un constante nadie te pregunt\\u00f3\"], [\"Bonjoir.\"], [\"Resident DJ @ Via Notte (Porto Vecchio, Corsica)\"], [\"Love, Reading, Writing #myDNA (Big) Data & Privacy Lover, Picture & Music Lover #DREAMER #YouAreFootball #WeAreInTheGame N\\u00e9(e) pour amener ma part de progr\\u00e8s\"], [\"Agence d'ing\\u00e9nierie culturelle #ArtyBot Fondatrice @MomArtfamille #Upculture #Auctiongeek @TicketforChange\"], [\"Health and science communicator, PR for Gesundheit Nordhessen and Klinikum Kassel, book lover, feminist, views are my own\"], [\"\\ud83c\\udf08\\ud83c\\udf5f\\ud83c\\udf7a\"], [\"Directeur des Projets Artistiques | TAP - Th\\u00e9\\u00e2tre Auditorium de Poitiers | Festival \\u00c0 corps | Compte personnel | Spectacle vivant, litt\\u00e9rature, architecture etc\"], [\"We're an independent, non-profit, non-governmental org, committed to preventing and resolving deadly conflict. Our staff: https://twitter.com/i/lists/97745467\"], [\"Page officielle du D\\u00e9partement de sciences biologiques de l'Universit\\u00e9 de Montr\\u00e9al : Nouvelles, \\u00e9v\\u00e9nements et plus.\"], [\"CEO Vulcan Consulting | @vulcaninsight | Columnist @sundaybusiness | Senior Advisor to @fightextremism | Former Europe Minister | Horse lover\"], [\"J'ai le #FOMO mais je me soigne.\"], [null], [\"Journaliste @M6 - Magazine et @equipedefrance\"], [\"Journaliste \\u00e0 la recherche, honn\\u00eate travailleur de l'information, jusqu'\\u00e0 r\\u00e9cemment \\u00e0 l'emploi de La Presse, mais \\u00e0 Qu\\u00e9bec, histoire de m\\u00ealer tout le monde.\"], [\"\\ud83c\\udde8\\ud83c\\uddf5\\ud83c\\udde8\\ud83c\\udde6\\nGraphiste entre autres choses\"], [null], [null], [\"Journaliste // Directrice des r\\u00e9dactions // @pleine_vie, @NousDeuxMag, Les Veill\\u00e9es des Chaumi\\u00e8res // Ex @Telestarmag, @Telepoche, @closerfr\"], [\"I like to design sutff, tell stories and be indoors watching 3rd Rock from the Sun when it's rainy, cold and dreary.\"], [\"Hier twittert der Bund f\\u00fcr Umwelt und Naturschutz Deutschland e.V. / Friends of the Earth Germany / Impressum: https://www.bund.net/impressum_twitter\"], [null], [\"Head of Digital Team @osfEUpolicy, Board member @EDRi.  Bilingual EN/ES tweets about politics, tech, internet policy. @beuc and @accessnow alumnus\"], [\"Research Scientist @FishOceansCAN: population genetics | genomics | transcriptomics | salmon | bioinformatics | open science |\"], [\"Reach me at 438-495-5762. Passionnate. Connected. True Relationship. I'm your Missing Link with the clients, the investors and your Happyness !\"], [\"@realmadrid | @selecaoportugal | @F1 | @max33verstappen\"], [\"Multimedia Journalist, Working for DW (Urdu Service),\"], [\"Mes tweets n'engagent que moi, mon p\\u00e8re, ma m\\u00e8re, mes fr\\u00e8res et mes s\\u0153urs et Claude Fran\\u00e7ois Oooooh, Oooooh...\"], [\"akademie der bildenden k\\u00fcnste wien\"], [\"I been ballin' so damn hard I swear I think that I'm Kobe / Yukihyo / OM et SFC / LA Lakers / Alien s. 07 / Pokefan\"], [\"\\ud83c\\udf99 L\\u2019agence de #conf\\u00e9renciers, experts et journalistes, pour vos \\u00e9v\\u00e8nements d\\u2019entreprise en digital ou en pr\\u00e9sentiel.\\n\\n(ex Brand and Celebrities)\"], [\"#Chercheur - #Scientifique -#Physiologiste\\n#Nutrition_orthomol\\u00e9culaire #Biochimie_micronutritionnelle #Variabilit\\u00e9_des_syst\\u00e8mes_biologiques #HRV #Nutrig\\u00e9n\\u00e9tique\"], [\"ASIAN EVENTS EUROPE\"], [\"Hakuna Matata\"], [\"directeur collectivit\\u00e9s locales @orange @alpesmaritimes Vice Pr\\u00e9sident @telecomvalley #Numerique #IOT #SmartCity Mes propos n'engagent que moi.\"], [\"IS 20690\"], [\"Maicress teste , tatonne , bidouille Ipads numerique classe Mat-CP #Smart Exemplary Educator Twitclass : @lutinsMatCP\"], [null], [null], [\"Technical Artist.\\nTools, shaders et roulades dans les champs.\"], [\"J\\u2019ai beaucoup cherch\\u00e9 dans les forums ou des tutoriaux . Et je me suis dit pourquoi pas faire un site pour vous aider . Voici mon nouveau site.\"], [\"Formatrice & Coach. Fondatrice de WellatWork. Charg\\u00e9e d\\u2019enseignement \\u00e0 @EHB_IFFP_IUFFP #coaching #PCM #CNV #pratiquesnarratives\"], [null], [\"retrait\\u00e9e d'une biblioth\\u00e8que municipale\"], [\"ah ok\"], [\"Innovation Expert - #Digital & #IoT / Founder @togezzer / Startups investor #proptech #cleantech #smartbuilding #sustainability #tech4good\"], [\"Public Citizen's Global Trade Watch was created in 1995 to promote government & corporate accountability in #globalization & #trade.\"], [\"#Slasheuse #HealthCare #Brand #Facilitator #Innovation #Human #ChangeMaker #HacKtivProgress Whatelse #Riseandshine #RainbowYoga #Sensitive #OrganicDancer\"], [\"La experiencia y conocimiento de nuestros antepasados es valiosa. Contra #FakeNews. Knowledge and experience of r ancestors is a treasure. \\n I STAND FOR #Israel\"], [\"Ai fait plein de trucs (r\\u00e9alisateur, journaliste, patron). J\\u2019en fais plein d'autres (Conseiller minist\\u00e9riel). Mes tweets n\\u2019engagent que moi (et encore...)\"], [\"queer \\u2728 likes memes \\ud83d\\udc7d vegan \\ud83c\\udf31 takes no shit \\ud83d\\udd2a\\ud83d\\udd2a\\ud83d\\udd2a (iel) (they/them) \\u2650\\ufe0f\\u2600\\ufe0f\\u2648\\ufe0f\\ud83c\\udf19\\u2649\\ufe0f\\ud83c\\udf05\"], [\"Photographe chez @Forge_DImages Des vid\\u00e9os avec @ProjetWh8 #Whovian #gadgetophile #f\\u00e9ministe #photographie #webs\\u00e9rie #TeamAllya #redhair [Elle/She/Her]\"], [\"J\\u2019organise des \\u00e9v\\u00e9nements, je fais du sport et je live #streamer #geek #sport #fromage #cr\\u00e8me\"], [\"Head of UK & Ireland TV coverage @AFP. Missing former homes New York, Washington and Paris.\"], [\"Uni of Lincoln (2:1(Hons) Biomedical Science), dog sis, cat mum, crocheter & Level 2 WAG Coach. Wife to @jpbrowny & slave to https://www.instagram.com/eandecats\"], [null], [null], [\"Ing\\u00e9nierie du #D\\u00e9veloppementDurable #Environnement - #DEEE #DEA - #D\\u00e9chets - #Recyclage #R\\u00e9emploi #R\\u00e9utilisation #ESS\"], [\"b\\u00e9b\\u00e9 anesth-r\\u00e9a  | sportive du dimanche | gourmande \\u00e0 mes heures perdues\"], [\"Clinical psychologist, CBT therapist.\"], [\"co-Founder of @Privateaser / ex #Withings @NokiaHealth Paris & Boston / @CentraleParis Alumnus / @assocentraliens / Savvy Photographer / Amateur #Sailor /\"], [\"Multilingual Communications Professional\"], [\"DJ / Producer\"], [\"#Finance #Politics #Sports #HipHop\\n                     IG : BRAHMBEE\"], [\"R\\u00e9seau social \\u00e0 chier mais bon je suis toujours l\\u00e0\"], [\"Against censorship, hatred and extremism. Moto: No fight, no win! African trotter.\"], [\"Cybersec guy, eating crypto charts every morning. Retweeting all the French m\\u00e8me shit and sometime important stuff\\n#bitcoin\"], [\"\\ud83c\\uddee\\ud83c\\uddf9 ~ \\ud83c\\uddf5\\ud83c\\uddf9 7\\ufe0f\\u20e3 He said: \\\"One day you'll leave this world behind So live a life you will remember\\\"   / Avicci\"], [\"Humanitarian. Father and husband. Director of the Johns Hopkins Center for Humanitarian Health and Professor at Johns Hopkins Bloomberg School of Public Health\"], [\"\\u00ab j\\u2019ai rien \\u00e0 t\\u2019offrir \\u00e0 part des coups de reins \\u00bb\"], [null], [null], [\"Founder & Advisor: Global Human Capital Strategy, Executive Compensation, Total Rewards & Performance:#Equality GlobalCitizen.\\nTweets, Likes, RTs \\u2260 endorsements\"], [\"Electronics Engineer (EIT to be) || Dance Artist/Choreographer || Musician || Fiverr freelancer.\"], [null], [\"Reportera.\"], [null], [\"Passionn\\u00e9 de technologies web, de sports natures... et de rock !\"], [null], [null], [\"keep moving Forward\"], [\"\\u00ab\\u00a0Mieux vaut prendre le changement par la main avant qu\\u2019il ne nous prenne par la gorge.\\u00a0\\u00bb\\nWinston Churchill\"], [\"let em in \\ud83d\\udde3\"], [\"PhD Candidate University of Pisa & Wageningen University / #research topic: #innovation in #food supply chains\"], [\"Plus j'avance , Plus je grandis ... Plus je comprends rien !\"], [null], [\"\\u00c9tudiant L2 SVT et amoureux.\"], [null], [null], [\"\\u200f\\u200fhttp://ferkous.com/home/\"], [\"C'est dans les \\u00e9prouvettes que je produis des fraises \\u00e0 0.1 % de neurones !\"], [\"La #FrenchTech est le nom collectif pour d\\u00e9signer tous les acteurs de l\\u2019\\u00ab \\u00e9cosyst\\u00e8me de #startups \\u00bb fran\\u00e7ais en France et \\u00e0 l'\\u00e9tranger\"], [\"Infirmi\\u00e8re sur mon petit caillou \\ud83c\\udf0b \\ud83c\\uddf7\\ud83c\\uddea               \\n        \\ud83d\\udccd Valhalla\"], [\"F\\u00e9ministe passionn\\u00e9e de r\\u00e9seaux sociaux mais qui sait \\u00eatre dans l'action dans \\\"la vraie vie\\\" , je n'aime pas les masculinistes d'associations de p\\u00e8res\"], [\"Data analyst, photographer, progressive.\"], [\"Ma devise Sourire \\u00e0 la vie Et Touch\\u00e9e par la cause Handicap qui concerne directement ma famille Curieuse des actualit\\u00e9s Twitter un monde ouvert aux opinions\"], [null], [\"Curateur inamovible du Coll\\u00e8ge de Pataphysique. Praticien de la d\\u00e9monstration par l'absurde.\"], [null], [\"#Absolwent   Wydzia\\u0142 Wojskowo Lekarski w \\u0141odzi   #TT #Prywatnie\"], [\"En transit\"], [\"The Innovation Evangelist - Global Keynote Speaker. Talks on innovation, AI, disruption and prospective...\"], [\"\\u201cKnow syphilis in all its manifestations and relations, and all other things clinical will be added unto you\\u201d (Sir William Osler, father of modern medicine)\"], [\"every breaking wave\"], [\"Entertainement platform capturing #data #marketing leads \\ud83d\\udc49 #Fans management & insights. Targeted advertising & direct comms \\ud83c\\udf9f\\ud83c\\udfb6\\ud83c\\udfc0\\ud83c\\udf7f\\ud83c\\udfaf\"], [\"Vit \\u00e0 Poitiers, pianiste et fan de JVs.\"], [\"We support hacking and playing with electronics. We share open projects and create amazing products. \\nOur Newsletter:\\nhttp://www.open-electronics.org/newsletter\"], [\"Bg\"], [\"On a deux vies .La  deuxi\\u00e8me commence le jour o\\u00f9 on r\\u00e9alise qu'on n 'en a qu' une (Confucius )  \\n#carpediem \\ud83c\\udf0d\\ud83c\\udf40\\ud83c\\udf0f\\ud83c\\udf0a#famille\"], [\"Member of the European Parliament (MEP)\\nhttp://www.nicosemsrott.eu\"], [\"IDE de vos a\\u00een\\u00e9s \\ud83d\\udc68\\ud83c\\udffd\\u200d\\u2695\\ufe0f\"], [\"Father of three little Europeans. Also Head of Cabinet to European Ombudsman \\ud83c\\uddea\\ud83c\\uddfa\"], [\"Le plus grand sportif de France\"], [\"Arthur 20 ans, \\u00e9tudiant \\u00e0 @EpitechParis http://spaceactionhero.arthurvasseur.fr\"], [\"WB team @EEDemocracy. Prev: Intl Advisor to Mayor of \\u0160abac, Serbia. @IDS_UK and @UniofNottingham alumna. Dutch-Serbian. *views my own*\"], [null], [\"I fell for you, what a damn mistake that turned out to be.\"], [\"Vibes Cartel to the top .\"], [\"je suis le repr\\u00e9sentant du chaos\"], [\"24 |\"], [\"User Experience & Interface Design.\\nChief Designer of UX-UI at Renault Group, ex Samsung Electronics.\"], [\"\\u062a\\u0648\\u0646\\u0633\\u064a \\u0648 \\u064a\\u0643\\u0641\\u064a\\u0646\\u064a \\u0630\\u0644\\u0643 \\u0641\\u062e\\u0631\\u0627\"], [\"He smokin' weed and he changin', it ain't nothin' new.\"], [null], [\"Pharmacist \\ud83d\\udc8a\\ud83d\\udc89Music addict \\ud83c\\udfb6 serieholic Bookworm freak \\ud83d\\udcda\\u2615\\ufe0f\\ud83d\\udcd6 & travel lover \\u2708\\ufe0f\\ud83d\\udc9e Tweets in English, French & Arabic \\u270c\\ufe0f\\ud83c\\uddf9\\ud83c\\uddf3\"], [\"Gone du quartier Croix-Rousse (Lyon 4e)\\net photo souvenir de la carte de joueur de mon grand-p\\u00e8re au FC Barcelona 1937-38\"], [\"\\u201cbut to say that I'm a rainbow, to tell me that I'm bright, when I'm so used to feeling wrong, well it makes me feel alright\\u201d (she/her | 19)\"], [\"BZH\"], [null], [null], [\"23 yo \\u2022 graduated from @EFAP_ \\u2022 communication/journalism \\u2022 passionate about travelling around the world \\u2022 speaking French, English, Spanish \\u2022 WHV Australia 2018\"], [null], [\"Communicante en veille, je tweete social media, webmarketing, e-commerce et bien sur communication : \\u00e9v\\u00e9nementielle, produit, digitale...\"], [\"Explorateurs de cette nouvelle Conversation entre Marques, Media & Culture / Cr\\u00e9ateurs du #MusicCinemaClub mk2 / Contributeurs @LADN_EU & #LaSorbonne\"], [\"Historienne\"], [null], [\"Hello. Directrice marketing @lolivierassure je tweete #marketing #digital #communication #publicit\\u00e9. Le #velotaf c'est la vie. Et #SwedishFit aussi.\"], [\"\\u00ab Etre vrai, peu le peuvent ! \\u00bb - Friedrich Nietzsche\"], [\"vivre les territoires, l'\\u00e9quit\\u00e9, continuer d'inscrire le d\\u00e9veloppement durable dans toutes ses exigences et parler aux gens pour faire \\u00e7a ensemble...\"], [\"On change pas les habitudes qui gagnent. \\ud83d\\ude45        \\n\\n\\n\\n\\n\\nIci c la porte ouverte \\u00e0 tt les baies vitr\\u00e9es ! \\ud83e\\udd2a\"], [null], [null], [null], [\"Working hard to keep you and your family safe and secure. We review trusted home security systems and create guides for you to make a more informed decision.\"], [\"infirmier gardien des Cartes de Clow. Fervent utilisateur des cartes Eto Celo.\"], [\"co-founder @finologee @digi_cash @mpulse_mpayment #FinTech #RegTech #InsurTech #PublicSpeaker #Host #ProudFatherOfTwoPrincesses #British #French #Rugby\"], [null], [null], [\"Italian adopted by Brussels. Head of Brussels Office @CattaneoZanetto. Views are my own.\"], [\"architecture/urbanism/design/research/urban farming\\n by Anouk Legendre & Nicola Desmaziere - \\nFollow us on https://www.facebook.com/XTUarchitects\"], [\"wooo pinaiz \\ud83e\\udd26\\ud83c\\udffb\\u200d\\u2640\\ufe0f on a d\\u00e9m\\u00e9nag\\u00e9 (et on en a marre du covid) @psyche_Coon (insta)\"], [null], [\"Lawyer \\u2022 Interested in Digital Rights: Copyright, Freedom of Expression, Privacy, NetNeutrality, etc \\u2022 heading @direitosdig, Portugal \\u2022 creator of memes \\u2022 EN/PT\"], [null], [null], [\"Masso \\ud83d\\udcabEnglish teacher ; Full time Dreamer / Proud Ivorian / Instagram : @mbassadrice \\ud83c\\udf3a\\u2728\"], [\"Citizens serving the European Union to promote the respect for Families, Parents and Children's rights.\"], [\"Ing\\u00e9nieur java @3k1n0\"], [\"Speaking out for #FairTrade & Trade Justice |  http://www.fairtrade-advocacy.org | RT \\u2260 endorsement\"], [\"Freelance Journalist / Former @tagesanzeiger, @sonntagszeitung. MSc African Politics via @SOAS PGP: https://bit.ly/2HWjIHm Threema: 5Z8JJV4B\"], [\"Professor @unil #Hypoxia #Exercise #Physiology #Health #Alps #Fatigue #HRV #Performance #RSH \\nEx-elite triathlete & coach.\\nProud of my family \\ud83d\\ude0d\"], [\"Ex CS:GO player, e-sport, rap and crypto enthusiast. \\n\\u2076\\u2086\\u2077\"], [\"walang ganap\"], [\"Mon amoureuse @cherryvxnillx\\n\\nthick thighs save lives\\n\\nCl\\u00e9osexuel\"], [null], [\"Fondatrice et directrice de l'Agence de concertation Palabreo \\nD\\u00e9finitivement convaincue de l'absolue n\\u00e9cessit\\u00e9 de la concertation.\"], [\"Ecologie, d\\u00e9veloppement durable, cosm\\u00e9tiques naturelles, phytoth\\u00e9rapie, naturopathie...\\nProtection et d\\u00e9fense des animaux.\"], [\"Analyste cr\\u00e9dits dans le domaine bancaire- Conseill\\u00e8re Municipale, mission Relations avec les comit\\u00e9s des F\\u00eates de quartier.\"], [\"\\ud83c\\udf0d \\u00d6kologisch konsequent. \\ud83d\\ude4b\\ud83c\\udffb\\u200d\\u2640\\ufe0f Sozial engagiert. \\u270a\\ud83c\\udffd Global solidarisch. \\ud83d\\udc9a Seit 1983. | Fraktion: @GrueneParlament | En fran\\u00e7ais : @LesVertsSuisses\"], [\"Serial entrepreneur in #celltherapy #genetherapy & #Biotechnology. President-CEO PDC*Line Pharma #Entrepreneurship #Leadership #VC\"], [\"personal musings\"], [null], [\"MTK-Varsinais-Suomen aluep\\u00e4\\u00e4llikk\\u00f6, H\\u00e4meess\\u00e4 asuva turkulainen. Mielipiteet omia.\"], [\"Data Scientist - R&D - Machine Learning - NLP\"], [null], [\"Je veux juste dormir.\"], [\"@ToulouseFC / @FCBarcelona / @WissBenYedder\"], [\"@GlobalAktion is a DK #solidaritymovement collaborating w. #socialmovements globally - fighting against #inequality & for political, social & economic #rights\"], [\"Entreprise de services \\u00e0 la personne: m\\u00e9nage/repassage, garde d'enfants, jardinage, bricolage, gardiennage, assistance \\u00e0 personnes \\u00e2g\\u00e9es et handicap\\u00e9es\"], [\"A Fabrication Laboratory in Siegen, Germany.\"], [\"Parce qu'il n'y a point de g\\u00e9nie sans un grain de folie ! \\u00c9crivain, apprentie historienne, artiste \\u00e0 ses heures perdues, cr\\u00e9atrice...en somme une touche \\u00e0 tout!\"], [\"\\u27a1\\ufe0fAnimateur de La R\\u00e9publique En Marche Grand Chatellerault \\n\\u27a1\\ufe0fConseiller Municipal de #Ch\\u00e2tellerault\\n\\u27a1\\ufe0fConseiller Communautaire de #grandchatellerault\"], [\"Amandine Mouillet, #Commmunication #RP #medias #Numerique @GroupeCESI passionn\\u00e9e & curieuse des nouvelles techno mais pas que \\u263a\\ufe0f#MumOf1\"], [null], [\"Grand reporter Football @lequipe\"], [\"Nous produisons des vid\\u00e9os d'animation courtes, compos\\u00e9es d'illustrations dessin\\u00e9es \\u00e0 la main. #videoexplicative #ExplainerVideos #eMarketing #eCommerce\"], [\"#inclusion #climatscolaire #citoyennet\\u00e9 #la\\u00efcit\\u00e9 #accompagnement... Enseignante, formatrice, parfois podcasteuse...\\nhttps://m.soundcloud.com/user-901302539\"], [\"#Entrepreneur, Business Development, passionn\\u00e9 de nouvelles technologies et d'#actionsports| #iot, #innovation, #objetsconnect\\u00e9s, #ecommerce, #ski, #outdoor\"], [\"Twitos de p\\u00e8re en fils depuis 1880. J'arr\\u00eaterai de parler de politique quand ils arr\\u00eateront de dire des conneries.\"], [null], [\"VC @CreditMutInno I Investor in @planityofficiel, @saagie_io & @SchoolsMaria\"], [null], [\"FabLab et \\u00e9co-design partag\\u00e9s\"], [null], [null], [\"#Astoria #Art & #Event Space. Supporting our community artists and residents!\"], [\"\\u00d6ffentlichkeitsarbeit @frauenrat // Feministin // sie/ihr\"], [\"\\ud83c\\udff3\\ufe0f\\u200d\\ud83c\\udf08 \\u2022 sac \\u00e0 dos \\u00e0 temps plein\"], [\"#TeamPortugal      \\ud83e\\udd40\"], [\"je suis un jeune camerounai qui aime bien lire,suivre de la musique faire du sport regard\\u00e9 la t\\u00e9l\\u00e9 et pass\\u00e9 du temps avec sa copine et je suis 1 grand bosseur\"], [\"The transformation and development accelerator of @BNPP_Cardif\"], [null], [null], [\"Jeune think-tank pragmatique \\u00e0 l'image du dynamique Nouvel Esprit Africain et convaincu de l'in\\u00e9vitable d\\u00e9clin de l'Occident.\"], [\"A single fantasy can transform a million realities. Maya Angelou\\n RT \\u2260 approvals\"], [\"Je prends mon v\\u00e9lo pour aller au cin\\u00e9ma\"], [\"\\u00e9tudiante en philosophie. mon vinted : https://www.vinted.fr/membres/953032-yaminakhaldoun (envoyez l\\u2019argent)\"], [\"beliaive croire en vos r\\u00eaves\"], [\"Inventeur du mot Z\\u00f8rglub | #COYG | One Piece | \\ud83c\\udde8\\ud83c\\udde6\"], [\"Interne de radiologie \\ud83d\\udc69\\ud83c\\udffe\\u200d\\u2695\\ufe0f- APHP| #Panafricanism | #Seriephile | \\ud83c\\udde7\\ud83c\\uddef \\ud83d\\ude4f\\ud83c\\udfff \\ud83c\\udff3\\ufe0f\"], [null], [null], [null], [\"Executive wife of the husband, m\\u00e8re d\\u00e9bord\\u00e9e de 5, avocat n\\u00e9vros\\u00e9, SUF, dame KT, BFF of Picard, girl who doesn\\u2019t take no for an answer, #rotorgeek J'ai 9 vies\"], [\"IFSI Laxou \\ud83d\\udc8a\\ud83d\\udc89\"], [\"Anti-con Anti-facho.\\ud83c\\uddf2\\ud83c\\udde6 \\\"Plus l'\\u00c9tat est corrompu,\\u00a0plus\\u00a0les\\u00a0lois\\u00a0sont nombreuses\"], [\"Non.\"], [\"Vil contr\\u00f4leur de gestion @ Mairie de Lille - Dit g\\u00e8re\"], [\"\\\"Onzin met een verlengsnoer\\\" vanuit de pyrenee\\u00ebn   http://facebook.com/pyrenees #fietsgek #cycling #trumpet #photograph\"], [\"Under curfew evaluation.\\n\\nRenforcement des comp\\u00e9tences en suivi et #\\u00e9valuation.\\n\\nTweets par S\\u00e9bastien Gal\\u00e9a.\"], [\"#xix = #webdesign + #illustration\"], [\"@OM_Officiel \\u272f | @pnlmusic\"], [\"voyageur, solitaire, d\\u00e9voreur de bouquins, cin\\u00e9phile, soupe au lait, ne tol\\u00e8re aucune m\\u00e9diocrit\\u00e9, d\\u00e9teste l'hypocrisie, adore la mangue, la noix de coco...\"], [\"Rien ne battra un peuple uni et r\\u00e9volt\\u00e9.\"], [\"Ici Il y a un enfant qui pleure\"], [\"Informations sur l'\\u00e9ducation, la p\\u00e9dagogie et la curiosit\\u00e9\"], [\"\\ud83c\\udf0d x \\u2600\\ufe0f x \\u2665\\ufe0f\"], [\"Just off to the pharmers market\"], [\"Private sector Development specialist / World Bank projects-Burundi. Juriste, music lover, ordinary citizen.Mes tweets n'engagent que moi.\"], [\"3rd Scenario is: Scott Bugs Allen, Earl Tee Harris; L.A.'s Dynamic Duo of JazzFunkSoul, now  Spectra Jazz recording artists\\n#baddestbandinla\"], [null], [null], [\"R\\u00e9dacteur du site le Scriptorium Ludique, membre du Studio09, co-auteur de Brunan - l'aventure au comptoir, roliste, bricoleur graphique...\"], [\"\\u2602\\ufe0f http://Influenceur.se du bouli\\ud83c\\udfaePan\\ud83c\\udff3\\ufe0f\\u200d\\ud83c\\udf08 \\ud83e\\udd9a CF / NB SEDh \\u267f. Snap: Nyo_kaze Insta: nyo.Kaze @LSexWorkers\"], [\"Fikirlerini payla\\u015fmak iyidir. \\nSosyal medyada fikir payla\\u015f\\u0131l\\u0131r.\\n Sosyal medya iyidir. (asl\\u0131nda bu tam olmad\\u0131 ama idare edin)\"], [\"Try Harder |\\nhttp://instagram.com/corbelpierre/\"], [\"Game programming student. 22yo\"], [\"HUMOUR toujours ! Pertinence et impertinence sur tout et n'importe quoi. Bloqu\\u00e9 par @R_Bachelot @DenisBrogniart et @NikosAliagas, des r\\u00e9f\\u00e9rences quoi....\"], [\"Historienne de l\\u2019art, \\u00e9colo farouche... slow attitude, v\\u00e9g\\u00e9tarienne & Swiss fondue addict \\ud83e\\uded5 \\ud83c\\udde8\\ud83c\\udded\"], [\"\\u9038\\u898b\\u9f8d\\u751f\\u3002\\u5927\\u5b66\\u6559\\u54e1\\u300218\\u4e16\\u7d00\\u30d5\\u30e9\\u30f3\\u30b9\\u6587\\u5b66\\u30fb\\u601d\\u60f3\\u3002\\u30ea\\u30e8\\u30f3\\u9ad8\\u7b49\\u5e2b\\u7bc4\\u5b66\\u6821\\u53e4\\u5178\\u601d\\u60f3\\u53f2\\u7814\\u7a76\\u6240\\u62db\\u8058\\u6559\\u6388\\u3002\\u9038\\u898b\\u9f8d\\u751f\\u30fb\\u5c0f\\u95a2\\u6b66\\u53f2\\u7de8\\u300e\\u767e\\u79d1\\u5168\\u66f8\\u306e\\u6642\\u7a7a\\u2015\\u5178\\u62e0\\u30fb\\u751f\\u6210\\u30fb\\u8ee2\\u4f4d\\u2015\\u300f\\uff082018\\uff09Dix-huiti\\u00e8miste. Diderot et l'Encyclop\\u00e9die. Opinions are my own.\\u533f\\u540d\\u9375\\u30a2\\u30ab\\u30a6\\u30f3\\u30c8\\u306f\\u304a\\u65ad\\u308a\\u3057\\u307e\\u3059\"], [\"Just want to tryhard a game | movies & series addict\\nSystem & security student\"], [null], [\"bg\"], [\"Montr\\u00e9alais depuis quelques ann\\u00e9es @chimieparis @polymtl\"], [\"Linux for Life\"], [null], [null], [\"Super Reporter de @ForumLorie / Webmaster de http://www.lorie-collection.com\"], [\"\\ud83c\\udde9\\ud83c\\uddff\"], [\"Caricaturiste alg\\u00e9rien/Algerian cartoonist @Kiosquetv5 @Liberte_Algerie\"], [\"\\ud83c\\udde9\\ud83c\\uddff @realmadrid\"], [\"Deviens g\\u00e9nial\"], [\"#bijouxfantaisiepascher #bijouxtendance\"], [\"Domaines d\\u2019int\\u00e9r\\u00eats: #Veille,#Web,#R\\u00e9seauxsociaux ,#sant\\u00e9\"], [\"my life is already fucked up anyway                       \\n\\n\\n\\ud83c\\udf08\\u2600\\ufe0f\\ud83d\\udc9f\\ud83c\\udf3b\\ud83c\\udf08\\ud83c\\udf3b\\ud83c\\udf3c\\ud83d\\udc9f\\u2600\\ufe0f\\ud83c\\udf3c\\ud83c\\udf08\\ud83d\\udc9f\"], [null], [\"Je ne suis pas un panda.\"], [\"Passionn\\u00e9 du Web depuis 1996, Growth Hacking, d\\u2019Histoire, Sports de Combat.\"], [\"Zoulette Hate Account \\ud83d\\udd31Unit\\u00e9 Hi Shin. \\u269c\\ufe0f Noah est le Zoulette God\\ud83d\\udc7a Kishimoto est un chokeur \\ud83e\\udd27\"], [\"UX/UI Designer @scimob (Webedia Group) #94Seconds #94Degrees #WordAcademy #MathAcademy #KezakoMysteryPic #Consensus #PixelsChallenge & Photographer by Passion\"], [null], [\"D\\u00e9sesp\\u00e9r\\u00e9ment optimiste, Gothique soft & m\\u00e8re de famille d\\u00e9jant\\u00e9e, CM/R\\u00e9dactrice la nuit,fatigu\\u00e9e le jour. #Archiaddict #saccageparis #paris17 #cannes #apresj20\"], [null], [\"\\u00e9volution discontinue\"], [\"your new favorite ugly clown \\ud83e\\udd21\"], [\"J'ai eu un dipl\\u00f4me de Droit une fois. Maintenant je suis beaucoup fonctionnaire, un peu gamer. Ou l'inverse je sais plus. \\ud83d\\udd79\\ufe0f\\ud83c\\udde7\\ud83c\\uddea \\u26bd\\u26ab\\ud83d\\udd34\"], [\"Fournisseuse de confitures originales @LapauseW - @HistoiresPremas - Newsletter #LesPetitsPlatsDAelys - Freelance -  Maman d'une petite f\\u00e9e. Blogueuse\"], [\"Community Moderator @ Bandai Namco Entertainment Love fighting games especially #StreetFighter mangas and anime #DragonBall #SaintSeiya and Japanese Culture.\"], [\"Salut, je n'est pas de but particulier alors je laisse les chose venir  comme elles le sont \\u270c\\ufe0f\"], [\"Wai trop \\ud83d\\udc4d\"], [\"Sales Manager @arte & Followeuse avant tout, je vous \\u00e9coute.\"], [null], [null], [null], [\"HDA, cr\\u00e9atif, la peinture et le papier m\\u00e2ch\\u00e9(compte plus si secondaire)\"], [\"zen\"], [\"https://m.youtube.com/channel/UCYKlfQIHaHpVPB0Wm-lZzQg\"], [\"youssef_kodi\"], [\"F\\u00e9ministe / Militante / Formatrice \\u00e9galit\\u00e9 & lutte contre les violences - Collectif f\\u00e9ministe contre le viol / Fondation des femmes / Collectif Place aux femmes\"], [\"Je me laisse porter par les flots\\n\\n(lui/Il, je crois)\"], [\"Le chocolat est crocaing. Cyril Lignac #Ekipafion\"], [\"membre du directoire @CaisseEpargneMP @GroupeBPCE\"], [\"Journaliste | Actuellement chez @Le_Progres | Dans les \\u00e9pisodes pr\\u00e9c\\u00e9dents  @LaCroix et @IjbaOfficiel\"], [\"\\ud83d\\udc69\\ud83c\\udffb\\u200d\\ud83d\\udcbb Mandy\\n\\ud83d\\udeb2 Dutch\\n\\ud83d\\ude37 Brussels\\n\\ud83c\\udf0d @PvdDEuropa\\n\\ud83d\\udc37\\ud83d\\udc2e\\ud83d\\udc1d\\ud83d\\udc31\\ud83e\\udd8b\\ud83e\\udd8a\"], [\"20 yo | kayle\"], [null], [\"'Pole Dance, Ma vie en \\u00c9quilibre', ed Gl\\u00e9nat\\nFreelance UI/UX designer\\nAuthor of Debian 8, 9 and 11 default themes.\\n\\ud83d\\udcf7 http://instagram.com/takajuliette\"], [\"Responsable Communication #Marketing #Num\\u00e9rique #Innovations\"], [null], [\"cum amore, cum fide, cum intelligentia | #handwashing & #freedomtolove advocate | #saffron devotee | aspiring #minimalist | #economist of life | #PREVENTCANCER\"], [\"Sp\\u00e9cialiste Deep Learning et reconnaissance d'images.\\n\\nNous mettons au point des intelligences artificielles sur mesure pour les entreprises.\"], [\"Kelya Services est une #entreprise sp\\u00e9cialis\\u00e9e dans le #service\\u00e0lapersonne, le #nettoyage #industriel et l\\u2019#aide #sociale aux #personnes #\\u00e2g\\u00e9es.\"], [\"Com\\u00e9dienne | #culture | #theatre | #spectaclevivant | #art |\"], [\"DeputyDG @beuc, Consumer NGO. Consumer advocate and lawyer. Focus on consumer rights, enforcement, digital policies, AI, EU governance/Better Regulation.\"], [\"L\\u2019Association Europ\\u00e9enne pour l\\u2019Education aux m\\u00e9dias audiovisuels (AEEMA/EAAME) travaille \\u00e0 l'\\u00e9ducation num\\u00e9rique avec le Conseil de l'Europe.\"], [\"Journalist at @CNN Digital Worldwide. Ex VICE/WIRED/Hurriyet. Tips on all subjects welcome in FR, JPN, TR, SPN & PT to: emiko.jozuka@cnn.com\"], [null], [\"Architect, urban planner, citizen, partner, dad, on the ground\"], [\"Trabajando por el cambio hacia un \\ud83c\\udf0e m\\u00e1s justo, sostenible y divertido\\ud83e\\udd38\\u200d\\u2640\\ufe0f\\ud83d\\udc83\\ud83d\\udd7a desde @greenpeace_esp: #Bosques #Empresas #DDHH #Trade #RSC y +\"], [\"salope on crache pas dans la soupe on la graille on la dig\\u00e8re on en redemande \\ud83e\\udd20\"], [\"Decide not to use it,\\nCurry, way downtown\"], [\"Co-founder & creative director @with_barry - social creative agency. Also teaching @sciencespo & @UnivRennes_2\"], [\"Follow me on Mastodon at @moobyfr@mamot.fr\\ninode=1, pid=0\"], [\"| Entre marketing digital, yoga, tweets inutiles | Normande expatri\\u00e9e dans la Yaute |\"], [\"\\ud83c\\uddeb\\ud83c\\uddf7 3D Artist / Member @SoulsteamAMV\"], [\"\\ud83d\\udc31\\ud83d\\udc3c\\ud83c\\udf63\\ud83c\\udf8e\\u2665\\ufe0f\\ud83c\\udfb8\\ud83e\\udd84\"], [\"Le premier fabricant de programmes audiovisuels en Europe #StudiosAtlantis #DALS #Topchef #LRDS #Telefoot #50minutesinside #TopgearFrance #AOV #lmp\"], [null], [\"R\\u00eave onirique #ACNH : 6518 7832 2589\"], [\"19. je dessine (beaucoup) de robo aux cheveux bleus\"], [null], [\"Sauvez un prol\\u00e9taire, mangez un actionnaire. Si vous \\u00eates outr\\u00e9s par les grossi\\u00e8ret\\u00e9s mais pas par la violence sociale, vous avez rien pig\\u00e9.\"], [\"H\\u00e9doniste - WWCREW \\ud83c\\udf10\"], [\"MASTER2 : security information applied in fiber optic #technicien_Net_Google\"], [\"Investor-to-state dispute settlement (ISDS) is rigged to the advantage of the US: https://blog.ffii.org/white-house-defends-isds/\"], [null], [\"Insta: cleement_lcq\"], [\"Mage @Microsoft |  Product Leader for #Dynamics365| Bragging Rights - #UnifiedRouting #Omnichannel #D365CIF #AzureDNS #WinDNS | Artist | Poet\"], [\"Enqu\\u00eatez pour d\\u00e9couvrir l'identit\\u00e9 du myst\\u00e9rieux poilu Gueule d'ange. Un   #seriousgame des Archives d\\u00e9partementales des Yvelines pendant la #1GM\"], [\"Journaliste normande, l\\u00e0-haut sur la montagne. Madame Web du groupe @LeMessagerfr #HauteSavoie #Savoie #Ain  B\\u00e9n\\u00e9vole @lachance_media \\u00e0 Grenoble\"], [null], [null], [\"bio\"], [\"Zombi Espa\\u00f1a sin ventura...\"], [\"Prof des \\u00e9coles, je pr\\u00e9f\\u00e8re dire \\u00ab instituteur \\u00bb \\u00e0 la Pagnol. Passionn\\u00e9 par mon m\\u00e9tier, l\\u2019environnement, le sport et la culture. Dur d\\u2019\\u00eatre choy\\u00e9s par des cons\"], [\"Veille et actualit\\u00e9 du num\\u00e9rique. #IUT #Universit\\u00e9 #p\\u00e9dagogie et ... #profdoc for ever\"], [\"Crois le ou pas, mais c'est pas moi sur la PP. Ma m\\u00e8re aime bien mon humour aussi. Fais gaffe \\u00e0 @charlotteblaise elle peut mordre *keur*\"], [\"Prof de #lettres La Malassise #classeinvers\\u00e9e #ClasseMutuelle #ClasseClassique aussi #Twittconte #theatre #collaboration #storytelling @mala6_e @Malassise3c\"], [null], [\"La communication des #avocats depuis 1997 & j'aime les petites robes noires. La #m\\u00e9diation aussi! Praticien du #processuscollaboratif. @respectzone_org active\"], [\"tututu\"], [\"J'aime les chroniques judiciaires, l'humour noir et le vernis \\u00e0 ongles. Officie chez @mnbaq.\"], [\"Ch\\u0153ur Stella Maris \\u2013 Direction musicale Olivier Bardot\"], [\"Regarde les \\u00e9toiles, Petit Renard.\"], [\"# \\u2192 \\u03bb + \\u00d8\"], [\"msu de campagne pour externe et interne niveau1et2,j allais oublier le plus important p\\u00e8re de 5 enfants de 4\\u00e017quatres gas et une fille au milieu\"], [\"Live tweets from the careerday events @DKFZ | Questions & contributions are welcome |\"], [\"\\u2600 B\\u00e9ziers\\n                                                                        \\ud83d\\udcda M2 Marketing/IMM - Grenoble IAE \\ud83c\\udfd4\"], [\"Soy polit\\u00f3logo pero eso no quiere decir nada.\"], [\"G\\u00e9n\\u00e9ration walkman \\u00e0 donf, devenue sourde mais pas muette. Il n'est pas n\\u00e9cessaire de go\\u00fbter la merde pour savoir quel go\\u00fbt cela a. #Fr\\u00e9jusOccup\\u00e9e\"], [\"acab,\\nblm \\n\\n\\u2728she, her\\u2728\"], [\"Toute l'actualit\\u00e9 des Amiibo. Des conseils pour construire sa collection d'amiibo. Et o\\u00fa acheter ses Amiibo au meilleur prix?\"], [\"(elle) i sleep in a shark\\u2019s stomach /f\\u00e9ministe radicale\"], [\"\\ud83d\\udcf9 Journaliste AFP TV au bureau r\\u00e9gional de Lyon (Auvergne-Rh\\u00f4ne-Alpes Bourgogne) @afpfr ex-Reportage Vid\\u00e9o Paris #AFP /// Mes tweets n'engagent que moi !\"], [\"Striving to learn some \\ud83c\\uddfa\\ud83c\\uddf8EN/\\ud83c\\uddee\\ud83c\\uddf9IT/\\ud83c\\uddef\\ud83c\\uddf5JP / \\ud83c\\udde9\\ud83c\\uddea DE -- BA in Computer Eng., musician and curious about everything!\"], [\"French nerdy tech-enthusiast, nature and music lover, learning new things everyday ! Information security Offense, Defense, and a whole lot of ranting.\"], [\"Guitariste\"], [\"C\\u0153ur d'arti-chaud\"], [\"Fueled by hype and spite. Low energy, zero chill. She. Retweets, rants, and the ever-blurring line between news & jokes. \\ud83d\\ude43\"], [\"Un mec lambda, avec des id\\u00e9es un peu chelou des fois ... T'aimes les cr\\u00eapes ?\"], [\"\\\"I thought what I'd do was, I'd pretend I was one of those deaf-mutes\\\"\"], [\"Computer Scientist, PhD. Bike commuter. #velotaf #Java\"], [null], [\"Je veux mourir comme j'aurais v\\u00e9cu, en accord avec mes convictions et dans le respect de ce que je suis physiquement et psychiquement\"], [\"Journaliste  @i_DFrance, @brainmagazine,  @mixte_paris , @MagazineTrax, @tsugimag, @lesinrocks, \\n@Noisey_FR, @laRadioNova, @revuetv \\n/ Love is the message.\"], [\"Je fais le tour de ta vie je m\\u2019ennuie et je retourne \\u00e0 la mienne\"], [\"Mange\"], [\"Cdt SPP / Adj. Chef Gpt OPS @SDIS45 et chef Sce #DoctrineOps & #RETEX / membre @VISOV1 #MSGU / #gescrise #ComOps #FDF #SIC / Fan #A400MTacticalDisplay\\u2708\"], [\"Un laboratorio de fabricaci\\u00f3n digital en el que podr\\u00e1s construir (casi) cualquier cosa al alcance de tu imaginaci\\u00f3n.\\n\\n http://facebook.com/FabLabLeon\"], [\"Documentaliste audiovisuelle / France 3 Occitanie / France T\\u00e9l\\u00e9vision\"], [\"Ingenieur Conseil Culture et Environnement en Arboriculture et Mara\\u00eechage sur la zone sud-est de la France. Mes tweets n'engagent que moi.\"], [\"Interne d'AR\"], [\"Job @Orange_France \\ud83d\\udfe7 / \\ud83c\\udfb8@Springsteen/ \\u26f7 @LesArcs /\\ud83c\\udfd4@PilatmonParc / \\u26be\\ufe0f @baseballducks & @Yankees fan /#Cinema \\ud83c\\udfac /\"], [\"\\u00c9lue #Angers & #AngersAgglo\\nDr. Am\\u00e9nagement et Urbanisme \\nChercheure-consultante ind\\u00e9pendante \\n#Transition #R\\u00e9silience #R\\u00e9versibilit\\u00e9 #Climat\"], [null], [\"pourvu qu'il pleuve\"], [null], [\"22 yo - \\ud83c\\uddeb\\ud83c\\uddf7\"], [\"enseignante cm1-cm2\"], [\"Fl\\u00e2neuse\"], [null], [null], [\"Explorateuse.\"], [\"Avocat, droit du num\\u00e9rique, protection des donn\\u00e9es personnelles (Digital and privacy Lawyer)\"], [\"Dancer/Choreographer  Chor\\u00e9autrice\"], [\"d\\u00e9teste le populisme et les raccourcis\"], [\"#Innovation #Change #Mixity #Imagination for a better world. @SNCF_Digital Like photographie Views are my own\"], [\"Buscando caminos hacia la justicia socioecol\\u00f3gica, desde la academia, las calles y el campo en @CatAgroeco @FRACTAL_col @ecologistas @tramallol @InspiraTerrito1\"], [null], [null], [null], [\"All Ontario students should attend safe, well-maintained public schools that are funded as a critical part of our society's infrastructure.\"], [null], [\"ai-je bien r\\u00eav\\u00e9 ?\"], [null], [\"Don't make me an optimist, you will ruin my life\"], [null], [\"Compte officiel de la section PS d'Asni\\u00e8res-sur-Seine.\\nSecr\\u00e9taire de section : @romainjehanin / \\nContact : psasnieres@gmail.com\"], [\"Ton regard de braise me rend merguez\"], [\"\\ud835\\udc38\\u0301\\ud835\\udc61\\ud835\\udc62\\ud835\\udc51\\ud835\\udc56\\ud835\\udc4e\\ud835\\udc5b\\ud835\\udc61\\ud835\\udc52 \\ud835\\udc52\\ud835\\udc5b \\ud835\\udc51\\ud835\\udc5f\\ud835\\udc5c\\ud835\\udc56\\ud835\\udc61\"], [null], [\"Co-Fondateur et Web Sp\\u00e9cialiste chez @LesCanetonsDuWeb\"], [null], [null], [\"Streamer d\\u00e9butant, auto proclam\\u00e9 roi des Scratchs, G\\u00e9nie inventeurs des scotches et dieu vivant cr\\u00e9ateur des trucs qui collent !!\\n\\nOTPekko since release shitelo\"], [\"Taking care of veggies, animals and food safety. Data are my fuel. Cinephile. \\u2708 \\ud83c\\udde6\\ud83c\\uddfa.\"], [\"Phd Student in Management / Universit\\u00e9 de Lorraine - Laboratoire CEREFIGE - GRH et Management public | motivation au travail, motivation de service public\"], [\"Podcaster, broadcaster, Chief TWiT on the TWiT Netcast Network and The Tech Guy on the Premiere\"], [\"\\ud83d\\udccdParis / Aix \\ud83c\\udde8\\ud83c\\uddf7 Pura Vida mind \\ud83c\\udde8\\ud83c\\uddf7\"], [\"organisme de #formation, objectif : la #comp\\u00e9tence au service  de la #performance dans une ambiance conviviale \\ud83d\\ude42\"], [\"Sbire niveau 3.   -20 en prise de d\\u00e9cision.  +45 en fuite.\\n+15 En r\\u00e9colte et lavage de l\\u00e9gumes.\\nInvocation fermi\\u00e8re lvl 1 : Permet d'invoquer une poule par jour\"], [\"Si j'traine en bas de chez toi j'fais chuter le prix de l'immobilier\"], [\"An in-depth look at events and topics shaping #France. Every Friday at 5.45pm Paris time on @FRANCE24 with Nadia Charbit\"], [\"M.M. Toujours les M\\u00eames \\ud83d\\udc9a\\ud83d\\udc9b5A.\\u2764\\ud83d\\udc99\\n\\ud83c\\uddeb\\ud83c\\uddf7\\ud83c\\uddf2\\ud83c\\udde9\"], [\"E\\u2764\\nMon but dans la vie ? mourir jeune le plus tard possible\"], [\"Princesse le jour, hackeuse la nuit.\"], [\"El objetivo de la Delegaci\\u00f3n del @CSIC en la Comunidad Valenciana es acercar a la sociedad la #ciencia que producen nuestros once centros de investigaci\\u00f3n.\"], [\"I'm using this account to follow ONLY vegans, vegetarians, animal rights activists, and environmentalists\"], [null], [\"http://Jetsetliferadio.fr\"], [\"Investigator @Earthsight\"], [\"Tournament/Event Organizer - @Ubisoft EMEA esports project/broadcast manager for Rainbow Six Siege #R6EUL #R6APACL\"], [\"Ok\"], [null], [\"Centres d'int\\u00e9r\\u00eats : #P\\u00e9dagogie #ClasseInvers\\u00e9e #Coop\\u00e9ration #ClimatScolaire #Soci\\u00e9t\\u00e9Apprenante #BienCommun #EDD #Education #R\\u00e9alit\\u00e9Virtuelle #EcoleInclusive\"], [\"Cyber troubadour\"], [\"Passionn\\u00e9 de technologie - \\uf8ff\"], [\"G\\u00e9n\\u00e9ration & Mon\\u00e9tisation de trafic web.\\nR\\u00e9f\\u00e9renceur netlinkeur pro \\ud83d\\udcc8 #SEO.\\nCr\\u00e9ateur de sites rentiers.\\nCryptonaute, G\\u00e9n\\u00e9rateur de #crypto \\ud83d\\ude80  #DeFi\"], [\"Site sp\\u00e9cialis\\u00e9 de produits #Bio & #Naturels #Cosm\\u00e9tiqueBio #Huile  #Hydrolat #Henn\\u00e9 #Superaliments ... D\\u00e9couvrez la  #beaut\\u00e9 et le bien-\\u00eatre au naturel \\ud83c\\udf34 \\ud83c\\udf1e \\ud83c\\udf35\"], [null], [null], [\"X.X.LXVI\"], [null], [null], [null], [\"aaaaaa\"], [\"MED 3 \\u2624\"], [\"#Sant\\u00e9 #Sant\\u00e9Pr\\u00e9carit\\u00e9 #Environnement #SportSant\\u00e9 #PromotionSant\\u00e9 #Pr\\u00e9vention #Sant\\u00e9Territoire\"], [\"#positivechange #ProjectMgt #Transformation #BenefitsMaximisation #TransformAgility #digital #CollectiveIntelligence #multipotentiels#accompagnement #formation\"], [\"JF, IT, banlieusarde, entrepreunariat.. Le penser et se taire? non le Tweeter.\"], [\"Grosse f\\u00e9ministe \\u00e0 chats, s\\u00e9rivore et make-up addict.\"], [\"\\u2766\"], [\"Llce anglais lille 3, la flemme est en moi\"], [\"Coeur blanc comme la neige d'hiver MEMBRE DE LA #K\\u00d4R\\u00d4YAGANG \\ud83d\\udcaa, \\u26bd FOLLOW_SON_NOUS_VIVANT\"], [\"Directrice Associ\\u00e9e\\n#ConseilRH #Accompagnementdeproximit\\u00e9 #DroitSocial #RelationsSociales #Accordscollectifs #Formation #EntretiensProfessionnels #BienEtre\"], [null], [\"Astrophysicist at AIM; CNRS, CEA, Paris-Saclay University\"], [\"mistake to be beautyfull, i\\u2019ve got a beauty Dumb face, i don\\u2019t care i just love, wolf furry, 20 BO\\u00cf, NSFW , \\ud83c\\uddeb\\ud83c\\uddf7 Gardez vous de l'homme secret et du chien muet.\"], [null], [\"https://www.snapchat.com/add/la_pourriture\\n\\n\\nRejoins la folie et les bonnes ondes du net \\ud83d\\ude09\"], [\"Bien plus qu\\u2019une Eau Min\\u00e9rale... #abatilles #abatilleswater #arcachon #buvonsbienbuvonslocal #moneaumaregion #grandcrudeleau\"], [\"Family firms\\u2019 CEO, board member and Friday Group. Opinions are my own\"], [null], [\"Don\\u2019t get confused between my personality & my attitude. My personality is who i am, my attitude depends on who you are.\"], [\"OLYMPIQUE DE MARSEILLE ! #AJamaisLesPremiers #TeamOM \\u2764\\ufe0f\"], [\"\\u00ab Le plus petit des f\\u00e9lins est une \\u0153uvre d\\u2019art \\u00bb L\\u00e9onard de Vinci\\n#Felinpower #GrandAmiens #MaineCoon #Antifake  #28min #Teammarini\\u00e9re #TeamSNCF #Culture\"], [\"A #marketing guy and a #videomaking one for #magic and poker on the internet\"], [\"Independent consultant/entrepreneur in Information & Communications \\u03a4echnologies & Research infrastructures; Amateur meteorologist/football player/skier/father!\"], [\"Head of Analysis @Ecuity_UK Consulting. Energy policy tweets. Views my own\"], [null], [\"She wanna meet carti... #celtics\"], [\"Fan de LE TRAIN.\\nBB67500 stan account.\\nPP de la super talentueuse @ZazieZanie\\nJe d\\u00e9teste Kirby.\\nIl /lui\"], [\"\\ud83c\\udde6\\ud83c\\uddf2\\nerwan_cnr\"], [null], [\"Zambian by birth, Scottish by parentage, Norwich by choice. Recovering journalist. Fuelled by caffeine and cortisol. Views = mine. Chart PR. @thequadram He/him.\"], [\"French freelance journalist on high-tech, healthcare, wellness and innovation issues\"], [\"which not kill me makes me stronger - \\nShow must go on\"], [\"Astronomer. Postdoc @Stockholm_Uni. Past: Ph.D. @ObsStrasbourg. Dark matter, stellar streams, Milky Way dynamics and formation, Local Group :)\"], [\"Le Jawa sympathique\"], [\"20th World Congress of the International Federation of Automatic Control, July 9-14, 2017\"], [\"\\u2022237\\u2022\"], [\"mira mira oh toi mira qui vole parmi les nuages\"], [\"I love Sundays, running, conversations with my friends, my kitchen, marketing experiences, flying, really great cocktails & sponge cakes! \\ud83e\\udd13\\ud83d\\udc69\\ud83c\\udffb\\u200d\\ud83d\\udcbb\\ud83e\\udd84\\ud83d\\udcab\"], [\"Parasitology is a peer-reviewed journal published by Cambridge University Press. Impact Factor 2.783; 10th ranked journal in Parasitology.\"], [\"Motion designer from Belgium with Dagestani blood and turkish culture // Right now living and working in South Korea. \\uc548\\ub155\\ud558\\uc138\\uc694!\\nhttps://cemilacikgoz.artstation.com\"], [\"Vincent Mercier T4 - roc giffois - actuellement (enti\\u00e8rement) occup\\u00e9 par la PACES - Vincenculey \\u00e0 mi-temps\"], [\"Do @livrept. Utopista nas horas vagas. Republicano e ecologista. Engenheiro com forma\\u00e7\\u00e3o em filosofia. \\ud83d\\udeb2Gosto de escrever BDs.\"], [\"HONYAKU SERVICES is a translation agency based in Bangalore, India that specialized only in Japanese scientific and technical document translation.\"], [\"Designer / Formatrice Freelance #Design #Communication #Print #Edition #Web #Digital #Strategie #Formation @bruyeredesign\"], [null], [null], [\"Malchanceux optimiste\"], [\"Digital Marketing Strategist \\u2728 Grew up in France, now exploring the world \\ud83c\\udf0d\"], [null], [null], [null], [\"'Pas de chance'\\n\\nhttps://youtu.be/ZagDLC9ZQT4\"], [\"PhD student in #nanophotonics at @Univ_BFC @FemtoSt #Besan\\u00e7on also storm chaser and paraglider in my free time\"], [\"Formateur de formateurs.Certifi\\u00e9 formateur \\u00e0 l'Entretien d'Explicitation#Accompagnement#ing\\u00e9nierie#Emploi #Formation#r\\u00e9seauxsociaux\"], [\"Expert-Comptable Entrepreneur @CikleaConseil @biznessens- Past-President National @anecsnational membre de @ForceExperts\"], [\"Youtubeur & Streameur affil\\u00e9 Twitch. Buildeur Minecraft. Cr\\u00e9ateur d'histoires r\\u00f4leplay. @Diff_Aventures #Born2mine #Sandbox #Shahala http://twitch.tv/makyu___\"], [\"Tshirts x Sweats x Tote bags.  D\\u00e9couvrez l'e-shop sp\\u00e9cialis\\u00e9 dans les marques de T-shirts et accessoires cools, tendances et originaux #tshirtcorner\"], [\"#couvreur #zingueur #toiture #couverture  ARTISAN91 Entreprise de toiture couverture\"], [\"News | Arab World | in french\"], [\"\\u00c9tudiant en L2 Maths UGE\\nInsta: @thedox77\"], [\"Lecturer in the University of Prishtina/Kosova\\n\\nJournalist\\n\\nhttp://www.drengerguri.com\"], [\"Acc\\u00e9l\\u00e9rateur de m\\u00e9dias innovants de @streetpress - Candidatez pour la session 2018 : http://urlz.fr/6znM - #tech #medias #incubateur @essecventures\"], [\"Honest reviews :\\n\\u2b50\\u2b50'' You suck at crypto invest, at least you tried'' - BTC wallet\\n\\n\\u2b50 '' Who?!'' - Family\\n\\n\\u2b50\\u2b50\\u2b50\\u2b50\\u2b50'' You are beautiful'' - James Blunt\"], [\"Charg\\u00e9e de projet bioagresseurs et monitoring @ITBetterave (Institut Technique de la Betterave)\"], [\"Analytics expert\\n#Oracle #Analytics #BI #BigData\\n\\n*Opinions are my own*\"], [\"des mots et des livres avec le @Fablelab\"], [\"Youtubeur depuis peu de temps\"], [null], [\"conseiller municipal les r\\u00e9publicains de venissieux\"], [\"#EU Affairs & public opinion. Puzzling out the European Demos. Enseignant @Sciencespo & @EspolLille\"], [\"Cuisine-moi, ce sont des recettes de cuisine expliqu\\u00e9es par un chef sans chichis ni mani\\u00e8res, bavardages et digressions inclus.\\nRegarder c'est d\\u00e9j\\u00e0 cuisiner !\"], [\"Ex \\u00c9tudiant M2 Contr\\u00f4le de Gestion - Aide \\u00e0 la D\\u00e9cision @IAE_G_Eiffel | Ex VP Fili\\u00e8re IAE @federationares | Ex Pr\\u00e9sident @FACreteil | Ex Elu @UPECactus\"], [\"se x\\u00e9loper (verbe) : se sentir sans charme, sans saveur et sans conversation\"], [null], [\"Hokage of aim @XamaxEsports | 20yo \\ud83c\\udde8\\ud83c\\udded\\n\\n\\nhttp://twitch.tv/vari_le_gris\"], [null], [\"P-Zombie.\"], [\"\\ud83d\\udc69\\ud83c\\udffb 28 ans | \\ud83d\\udcf1\\ud83d\\udc34 #CM @pae_agence & #Journaliste Plan\\u00e8te Cheval | \\ud83c\\udfc5#Marathon x2 | \\ud83c\\udf9e\\ufe0f #Cin\\u00e9phile | \\u26bd #Meufdefoot | \\ud83c\\udf3f #SeineEtMarne\"], [\"Dog lover, software engineer, citizen (he/him).\\n@spoogeek and @codeandscale fan\"], [\"President of @MedGlobalOrg. Syrian American doctor. Gandhi Award Peace 2020. Chicagoan of the year 2016, Critical Care. Advocate for Refugees & humanitarianism\"], [\"Pr\\u00e9parationnaire.\"], [\"Citoyen critique & satirique.\"], [\"sook\"], [\"20\\ud83c\\udf89 | Etudiant en Graphisme [Brassart Nantes]\"], [\"Take nothing but pictures. Leave nothing but footprints. Kill nothing but time.\"], [\"\\ud83d\\udeb4\\u200d\\u2642\\ufe0f\\ud83c\\uddec\\ud83c\\uddf5\"], [\"Delegat Occitan dau Comtat de Swagg.\\n\\ud83c\\udf97\\ud83c\\udff4\"], [\"photographe \\ud83d\\udcf8 @interieur_gouv \\ud83c\\uddeb\\ud83c\\uddf7\"], [\"\\ud83c\\udde8\\ud83c\\uddf5\\ud83c\\uddea\\ud83c\\uddfa\"], [\"Passionn\\u00e9 de musique , photo, rando\"], [null], [\"\\ud83c\\udff4\\u200d\\u2620\\ufe0f Ligth Yagami \\ud83d\\udcd3 \\ufdfa\"], [\"Fondateur de @fantastiquewar joueur de arma 3 et P\\u00eacheur a ses heure perdu mais aussi Streamer https://www.twitch.tv/nanard72\"], [\"places\"], [\"Streamer qui stream et qui tease tous les deux mois son retour\"], [null], [null], [null], [\"\\u0b18(\\u0e51\\u02c3\\u0335\\u1d17\\u02c2\\u0335)\\u2501\\u2606\\uff9f.*\\uff65\\uff61\\uff9f\"], [\"Ombre blanche bient\\u00f4t disponible !\"], [null], [null], [\"Pour une suisse libre !\"], [\"Dresseur de putes\"], [\"Nerd\"], [\"Keen on #arts, #technologies, natural and social #sciences, and #philosophy. Fan d'art, de technologie, de sciences naturelles et humaines et de philosophie.\"], [\"Cr\\u00e9ative web' & photo | En pr\\u00e9-prod.\\nBe kind. \\ud83d\\udc9c | She/Elle \\ud83c\\udf08\\ud83c\\udf52  | Baroudeuse \\ud83e\\uddfc http://www.baroudeetrecettes.fr | PP by @makowwka\"], [null], [\"RYE\"], [null], [\"Bobo \\u00e9colo-islamo-gauchiasse bien-pensant. Pur produit de la g\\u00e9n\\u00e9ration des baladeurs K7 et des VHS.  (il/he)\"], [\"Adjoint du D\\u00e9partement de l'expertise et des partenariats de l'IHEEF\"], [\"Management Consulting firm in #Banking & #Financial Services,we focus on #Europe,EM & #Africa. Cabinet de conseil sp\\u00e9cialiste du secteur financier.We're hiring!\"], [\"Keep your medications at a safe temperature at home and on the go. Smart sensor + App for insulin, biologics, and hormones.\"], [\"Trader (petit) sur http://Binck.fr / Expert-comptable / Membre des Shifters / Escalade  / Fan de musique m\\u00e9tal\"], [\"Con troll tech nique\"], [\"Si tu viens pour avoir des infos croustillantes sur ma vie de prof, tu vas \\u00eatre d\\u00e9\\u00e7u.e\\n\\npkmn go 2872 6548 9276 \\nfriend code  SW-7143-3049-2817\"], [\"Des produits \\u00e9lectrom\\u00e9nager durables, bons pour la plan\\u00e8te ! \\ud83c\\udf33\\ud83c\\udf0d D\\u00e9couvrez en EXCLU notre indice de #durabilit\\u00e9 \\ud83c\\udfaf #Greentech #RSE #ESS #consommationdurable\"], [null], [\"#paris #aubervilliers #startup @icade @emgp @bspp @plainecommune #Icade #DirectIDF\"], [\"Collaborative Urbanism + Architecture Process and Digital Tools\"], [\"GM de l'organisation Unlimited sur Star Citizen. Je code, j'\\u00e9cris, je stream, je joue, et je fais des vid\\u00e9os ^^\"], [\"Motard \\ud83c\\udfcd et entrepreneur\"], [\"gratia,ae,f\"], [\"Gageur en CDI, Utopiste en CDD, F\\u00eatard au ch\\u00f4mage.\"], [\"WebMarketer; NeoGeek, SerialDreamer; Sarcasm-Fan, Nailpolish-lover ...etc etc etc !\"], [\"#Oilseed Analyst:#rapeseed #canola #osr #sunflower #soybean #biodiesel #oil #meal + funny markets as #pea #durum. truth seeker  OPINION HERE IS MY OWN\"], [\"From Nantes & Paris\"], [\"Social Media Manager at @France24_en, Journalist, Master in International Security, Middle East and Intelligence @SciencesPo. Views are my own.\"], [null], [\"V\\u00e9gane, \\u00e9lev\\u00e9e au grain et \\u00e0 l'autod\\u00e9rision. Tweet le quotidien, RT des memes et des jolies images.\"], [\"\\ud83e\\udda6 Loutre et Vegan -  Trottinettes \\u00e9lectro-responsables - INTP - esports - Idiot utile d'un antispecisme rampant financ\\u00e9 par les GAFA - Il / He\"], [null], [null], [null], [\"#\\u00c9diteur de #Logiciels, \\nPartenaire de #confiance pour la gestion des #donn\\u00e9essensibles .\\nLeader europ\\u00e9en des solutions Cloud 100% s\\u00e9curis\\u00e9es\"], [\"Motivate and develop people at work and at home through training, management, coaching and personal development\"], [\"ancien directeur adjoint de la r\\u00e9daction de Lib\\u00e9ration, ancien r\\u00e9dacteur en chef de http://JusticeInfo.net, membre du Conseil du FIFDH  (Gen\\u00e8ve), collaborateur Akadem\"], [\"YOP :)\"], [\"Born in Ermont\"], [\"Journaliste sp\\u00e9cialis\\u00e9 TV, num\\u00e9rique, c\\u00e2ble, satellite... Incorrigible ferroviphile. Espa\\u00f1a. Polska. Et bla-bla sur bien d'autres sujets.\"], [\"Archiviste des temps modernes #archives #culture @loireatlantique #nantes #trompette #Vend\\u00e9e\"], [\"Making your nights worth sleeping at @clever_cloud.\\n\\nMaking your youth worth living at @sgdf\"], [\"\\\"La musique est la langue des \\u00e9motions\\\". E. Kant\"], [null], [null], [\"Favorite, Likes, Retweets & Following Don't = Endorsement\"], [\"IT & Disney enthusiast - Co-Founder of @octopulseapp\"], [\"\\ud83c\\udfae\\ud83d\\udcf8\\ud83d\\udc68\\ud83c\\udffb\\u200d\\ud83d\\udcbb\\ud83d\\udcf0 \\ud83c\\udfa2 \\ud83c\\udf0d\"], [\"morri mas esqueci de deitar\"], [null], [\"Le monde du digital r\\u00e9volutionne le besoin de l'usage et non de la propri\\u00e9t\\u00e9 !\\nLes entreprises ont besoin de fl\\u00e9xibilit\\u00e9 et de rentabilit\\u00e9.\"], [\"@EU_Commission VP for Interinstitutional Relations & Foresight. Coordinating the #EUBatteryAlliance. Co-chair of \\ud83c\\uddea\\ud83c\\uddfa\\ud83c\\uddec\\ud83c\\udde7 Joint Committee & Partnership Council.\"], [\"\\ud83c\\udde8\\ud83c\\udde9 & ChelseaFC \\u2764\\ufe0f\"], [null], [\"Winter is coming.\"], [\"appelez moi comme vous voulez\"], [\"it\\u2019s always darkest before the dawn\"], [null], [\"Artiste/ UBUNTU \\ud83d\\ude4f\\ud83c\\udffeTout est politique les amis. Mes tweets n\\u2019engagent que moi!( parce que \\u00e7a peut engager quelqu\\u2019un d\\u2019autre parfois apparemment...)\"], [null], [\"\\ud83d\\udc68\\u200d\\ud83c\\udf93\"], [\"Digital...SocialMedia...Journalist...Coach.....work @tagesanzeiger\\nsnap: schube_13  insta: schube_13\"], [\"Artiste & Auteur-Entrepreneur / Fondatrice @EditionsAnimees\"], [\"Journaliste form\\u00e9e @ihecs - (photo)journaliste @BelgaNewsAgency \\nWeb @lalibrebe Eco @lalibreEco\\nCo-director of report @lordelarevo st.@ImagineDLM\"], [\"\\ud83d\\ude80 Digital Product Designer @nurolecom, volunteer @ignite_hubs. Ex @irisworldwide @exo_skills. Alumni @Bellecour_EA. #UX #Design #ProductDesign #SocialDesign \\ud83d\\udc4b\"], [\"Pankki- ja rahoituslains\\u00e4\\u00e4d\\u00e4nn\\u00f6n erityisasiantuntija valtiovarainministeri\\u00f6ss\\u00e4 @VMuutiset.\"], [\"Passionn\\u00e9 de cin\\u00e9ma - R\\u00e9alisateur - Monteur\"], [\"Professeur de Physique-chimie au lyc\\u00e9e Antonin Artaud.\"], [\"In Brussels. Learning, reading & talking about #privacy, #politics, #indieweb, #media, #society and lots of other stuff.\"], [\"Feministe intersectionnelle decoloniale (radicale). j'fais des trucs askip.     She/her\"], [\"Art, Design & Culture strategic communications advisory @brunswickarts | London & Amsterdam - views are my own\"], [null], [\"Reporter f\\u00fcr Desinformation & Neue Rechte @correctiv_org @correctiv_fakt | #KeinFilterF\\u00fcrRechts \\u2022 Hinweise: till.eckert@correctiv.org\"], [\"Professor, media education\"], [\"\\ud83c\\udfae\\ud83e\\udd41pr\\u00e9parateur en pharmacie. #mortierpilon #geekjusquauboutdesdoigts #batteur #doubledash #rockandmetal cha\\u00eene Twitch: https://m.twitch.tv/kezos07/\"], [\"No Pasaran\"], [\"The fastest news gathering tool for publishers and journalists. We help media around the world save time, grow traffic and increase engagement.\"], [\"#Tunis-based freelance journo, writer, eyes & ears on #MENA, lifelong learner, lost idealist\"], [\"Scottish, European, writer, university teacher. Arts, environment, communities, science. Climate matters. Opposed to UGE & fracking. RT not endorsement.\"], [\"Je cherche, je cherche et toujours je trouve et je cherche encore ....\"], [\"Working at Roche. Personal account .My company is in no way bound by my tweets.\"], [\"Militant \\u00e9cologiste qui souhaite une nouvelle gauche plurielle.\"], [\"Sorbonne Paris lV, #Digital com, #Community manager# journaliste web\"], [null], [null], [null], [\"I write software that works / \\\"If it ain't fun, it probably ain't right\\\" / Software Engineer @pivotal / Tweets & opinions my own\"], [\"Your paper sucks\"], [\"New Indie Dev, ex-Cinema industry  // not a weeb btw\"], [\"Agroneg\\u00f3cio Internacional e Geopol\\u00edtica. Um pouco de m\\u00fasica (antigamente chamada rock).\\nAqui s\\u00f3 fala de pol\\u00edtica quando relacionada aos temas acima!\"], [null], [\"Freier Autor. Fokus: Fairer Handel, \\u00f6ffentliche Dienstleistungen und nachhaltige Entwicklung\"], [\"\\ud83d\\ude80 freelance developer \\ud83d\\ude4a\\ud83d\\udc68\\u200d\\ud83c\\udfa8\"], [\"Boek 'De Gemaakte Planeet, leven in het Antropoceen' is nu te koop!\\nFavs are bookmarks\"], [\"Rouen/Strasbourg. 31 y.o Entrepreneur dans le btp, amoureux de l'Alsace et de LH . #tesla #model3\"], [\"Reporter based on earth \\u2022 founder of @infosreportages magazine \\u2022 jonathan@infos-reportages.com\"], [null], [\"La performance \\u00e9nerg\\u00e9tique au service de votre comp\\u00e9titivit\\u00e9. Efficacit\\u00e9 \\u00e9nerg\\u00e9tique et mobilit\\u00e9\"], [null], [\"Journaliste @afp Tokyo @afpfr, ex @20minutes\"], [\"Welcome To The Official Twitter Page Of His Holiness\\nPope Lucifer\"], [\"D\\u00e9couvrir sur l'actualit\\u00e9 web des Sourds, de la culture sourde, langue des signes, et des nouvelles technologies \\ud83d\\udda5 http://www.supersignes.com\"], [\"Estudiante de periodismo y freelancer. Escritor.\"], [\"communication BtoB et Corporate #eMarketing \\u2022 #eBusiness \\u2022 #IT #HighTech \\u2022 #T\\u00e9l\\u00e9coms \\u2022 #RH \\u2022 #Applis \\u2022 #CM \\u2022 #RS #influenceurs #relationspresse\"], [\"Associate Director in EU Environmental/Chemical Policy & Economics at @woodPlc, Greek/French in London/Brussels,  @SolvayAlumni & @collegeofeurope alumna\"], [\"#Jesaispasquoimettre\\n\\nPS: @GarminFR jpeux avoir mes 2 mois strava gratos ? stp\"], [\"La Guerre a commenc\\u00e9...EXPECT US\"], [\"#coureur #alsace #trail #bercelyne #\"], [\"games, linux, meme, movie, music, science, serie, web\"], [null], [\"millions d\\u2019\\u00e9toiles dans le ciel et je me demande c\\u2019est quoi la tienne\"], [\"Viajero inquieto, ferroviario de profesi\\u00f3n, como hobby modelista ferroviario, fabber y maker en potencia.\"], [null], [null], [\"By Endurence we Conquer. -Shackleton\"], [\"La voix dans ma t\\u00eate a une voix dans sa t\\u00eate\"], [null], [\"Toulousaine, un peu de rugby, un peu de fashion, un peu de RH, beaucoup de coup de c\\u0153ur/ coup de gueule, le tout parsem\\u00e9 de paillettes !\"], [\"Je fais des montages pas tr\\u00e8s charlie. Motif d'unfollow et mange le respect. #TeamBoom #TeamCam\\u00e9o #TeamPhotoshoppeusesDeQuentyn\"], [\"Insti | bryanlucd   sorbonne : droit scp\"], [\"Amsterdam / Ajax / IT manager / dad / geek / freak / Drum & Bass / Goa trance / sometimes mildly amusing\"], [null], [\"D\\u00e9veloppeur @reactjs \\u269b\\ufe0f \\u00e0 @easymovrobotics \\ud83e\\udd16.\\nAime les licornes \\ud83e\\udd84 et le caf\\u00e9 \\u2615.\\n#amigurumi maker \\ud83e\\uddf8.\\nCommitto ergo sum.\"], [\"Chappuis Halder & Co. | Coqonut | #FinTech #InsurTech #Blockchain #cryptocurrency\"], [\"et allez \\u00e7a rechiale\"], [\"Urbanita de nacimiento, defensor del medio rural de elecci\\u00f3n \\ud83c\\udf3f\\ud83d\\udc3e\\ud83d\\udc3a\\ud83d\\udc2e. No es patria el suelo que se pisa, sino el suelo que se labra (A. Machado)\"], [\"Seul #th\\u00e9\\u00e2treNational en r\\u00e9gion, le #TNS poss\\u00e8de des salles de spectacle, une \\u00c9cole d'art dramatique, des ateliers de d\\u00e9cor et de costumes. Suivez-nous!\"], [\"Journalist at AeroTime @AviationNews\"], [\"Journaliste au Parisien dans l'\\u00e9dition des Yvelines\"], [\"soy como el chile verde picante, pero sabroso.\\ud83c\\udf08\"], [null], [\"Si tu l'fais pas, moi, je l'fais, si tu l'sais pas, moi, je l'sais, comme si j'\\u00e9tais sorti d'HEC\"], [\"Young activist and blogger in the liberty movement. Other interests: business and tech\\n\\nBComm 09 grad @jmsbconcordia + e-mngt/e-commerce grad at @ESG_UQAM\"], [\"Ing\\u00e9nieur en G\\u00e9nie Civil.dormeur talentueux. \\ud83c\\uddf9\\ud83c\\uddec\\ud83c\\uddec\\ud83c\\udded i Don't really care about your life don't need you to care about mine.\"], [\"Directrice adjointe qui croit au d\\u00e9passement de soi, au travail de collaboration, au changement et au bien-\\u00eatre.\"], [\"Adjoint au Maire @st_genis_laval en charge du #num\\u00e9rique et de l\\u2019\\u00c9galit\\u00e9 Femmes / Hommes #\\u00e9galit\\u00e9FH #JamaisSansElles | D\\u00e9veloppeur iOS @bilenditech #t\\u00e9l\\u00e9travail\"], [\"Photographer.\"], [\"Professeur documentaliste\"], [\"Bringing together brain research and psychiatry\"], [\"Architecte & docteure en g\\u00e9ographie.\\nPr\\u00e9vention des risques majeurs, construction en zone \\u00e0 risque et illustration scientifique.\\nATER \\u00e0 l'IUGA @UGrenobleAlpes\"], [\"Avocat \\ud83e\\udd51\"], [\"Txotx mon pote\"], [\"Curating + creating the best resources for self-directed neurological optimization.  Help us create a better future for all.\"], [null], [\"Cadreur/Monteur | Adore le cin\\u00e9ma et l'animation japonaise | Photographe \\u00e0 mes heures perdues\"], [\"Robot milking cows in sunny Scotland, sheep running about too & new to the world of pumpkin patching, #OFC2021 Chair\"], [\"\\ud83d\\udcda\\ud83d\\udcf9\\ud83c\\udfa7\\ud83c\\udfa8\\ud83d\\udeb2\"], [\"Juriste sp\\u00e9cialis\\u00e9 en droit de la Commande Publique \\u2696\\ufe0f - #SalondeProvence / #Marseille - #SocialD\\u00e9mocratie - @TerresdeProgres #TdP \\ud83c\\udf33\"], [null], [\"the best or nothing.\"], [null], [\".architect\"], [\"Global HR & Transformation  @orange // ex Comms @orange, @MirumSE & @Loreal // Prof @ECSParis\"], [\"Portal nuclear.pl - wi\\u0119cej ni\\u017c energetyka j\\u0105drowa\"], [\"La web-s\\u00e9rie sur le rock ind\\u00e9 par @_messak_\"], [\"Veilleur de jour...\\n#Communication #Energie #Japon #Musique\"], [null], [null], [\"R\\u00e9dacteur scientifique\"], [\"This is the outlet I use in the mistaken belief I have some control and influence in the world.\"], [null], [\"D\\u00e9couvrez les cultures de tous les pays\"], [\"A New Space company with solutions covering the entire lifecycle of a space mission\"], [\"T\\u00eate de liste @Lunel_Rassemble \\u2022 Conseill\\u00e8re municipale #Lunel \\u2022 Conseill\\u00e8re communautaire #CCPL \\u2022 Conseill\\u00e8re r\\u00e9gionale #LRMP #Occitanie\"], [\"#TeamOM 782 #BlueArmy\"], [\"Mediapolis : colloque sur les nouveaux m\\u00e9dias, 12-13 avril 2012, Palais de la d\\u00e9couverte (entr\\u00e9e libre)\"], [\"Commission num\\u00e9rique du PCF - http://numerique.pcf.fr - organisateur des http://www.egrn.fr du 12/02/16 au 19/03/16\"], [\"#goodvibes #teambar\\u00e7a #oenotouriste #vinrouge #teamOM #peuplemarseillais #pessacais #politique #citoyen #faireensemble\"], [\"Senior Research Fellow @WRRDenktank | Evolution of Cooperation | Policy Advice | http://gijsbertwerner.com\"], [\"23 ans/ing\\u00e9nieur / Sosie officiel de Sam Darnold /Seahawks / OM /\\n\\u00c9crit et Tweet pour @SeahawksFrance et @FrenchFStats\"], [\"\\u2022Comprendre c'est se sentir capable de le faire\"], [\"French Streamer / Developper / Mental Illness master\"], [\"Docteur en Mus\\u00e9ologie \\u2022 Directeur du @ChateauBoutheon et de @AventureduTrain \\u2022  #Nature #Science #Patrimoine #TeamPat \\u2022 #Forez #Loire \\u2022 Natif des #Ardennes\"], [\"\\u2022 IT engineer \\u2022 (former) Semi-competitive gamer  \\u2022 Security and Linux enthusiast  \\u2022 And now, Internet, please amaze me\"], [\"Je recherche un vol spatial pour Anarres.\"], [\"667/LZ FCGB S/o Andre\\u00ef Markov XTRM Ekip a vie comme Jaroslav Plasil\"], [\"Prof des \\u00e9coles /teacher , politis\\u00e9e/On the left ^^, geek et curieuse ;)  bots hunter on #Potus account \\n#Resit everywhere #TrumpIsATreathOnEarth \\ud83c\\udf0a\\ud83c\\udf0d\\ud83c\\udd98\\ud83d\\udd8d\"], [\"Author and freelance writer. Author of the book Bryssel myyty (2016)\"], [null], [\"sustainable finance- climate emergency - all views are my own ! @sciencespo @UninaIT @ColumbiaSIPA\"], [\"Les Secrets de l'Humanit\\u00e9\"], [\"Mala para el metate, buena para el petate.\"], [null], [\"Label ind\\u00e9pendant n\\u00e9 en 2012. Vinyls, shoegaze, post-punk et tout le reste.\"], [\"Food Sovereignty ! Souverainet\\u00e9 Alimentaire ! Soberania Alimentaria!\"], [\"socialement v\\u00f4tre/b\\u00e9n\\u00e9vole Croix Rouge Paris 04/b\\u00e9n\\u00e9vole adjointe \\u00e0 la Direction Territoriale de l'Action Sociale de Paris/etc\"], [\"emojis favoris: \\ud83d\\ude2d\\ud83d\\udc96\\ud83d\\ude0a\\u2728\\u2122\\ufe0f\\ud83d\\ude24\\ud83d\\ude0c\\ud83d\\udc97\\u2734\\ufe0f\"], [\"Monteur Amateur - Agriculteur Pro.\"], [\"http://www.instagram.com/titoux666/ pour mon boulot.\"], [\"\\ud83d\\ude47\"], [\"ENAK RESCUE TEAM is the first and the biggest Lifesavers Volunteers Rescue Team in Greece. Our Lifeguards are from ENAK, recognized by the Hellenic Coast Guard.\"], [\"Geek et Techno Addict (^_^)!\"], [\"Directeur Adjoint Relation Client\\n #relationclient  @OrangebankFR #experienceclient #banquedigitale #AgoraDirRC #Smartphonehour\"], [\"Humaine non conforme\"], [\"Amoureux des mots, antistrophiste, avocat, \\u00e9poux, hockeyeur, homme au foyer, juriste, lecteur, p\\u00e8re, professeur de gestion, \\u00e9conomie et droit, squasheur\"], [\"my life is potatoes\"], [\"\\ud83d\\udcfa Canal+ / \\ud83c\\udf9e \\ud83c\\udff0\\u2708\\ufe0f \\ud83d\\udcda\"], [null], [null], [\"\\ud83c\\udfc3\\u200d\\u2642\\ufe0f\"], [null], [\"Data enthusiast | Engineering Manager @datadoghq | Former student @CentraleParis & @ESSEC\"], [\"j\\u2019suis pas dr\\u00f4le mais on fait avec \\ud83d\\udc81\\ud83c\\udffd\\u200d\\u2640\\ufe0f\"], [\"Joueur pisslow elo pour @LokusEsport\\nEn CDI \\u00e0 ses heures perdues\"], [\"SMV Conseil RH - Recruter Developper les talents - Accompagner les d\\u00e9parts #Recrutement #RH #QVT #RSE #digitalRH #MarqueEmployeur #diversite #Nantes #i4emploi\"], [\"Connaissances et Savoirs offre la possibilit\\u00e9 aux universitaires de publier gratuitement leurs projets d\\u2019\\u00e9tude et leurs recherches : th\\u00e8ses, m\\u00e9moires\\u2026\"], [\"Journaliste @beinsports_FR \\u25a0 Pr\\u00e9sentateur Ligue 1 Show \\u25a0 Instagram : bilalbouazzouni5\"], [\"J\\u2019avais oubli\\u00e9 que j\\u2019avais deux fois 18 ans comme disait la chanson!\\ud83c\\udff3\\ufe0f\\u200d\\ud83c\\udf08\\ud83d\\ude01 Je ne d\\u00e9tiens pas mieux la v\\u00e9rit\\u00e9 que vous, mais moi je le sais! @rose_triangle\"], [\"Pour vivre heureux, vivons cach\\u00e9s...Et ensemble \\u203c\\ufe0fNO DM \\u203c\\ufe0f NO LIST PLEASE\"], [\"MC Calmage d'ambiance since 1993. Cl\\u00e9op\\u00e2tre de la biture. Saltimbanque \\u00e0 temps partiel. Douce comme du satin et dr\\u00f4le comme un lutin\\n#SessionPyjama\"], [null], [null], [null], [\"la passion et les r\\u00eaves sont comme le temps, rien ne peut les arr\\u00eater // occitanie, \\u00e7a sonne comme californie\"], [\"K2\"], [\"je suis ce que je suis! \\u270c Mon opinion ne concerne que moi! Je suis libre de penser, de faire ce que je veux, je ne dois rien \\u00e0 personne \\u00e0 part mes parents! \\ud83d\\ude4f\"], [\"Nique ta m\\u00e8re sale fils de pute. J\\u2019esp\\u00e8re ton chibre il tombe        https://youtu.be/NZDS6-OI-7E\"], [\"\\ud83d\\udc1b Incorrigible channel-hopper. Always Question Everything\"], [\"La Filoche est un espace culturel g\\u00e9r\\u00e9 par la communaut\\u00e9 de communes #MoselleEtMadon en #Lorraine (#culture, #m\\u00e9diath\\u00e8que, #ludoth\\u00e8que, #multim\\u00e9dia)\"], [\"nsm  les gitans\"], [\"\\ud83d\\udde3\\ud83d\\udde3\"], [\"\\u0627\\u0644\\u0623\\u062e\\u0640\\u0640\\u0640\\u0640\\u0640\\u0640\\u0640\\u0640\\u0640\\u0640\\u0640\\u0640\\u0644\\u0627\\u0642 \\u062a\\u062e\\u0635\\u0635 \\u0644\\u0646 \\u062a\\u062c\\u062f\\u0647 \\u064a\\u062f\\u0631\\u0651\\u0633 \\u0641\\u064a \\u062c\\u0627\\u0645\\u0639\\u0627\\u062a \\u0627\\u0644\\u062f\\u0646\\u064a\\u0627 ! \\u0642\\u062f \\u064a\\u062d\\u0645\\u0644\\u0647 \\u0639\\u0627\\u0645\\u0644 \\u0627\\u0644\\u0646\\u0638\\u0627\\u0641\\u0629 ! \\u0648\\u064a\\u0631\\u0633\\u0628 \\u0641\\u064a\\u0647 \\u0627\\u0644\\u062f\\u0643\\u062a\\u0648\\u0631 !\"], [null], [\"le bien du grand nombre, l\\u2019int\\u00e9r\\u00eat de l\\u2019unit\\u00e9, l\\u2019\\u00e9change constructif m\\u00eame contradictoire. ceux qui insulte, impose leurs id\\u00e9es passez votre chemin \\u26d4\\ufe0f\"], [\"Avocat\\n\\nDroit d'auteur - Droit de la sant\\u00e9 - Droit p\\u00e9nal\"], [\"23 \\u00bf\\u00bf\\u00bf\\u00bf chemistry engineer in six months ????\\n\\nhttp://paypal.me/drxpb\\n@drxpb for private purposes\"], [\"Mieux vaut agir que discourir - proverbe fran\\u00e7ais #parisienne #TeamJuriste #droit #association #solidarite #droitdesetrangers #paris #marrakech\"], [\"actu-aja.fr,  Pass\\u00e9e par @Rmcsport et a surv\\u00e9cu \\u00e0 Paris 8, comme quoi ! Bricoleuse du web, ancienne charg\\u00e9e de SEO, maintenant serial-killeuse de newsletter\"], [null], [\"\\ud83d\\udcf9 Journaliste. Actuellement chez @Francetele\"], [\"Tutto pu\\u00f2 succedere.\"], [\"I help teams create games at http://Voodoo.io\"], [\"\\ud83c\\uddeb\\ud83c\\uddf7 \\ud83d\\uddfa \\ud83d\\udc38\"], [\"CTO @ Ekimetrics & CEO @ YOOI\\n\\n#Data. #Software. #Products. #Management. #Analytics. #Lean & #Agile.\"], [null], [\"Concepteur-r\\u00e9dacteur @duodaki\"], [\"Passionate about Art and History of the Middle East and East Asia | Consultant | Head of Quality\"], [\"Learning games / Behaviour training games / Awareness games\"], [null], [\"\\u00c7a ira mieux demain m\\u00eame si je l'ai d\\u00e9j\\u00e0 dit hier\"], [\"Dj, Beatmaker and Music Producer, Harvard Member, Pharmacologist, Blog Culturel \\u00ab Romans et autres d\\u00e9lices \\u00bb, Writer of HOTEL AMOR\\u24c7 Ebook to be\"], [\"R\\u00e9f\\u00e9rent d\\u00e9partemental @enmarche78 @enmarchefr, militant @JeunesMacron\"], [\"Artist, Graphic Designer, Amateur Photographer  || Paris/Bordeaux - Esk8  ||  J'suis l'plus beau des moches, j'suis affreux.\"], [null], [\"Soci\\u00e9t\\u00e9 de transport sp\\u00e9cialis\\u00e9e  #tourisme #particuliers #scolaire #entreprises / location d'autocars, minibus, voitures.\"], [\"@MichaelJackson \\u266b\\u2665 it's All For Love. Forever The King #MjFam #Moonwalker His Music Lives On Forever~ #MusicLover #LifeAfterDeath\"], [\"Plateforme d'\\u00e9coute et de t\\u00e9l\\u00e9chargement des nouveaut\\u00e9s musicales \\u00e0 destination des m\\u00e9dias #Yacast\"], [\"Association Russie-Libert\\u00e9s. Human Rights NGO. ONG de d\\u00e9fense des droits humains et des libert\\u00e9s en #Russie. Rejoignez-nous sur http://russie-libertes.org.\"], [\"Vid\\u00e9aste ind\\u00e9pendant/Co-founder de l'Axolotl galerie d'art/Co-founder du M\\u00e9taxu/Co-founder de Displaying.\"], [\"Peinture, sculpture, chantournage, la bricole \\u00e0 100%\"], [null], [\"Directeur Conseil @CGI_Consulting #Energy #SmartGrid #SmartBuilding #SmartCity #SmartHome #SmartMobility #IoT #Blockchain\"], [\"Illustrator ,musician and just human)\\n\\u0430\\u0433\\u0430\"], [\"Dramaqueen.\"], [null], [\"Responsable de Communication Mairie de Pontivy, Morbihan // #Communication #socialMedia #compublique #photographie #i4emploi\"], [\"THINK business, PLAY technology, DO innovation -- with a little extra lingo & cultural mix | #Cyber #IIoT #FinTech | EurIng + @ImperialMBA | views are my own\"], [null], [null], [\"Cr\\u00e9ateur de What The Cut - S\\u00e9rie audio : @ClydeVanilla - Lord de @SealandGov\\n\\nContact : contact.antoinedaniel@gmail.com\"], [\"Tech addict, Gamer, Music lover \\ud83c\\udfa7 and Android Software Engineer @Deezer. My tweets are my own\"], [\"La musique classique - c'est rigolo. Le violon, moins. \\n\\nInstagram: http://instagram.com/klariscope\\nDes chroniquettes \\u00e0 lire l\\u00e0 \\u2b07\\ufe0f http://www.klariscope.com\"], [null], [\"C'est pour \\u00e7a. \\nHE/HIM\"], [\"\\ud83d\\udca5 Je forme des milliers d\\u2019ind\\u00e9pendants au #marketing chaque jour par email. #Consultant #B2B\"], [\"\\ud83c\\uddea\\ud83c\\uddfaEurop\\u00e9enne #VoxPopuli \\u25fc\\ufe0e Femme, ms ne comptez pas sur moi pour f\\u00e9miniser tous les mots ! \\u25fc #MedicalEyeCare \\u25fc CEO Agence Carr\\u00e9 final #Paris #Hamburg \\u25fc\\ufe0e\\ud83d\\udc8d \\ud83e\\udd4b\"], [\"Conseill\\u00e8re P\\u00e9dagogique La Courneuve - Education Nationale\"], [\"Had an unfortunate incident with a banana when diagnosed with type 1 diabetes in 2012. #T1D\"], [\"Professor of Neurology, University of L\\u2019Aquila, Italy\"], [\"Scientist turned journalist | Reading and writing | Climate change, science, Brazil and bicycles, in no particular order | Flute and congas\"], [\"Official Twitter account of the CMA CGM Group, a world leader in #shipping and #logistics\"], [\"Sage-Femme lib\\u00e9rale Paris 10e, membre du @coll_SageFemme | Conseill\\u00e8re du @ceserPDL pour @La_FAGE | Ex-pr\\u00e9sidente de l'@Anesf_FR 2015 \\u00e0 2017\"], [\"Working @nedgia - Grupo @Naturgy. Views expressed are my own- Too often we enjoy the comfort of opinion without the discomfort of thought. (JFK)\"], [\"#Digital #Web #Mobile #WebDoc #DMP #Cin\\u00e9ma @Ekino. @Fullsix\"], [\"Associate Professor Political Science at University of Amsterdam | Lobbying | Interest groups | European Union\"], [\"i'm geek french who like ,art, music, and love video game ,book ,life and food \\ud83c\\udf08\\u2764\\ufe0f\"], [null], [\"20 | Engineer | YouTuber | Osu! Enthusiast\"], [\"Directeur Technique  @event2give  --  Head Of Ippon Managed Services at @ippontech\"], [\"Un \\u0153il sur la plan\\u00e8te !\"], [\"Grand carnivore | fan de @manutd | #Burkina #lwili #Ouagadougou | #BF226\"], [\"Proven\\u00e7al de sang, picard de c\\u0153ur. Etudiant ing\\u00e9nieur. Amateur d'histoire, de vin rouge et de no-limit sur l'autoroute.\"], [\"I was born free and I will Die free. I am a Freeman!\"], [\"\\u03c0\\u03c6\\u03bb\\u03b8\\u03b7 \\u03bb\\u03bb\\u03b2\\u03be. Soit dans la jungle, soit dans Verdansk. Mes tweets n\\u2019engagent que moi et moi seul. \\ud83e\\udd77\\ud83c\\udffb\\ud83d\\udc32\"], [\"Que l\\u2019Olympique.\"], [\"The European Anti-Poverty Network (EAPN) is the largest European network of anti-poverty NGOs, and European Organisations fighting poverty and social exclusion.\"], [\"Journaliste scientifique #questionssociales #sciencesdelavie, #autrice #documentaires jeunesse. Insatiable curiosit\\u00e9 .\"], [\"A national coalition whose mission is to promote the understanding & use of vaccines as recommended by the National Advisory Committee on Immunization (NACI).\"], [null], [null], [\". Composit IDs\"], [\"25 ans \\u2022 Animatrice \\u2022 Folle et bizarre.\\nJ'ai rencontr\\u00e9 quelqu'un qui m'fait m'sentir aussi bien que quand j'\\u00e9coute de la musique. \\nMathieu \\u2764\\ufe0f\"], [\"MUFC What else?\"], [\"Pluralitas non est ponenda sine necessitate\"], [\"I believe that we will win ! Always be a leader, not a follower. Rappeur amateur, suivez moi ici : @off_majin\"], [\"Ar #Redadeg \\ud83c\\udfc3\\u200d\\u2640\\ufe0fevit ar #brezhoneg 21-29/05/2021 #Karaez #Gwengamp Bec'h de'i ! Course relais pour la #languebretonne #BZH #bzhg #GwennhaDu #emojibzh\"], [null], [\"Photos, Maths, Fursuit - Small Data, Human Learning, Analogization - Furfag - PhD in fursuit-building - PP par @Droukky\"], [null], [\"\\u2764\\ufe0f\"], [\"Labfolder is an innovative & intuitive electronic lab notebook (ELN): organize your data - plan experiments - record results - collaborate. Sign up for free!\"], [\"slt la miss, dispo pour un verre ou quoi ? ^^' Sapiosenssuel, photographe amateur\"], [\"30 ans de police dont 18 en BAC de nuit, \\u00e9crivain auteur de 5 polars.\"], [\"Car ton nom tu, \\u00f2 santa filha Es Libertat.\\nCRFPA 2019 - Droit fiscal.\"], [\"CEO @OpiaCare \\nMedecine Esthetique\"], [\"open source and hardware project for a radiation measurement and mapping multicopter drone.\\nAlso speaks of UAV, robotics, FOSS, DIY, programming and technology\"], [\"Le Centre de Doc de la Mres : un service documentaire r\\u00e9gional sur la nature, la transition, le climat ouvert \\u00e0 tous.\"], [\"Taipei / Paris.\\nAlways between knowledge and creativity. Flirting with flying robots, civic techs and photography.\"], [\"Communication & Digital Content Manager - @groupeadp @parisaeroport - Tweets & RT are my own. \\ud83d\\ude80\"], [\"#RP @EYFrance #Transactions #Conseil #Secteurpublic #DD #IT #Distribution ...\"], [\"Innovation studies, homo ludens, facilitateur LEGO\\u00ae SERIOUS PLAY\\u00ae, economist, musik non stop\"], [\"FUN & STYLE ! \\nShop nos looks ici : https://bit.ly/bzb-link  \\nRendez-vous aussi sur Instagram : @Bizzbee\"], [\"Jobbar med utv\\u00e4rdering p\\u00e5 Skolverket.\"], [null], [\"Lutte contre l'illettrisme dans les prisons - projets et passerelles r\\u00e9insertion pour les personnes d\\u00e9tenues - Fundraiser -\"], [\"#immuno #haematology #myeloma #mmsm #MGCS #CARTcells @aphp @HopSaintLouis @Univ_Paris\\n@UCSF Eyquem Lab\"], [\"Ing\\u00e9nieur, d\\u00e9veloppeur, programmeur, Fran\\u00e7ais mais Breton avant tout, parfois geek, souvent technophile, un peu musicovore\"], [\"Journaliste Scientifique\"], [\"Metz \\ud83c\\uddf2\\ud83c\\udde6 \\ud83c\\udde6\\ud83c\\uddf7\"], [\"UX Designer @DV_Paris -  Photographer - Ex Business Developer @Synerghetic - #Creative Ex student at @HETIC\"], [\"Lecteur addict, fan de #sciencefiction, #BD, mais pas que\"], [\"#TeamOL #ASAB #TeamNO #TeamLacazette\"], [null], [\"Vice President Public Affairs Europe at Mars Incorporated 'views expressed here are my own'\"], [\"PhD student in development economics #CERDI #Macroeconomics, fiscal management, financial systems, natural ressources\"], [\"Reader at Edinburgh Uni. Energy, Carbon, Climate change.\"], [\"\\ud83d\\udcac IRL : communicant \\u2022 \\ud83d\\udc40 Int\\u00e9r\\u00eats : #transfonum #socialmedia #livres #esport #podcasts\"], [\"profesor; amante de la escritura en general,de la poes\\u00eda y de la filosof\\u00eda; internacionalista, solidario,practico el f\\u00fatbol.amo fotos de paisajes y de las nubes\"], [\"For the very latest OUYA Console news, press releases and updates, join the OUYA discussion forums and follow us on Twitter. @OUYAForums\"], [\"For years I thought of myself as an introvert. Turns out I'm just taciturn.\"], [null], [\"Consultant en bonne humeur, depuis 1544.\"], [\"La vie n'est qu'un moment d'une longue journ\\u00e9e..\"], [\"#Digital #CorporateCommunication #socialmedia / tweet #tech #Lifehack & #Productivity\"], [\"Reporter @ Stranraer and Wigtownshire Free Press | jennifer@stranraer-freepress.co.uk | Read this: http://SeeDisclaimer.com | Committee (Events) @WiJ_Scotland |\"], [\"Chercheur Inria en informatique (arithm\\u00e9tique des ordinateurs). D\\u00e9veloppeur de GNU MPFR. Cin\\u00e9phile.\"], [\"Wrote \\\"Democracy in Question\\\", follow (post)democratic politics, climate justice, conflict (resolution). Visiting Fellow @LSE_WPS; Sr Consultant @CrisisGroup.\"], [\"J'enl\\u00e8ve des agrafes.\"], [\"on the airport shuttle from crisis to crisis\"], [\"18 ans\"], [\"22 \\\\ #TeamOL \\ud83e\\udd81 \\\\ @djsnake \\ud83d\\udc0d\"], [null], [\"Ancien ob\\u00e8se devenu sportif. Auteur du site Changer son Corps. Email : romain@changersoncorps.com\"], [null], [\"Jornalista e Editora\"], [null], [\"Enora may be doing her best, but her incompetent best is not good enough -\\nLord Denning MR, Nettleship v Weston [1971] CA\"], [null], [\"French musician - Soundtrack composer http://soundcloud.com/misterm  | Technology enthusiast | Entrepreneur | Follow me:\"], [\"Directeur de mission #emploi #comp\\u00e9tences #formation. Smart Learning.  Passionn\\u00e9 par la #Formpro #BigData #branches #Education. Team #CercleAPE @GARF_Asso\"], [\"real estate agent\"], [\"Communication digitale | Laur\\u00e9at concours #101projets @Discover_map | #socialmedia #digital #sport #travel #voyage #blogvoyage\"], [null], [\"ESI L3 @La_FNESI\"], [\"Precision Weed Control Scientist | PhD Student in ryegrass ID/ML | @Sydney_Science | @thoughtforfood | @AgriEducate | trail running | All views my own\"], [\"\\u00ab S\\u2019il y a une chose dont nous devons avoir peur,c\\u2019est de la peur elle-m\\u00eame \\u00bb F.D. Roosevelt\"], [\"Conseill\\u00e8re p\\u00e9dagogique en charge du num\\u00e9rique pour le d\\u00e9partement du Var.\\nMes tweets n'engagent que moi.\"], [null], [\"Le Taedium/in skate we trust \\u26e7\\nDrum |\\n\\n\\u0444\\u043a \\u043a\\u0440\\u0430\\u0441\\u0430\\u0432\\u0447\\u0438\\u043a\"], [\"Science et culture\\n\\n#m\\u00e9diation\"], [\"Bianconero \\u26aa\\u26ab\"], [null], [\"20 ans - Paris\"], [\". . . . ODV . . . . du flow et du propos http://instagram.com/gabrielhoerr\"], [null], [\"Cercle Sofia Kovalevska\\u00efa (CSK). Club de #maths #info d'#Occitanie ouvert aux coll\\u00e9giens, lyc\\u00e9ens et plus. Organisation d'\\u00e9v\\u00e9nements math\\u00e9matiques #RJM #TFJM\"], [\"Journalist #RFI english and free-lance #China #environment #migration\"], [null], [null], [null], [\"None of your business.\"], [null], [\"Juste un endroit pour partager mes pens\\u00e9es.. \\ud83d\\udc23\\ud83d\\udc9b #TeamInsomniaque\"], [\"Citoyen du monde currieux de tout sujets d'actualit\\u00e9 et de societ\\u00e9 avec un inter\\u00eat particulier pour l'afrique. @Sedrick_Boyeka\"], [\"\\ud83c\\uddeb\\ud83c\\uddf7 \\ud83c\\uddf7\\ud83c\\uddfa \\u0424\\u0440\\u0430\\u043d\\u0446\\u0443\\u0437 \\u043d\\u043e \\u043b\\u044e\\u0431\\u043b\\u044e \\u0420\\u043e\\u0441\\u0441\\u0438\\u044f.\"], [null], [\"Caster/ Overwatch,  Regarde la NBA et surtout le Miami Heat, Caster @CastersNest Mail pro: bernabxpro@gmail.com Pas besoin du moniteur Mod\\u00e9rateur Twitch/YT\"], [\"Olivier Brunet, auteur photographe.\\nPort d'attache \\u00e0 #Tr\\u00e9gastel #Ploumanach\\nCompte Instagram : @crocqebarz\\nPage Facebook :\"], [\"Form\\u00e9 @ESJParis / Pass\\u00e9 par @telefoot_TF1 et @NonStopPeople\"], [\"\\u0153uvre d'art \\u00e0 temps complet\"], [\"Jamais satisfait.\"], [\"Charg\\u00e9 Action culturelle m\\u00e9diath\\u00e8que de Lille \\u25cb Soigne sa belgitude \\u25cb Au f\\u00e9minin mon c\\u0153ur souvent bat\"], [null], [\"I am half agony, half hope | Curator of your heart | J'aime Paul Eluard, les pivoines et Steve MacQueen | #Book #Arts #TeaLover | #RadFem | \\ud83d\\udc9b JKR |\\n\\u0627\\u0644\\u0644\\u0647 \\u0645\\u062d\\u0628\\u0629\"], [\"M\\u00e9decine | #blogueur \\ud83c\\uddec\\ud83c\\uddf3 | @LaVoixDJeunes UNICEF | @mondoblog RFI | @ablogui.\"], [\"Quand je serai grand, je veux \\u00eatre seigneur du temps\"], [\"l'humain est un animal prisonnier des constructions de son esprit\"], [\"Communicante, 100% moi #loveItaly #citoyenspourleclimat ! mes tweets n\\u2019engagent que moi. #frozen4climate\"], [null], [\"Official account of UCSF Department of Urology's exercise and sexual wellness survey study\"], [\"Ambassador Dialdirect \\u2022DestinyMan Top40\\u2022 SA\\u2019s #1 VoiceOver Artist\\u2022MC\\u2022Radio DJ\\u2022Speaker\\u2022MD @mzansiArts_sa  \\u2022CEO @ WTG MediaHouse bookings: info@wtgmediahouse.com\"], [\"Le suffrage par le sort est de la nature de la d\\u00e9mocratie, le suffrage par choix est de celle de l'aristocratie.\\n- Montesquieu.\"], [null], [null], [\"Entit\\u00e9 de l\\u2019association Savoir Apprendre (@Exploradome), APIS est un atelier de conception et fabrication de manipulations scientifiques interactives.\"], [\"Results are obtained by exploiting opportunities, not by solving problems - Peter Drucker  #Innovation #AI #Robotics #Robot\\n@SBREurope @NaoRobot @PepperTheRobot\"], [\"Prof de calcul mental, du compas, du rapporteur et bien s\\u00fbr, de la calculatrice autoris\\u00e9e - Concer\\u00efnomane - DJ. #LOSC #DJ #Concert\"], [null], [\"Le mensuel d\\u00e9di\\u00e9 \\u00e0 l'actualit\\u00e9 de la #recherche et de l'#innovation #technologique\"], [\"Bioinformatician (nm) : DNA to bits to knowledge\"], [\"uo\\u0131ss\\u0250d \\u0250\\u026f \\u0287s\\u01dd uo\\u0131\\u0287\\u0250u\\u0131\\u0287s\\u0250\\u0279\\u0254o\\u0279d / @douniArt \\ud83d\\udc9a / http://www.tiktok.com/@procrastee\"], [null], [\"Un peu de politique sous le tapis, de la TVR sur la table, du cin\\u00e9 sur la commode; un peu bord\\u00e9lique mais c'est chez Moi !\\nEntre, ne fais pas le timide \\ud83d\\ude01\"], [\"WUHAAAAAAAN\"], [\"Learnr Research is a European not-for-profit Research organization working on Open Source Components & AI,Blockchain/DLT for disruptive learning technologies.\"], [\"d'humeur irakienne\"], [\"We are the world's leading mobile advertising network offering real-time bidding, cross-exchange and targeted ads benefiting both publishers and advertisers.\"], [\"Archivist specialized in Family Photography. Patrimonio Fotogr\\u00e1fico. Docente Archiv\\u00edstica Dom\\u00e9stica. ActivistArxivera. Part http://arqueologiadelpuntdevista.org\"], [\"Compte pour tout les fans du G , Merci de nous offrir du bonheur chaque jour , on te kiff Gaspard !\"], [\"la vie es belle que le bon dieu nous aide\"], [\"Be yourself, bitch. #stmadison\"], [\"Chef de projet,anim\\u00e9e par #innovation, #gestiondeprojet, et int\\u00e9ress\\u00e9e par les sujets  #employeeadvocacy, #collaboratif.\\nTous mes tweets n'engagent que moi.\"], [\"Discord : Zola#3507\\nFuture costumi\\u00e8re, sniper pour Lightnink, usine \\u00e0 octaling\"], [\"#buidler at @BTUProtocol. Passionnate about #BTU #Bitcoin #Ethereum #Tokenomics #LeanStartup\"], [\"Hellio - GEO PLC, acteur de la ma\\u00eetrise de l'\\u00e9nergie.\"], [null], [\"Founder @ Satory, we play with tech to raise your story.\"], [\"Organisme intergouvernemental de coop\\u00e9ration halieutique regroupant Cabo Verde, Gambie, Guin\\u00e9e, Guin\\u00e9e Bissau, Mauritanie, S\\u00e9n\\u00e9gal et Sierra Leone.\"], [\"Abandonner c'est se trahir soi m\\u00eame\"], [\"Avocat sp\\u00e9cialiste FSA en droit des successions. LL.M. droit europ\\u00e9en et international \\u00e9conomique. \\u00c9lu Conseil communal d\\u2019Epalinges. #successionsCH #palinzard\"], [null], [\"Journaliste \\u00e0 @lessentiel. Form\\u00e9 au @CELSA_Officiel. olivier.loyens@lessentiel.lu #Luxembourg\"], [\"Streameuse affili\\u00e9e Twitch\\nhttp://twitch.tv/alouquie\"], [\"Associa\\u00e7\\u00e3o D3 - Defesa dos Direitos Digitais. Pela defesa dos direitos digitais em Portugal. Junta-te a n\\u00f3s em http://direitosdigitais.pt\"], [\":)\"], [\"Pr\\u00e9destin\\u00e9 aux grandes \\u00e9tudes mais petit parcours tu connais #BVB #RF #LCFC #OKC\"], [\"Unit\\u00e9 Mixte de Recherche @CNRS/ @CentraleNantes /ENSA Grenoble/      @ensaNantes1 compos\\u00e9e des \\u00e9quipes CRENAU et CRESSON #Architecture #Ville #AAU @MinistereCC\"], [\"Ma biographie c'est comme le soleil, quand tu la regardes t'as mal aux yeux. RIP sinje du soir et miam saussisse\"], [null], [\"19. @OL\"], [\"L'homme, puis son authentique s\\u00e9jour terrestre, \\u00e9changent une r\\u00e9ciprocit\\u00e9 de preuves. Ainsi le Myst\\u00e8re.\"], [\"J'aime les tartes la pur\\u00e9e et les bateaux\"], [\"Eva \\u2764\\ufe0f | Alt-Right | charpentier d\\u00e9ter, cis blanc \\ud83c\\uddeb\\ud83c\\uddf7 de souche h\\u00e9t\\u00e9ro et qui a un vrai travail \\ud83d\\ude43\\nASPFER\"], [\"| Imagine Dragons | ABC | perdue depuis la fin de GoT |\"], [\"Bringing the news and information to the public that *they* don't want you to know.\"], [null], [null], [\"Communication participative et soutien aux projets \\u00e0 #Solon \\nCo-initiatrice de #anousleconomie !\\nhttp://anousleconomie.org\"], [\"NREWORLD . We are Deal in  #Commercial #RealEstate #HOTELS #Worldwide . Hotels Buying-Selling-Lease & Brand Management. #Residential #REALESTATE #Properties .\"], [\"Plant biologist at @ird_fr  @DIADE_lab @LAPSE_IRD / Crop Science for Development #Roots #Recherche #foodsecurity #mycorrizhae #rice #cereals\"], [\"champion du monde de jokari sans \\u00e9lastique\"], [\"Security expert \\ud83e\\udd50 @synacktiv\"], [\"ORCHESTRA is an ambitious NERC, long-term multi-centre science programme researching the Southern Ocean's influence on the global climate.\"], [null], [\"Un peu bizarre mais \\u00e7a va, je suis gentille ... \\\"Fait chaud\\\" en devenir \\ud83e\\udd70\"], [\"Piou ! \\ud83c\\udfbb\\u2618\\ud83c\\udfd5\"], [\"\\\"Et pour dire simplement ce qu'on apprend au milieu des fl\\u00e9aux, qu'il y a dans les hommes plus de choses \\u00e0 admirer qu'\\u00e0 m\\u00e9priser.\\\"\"], [\"FuzeTea, Tacos, OM, CU84 et Magistere droit, journalisme et communication\"], [\"Facilitateur de projets \\u00e9co-responsables\\n#EthicalWebmarketing & #CommunicationDigitale\"], [\"Du documentaire, de la justice, de la jeunesse, du social, du vivant. #justice #mineurs #PJJ #\\u00e9ducation #spectacle\"], [\"#ACAB  \\nv\\u00e9g\\u00e9tarien carnivore\"], [\"The Office (US) est la meilleure chose qui soit arriv\\u00e9e \\u00e0 l'humanit\\u00e9\"], [\"#raoulpbrosseau #artistepeintre #nantes #breizh\"], [null], [\"Business journalist, linguist. Media, foreign affairs background. Lived in France, UK, NZ, Bulgaria. Fan of literature, history & all things Scandinavian.\"], [\"\\ud83e\\ude7a Dijon              @nawelleee_\"], [null], [\"Passionn\\u00e9 de voyages au long court et de rencontres interculturelles. Journaliste pigiste. Touche \\u00e0 tout. Ecrit // Vid\\u00e9o // Montage // Photo\"], [\"Jeremy / 20yo /Business \\n\\nenfantduswagg.contact@gmail.com\"], [\"IN GOD WE TRUST\"], [\"what ?!\"], [\"#\\u00c9ducM\\u00e9diasInfo\"], [\"Digital Project Manager, Geek and Gamer\"], [\"PE #ceinturesdecomp\\u00e9tences #Twict\\u00e9e, #Twoulipo #Defiinf\\u00e9rences, #MHM #MHF\"], [\"21. insta: theo.169\"], [\"1m89?\"], [\"certaine personne sont pr\\u00eate tout par l'envie et par orgueil agissez d\\u00e9couvrez qui a fait de vous un pentins.\"], [null], [\"\\ud83e\\udd77\\ud83c\\udffc\"], [\"Un mec sympa \\ud83e\\ude90 PP/banni\\u00e8re : @Ouarmy\"], [null], [\"Journalist, film producer. Ex @ihecs . Has spent some time at @fpafrica & @libobserver #Society #Documentary #Humaninterest #Intersectionalfem \\n\\n\\u270a\\u270a\\ud83c\\udffc\\u270a\\ud83c\\udffd\\u270a\\ud83c\\udfff\"], [\"Journalist in progress | @francetele | @IPJdauphine 41\\u00e8\"], [\"Recherche #Job #Communication \\ud83d\\udcbb\\n#LPCCPC\\nMaster Culture, ESTHUA \\ud83c\\udf93\\nMusique \\u25cf Th\\u00e9\\u00e2tre \\u25cf Photographie \\ud83c\\udfad\\ud83d\\udcf8\"], [null], [\"Information Science & Systems Specialist / Digital Strategist @Swissintell / Cyberdefense project manager @vbs_ddps #cyber #security #privacy #military #IE #IA\"], [\"CM en alternance former @BreakflipFR & @lolesports_fr | Je voue un culte \\u00e0 kt Rolster, Lewis Hamilton, Yuki, George, Griezmann et la TTA | \\ud835\\udcf7 \\u2661\"], [\"Professor interested in why people respond to risks like extremes in weather and climate, how information is generated and used, and how we build resilience.\"], [\"Never Say Never ...   Tu vit Pour toi ou pour les autres !\"], [\"Interested in European and Eurasian issues\"], [\"A mathematician modeling ocean biogeochemical cycles and the global carbon cycle.\"], [\"\\ud83c\\uddeb\\ud83c\\uddf7\\ud83c\\uddec\\ud83c\\udde7I 18 yo I Big fan of @G2esports #G2ARMY I Pewpew on R6 | Former @Humanity_Esport I LFT French or EU\"], [null], [\"Product Manager (looking for a job!), former Acquisition Partnerships Manager at @Evaneos\"], [\"Agence de Voyages Litt\\u00e9raires.\"], [\"Sous l\\u00e9gende.\"], [\"Journaliste culture @AleteiaFR / Ex @RevueNarthex / Ex charg\\u00e9e de projets culturels @CVersailles /  Histoire de l'art, culture, patrimoine, musique.\"], [\"Futur pr\\u00e9sident, mes hobbies sont le bowling et battre les bonnes. #FAPFAP2022\"], [\"\\ud83c\\udfa4\\ud83c\\udfbc\\ud83d\\udeba\\ud83c\\uddeb\\ud83c\\uddf7 RAP\\n\\u201cJ'ai un d\\u00e9mon dans mon esprit, une mol\\u00e9cule, c'est ma meilleure amie !\\n\\u201d http://instagram.com/griseldarappe/  #Rappeuse\"], [\"Je prends le bus\"], [\"#F1 #Fun #Friends #Family\"], [null], [\"Magdalena Studio | Creative studio\\n\\u2022 \\ud83d\\udc8c contacto@magdalenastudio.co\"], [\"yo le rap\"], [\"Entrepreneur, Tech & R\\u00e9seaux. #Digital #Telecom #WIFI #triathlon #marathon #cashback Insta: #cblifestyle8.8\"], [\"Electron libre, ex-REP, Curiouser and curiouser ... #LostInEducation\"], [\"j'arr\\u00eaterai le babinks pour toi\"], [\"#Startup bas\\u00e9e \\u00e0 Lille, Axomove c'est LA plateforme #esant\\u00e9 de #pr\\u00e9vention et de #r\\u00e9\\u00e9ducation en sant\\u00e9 physique\\ud83d\\udcf1\\ud83c\\udfc3\\ud83c\\udffb\\u200d\\u2642\\ufe0f\"], [\"tm verkiezingen in DH @Nieuwsuur | 2011/2016: Europe reporter BNR | 2005/2011: Balkans correspondent\"], [null], [\"Je fais trop de trucs. #entrepreneur #twitch #youtube @GeekDaysShow\\n@LDLC_OL, #ShadowMaker.\\n#Dahyun bias magueule.\\nJe vais y arriver ! Bisous Maman !\"], [null], [\"Je pr\\u00e9f\\u00e8re comprendre les gens qui comprennent que je ne les comprends pas. \\ud83d\\udd96\\ud83c\\udffb\"], [\"Enseignant Histoire-G\\u00e9o REP+ / Syndicaliste SUD \\u00e9ducation 13 et Solidaires 13 / VISA 13\"], [\"Founder / CEO of eXo Platform - Digital Workplace\"], [\"\\ud83e\\udd87\"], [\"\\u2708\\ufe0f \\ud83c\\uddeb\\ud83c\\uddf7\\ud83c\\uddf5\\ud83c\\uddf9\\ud83c\\uddf8\\ud83c\\uddea\\ud83c\\udde7\\ud83c\\uddea\\ud83c\\udde9\\ud83c\\uddf4\\ud83c\\uddfa\\ud83c\\uddf8\\ud83c\\uddea\\ud83c\\uddf8\\ud83c\\uddec\\ud83c\\udde7\\ud83c\\uddee\\ud83c\\uddf9\"], [\"polytech grenoble\"], [\"a ok dacc\\ud83d\\udc4d\\ud83c\\udffc\"], [\"Je tweet #WebMarketing #MarketingDigital et \\u00e7a me plait \\ud83d\\ude0b + d'infos sur mon profil LinkedIn https://goo.gl/Ml5itW\"], [\"1/ m\\u00e9diation et communication scientifique - 2/ diffusion et soutien au spectacle vivant - musique de chambre - \\u00ab diplomatie culturelle \\u00bb\"], [\"Au sein de cette orchid\\u00e9e, je cueillerai l'or qui dort\"], [\"illustratrice \\u2022 graphiste \\u2022 directrice artiste\"], [\"Senior World Affairs Editor at CGTN, formerly AFP, roaming the globe from Switzerland to China via Singapore, LA, London + Vienna. Views my own etc...\"], [\"#FreeBSD, motorcyle, rugby, things\"], [\"Pas sociable, pas gentille, pas mignonne, NUISIBLE & pis c'est tout ! | #LaMamanDeGazouillis |#CoffeeAddict |#GensdeCom | #ExThoraxVide\"], [\"Research scientist | Tweets on Data, Science, Social media, Digital\"], [\"Docteur, prof en cpge \\u00e0 Amiens, chercheur associ\\u00e9 Item (Cnrs-Ens)\"], [\"Non\"], [\"IP/IT attorney in New York and in Strasbourg, France, TTLF Fellow at Stanford Law, writing about free speech on social media, Yankees Fan (Worried). We need 28!\"], [\"Nonprofit plasmid repository helping scientists share resources globally. Easily deposit and request plasmids or visit the Addgene blog for science news.\"], [\"Je suis myope.\"], [\"Molecular Biologist. MSc Infectious Diseases, PhD Microbiology. Diagnostics, antibiotics, COVID. Citado en el Q'hubo. \\ud83c\\uddeb\\ud83c\\uddf7\\u27a1\\ufe0f\\ud83c\\udde8\\ud83c\\uddf4\"], [\"| Pour qu'on s'refasse faut d'la maille |\\n\\nhttps://soundcloud.com/dohzz\"], [\"#P\\u00e9dagogie #Ecole #Inclusion #Savoirs #Profs #ManuelsScolaires #R\\u00e9formeLyc\\u00e9e #lecture #Ecriture #Math\\u00e9matiques #Po\\u00e9sie #Th\\u00e9\\u00e2tre\"], [\"Sophrologue, EMDR, Formatrice, Pdte @EuxEntr Pilote Task Force Femmes #Egalit\\u00e9FH et @Jmpe_france  #RelaisToutesPolitiques69 #NeRienLaisserPasser\"], [\"je sais ce que j'ai \\u00e0 faire et je le fais\\n\\u2b55\"], [\"Presidente Asociaci\\u00f3n Colombiana de Usuarios de Internet\\nMember @Icannatlarge\\nISOC Member\\nNeutralidad de la Red.\\nTransformaci\\u00f3n Digital.\\nEconom\\u00eda Digital\"], [\"@realmadrid | @RMbaloncesto | @Dallasmavs | @Rafaelnadal | @luka7doncic |  KEKRA FC #MFFL\"], [\"Atheist #mcfc fanatic Citizen of nowhere Allergic to right-wing bullshit   Putatur quidquid velunt OBE (Order of the Bert Empire)\"], [\"Cr\\u00e9ateur du site @WikiNabia (aussi r\\u00e9dacteur @nabesnews)\"], [\"\\ud83c\\uddeb\\ud83c\\uddf7\\ud83c\\uddeb\\ud83c\\uddf7\\ud83c\\uddeb\\ud83c\\uddf7\"], [\"French Tipster \\n\\n\\ud83d\\udcc8Mid Odds \\n\\n\\u26bd\\ufe0f\\ud83c\\udfbeMainly European Football & Tennis (liquid markets)\\n\\n\\ud83c\\udfe6Pinnacle Odds + sometimes Acca & Funs on soft bookmakers\\n\\nSTAY TUNED\"], [\"Astrophotographie 80ED - NEQ5 - Nikon D5300\\nBosse dans l'informatique et fan du N\\u00eemes Olympique!\\nhttps://www.astrobin.com/users/Moguest/\"], [\"Journaliste free lance. Ex-Faites entrer l'accus\\u00e9. J'\\u00e9cris des bouquins mais garde un \\u0153il grand ouvert sur l'actualit\\u00e9\"], [\"Tu connais les bails ma guele #PPFF\"], [\"\\u00c9tudiant de 21 ans.                                                                                      \\nLet justice be done though the heavens fall.\"], [\"Media and communication specialist. Bilingual multimedia reporter. Columnist.\"], [\"RH puis Collaboratrice parlementaire HB |\\ud83d\\udcabCeux qui pensent que c\\u2019est impossible sont pri\\u00e9s de ne pas d\\u00e9ranger ceux qui essayent {CC} My Own #Art #EM #circo2202\"], [\"#RXpharmaLAB le site Internet des assistant(e)s techniques en #pharmacie (ATP), #pharmacien(ne)s, technicien(ne)s en pharmacie, pr\\u00e9sent\\u00e9 par #formatp.ca\"], [null], [\"Microalgae, bioenergetics, photosynthesis, biophysics,   - Postdoc @UCBerkeley, \\n\\ud83c\\uddf2\\ud83c\\uddeb\"], [\"Micro Mounts (MM) manufactured Photography panels & social business cards made from Aluminum metal.\"], [null], [null], [\"des billets dans mon cul j\\u2019ai la chiasse\"], [\"Architect. Master degree in Building and urbanism. Chartered member on Association of  Spanish Architects, Legal Architects A. Project Management International.\"], [\"En tout cas, je suis pas encore danh\\u00e9r\\u00e9  \\ud83e\\udd1d\\ud83c\\udffe\"], [\"HumaReC \\u2013 Humanities Research and Continuous Publishing: a digital New Testament Test-case\"], [\"Professeur d\\u2019histoire CPGE Faidherbe Lille\"], [\"Journaliste reporter et d'investigations \\u00e0 la radio #Lidefau Butembo et Observateur @Observateurs.\\ncontacts : johnetumba2@gmail.com|+243994356385,+243811447289\"], [\"Bienvenue aux curieux / vege / vegan ! :) Threads en FAV. \\ud83e\\udd51 #TeamGuaca. Double compte.\"], [null], [\"Pr\\u00e9sident fondateur @AssoJoontaado / Comit\\u00e9 Miss Peul Diaspora.. Sur Twitter depuis mon anniversaire ! #TeamPeulh #TeamJoontaado\"], [\"Solutions engineer @OneTrust #privacy\"], [\"Editor of @itsfreezinginla climate change magazine + green engineer at @burohappold. she/her\"], [\"\\u00e9tudiante en math\\u00e9matiques, adh\\u00e9rente @RNational_off\\ud83c\\uddeb\\ud83c\\uddf7 #EnAvantpourUnNouveauFront avec @MLP_officiel\\ud83c\\udf39, membre du CDP, 15 ans en afrique \\ud83c\\udf0d\\u2600\\ufe0f\"], [null], [\"|Abou bakr ndour| |IG:Abouu_baakr| |Snap:Abouu-baakr| |FCB|OM| Cheikh Ahmadou bamba \\u2764\\ufe0f\\u2764\\ufe0f\"], [\"#Designs and distributes  #microelectronic boards with softwares based on #Arduino technology\"], [\"passionn\\u00e9e ! La vie toute la vie\"], [\"Juriste (presque plus) junior en puissance. Dipl\\u00f4m\\u00e9e de Droit - M2 ASR Descartes. Poursuit les fraudeurs \\u00e0 l\\u2019assurance maladie. Future audienciere. Bride 2020.\"], [\"I \\ud83d\\udcaa GYM ~ BOURG EN STRESS \\ud83c\\uddeb\\ud83c\\uddf7 ~ 21y \\u2650\\nSNAP : kevin_suran \\ud83d\\udc7b ~ INSTA : kevin__srn \\ud83d\\udcf8 Hard Music \\ud83d\\udcc0 TEAM AKRAM \\ud83d\\udca5\"], [\"La Cagnotte en ligne d\\u00e9di\\u00e9e aux patient et \\u00e0 son entourage #Fairedubien #Autourdesoi #Lapetitecagnottequimonte\\ud83d\\ude80\\ud83c\\udf3b\\ud83c\\uddeb\\ud83c\\uddf7\"], [null], [null], [\"Computational chemistry & Table tennis!\"], [\"\\u264c \\ud83c\\udff3\\ufe0f\\u200d\\ud83c\\udf08\"], [\"\\ud83e\\udd56 Baguette-man #gamedev, game jam lover, guinea pig aficionado \\ud83d\\udc39\\ud83d\\udc39\\ud83d\\udc39\\ud83d\\udc39 #EyejamGames Check website below! \\u2b07\\ufe0f\"], [\"\\ud83d\\udccdMontr\\u00e9al \\ud83c\\udde8\\ud83c\\udde6\\nMarketing Manager @Telus\"], [null], [\"Mother. Writer. Dreamer. Schemer. Also editor of @mebeacon, with @Mainepeople. Views my own.\"], [\"Senior Civil Engineer and Consultant @SCET-Tunisie Afrique Centrale, \\nC. E. O SOTERIA ENGINEERING\"], [\"ma\\u00eetre Black Pipe\"], [\"En Master de\\u00a0cyber\\u00a0s\\u00e9curit\\u00e9\"], [\"(E\\ud83d\\udda4)  soucis psychologique avec http://chess.com et les sinjes\"], [\"Politique, r\\u00e9publique, souverainisme, la\\u00efcit\\u00e9, France. Non aux communautarismes, \\u00e0 l'islamisme, aux racismes.\"], [\"mettez votre masque \\ud83d\\ude37  et en couvrant la bouche ET le nez.\"], [\"Murid, Professionnel Multim\\u00e9dia, IPTV, Designer, R\\u00e9alisateur, Developper, Broadcaster, OTT, Mafatihul Bichri International, LLC; Senflix #muridquotes\"], [\"Secretary General @Eurochild_org Tweeting in personal capacity #childrights #EUpolitics #civilsociety\"], [\"| j'gribouille (des fois) | ni dieu ni ma\\u00eetre | jukebox ambulant | she / elle |\"], [\"CTO @sensiolabs #Symfony We\\u2019re Hiring !\"], [\"Pharmacist and biochemistry.\"], [\"L2 \\ud83d\\udc89\\nCherche femme pour tiramisu\"], [null], [\"Suivez les experts du cabinet de conseil sp\\u00e9cialiste de la #cybersecurite @HarmonieSSI, leurs blog posts, leurs interventions et les news importantes du secteur\"], [null], [\"Arch\\u00e9ologue / Biblioth\\u00e9caire\"], [\"Need services ? Contact @open_bug_bounty\"], [\"\\ud83e\\udd16 Classic generative weirdo & teacher\\u25aa\\ufe0fCo-founder of interactions design studio 2Roqs\\u25aa\\ufe0fhttp://hic.link/v3ga\"], [\"Parisienne, en vadrouille \\u00e0 #Bruxelles. Et sinon \\u00e7a va ? Non peut-\\u00eatre ! Allez dit, c'est excessivement \\u00e9nervant !!\"], [\"Ecologist, Presenter and Filmmaker from The Top Of The Tree. Big on #SciComm, collaboration & engagement. Producer: @HighWaterFilm, @vitaminseafilm and others.\"], [null], [\"Droit public et T\\u00e9l\\u00e9coms /  Alum. @AssasParis2 @HECParis\"], [\"@Festival_aix, @Triosora, previously @VerbierFestival Academy & musicologist in the making\"], [\"Security Operations Orchestration Platforms #CyberExposure #ThreatIntelligence #Orchestration #Automation #SecOps #CERT #SOC #DFIR #CSIRT Open-source project\"], [\"Enseignante d'Histoire-G\\u00e9ographie-EMC\"], [\"Communication - storytelling - gamification. \\u2709\\ufe0ffrnck.plss@gmail.com\"], [\"Moins, c'est mieux\"], [\"Cr\\u00e9ateurs de contenus audiovisuels\\n\\ud83d\\udd34\\u26ab\"], [\"French-American, mom, enthusiastic hiker, founder and CEO @Mondoforte, communication for International Development, agriculture and food security.\"]], \"hovertemplate\": \"label=0<br>0=%{x}<br>1=%{y}<br>description=%{customdata[0]}<extra></extra>\", \"legendgroup\": \"0\", \"marker\": {\"color\": \"#636efa\", \"symbol\": \"circle\"}, \"mode\": \"markers\", \"name\": \"0\", \"showlegend\": true, \"type\": \"scattergl\", \"x\": [-0.047218179624772295, -0.049212823469298776, -0.049880294977676654, -0.053096417318912036, -0.012785282515919408, -0.12188147677424242, 0.09878876402628224, -0.15978261697688892, 0.10892241266921616, 0.05369093007471245, 0.02300682187142737, -0.005332716455946005, -0.05211874912788674, 0.08979058171794427, -0.025000657267199095, 0.3282108826392534, -0.04847042248084362, -0.05070262911728118, 0.1366786102770459, -0.04884094603429462, -0.049398337197730895, 0.13781734744896243, -0.056271343102946195, 0.05342714648524388, -0.0493023245220416, -0.02379917014471373, 0.021822894517516695, 0.32932539033885283, -0.04902435485361969, -0.06486858370363179, 0.0861480903612518, 0.22061826620383568, -0.05515302718617872, -0.07724194646248829, -0.046861701336126785, -0.054922073512722484, -0.04609072240444309, -0.04620705658265383, 0.16844658331591275, -0.075479877949681, 0.12243493701994951, -0.05234645597041893, 0.003982123763315129, -0.04933756146358965, -0.05378666410576096, -0.044719594310001026, -0.12086368286806638, 0.1609421957315922, -0.08727459856515449, -0.06147361099470798, -0.04999252001992421, 0.29620554286398565, 0.29198097735343154, 0.03707564875298285, 0.13595991093271634, -0.052861855733458744, 0.06518421282411535, 0.06493072076864638, -0.04988784720129364, -0.04424115857505321, -0.04519945252791458, -0.05735484835174852, -0.04036569351577009, 0.0027511480890216092, -0.04776549700071374, 0.14099615033078033, -0.05272433818172161, -0.04683386708429552, -0.042639146145488534, -0.05424175276995864, -0.1052269774357575, 0.028079956652552925, 0.16444224635576152, -0.045936506047005325, 0.01608963397029673, -0.047302953565402345, -0.08957454999906396, -0.13478036536040616, 0.042769093650940004, -0.040700616930278696, 0.20631865056609297, -0.04500162484999159, -0.04856904238834579, -0.08932692547203816, -0.04617089493471877, -0.10238302891698838, -0.05137938249529892, 0.20615705090771855, -0.06552095322403177, -0.11746148937468254, 0.14456849904815428, 0.06989919941392901, 0.059533034568525954, 0.05261340558742737, 0.010441128198652476, 0.07979004097858294, -0.05052914288302731, 0.2613728334741476, 0.023514138722301174, -0.04722988018485384, -0.03535221521492642, 0.16146003665473377, 0.25349648856265256, -0.05917392188678112, -0.04579334639660692, -0.04608765790062925, -0.04724559194245454, -0.10861646298180956, -0.0008263900044021136, 0.6504735026904118, 0.029870224112191604, 0.036709302443129255, -0.16780599027139737, -0.14899599826675794, 0.08528172703028115, 0.11782998351379068, 0.036575582277655734, 0.0791073917046817, 0.17699286600229772, -0.07968214478859197, 0.11558301297087975, -0.13626916614065682, 0.17952685285765596, -0.0709501573468121, 0.010632965137686558, -0.04482930246301172, -0.04566072107030298, 0.19187691993567876, -0.05717944633235203, 0.05792972065198728, 0.14709894304190996, -0.08687419080322875, -0.02341732912940327, -0.046173746776868786, -0.07044843821264801, -0.010613814009013244, 0.08304103246736862, 0.15499986140285543, 0.220125171562288, -0.04945924283596475, -0.047072751148242026, -0.09225566828673776, -0.2396224286823829, -0.0855461099297157, -0.1111728831846938, -0.04802530143368585, -0.07803430925682257, 0.11794561824275308, -0.04847354193431422, -0.0500475451945882, -0.035582061210376964, 0.16426234309264315, -0.14535707974861312, 0.028331122203825766, -0.04948404338496326, 0.00960036430968451, 0.11556561267492364, 0.025125261358901686, -0.05087813650504385, -0.10948743201014488, -0.0297061336542155, 0.3263075147050454, 0.03613008626698387, -0.04342792970687588, 0.18746863629131874, 0.13436427276181842, 0.17286544035021617, -0.04301376657919974, -0.03854637230143847, -0.04787274904960195, -0.04663559358408332, -0.07131460592604852, -0.050638048915269, -4.703179072727112e-05, -0.017856714451155845, -0.050853213914265075, -0.06171277929112745, -0.10893841120173044, -0.05171686769523624, -0.14814960977297553, -0.0395129632123172, -0.04754809940714185, -0.1275448644684996, 0.13428338881184634, 0.013217817057500388, -0.15070036562654865, -0.10998901724687082, -0.04494611789619523, 0.12886444464171087, -0.07262886677511139, -0.05245356614277176, -0.1743644127774189, 0.20957184123590666, -0.07830549776985593, 0.0806284357074571, -0.048158663045741554, -0.04516035905210958, -0.05364169257518815, -0.12436276724838075, 0.11157885780061863, -0.1254977874448858, -0.05080579423811441, -0.0631285329159137, 0.22896585132085318, -0.04569752110262158, -0.051287169777627484, 0.08603460712200962, -0.052649845886145824, -0.044605198953427336, -0.046473868273019574, 0.22271204585490295, -0.04989878696438956, -0.22723530348085902, 0.05034169889005188, -0.064700816241199, -0.04972102563532979, 0.20515681239035977, -0.049138858738042364, -0.004430668478669935, 0.10143014267564085, -0.052022877774885325, 0.12129167880026513, 0.22060005003296, -0.053071455204841744, -0.04546713054677128, -0.07628616060283526, -0.0546336588457923, 0.2352406069045056, -0.07395279882661289, 0.011133171056233042, -0.1583896204714105, -0.08153000958132998, -0.05272709906183846, 0.07002645918596864, 0.24058529823928787, -0.05829736620342875, -0.053405533755271004, -0.046870810700275684, 0.12843731758375626, -0.1273905877005533, -0.051598630867723615, -0.05006933103337834, -0.04142367224083076, -0.07220184512238588, -0.05774909727211859, 0.08807137323823944, -0.043087158804559045, -0.17977431590487972, -0.044406975803171586, 0.32093006295693555, -0.08235279093512662, -0.025849346639232898, 0.14923694873270787, -0.04338636031588281, -0.2369242377196572, -0.051985758498911565, -0.181148282355094, -0.04254803422620148, -0.04604583265275821, 0.027155286907403854, -0.04380205063534971, 0.14195776902571822, -0.05110895229269075, -0.006671474673460408, -0.002369797924399412, 0.2293675928498777, -0.05100257426029752, 0.04184847678645627, 0.059348566391542595, 0.03214832900153686, 0.10613180496796339, 0.0680981013533827, -0.0479507645420988, -0.08196894231385024, -0.015410570275673566, 0.08924827913673859, -0.047854246088327876, -0.05591246791477975, -0.22124684037821107, -0.048408967069048306, 0.06679284642562425, 0.10493896620817587, -0.04814056721284145, 0.3213235469027038, -0.04960280716264575, -0.04296511709789673, 0.190486946884478, 0.006503508422941775, -0.06376720581123306, 0.11794026973835216, -0.04114156999620029, -0.0623032267875589, -0.03608270510123695, -0.059590203627820165, -0.04853833944674372, -0.044939973485340394, 0.18385345559690994, 0.16923909161720793, -0.09745069917066078, 0.4490083223230188, 0.052808411405921296, 0.11363886870259766, 0.13279505133909078, 0.3964258148950809, -0.02653745830617876, -0.06054738827819011, 0.19792415181397233, 0.05640984605686955, -0.08746862961060348, -0.06638000680246062, -0.10538507798114678, 0.16911509614084927, -0.049313514638874185, -0.03117714398271474, -0.050930898739834855, -0.048271827438052216, 0.05544732366416009, 0.30983852388347327, -0.04550521983935585, 0.02845358925240506, -0.01039732142197999, -0.07387580709462392, 0.09252957655258655, 0.27510258034965057, 0.09086074659070333, 0.4757339837854302, 0.25094165290037734, 0.116277809029149, -0.09513509675995119, 0.24518972810054734, -0.05116927184426849, -0.04798264219071252, 0.04606372503805323, -0.05176617481009303, -0.10797595998696646, -0.050483004889065035, 0.1508004185801581, 0.09404616898425709, -0.04708615751974754, -0.047756969465571356, -0.04934842210565372, -0.11030552758863273, -0.05069983977921787, -0.0553810773001567, -0.17156204094217928, -0.04714448952123989, 0.014177154215632148, 0.2123786688943847, -0.04852820853774176, 0.218415248427708, 0.26908288961334254, -0.06819840075608224, -0.04734246846697605, 0.10201507646069741, 0.20975609627100109, 0.08094402484283987, -0.08345635378596933, -0.20552038568627432, -0.04528836349770178, -0.07045493041041762, 0.05935587119765326, 0.1363954291667536, -0.048251400506653774, -0.13947181143693899, -0.22310922104951955, 0.20488035673046576, 0.15726190863006775, 0.039484759735070214, 0.10807477583218561, -0.051508749795794784, -0.003038417928847493, -0.03422440935884415, -0.010807591769503116, 0.17386833112078826, -0.05394906945633881, 0.2606138678693784, -0.20537829699357532, -0.2481007888177711, -0.047722972730662054, -0.05274399404808774, -0.04688391568007046, 0.0667082801574923, 0.21406922154286556, -0.1299647745584393, -0.06367019212679793, 0.25803054080442567, -0.07307039494819996, -0.1274722515090015, -0.08873698491064501, -0.0728301533126484, 0.056798047754863364, -0.05063780760324642, -0.08820077798045486, 0.2517619966437385, 0.2525489643526825, -0.05530487953701446, -0.15355847247864213, 0.009266693489941132, -0.05922353037410963, -0.09662897600173355, -0.01850495106563788, 0.2867067803725758, -0.09173067072248062, 0.3094185165487669, 0.2044042889700178, 0.05288340816770953, -0.04915223489296501, 0.09284718686212264, -0.13319035157671827, 0.13074081658804518, 0.14177381018289886, -0.0725473204818899, -0.015412666116409684, -0.07087788131125199, -0.04986866697613703, -0.09509990802939343, 0.26334432925758405, 0.053871117622408995, -0.050809771703551866, 0.14873768280809951, -0.06372352171089242, -0.19695935927003932, 0.08268495387819526, -0.12300902747578842, 0.15700361907129928, -0.04382129157951443, -0.04908784219035285, -0.043146551312797224, -0.04492883092024191, -0.05350633872936688, -0.04763015105050726, 0.06194830059257175, -0.04547785518624835, -0.049222205811620234, -0.11424075548648566, -0.05016914237956817, -0.05009981712118347, -0.05487825306384932, -0.04346608606957979, -0.1791677735495575, -0.05244792428025986, 0.5095594364278294, -0.043675171445805544, -0.04967416598188982, -0.04562867657295755, -0.09879449384368111, -0.04934111636098254, -0.08337145644784745, -0.05439048358487563, 0.11372613123212642, 0.059317241714146374, 0.2551897874380057, -0.013453255436358145, -0.04929884802448107, -0.020180030714274766, -0.21666336621244833, 0.36540661262918916, -0.050353556032211935, -0.04327588346343899, -0.06571485306395235, -0.048897906668798605, -0.07194652649333222, 0.1056068241565241, -0.04523187925903732, 0.2311897673364509, -0.04853449547245871, -0.04835898635766873, -0.024903615110736688, -0.051155493218203466, -0.05527765102523757, -0.19022050458515208, -0.13767690233923874, -0.049217395020391665, 0.07462614812288164, -0.00572253644867116, -0.11155068865325742, 0.14407346655212663, -0.047252836417647846, -0.04993075401540144, -0.17659876394596016, -0.1134821058704283, -0.03612329755190604, -0.046342543054678886, -0.05074391930337839, -0.25208936751085165, -0.09419513452735717, 0.11477520623732809, -0.10073555064590121, -0.039974568346835576, 0.09181481550738389, -0.05330090267796178, -0.05447265218717773, -0.0545879692420521, 0.017411790297163, 0.0964070053340221, -0.04908346595027487, 0.03728128464311988, 0.02288905725042382, 0.05888845903523558, -0.06851153103453016, -0.0591496563704889, -0.07873408750334289, -0.07327637976035127, -0.04955351619352625, -0.04801856258085107, -0.09472134631991622, -0.17580637635157784, -0.05164600251840965, 0.09136193585093136, -0.04828748838712372, -0.060071389350112914, 0.06250209904583615, -0.04900735921748315, -0.10259072248033811, -0.03590633650983365, -0.04914900752812683, -0.037081984754358865, 0.03718493184984049, 0.04709471335234567, -0.04722616869520604, -0.04229033893846236, 0.1192752580776888, 0.14198218565219772, -0.04742265222917038, -0.0688330456383007, -0.1356298762227957, -0.053881895770917045, -0.0586897585372734, -0.05133538752870965, -0.09587487708328984, -0.04374513649556986, -0.06497536111601777, -0.14758362817151227, -0.22540003521674276, -0.17345739026981344, -0.04743922157525257, -0.10013894857626096, 0.1326631847752623, -0.04655860359815243, -0.048675385772716816, 0.10775120206323166, -0.1489363467210193, -0.08379311995764922, 0.16837994892309294, -0.107610498817723, -0.04005692365748469, 0.20856674512782053, -0.06754117520732071, -0.05336422678964432, -0.04252452986176698, -0.03213136075200069, -0.04684665334117868, -0.04710198476505619, 0.01398637978151217, -0.04138113385018409, -0.19366762866436418, -0.04673922904591568, 0.07393331987883282, -0.11981648013669209, 0.3346873081034688, -0.08564878596019804, 0.07794867536178864, -0.045763663138163296, 0.01976175574574864, 0.383000113142467, -0.03466367968014725, -0.04820594489357097, -0.04697256227413628, 0.0667246777210439, -0.1773452761733409, -0.10823854579040137, -0.08712306852094791, -0.10677033919181059, -0.07323072062778697, -0.17442142804530164, -0.051308807259543725, -0.08032847028622193, 0.10277676255349043, -0.05138229100720996, 0.03832270797716902, 0.10645539110158526, -0.045335552470156255, -0.05446006764472994, -0.047739504888530834, -0.0009759285203115493, -0.07639786336422469, -0.05206110386896833, -0.05072206323865503, -0.05711070728197876, 0.06296367087437851, 0.15343407717140115, 0.062239039803034406, -0.04315062614790358, -0.029235024505267052, -0.051389044787743816, -0.05952619729965324, -0.10536554524435239, -0.05736087073831286, 0.015706252564455073, 0.1415881470653619, -0.0772803492735456, -0.004365286171229958, 0.12262174369674575, -0.1270519460769091, -0.11441652840485048, -0.049569778590953406, -0.044321919513203724, -0.020543686127393913, -0.003483369407934056, -0.044228135045610996, -0.0844762560392414, -0.05598340243011477, -0.0471070010085855, -0.05333282672667408, 0.015237025858369554, -0.09404065220148702, -0.12844592941980523, -0.08638781378341497, -0.20654379256547375, 0.11560777006399976, 0.0982407702943584, -0.048992660916402135, -0.06032821123516069, -0.08613109144849637, -0.05087623191471927, -0.04584504047689762, -0.04616442622445309, 0.36824627214273464, -0.05135919310463562, -0.045855664508454214, -0.0498142055182565, 0.1615910672684807, -0.08751833719236934, -0.12191583658092425, 0.046359237429793206, -0.04925734568735547, 0.032154731183085795, -0.04787044257322002, -0.04847948922542485, -0.055734663398827856, 0.3193073045295353, 0.42775624855504585, -0.014841294555547169, 0.2999291462904478, -0.05838091628083924, 0.19421342041544976, -0.05446082825998751, 0.33942162726582226, -0.05185278556115541, -0.0437550349041536, -0.010008650609468175, -0.13282183905046488, -0.17216281906431097, -0.05519474142476654, -0.10179630830757436, 0.17318458976100287, -0.12142817491403383, -0.04722198876034961, 0.06694019014229856, -0.13264065264246241, 0.12277731932934713, -0.15202343441420405, 0.18906602440864614, -0.04694575944933643, -0.17067180717437858, -0.04608818010882741, -0.11341855116684518, -0.14236566214264842, 0.1726018392652503, -0.04917718185413945, -0.10160521745082367, -0.04895267787321729, -0.10005578266065966, -0.04894738658896232, -0.08409575732923187, 0.3250346455717811, -0.1088838828006356, -0.04878482913775023, -0.054464880069779245, -0.05682784038529433, -0.1078797069682601, -0.045816032748054465, 0.06370071887479758, 0.07932166787197732, -0.04759384956436407, -0.04619801583571319, 0.14987904531993132, 0.016115493050979687, 0.10738351985413835, 0.1063113379746501, -0.04716452544579861, -0.052339156178530744, -0.04869595645272899, -0.20022042184446495, 0.12326939282803154, -0.06103216792184257, 0.22594637023169123, -0.0479716584321398, -0.14778818568953758, -0.0814170477954447, 0.04581696421249716, -0.047594872554791674, -0.1121609637824256, -0.049931198354453206, -0.04768967286318475, -0.05928368825116258, -0.20748512430255328, -0.044849889099622495, -0.07034829883714848, -0.06798556657381516, -0.09936883279747487, -0.08727884705993151, -0.04864773467267222, -0.04295110777488717, -0.0465470863526001, 0.41914621172563077, 0.04115089935975338, 0.17099737507788673, -0.020310624671926618, -0.07646727619395385, -0.05202012221475419, -0.049520043419578226, -0.04666991916476193, -0.06342888385570362, -0.04706183158219178, 0.023701051498159126, -0.055087767473847665, -0.09087888878453865, 0.13686694917796913, -0.07456749002047496, 0.15939807778536272, 0.26639713400279297, 0.02929047352840751, -0.05357538432125532, -0.03927651720874897, 0.07250654168539497, -0.051439128942358636, 0.09603593957277355, 0.3740999397642103, -0.04661996368590658, -0.07518893033145622, -0.044221347574807945, 0.022819263994645216, -0.050411275036468924, -0.048227438146024745, -0.13221867417225963, -0.049100002676308006, -0.04185967811964786, -0.04877251162751349, 0.3403509221456304, -0.23592721855959034, -0.050678656801367544, -0.048666996648769695, 0.19989293305579556, -0.05383334178859493, 0.06051748642482024, -0.00737477254337328, -0.008890194727833969, -0.024317357191017595, 0.09743600712690323, -0.05001479083237068, -0.049956857491530164, -0.04890032342666181, -0.07317625680164838, -0.051879098565598754, 0.014923268086686793, -0.04810658473756954, 0.19152445853536162, 0.043971186719046325, 0.08778908941666616, -0.04789367205624213, -0.05351647886619282, 0.2725483407773643, 0.055269575326275903, 0.008764641209695188, 0.21647898100872937, -0.0486359764056762, -0.13023242310903124, -0.030020835557363335, -0.09019796549077487, -0.048842430399730456, -0.04959771389044768, 0.13474299884950308, -0.020975140269058678, -0.04585006825873329, -0.05264310958380761, -0.05815786528974901, 0.13710386967237764, 0.05406502331724778, -0.04450783812125916, -0.09239816873302606, -0.05240666593245553, -0.04740740975907359, -0.03586350877585923, -0.09106997967341854, -0.046302483695559254, -0.0527569964366465, 0.1919584991943978, -0.04842429495646824, -0.04598752186402128, -0.0508244761915994, -0.04755244287129912, -0.04895207122950849, -0.035399891031522274, -0.09750975633161425, -0.04369660595984293, 0.10598760934368244, 0.11549881151863713, 0.06330570366674383, -0.062828559648332, -0.05169751358368917, 0.1418186942986022, -0.045745665531766906, -0.04026164351005353, -0.0660130940172704, 0.16880275626861674, 0.06557816767392446, -0.11471656767678766, 0.22959359880778288, -0.044033633240124624, 0.008741690916381502, -0.052279790847527756, -0.045601644208024136, -0.04860905881411999, 0.14306158613737902, -0.04610858447161767, -0.05411990594691187, -0.05072777924500464, 0.041403269509451106, 0.09703454818297415, 0.05429391221074576, 0.0008018500431787267, 0.05934906512572122, -0.050029368584656904, -0.04699057748888046, 0.09339448040429939, -0.07912060295667518, -0.04342571893847887, -0.048220286468553294, -0.08492123521535319, 0.11392686361143681, 0.11526099920213144, -0.021820094988904713, -0.09384184187572743, 0.12084822911884653, -0.11658241629345682, -0.043724980385373834, -0.10551432756136411, -0.024670849320070975, 0.13528671039803683, -0.0998918595532351, -0.07255307784891767, -0.07735862840191939, 0.044887971144360515, -0.05752720641453085, -0.05114524246009237, 0.1144823753610037, -0.04815562373620771, -0.0712350725858915, 0.13398741354524252, -0.05003271237422857, 0.11935452416344186, -0.04820694273877064, -0.07489969439127805, -0.18048000031197658, -0.04042697748809342, -0.05007497070522977, -0.07524978210018306, 0.12073223501284905, 0.06291846940574722, -0.04351633545602294, -0.04327007411571055, -0.044947946635965796, -0.051477343243381705, 0.2708947849019356, 0.0854632770992823, 0.1524992518732127, 0.10756912331166212, -0.04633663289820587, 0.1935487928534781, -0.053801222054667565, 0.0927317698277024, -0.051344560695569294, 0.0019431909404654941, -0.05458527012698496, 0.3562301092026308, -0.11252016407695746, -0.047653488559545695, -0.0542460322323212, 0.20090310411966658, -0.05578190587530605, 0.08233117631957769, -0.06524395209526904, 0.07932676487149995, -0.026300315852678384, -0.15442732387445102, -0.047342471234083, -0.09859811181333607, -0.16098142542456564, 0.10770194073507913, -0.09887122005224723, -0.05825337629378565, -0.04699772379804455, 0.3010619498135539, -0.10258152375301918, 0.4256172950842641, -0.04648030250079735, 0.004036801695933147, 0.16299157894419142, -0.0342751828935217, 0.3534385124025691, -0.03970339539437015, -0.041101575093025366, -0.00138815552592163, -0.05131725367777097, -0.026847455958807897, -0.046224887332413145, -0.04954273994504548, -0.053449472148212135, -0.045109486965595476, -0.04846878312080255, -0.04417845213263607, -0.04553544852503244, -0.026167245978480372, -0.04865630850258738, 0.1855776687711504, -0.1398320354452199, 0.1189603710425255, -0.05045493515406932, -0.04511726069125122, -0.05626206429122958, -0.11282323308196682, -0.04816302156224321, 0.0194636243439571, -0.045676198956756515, -0.09550840687813907, -0.05216320325082139, 0.1773006963811427, 0.09701424329437311, -0.04958656821154218, -0.05150924951718047, 0.0245366671624865, -0.04712593896174812, -0.04894979644509955, 0.08594034473590013, -0.1636121161011167, 0.1110803573874836, -0.20558361566432792, -0.0431193605276932, 0.353043618722875, 0.23572493760349947, 0.22811478425231477, -0.12670504960531995, 0.005308671638929324, 0.14130891263905537, 0.13743579182497345, 0.4673449409734369, -0.11311870597404661, -0.04651642214331128, -0.042533249052278704, -0.056603088567903394, -0.07461396221599946, -0.05345201785300361, -0.048334655113806045, -0.04269916176010042, -0.046563097972188626, 0.12906244341947892, 0.21799886330867074, 0.20231115046188508, -0.04759047139906085, -0.04687734444347727, -0.047441379605759205, -0.051529871188662785, -0.048194809614141215, -0.05006678625137076, -0.04446999374326385, 0.057951065363556015, -0.04058548421615172, -0.05599486464242051, 0.10052387433802865, 0.006464138387656589, -0.045766249247836656, 0.14494773451462653, 0.23588915875060767, -0.04215479433323217, -0.05196395083754217, -0.06684315722264418, 0.057097235479864915, -0.05110325220657248, 0.09905378549177382, 0.024178303904011114, -0.146053023391785, -0.05158614865654064, -0.13189980621429115, 0.0770410701260028, 0.15501783936056107, -0.2036473985196352, -0.08754184400787332, -0.1349196509915725, -0.05337044609076021, -0.0744721473086781, 0.27573749644420625, -0.051904069930561424, -0.05128628418967354, -0.105291982945601, -0.11726775220467026, -0.06849331405508519, -0.08562447050110376, 0.1048972813405781, -0.1464232394736223, -0.043655736236674195, -0.022604320355042576, -0.10315492331015672, -0.09788449761231437, -0.1504951031839643, 0.040617968060728586, 0.038903577212442586, -0.12479320767933834, -0.055217109248648415, -0.046695046937132154, -0.05052555823597812, -0.046723971822727584, -0.13645331102273886, -0.04244889013419762, -0.049641627909571294, -0.047624492933501385, 0.10413347820964809, -0.16968790359080352, 0.04151387703515253, 0.04294903323775611, -0.04762292569744137, 0.19838289645835935, 0.03330702072032801, -0.003066508064282243, -0.02108237311033782, -0.16319852247623717, 0.20660355956982426, -0.10473511716699074, 0.3007540392914607, -0.10239928848825339, 0.18780151900415634, 0.11839802560608266, -0.0464914728636665, 0.11948073813411265, -0.09931678927126696, 0.15393464925997835, 0.06854065653091543, 0.000602799739513084, -0.05619447840834843, -0.08735208339530895, 0.009469009345640392, -0.049629179246348853, -0.03862062443410023, -0.0938009924934721, -0.1517812308081042, -0.048938225776362664, -0.044272402699859464, -0.04957830574711374, -0.01034981701068413, -0.05646890656635245, -0.0502499374141399, 0.11258049168946557, -0.04903029849822745, -0.05102197589827883, 0.09727165716205907, -0.04957292103396653, -0.04758343008001266, 0.17503275977087634, -0.046407812109939904, 0.07807820915433922, -0.04870975115177876, -0.05260337655853448, -0.04328926461866893, -0.05067390682792971, -0.04959135716861928, -0.04604067762492238, -0.05047065758735946, 0.010063226770387554, 0.1805054368927631, -0.053455474431549715, 0.19563804130768928, -0.031123200517573796, 0.32767723054191616, -0.04950612829768261, -0.044853438574056825, 0.24348480758015298, 0.3478060223640224, -0.005332932903229778, -0.19225126869826403, 0.10331586827704199, -0.052404346247527336, 0.08784378413212628, 0.16510168479926854, -0.04870412690668723, -0.039990454675259586, -0.09927070825010936, 0.22697955975873554, 0.041312245201995855, -0.04430417263382097, 0.1403981535352676, -0.04637331466708133, -0.09067835689868552, -0.05696400420976001, -0.18727205328818083, -0.05141489573916145, 0.131991049360981, 0.06448385157261839, -0.046417224921146916, -0.04623145226518557, -0.048714664459079, 0.2731337021356402, -0.18013925677468995, 0.28230363728810487, -0.04383416916196484, -0.09597465953762865, 0.016373146541128234, 0.004009949926846143, -0.0888112126952855, 0.22947172952669198, -0.04437711788454617, -0.04671540038897889, -0.05268546628671184, -0.10995852264241673, -0.04704880192056745, 0.14263274409445872, -0.048970973963664136, 0.5539832454618622, -0.14250250627260325, -0.04811587616026102, -0.04332649072057311, -0.07418045753676791, -0.007710813659435099, -0.12451374897031921, -0.04941491061680818, 0.09631115083445559, -0.04544462690787409, -0.04971413574597245, -0.06744169566554581, -0.03835637955210726, 0.016858322320342733, -0.061163336310240034, -0.048291710675425925, 0.09805927333101619, 0.09483245650749057, -0.15685014264755362, -0.0051696240688442014, -0.09512731238983342, -0.05154210015341064, -0.049757645273075364, -0.06486294508598432, -0.027932404340524568, -0.05488320753084291, -0.2170405211875245, -0.06985069747490362, -0.09988060125172644, 0.13459079765802023, -0.1414370417057436, -0.01893274655576014, -0.053218253953269165, -0.05678423607818176, -0.050341357965518266, -0.0519093264570515, -0.09574500707800881, -0.05977501801801846, -0.05902831142409694, 0.15540997108811705, 0.09687196629761961, -0.055525353955256075, -0.05833640317694607, -0.0003167687321696859, 0.28554789786914053, -0.09986878046012332, -0.04633391349600942, 0.219814119051347, -0.04531919478540967, -0.04524623719499447, -0.14224004459996997, 0.23640082240232496, 0.11414144557154905, -0.005296359761661564, -0.11328477317670663, -0.031086777863965378, 0.04786145251178456, -0.05033806102672652, -0.06059507662949899, -0.04950651740374631, 0.24234876357425503, 0.07937152337383768, -0.030087546902983365, -0.049981668190986484, -0.07615148517768447, 0.08133826831193743, -0.051270685499656826, 0.4124698446870868, 0.13025404528601997, -0.044667453903321566, -0.06223803219076957, -0.04314618000334109, 0.09299341991503743, -0.050588575014345244, 0.03744532567609989, 0.12410667363956829, 0.3614565903436045, -0.08083464911125149, 0.0461229130657471, -0.0416429181672199, -0.05052068064101674, 0.06735507109699758, -0.18242257537017698, -0.07454960342495948, 0.1969355648061919, 0.14518724506544978, -0.052765719788372335, -0.049017775330659846, -0.11553475857664429, 0.07938565466440135, -0.045453316749006295, -0.03632788215747643, -0.13570359641954863, -0.044625724258864165, 0.05501074324808486, -0.17541022500418518, -0.0459217563436122, 0.1624314150100201, -0.04565103707899749, -0.10970210534241151, -0.0486662443532423, -0.05266012000498101, -0.05799454195893671, -0.05070644556975602, 0.1475980230471267, 0.08613718816422157, -0.047643169747398455, -0.04925284005582119, -0.047146075120034846, -0.24573670224300964, -0.0516409635158077, 0.15500205385188567, -0.13169390368011336, 0.03272609782595976, -0.04420978353442778, 0.1428023807883167, 0.029438082737155268, -0.0387810724126859, -0.1022249840277729, 0.14677481759872238, 0.1835386985550323, -0.050161730460738546, 0.17889564213036424, -0.13644271700925173, 0.07213215722430172, -0.02332074445902214, -0.02434734649206912, -0.16900037499731307, -0.05142732892290293, -0.13452024839753338, 0.29480063228007997, -0.04528782784924171, -0.05589383333019811, 0.08894068928860428, -0.05110783873378923, 0.17903264196083143, -0.051965509394140116, -0.04303901900378135, -0.016311506237764548, -0.05201250103814417, -0.17753018039493448, 0.03140466566041607, -0.04101025792082868, -0.042925635901886805, 0.13267652011987538, -0.0965194781453338, -0.04692078845560533, -0.047089611644098216, -0.04489969706072471, -0.052299066863713675, -0.04734838765380116, -0.07328884663477732, 0.019714043785622484, 0.008830746016399198, 0.005694762196629013, 0.19012140155027998, -0.04783557139373933, 0.2188482980591812, 0.014072792722884236, 0.19521656346645402, -0.050573432414295634, -0.053642811568610844, -0.049737199253957746, 0.1631013381292952, -0.0556420419433613, 0.23447089295292045, 0.06779415689067222, -0.05294884729355997, 0.34904451790030283, 0.026334431031048062, -0.05027032599007679, -0.0494146598692004, -0.046022808136660834, 0.1203601587427, 0.11395311674826011, -0.09765988492625342, -0.009631183657373088, 0.21162067728596995, -0.04882050299037231, -0.03904140126902624, -0.04368053167698555, -0.0759331555543538, -0.05088867641228684, -0.06420502176607194, -0.045207357602897326, -0.050250193135894586, -0.21050093655869803, -0.057037276291468965, -0.04608358982810041, 0.006869335129083032, -0.08649935157360798, -0.043222793593811024, 0.013165948929630904, -0.04696840829073201, 0.041078417452986876, -0.12549959518513398, 0.21265163265922582, 0.12151455938172596, 0.09793154260335317, 0.064928075337132, -0.05183009285440064, -0.0450818873705597, -0.10247575575989804, -0.046234336152177154, -0.05137425399569522, 0.12718026045854602, -0.11143162334317214, -0.04567006508738638, -0.04796811328319165, 0.08136123926551472, -0.15444599903809703, 0.08286626234655951, -0.05203883257340083, 0.008167412611237598, 0.09753070254228356, 0.028371862016306745, 0.05060723750438026, -0.09544488536003749, -0.1472395670866352, -0.1905754261771397, -0.17247168770302748, 0.10581789868091394, -0.15309618480890416, -0.04817297048731896, -0.12069147545555851, -0.1381686711944409, -0.051488032760068705, -0.0603105210217475, -0.0934167344305842, 0.13087680328599205, 0.07808831884849664, 0.3362646744464236, -0.0969580187591851, 0.14276129524838585, -0.0045596118177980175, -0.17441857296500554, -0.04208082001543619, -0.1848210959427396, -0.05685790386933988, -0.04970245497051882, -0.042767275253870744, 0.20783532363152807, -0.05905358402254206, -0.00727048153882376, -0.06367131560038179, 0.05716413527561048, -0.04624456929034192, -0.06925809607208078, -0.043351605085067635, -0.046357404475741625, -0.09071746938461613, 0.06352358855052072, 0.2566120809312047, -0.03424946317832645, -0.05654705972461021, -0.17991926938071065, 0.4099904459320488, -0.13245721087916046, -0.10820817892010048, -0.05140797751811748, -0.047410713731495836, -0.0322638818956901, -0.05276507410064039, -0.05141226048055305, 0.09985564257304178, -0.04943522020276932, 0.007999640703672616, -0.04311269545018245, -0.048151972320040835, -0.07798059259918227, 0.1443798521481627, -0.052066026487489446, -0.05141156947439188, -0.1215911680895973, -0.09071140017980213, -0.08311893961361058, -0.04722976356176816, 0.5029926208850931, -0.1905590350026814, -0.12109665800079661, -0.051325679720378284, -0.015205804912040335, 0.14689036091990612, -0.05790155118900774, -0.08376181314284616, 0.11748540304819662, -0.0803786275817143, 0.035225607913628755, -0.14427022674924966, -0.03922747573078711, -0.05383844930179333, -0.051115818487120455, -0.013162885799177881, -0.044119545180478906, -0.048931078155143394, -0.04762204060176364, -0.07410331705470496, -0.04419582103224152, -0.0646398014334612, 0.10977817905471658, -0.05103221602364765, -0.0481586138620615, -0.046855172040948086, -0.04999461838862492, -0.13148899773593492, 0.16012300628451476, 0.1344323291408596, -0.05027587291824559, -0.036830728802028166, 0.04088277505750023, -0.045979753596222625, -0.04627154341911181, -0.03676084120691684, 0.07493031919040705, -0.05108056931190621, 0.13304766779330182, -0.10395095379682953, -0.051772397332439865, -0.051697622937426226, -0.050330941696787514, -0.11106691037083193, -0.04748233917662914, 0.024905815089729763, 0.25710527333476674, -0.053669377175621126, -0.048352809627295996, 0.13376640666558878, -0.04030602327464807, 0.03896436770808369, -0.03373933995131879, -0.045835604648620826, 0.08294668261283547, -0.05235797069697175, -0.018630951368630376, -0.048266438380923565, 0.08261205523680601, 0.18677008440163953, 0.02673316379251252, 0.02884843055408694, -0.15348726608845487, -0.04553021049628597, 0.5086810120451357, -0.042784879014821454, -0.05153386006945049, 0.35379261009500246, -0.08214059810919179, 0.2645032542957762, -0.048406519441705494, 0.3402657662493505, -0.10409048545798597, -0.05039710476656737, -0.04946944651932047, 0.42070126542791214, -0.0514964287311473, -0.11445875386831977, -0.051132136768458174, -0.1750145697507244, -0.0772677354563664, 0.12240071471224692, 0.13246068382830795, -0.05364693245646087, 0.18990957878803286, -0.028454017833388093, -0.07946095292961464, 0.2510817434103065, -0.04635211892623314, -0.10485499582136955, 0.10940142668551268, 0.001569715494912057, 0.047634366380516324, -0.047622899610176524, -0.026087156189712774, -0.05070872230362119, -0.054312626350348496, -0.05721241156681343, -0.028467562320793477, 0.1115220103238216, 0.17080193228007412, -0.053482504962556195, -0.043330774585917525, 0.12240405055503868, 0.3200859509883337, 0.09389800096470881, 0.18805419510842245, -0.20455776479466317, -0.04837904676359508, -0.05043340757858333, 0.10487974289620451, -0.092086836341486, -0.08424975816820567, 0.1409531751132374, -0.05881607785609532, -0.1492467243190263, -0.04685948280712842, 0.07381137710719458, -0.051761313384782064, 0.16513651022883952, 0.08273346269089522, 0.07789071084167369, 0.3251176801563279, -0.04999220855697635, 0.03386528514986235, -0.0518365073366549, -0.05148446850669313, -0.11405676047873313, -0.021836005660513334, -0.04375396378407956, 0.20996422388592023, -0.05018926291210078, -0.09604952384340931, -0.05893429821016067, -0.03858802714513477, -0.11791641557251478, -0.05219948996157814, -0.053362596170010955, -0.04909531738326671, 0.16550680894220515, -0.04561072576092817, -0.048809208490503, -0.015413742245649127, -0.04929291635934999, -0.07439626024299967, -0.08792713078038154, -0.024742802313984968, -0.04160726282468445, -0.07695035785845024, 0.12168519564040434, -0.22284602583969945, 0.019058608575901973, -0.15409974422257278, -0.1414590369968354, -0.08785281603152705, -0.050290621169542526, -0.09559819561747007, 0.10935721690669849, -0.04481842257855295, 0.14134795288645802, 0.10136216009330588, 0.04249387550708267, 0.10603906082003037, -0.06084550763064697, -0.045869715513678765, -0.05433019882920838, 0.035476537550486346, -0.05550223692661625, -0.08613566117390445, 0.06126767227859326, 0.31358989596999715, -0.07114050617193161, -0.048994534035090166, 0.09851690152344679, -0.05081724442024691, 0.16389280590707409, 0.006280702409354115, -0.10175529333832213, 0.1904308641203523, -0.05007493426881569, -0.045097094248109, -0.05415665348676597, 0.05076872978767161, 0.1636984734811577, 0.14565647429244002, -0.04409286051376767, -0.10613959085316164, -0.0502324562192213, 0.05091801154043786, -0.10044703451251272, -0.008451192612329366, -0.049222326444895506, -0.1503233691230289, -0.1326251659348476, 0.07967180335528706, -0.028932920607342403, 0.04400110969692886, -0.040273623152924515, -0.002068258257910311, 0.20745055701776308, 0.22711595707151958, -0.04949427136573041, -0.16167650395198424, 0.0021748855362228045, -0.046502329280421334, -0.06578911049650787, 0.03754502903740775, 0.035761949306951514, 0.0051984711738365785, 0.0064427538692626, -0.10132343506617175, 0.08270153853880059, 0.07733229610429299, -0.05006426826778242, -0.04994816170708424, -0.06382047938760976, -0.038593022507371816, -0.05234909629735295, 0.14446092434684027, -0.14000747591329382, 0.11205045252038673, -0.11315556294703003, -0.03458621685202539, 0.11200077947050935, -0.008556492965838311, -0.04898999679299797, -0.022989394373676267, -0.057393214645693205, -0.12016786099995197, 0.04739355131743511, -0.04600484981754278, -0.05130915701502705, -0.11597866121313279, 0.15897551093527099, 0.09186644115918015, -0.03156357546448671, 0.23499099563094242, -0.026263119018031016, 0.22231372145336223, -0.05387850880645996, -0.04954761035739303, -0.0585259963520256, -0.05743728944626966, -0.051295050411765575, -0.14575822870301783, -0.09701004025756584, -0.04941867662328981, 0.12904224965923894, 0.06886201031356315, -0.018819140362260286, 0.28088983039253934, -0.05703767750793528, -0.07718669612527367, -0.010086008300421109, -0.06342080698490664, -0.11935102151962056, -0.022974402289920298, -0.05152255601012068, 0.26710150792252185, -0.053435138373945604, -0.0449816810605436, -0.04482653932049962, -0.0967540487982402, 0.054629447306444194, -0.23245456048105154, -0.0504814505160659, 0.018617371823170924, -0.11617765873071523, -0.06043990849904826, -0.04218063838108793, -0.04402085007066607, 0.005581561825220258, 0.09450272979355855, -0.15065244626888544], \"xaxis\": \"x\", \"y\": [-0.035118515479997746, -0.03264197610571994, -0.036711590887217475, -0.03601389315118965, -0.056936354580685127, 0.06816278795718786, -0.158812805768543, 0.14190692709350541, 0.12462645738207152, -0.21583681517647219, -0.04363517481395011, -0.06980568600128018, -0.027585847284372404, -0.16339086935606378, -0.05539176015021494, -0.16498031056146584, -0.03243406397710578, -0.03403655428482611, 0.08847024439175617, -0.03649861500171645, -0.03662282404359424, 0.027497107463370578, -0.05367688771629526, -0.04805183352149496, -0.035548732546067274, -0.07689542240236795, -0.04796641689985038, -0.06949306726903091, -0.03452357698004198, -0.011808874078177736, -0.026391031642096843, -0.11462440392293284, -0.03780701780949807, -0.0013516853250591604, -0.02869360204105531, -0.03514591806628213, -0.0256714026460596, -0.03151354671859718, -0.019032242399677067, 0.0040758680304465635, 0.02583584734701887, -0.02907197439628981, -0.025757642028704012, -0.03108864257211247, -0.040646079952199474, -0.02837517491770943, 0.0717199854287573, 0.1487409080908769, 0.008495611427567456, -0.020630657656942136, -0.03627714012425417, -0.14516569515919664, -0.015155613919407371, 0.06067930235944895, 0.05584884111440221, -0.0497208410737428, 0.05725908871075346, 0.044117471044225615, -0.036037735102465246, -0.030890864748168313, -0.007858458914749431, -0.05210702455179554, -0.03203217362017229, -0.0490264243876033, -0.036238538308745745, 0.14134129404570545, -0.038791231663067464, -0.0410542301280944, -0.04070314451412732, -0.013792885844942229, 0.02194333760842791, -0.09538118405960432, -0.1710277223515599, -0.030341146177476422, -0.12355647823912977, -0.03429134205885723, 0.009393352953552855, 0.07139200642060102, -0.14642519863858416, -0.02561831744769361, 0.06871315601656802, -0.03041901490053537, -0.029092875734131364, 0.006704456615614191, -0.04277564903382813, 0.028830228615858083, -0.04082964331861091, -0.039267472049113, -0.014760986110324033, 0.2665453246835967, -0.21855118894113512, -0.08640926400940852, -0.1242570278811108, -0.13310594367289538, -0.09982511573523724, -0.12812795137442098, -0.038343948066418096, 0.10875667824495364, -0.04805648384189154, -0.04598344189116899, -0.05177069369284701, 0.12324100690764822, 0.15785417727431159, -0.024762522677941812, -0.031219529898137414, -0.03538859310786612, -0.032368282991419486, 0.06609565484594876, -0.072381969037383, 0.2817042368724724, -0.08705677587809701, -0.04850717051954798, 0.1581902399970627, 0.14137833320174006, 0.07786011392296473, -0.1138793895247933, -0.12688615037679363, 0.07058736705923506, -0.15871623910287583, -0.0018580910469317656, 0.11453788920496798, 0.08609455910667109, 0.10003800327346711, -0.017901448923286923, -0.0454624106894472, -0.028557339256689376, -0.026326935049564345, -0.3488659036212463, -0.017394557780814255, -0.13650170944419854, -0.23835468420243963, 0.003840742238700661, -0.05895739011325242, -0.032496176557139746, 0.0036294847021334556, -0.02180893620335246, 0.0522723074399259, 0.016132181986901625, -0.03437489405727983, -0.03443117947066212, -0.03169226752081517, 0.01703282914851836, 0.3344098711703033, 0.01577944817384868, 0.06912102770772754, -0.03398195885667058, 0.004216219947078279, 0.08630127476028812, -0.0368949941571444, -0.03133672459934323, -0.0697119137714105, 0.04239786558368114, 0.12629351282425044, -0.10798029376693613, -0.035005311952077324, 0.10294088456216524, 0.08502505760473036, -0.1020349484346963, -0.04498133946841319, 0.057788868687073294, 0.04433026260095185, 0.2002575493442452, -0.07463556899540078, -0.03884278802181131, -0.09676953202036764, -0.11265832601018169, -0.0660657490115324, -0.02853528152990193, -0.017898317369819505, -0.03548040390248705, -0.024922524237812202, 0.015001214769013966, -0.03288358918844049, -0.05929180811692652, -0.023144753703877, -0.03511253620977969, -0.027526729142799633, 0.0374625560324636, -0.035428998152744695, 0.14396578337688676, -0.023299550373962745, -0.036086539314847337, 0.08190996350129356, 0.1335486773397496, -0.10610168209836444, 0.11355984443341201, 0.03699196674676952, -0.02974834764008313, 0.03360587819606609, -0.014361599726773634, -0.039918524049892636, 0.15916452838108677, 0.1023236335883001, -0.01294605136002522, -0.28851828630075516, -0.036855749169922916, -0.02873269143769567, -0.035163974778893825, 0.0897935050835529, 0.12125243341113229, 0.09777508353723123, -0.03229601738432435, -0.016251830704443644, 0.16684579485255996, -0.03239712101891371, -0.03492049738033447, -0.1402949671405115, -0.043684647490623944, -0.029584920607356294, -0.03435661879071117, 0.03754302359833375, -0.039346245449725384, 0.25689221938495543, 0.04347885434825281, -0.014188009211885268, -0.032870949433047664, 0.1442669588087998, -0.03647628654641906, -0.024429066659508628, -0.09470432701997372, -0.022322996348072253, -0.14904441942161978, 0.10916213770937185, -0.028109478455147035, -0.03363428590275603, 0.012735414533219972, -0.03623854046964664, 0.15712066923606144, 0.0004480633829268182, -0.008385102485525913, 0.12144309684318988, -0.006105569944576883, -0.028912034968120448, 0.06384323789978322, 0.16707184662015626, -0.027202919447716044, -0.04034980398505949, -0.036909408486980363, -0.14269734745669702, 0.09425516163229489, -0.037102319661758865, -0.02478093172973292, -0.041056920915920996, -0.0011835303016837634, -0.03581362716971157, -0.062062434401584196, -0.018444336433071102, 0.15565824711023638, -0.03219207186932816, 0.1488856746894904, 0.0031693636074960852, -0.0650291883094521, -0.10881971757502111, -0.02993538536735099, 0.29886191423030317, -0.03485388069922366, 0.18931700340641713, -0.03539088139510843, -0.03577546791204248, -0.04115728238637409, -0.03722983225288854, -0.05626402695831121, 0.0023223762265018873, -0.024705549914600472, -0.03609082319877897, -0.13573198051692298, -0.028683245448827856, -0.11757230669600802, 0.04285497327530857, -0.04668686137940344, -0.044704354945725326, -0.09174126062262272, -0.031842782731781274, 0.010619553444957184, -0.03913562012357718, -0.04589458227875748, -0.03404244316199368, -0.041525625495472944, 0.2293378255721077, -0.03472560332501462, -0.09779386151936796, -0.13181918856856342, -0.03353093894255771, 0.21574641926767352, -0.03526125768226422, -0.04731224992588551, 0.04083701981320377, -0.04416060562216139, -0.02773773458317705, -0.17074007053966228, -0.02645615204223268, -0.020097703252511145, -0.02246882278314071, -0.020896297551649182, -0.03316803468917199, -0.029755416893086972, 0.07173762418601501, 0.08793462656238332, 0.03263882866473055, 0.2926362612561126, 0.1528304747299123, 0.13753239008840265, 0.022706742837380584, 0.29222810298288615, 0.005915092120305959, -0.03316390544463763, 0.07820513644475886, -0.07334496532528227, 0.015048828442798676, -0.00904077952017761, 0.04370070373600682, -0.048678304354982334, -0.03231391132571145, -0.024298529819451704, -0.03858377049833225, -0.03570947996076881, 0.16914604917982407, 0.03123145433002007, -0.03299673163142061, -0.08396449751194, -0.07190888544609716, -0.0038864550489884496, -0.1810955155996804, -0.19092759682317734, 0.07024367032238311, 0.20431355852223426, 0.2233659885924232, -0.20955781800726692, 0.017848680059603876, 0.17204340266140652, -0.03985236345439573, -0.02979581855175014, -0.12957967958524283, -0.03930087032254004, 0.047832503338805135, -0.03162792318363664, -0.2242690724646863, 0.03146190692079117, -0.033071918025407016, -0.03789584146645516, -0.03739878653697173, 0.06544680990885782, -0.03638679903538657, -0.040641164245503514, 0.16069805312533722, -0.031124621757982925, -0.17612877850102562, 0.02122694276466389, -0.031128365992413032, -0.011342066857305166, 0.16338133999469612, -0.010442241032753572, -0.03150389810847984, 0.09402166609944995, 0.02648562919376933, -0.06484505094876883, 0.003139654200942199, 0.19160499945707818, -0.03800537051174645, -0.036367453690170484, -0.0003696373214642896, -0.37769823613074727, -0.03293272056872192, 0.08735724171596994, 0.2297252476947368, -0.14637753980294435, -0.10333447333794041, -0.03952904011187308, -0.2352776449888017, -0.040396737983813887, -0.02049353986177552, -0.0306324507661756, -0.030099953595102227, 0.12818194466636784, -0.030032385203796814, -0.21116010292937518, 0.23483616753027012, 0.2956147888554403, -0.03946071214672415, -0.02614928965583134, -0.03128527412880383, -0.0448459181887049, 0.0291866774954979, 0.09463466976886815, -0.019646668563705828, 0.03556233788259502, -0.006480884011478049, 0.10420149252055, 0.007569973738504278, 0.0037080151813658336, -0.005769466421057253, -0.034936381045126114, 0.01166405563797832, 0.25460977996694717, 0.14088044990028098, -0.03189419653847402, 0.13956068362674776, -0.03589872824336411, -0.02782353303593915, 0.05940888047981385, -0.07121765937476833, 0.06736142624804346, 0.020201433002099173, 0.1817616970864918, -0.00996386756545737, -0.023263461741984476, -0.040332281737546764, 0.07007359213519689, 0.09382185191063248, -0.018824615942102708, -0.08964614340884956, -0.025280143870906928, -0.04871749772547233, -0.005936672096727447, -0.036301864684220045, 0.020353772769406146, 0.1920367127055208, 0.06988616337206095, -0.037783563586275264, 0.08055053184157072, 0.19040054966873157, 0.21106651314357613, 0.028216489630780085, 0.06754961712055554, 0.15229244907337405, -0.029119207047876666, -0.0340379461893913, -0.02182946318118002, -0.026937490417985557, -0.029686145333078583, -0.035838256099085246, -0.051380785219195806, -0.028166109453765024, -0.03655054083311036, 0.07843515498715696, -0.036600649585818504, -0.03657044641778715, -0.023832708794910833, -0.032568821676320865, 0.19987781351054978, -0.03235638344516052, 0.32275915384062603, 0.017066216999022263, -0.036125376326351016, -0.0342162952258113, 0.04607633409940447, -0.02377726307828727, -0.005270665336917236, -0.03226753920170234, 0.0628391347132426, -0.24181861373672642, 0.10906016044065327, -0.023749720166016636, -0.03479693187625773, -0.03457646008785139, 0.2581368409410771, 0.2163727153132204, -0.03473019158944699, -0.04013760645801154, -0.021233247209691688, -0.03375109879052542, -0.019222773484970826, 0.07189576491143634, -0.028930859831963963, 0.2343349362103874, -0.03212612650660991, -0.031276296891675756, -0.04239456380797756, -0.03207428278881826, -0.02644532504009145, 0.17697091011991853, 0.10736613762712684, -0.03402514379557862, -0.010025852979048934, -0.017143788658848573, 0.06353532201245253, 0.021241326330876713, -0.03424736428036752, -0.03552670310002699, 0.14072325014069434, 0.07832780351217704, -0.042222603582563065, -0.03205610449465049, -0.03852739431033935, 0.3342470214222856, 0.040017966409129975, 0.0377034715250301, 0.06235750896053399, -0.04501119346232188, -0.07301467418506517, -0.035127908550972524, -0.040079121090326825, -0.030940409954856637, -0.0703114878815132, -0.16482658245115805, -0.03102801742599432, -0.04268624793063813, -0.10678150891840218, 0.05039889746708852, -0.009034916041635498, -0.03298354127177715, 0.033958218803693874, -0.0029507685700752425, -0.037446173656650664, -0.03038611647213623, 0.03778080795557899, 0.18450734480013573, -0.03623517493259782, -0.11264902830938059, -0.030864295029478933, -0.02937721147757314, 0.06256757986219492, -0.030160384939457087, 0.06122883578674417, -0.028597038779159905, -0.036703032210168775, -0.023196752736005383, -0.09758535912684708, 0.043015891192164195, -0.03599747675856331, -0.026060596666723893, 0.02679349058273154, 0.13890766638144103, -0.03447152196231167, -0.014178416535563197, 0.11486910195803694, -0.039987417289318476, -0.019273527152854752, -0.03842631942621193, 0.01822714868603969, -0.03537065548825127, -0.03317115147728546, 0.10277221534899102, 0.26047905401039134, 0.17492177159177263, -0.03261085064974213, 0.05050653820060364, -0.057875644634560186, -0.03612669006907734, -0.031767711235447936, 0.15632245179311585, 0.11818553221730022, -0.016508899416427532, -0.01934173112906477, 0.04505510152160464, -0.026499898104626694, -0.007204518398917883, -0.023297650723040315, -0.03359117292113285, -0.028116847705451496, -0.044658275775690814, -0.03382741337623381, -0.026915152207202538, 0.03879243584989851, -0.023868542450529294, 0.18445941025525292, -0.03206926680332547, 0.05607329074481914, 0.05954856994005688, 0.2492559939777695, 0.004067332758543517, -0.24143505364582615, -0.03951810586095888, -0.04219914341817937, 0.204114559713103, -0.036923667677029225, -0.03234713202843433, -0.03832082900268777, -0.05650970428084672, 0.17141955880145077, 0.06360075601528681, 0.010099885005049125, 0.10114614324091757, -0.012888353536747903, 0.15247342875637715, -0.038079919153078526, 0.0175526106475224, -0.13915224346472246, -0.03241606811191813, -0.01068638175969065, 0.09126950301492748, -0.03877312641451137, -0.027373277890352963, -0.030517172558110463, -0.09189777519563555, 0.0038161404624689017, -0.034802868649872684, -0.03680328645007576, -0.026363629840549803, -0.09214006593215314, -0.25391030467362513, 0.08376382123161434, -0.03268750763873319, -0.05404235535706162, -0.03818483897282229, -0.010044294672930656, 0.02374103406791742, -0.027352030077820225, 0.2312019324219234, -0.05029660882053455, 0.006312127918734046, -0.0492117513281352, -0.1752311930295769, 0.09527302052989794, 0.05569823656929526, -0.034681362023049896, -0.030157144795084245, -0.031706496565557865, -0.051872585046545946, -0.02584052189178753, 0.030585543795597275, -0.030840029256037467, -0.02595928010251555, -0.025111944671015667, -0.1868111579909244, 0.026874746387279172, 0.11250770114435792, -0.012184365108542842, 0.21840165669510944, 0.050483249089351735, -0.16650626445892946, -0.03391415335671926, -0.018143188030945803, 0.0047968022414311955, -0.039169457907473074, -0.030913015275235434, -0.0314352621045051, 0.312915982097542, -0.036785910018421075, -0.02889846186695332, -0.024377565825761123, -0.06950705989162807, 0.006099436970523406, 0.06783387352450741, -0.1997871899245697, -0.03259547394826883, -0.040172744045179565, -0.031411621025977644, -0.035740747494606005, -0.02283289820290344, -0.14517465065544458, 0.08978998760291614, -0.06245192561535173, -0.04568537474568652, -0.026537855602037568, -0.05198475176606814, -0.04051868173813132, 0.22401960719923988, -0.03395862953270261, -0.029337944449032486, -0.03439512262158498, 0.10683041095471106, 0.14702570187635877, -0.024797640702311673, 0.0506698156422864, 0.10764520499965971, 0.07359004850048531, -0.03338438941700838, -0.022648611022723652, 0.11265455908270937, 0.1216598564327173, 0.13364422310476579, 0.04027205210228724, -0.03837499694032221, 0.15287417180483198, -0.030090269599023806, 0.041589850647537785, 0.12045294266088274, -0.3320022356443378, -0.03186802042108572, 0.03282455674114722, -0.03458014890384912, 0.039558975543849614, -0.03316196092860341, 0.0026824504822444174, 0.2046702828741596, 0.01428717558308425, -0.03643645496447751, -0.057239766111544126, -0.043587423942823104, 0.06215397820001995, -0.02925745381251181, -0.10321611354992181, 0.07544256843991201, -0.03263903152075129, -0.030189420082144328, -0.1327571144156532, -0.07886821200029547, -0.1427168896778505, -0.08681786470898142, -0.04042336317499775, -0.040316843434453124, -0.03563601287812241, 0.17479506280739812, 0.07148453358369815, -0.018931860309451848, 0.2377888868263055, -0.0337408968495151, 0.11894998217135597, 0.007994793009475787, 0.006059829257164512, -0.03493148806323794, 0.10095804214567888, -0.03713639134073673, -0.0335955577310151, -0.027856433799884856, 0.21792108959344605, -0.030389323473967722, -0.004658387492012227, -0.02482750693850742, 0.04909407407930542, 0.024298998464604624, -0.030554862948114807, -0.054014369067224115, -0.0315756492238418, 0.3263962916641451, -0.035251081342176735, -0.017881879405018918, -0.02216499362884624, -0.006578328837401482, -0.029293416490637884, -0.036121548613024204, -0.031180526975342036, -0.018911693945398246, -0.035401774679601754, -0.19203622362299452, -0.05076631312770698, 0.019455221521107072, 0.06591325292188582, -0.0004901555010514565, 0.04770603731856744, 0.20991811341202057, -0.08955623686331937, -0.03979112135718245, -0.023561493027588372, -0.009747921452533016, -0.041671181230734426, 0.07842570149296998, 0.29742701065792104, -0.03483304781664071, 0.008063767958143335, -0.028594745674184987, -0.03466043141633357, -0.03588857838300204, -0.026329215102335053, 0.12630693159825956, -0.03261394571635318, -0.041923179554613756, -0.037522686506312734, -0.1589719180054911, 0.292923271309559, -0.03630948839441574, -0.034436914981775577, 0.1355367709289198, -0.029750891774670024, -0.18007155997616378, -0.03613430470134041, -0.040747669966400564, -0.026235584321406345, 0.10936310963613607, -0.03259550055677618, -0.035398818676167725, -0.034418232966140105, 0.18712156232271127, -0.03812557010740523, -0.08225150886689493, -0.041885970801693415, 0.18690781604609497, 0.05998737213118435, -0.04881563648651749, -0.03434208158976909, -0.03963929416447771, 0.15379571185097865, -0.09865441932548324, -0.09973115723237054, 0.02584208330295311, -0.0334825288172771, 0.09656164309980786, -0.07269129979610688, 0.03403680014428877, -0.03484155393717449, -0.0351075063538554, 0.026875259920508703, -0.03789861381862035, -0.03433724778038137, -0.03619993055008438, -0.013319029788202489, -0.07419596960963168, 0.07655972732173266, 0.029328604751523484, 0.024422432928487003, -0.03820185542767815, -0.033482430485201393, -0.025288507194971072, 0.012027501183152198, -0.02795096986453868, -0.03863776950398124, 0.20389451268556902, -0.036241887459402954, -0.033384229032506874, -0.03753435696678546, -0.03209612522723527, -0.034660461148615256, -0.023993263779790233, 0.025060639170864703, -0.02846064141253282, -0.32675293550472184, 0.10789875306847994, -0.12914237845736143, -0.023986430963203922, -0.034359947836165264, 0.028022740556117722, -0.03294297182331332, -0.026043644887210136, -0.01780166980846737, -0.1952344775933368, 0.05521871265105812, 0.08729958667579105, -0.2171774547110349, -0.03730678227127001, -0.14336298251090374, -0.03973865465857675, -0.03204400322322573, -0.03590096736120378, -0.071083548136611, -0.03449987900335351, -0.03656390165607815, -0.03457977987121009, -0.08943025690817875, -0.27603235722717423, -0.12496288850937715, -0.023040959353731474, -0.08681715866338081, -0.019136848894930364, -0.03258399054023042, -0.16714392760952307, 0.03763291233990631, -0.02984499970686883, -0.041608638596651995, 0.02403367690515049, -0.07412983246887812, -0.1300449224568158, 0.0015846322392393047, 0.03927117511825084, 0.007154112690018745, 0.05407458507738822, -0.03014849344510161, 0.07431174461107641, -0.049276611199047346, 0.045546433445843276, 0.021455038924401478, -0.0031427668383713307, -0.002000915610395108, -0.01508120626800018, -0.0277798113251039, -0.03635437413981513, 0.025871848982582102, -0.03593281532870626, -0.0007544018103516879, -0.024577823298308946, -0.03376183526998227, -0.13698181613011617, -0.03557793801273742, 0.014138165826113814, 0.17946719989556864, -0.025662828591328315, -0.041063140221528426, -0.005008622680945049, -0.03825511954717238, -0.0015764820448249386, -0.03131766617397976, -0.028936308980666355, -0.028744431229161472, -0.03817607462561671, -0.10090802171987862, 0.003604929960198712, -0.18274539025909836, 0.07125869201616057, -0.02941810649819458, -0.010768397960862123, -0.04407404812744575, -0.11432379285270866, -0.03630453876987146, -0.08265350783678392, -0.04186396866696951, 0.13412662465508873, 0.07193417143817295, -0.027370217972537116, -0.03226998943050013, -0.026041527880292282, -0.040718066797356144, -0.04097325563173611, -0.011043050340162511, -0.00842749951058435, 0.192973784387837, 0.1357068054647098, -0.03002296030956601, 0.07359547538604223, 0.1511802296624304, -0.10740835314656255, 0.0285392598319354, -0.021954943955741137, -0.03522412691904318, -0.2537828608997502, 0.06582097623590123, -0.13274741819564043, -0.0398239592387402, -0.028672085517013203, 0.07904248303525725, -0.020497053397943443, 0.0028605208868063984, -0.023438992398786995, -0.024176813323938583, -0.03596020451702592, -0.03544136002461909, -0.05337872380026828, -0.028538833448284718, -0.04007731461126952, -0.03830747785734698, -0.03140338613193117, -0.0365962412886739, -0.029198103241602644, -0.03217012307546285, 0.050797745463026, -0.031760406212580174, -0.16950658093901982, 0.09921289595612276, 0.026820902242984505, -0.03923527720413439, -0.03167694438294548, -0.03419508308552744, 0.05600730215942379, -0.03635068423272069, -0.1718143140500062, -0.028021640879012044, 0.0018494697009710616, -0.027440620531266693, 0.12799797665290535, 0.09361579389059003, -0.03834842773910318, -0.037365927055575225, -0.019918015614250995, -0.0331802409892308, -0.034778282664175084, -0.04206838506492924, 0.14608225518427773, 0.14064713407711776, 0.2523558148021014, -0.024636911960438768, 0.19392164900857506, 0.09991357523190375, 0.0902597630084366, 0.0942539220952934, -0.10317437365822382, -0.10448890882387114, -0.051929274730511635, 0.24985935245935895, 0.06469210983832342, -0.028525220764558323, -0.024953059051703346, -0.04206673197429869, -0.0015205869559335474, -0.035737000967330415, -0.03609740295157786, -0.030359069389354138, -0.02718121530956879, 0.13909039047547714, 0.23288924505565622, 0.01499044709914478, -0.031489771883166595, -0.033610116505404346, -0.03085415450722616, -0.03846445773627122, -0.03222001917295432, -0.031653241816734685, -0.02797867052666744, 0.004249392725793212, -0.034501742392860045, -0.015980141193771016, -0.13157006733268964, -0.0357298486975123, -0.029846700071729505, -0.039558988744329025, 0.10659696026409998, -0.029094835285894436, -0.03862461329769082, -0.0035770673523430334, 0.0616121965568925, -0.03790871580684748, -0.03353636314585316, -0.06325245829951673, 0.11118728362373059, -0.036189428212412944, 0.0839687244323005, 0.08242657266432744, -0.0033867430167858923, 0.21545094875179652, 0.00859255936496003, 0.1004667580397906, -0.03561534202959812, -0.006308380899663693, 0.038540772198975205, -0.04083776792388031, -0.037063328300417316, 0.03197928041180049, 0.07036381344844485, -0.0323952503516606, 0.028243660813374875, -0.17544738129119375, 0.1466169834454094, -0.030412497033640625, -0.06168719224023238, 0.03151005308136164, 0.012401797461467998, 0.12083356822766077, -0.02323487606087921, 0.06013055881420683, 0.07300123148462094, -0.010303662096829504, -0.027303618909524173, -0.03706064302310563, -0.033798090171670105, 0.11578360902014839, -0.029270178126500457, -0.03580564630513093, -0.038238294749801, 0.06203664500651473, 0.12255103131982185, 0.053793501555861455, 0.0632198142298244, -0.0383697524622729, 0.002995964223727799, 0.04229487853575222, 0.07333693668881879, -0.03938286985769032, 0.13862836283268956, 0.16886015515234823, 0.026369890286996808, 0.1948065398246214, 0.032054520623406524, -0.09525324693554732, 0.09564192503415721, -0.03465415625200918, 0.05512657162554593, 0.058136671663485906, -0.04328039115554477, 0.052858842698521466, -0.043944131743190847, -0.05402447455543705, 0.019857662200047563, -0.02043743541336024, -0.03675401373167566, -0.03508446331713263, 0.050060725005417396, 0.13075330025230486, -0.03425836758594574, -0.03735193515889117, -0.036411649018944926, -0.02746437353019147, -0.030635004328066023, -0.03675734481284149, 0.12548695055805378, -0.036675893788595065, -0.0334706686691714, 0.10062725503731253, -0.03276490872405816, -0.03756264653832019, 0.10021009260138, -0.03038344337850548, -0.09262670587483672, -0.03433273812361031, -0.03836899556507201, -0.027561536397956794, -0.03664501710126504, -0.03767503528693209, -0.03190001956582986, -0.03657612000477994, -0.08948689841613859, 0.1919264039165537, -0.0275501246943787, 0.31388141279462195, -0.014107486827252009, 0.23609115594262348, -0.03595147710160831, -0.02973195548481958, 0.05374522685841426, 0.21169735592861952, 0.08988584304693752, 0.17642369121839785, 0.06329301239360911, -0.020251572342500107, -0.022916221721931706, 0.05495316857360678, -0.038232643064183475, -0.024249123781450395, 0.05439625662061456, -0.2310568374608528, -0.0430918550301346, -0.05341132252743348, 0.014631287125563018, -0.008889115998423227, 0.026374463630180697, -0.009126066395359242, 0.1482912873473642, -0.038140108794200475, 0.00019441177225041213, -0.10185368466488293, -0.03212767192979653, -0.03353158015929672, -0.033842859747143725, 0.15700003870247362, 0.1594158131944064, 0.20655398547086523, -0.02626354959906207, 0.022745885519035104, -0.05086898460250857, -0.029361801634695008, -0.0005694420548843701, 0.0136016061921231, -0.030421822635279743, -0.031100091367777586, -0.024648965283823432, 0.055543776767884585, -0.03361924124470274, 0.15619979055345212, -0.036165329833673036, 0.2106845916128788, 0.14870333979748168, -0.03318712340790593, -0.026332989500471665, 0.0011644173892929712, -0.09204035694475211, 0.0871224191550659, -0.03608633542540212, -0.19708356730961035, -0.03164607528068438, -0.03990924051999187, -0.02011882416546421, -0.03599022260356882, 0.11901343971742451, -0.020726816236242503, -0.03490174895305005, 0.08566594546764272, 0.089292505400902, 0.1269625966650537, -0.046406632247513006, 0.05724476680691798, -0.037529838164076665, -0.026084347860621516, -0.005126123581317928, -0.04300526409855749, -0.03661253719866565, 0.24608179239672615, -0.006845966439844948, 0.023956024027088973, -0.28802801108399395, 0.06855946187654681, -0.06782283663180683, -0.005057533357122233, -0.05421552370371509, -0.035171549113132146, -0.04025135461010165, 0.021310496272157826, -0.02703239039860613, -0.02278303251362884, 0.1692167921950576, -0.16350287335192673, -0.04834216176680832, -0.02809937930135131, 0.1394525284064466, 0.09720830367972176, 0.03958304639577502, -0.032768217014851456, 0.10727722574044853, -0.03186382615963477, -0.029704013902183708, 0.1323425898752022, 0.07712685204873639, 0.12906786902506442, -0.03292336670520716, 0.03663608306789876, -0.04742264143489576, 0.00946488060677343, -0.035381839469928275, -0.010386778394644145, -0.03463244547999361, -0.20607030730495407, 0.06486285922262768, -0.06245255837550721, -0.03599869662899402, -0.005110653023136425, -0.05396249170380386, -0.03727265488997098, 0.25267586925486596, -0.19089033495016766, -0.03656139152935234, -0.02147111355874036, -0.02726524627039814, -0.11529936321434908, -0.02398309688019671, -0.059509740658958116, 0.06043028851326507, 0.1642765885714316, -0.006778581035731443, -0.03971939538657661, -0.02713838262611966, -0.03696818116150946, -0.2346845708697383, 0.1837591858208592, 0.020573000270265814, 0.08890480153160717, 0.05052648322192216, -0.03632804353571897, -0.0358922023666349, 0.08019794963894823, -0.0350545685894586, -0.02854502333879047, -0.06133188813509003, 0.10437230602290004, -0.03133734843598289, -0.09898170909535405, 0.1611443416929856, -0.032653728338566224, 0.09028664462561821, -0.02532737520705479, 0.07874905163423022, -0.03603346190307034, -0.03008062521837245, -0.02704812296496738, -0.02765870382420895, -0.05228533847416161, 0.08242047295252079, -0.03824765186326648, -0.03572471440735645, -0.03948438158982685, 0.2927203919121789, -0.03716210250243262, 0.009072131237037793, 0.10934977746548248, 0.035633252290492246, -0.03439047042433524, 0.03487263875496599, -0.012746604576864317, -0.034074216767078905, 0.0447181320191642, 0.02126104330033009, -0.011028331738524567, -0.027967251387279284, 0.07766912863697666, 0.07665679141825159, -0.21475811150589097, -0.06555494641202626, 0.06280574584813717, 0.1760025482151212, -0.03762029088684283, 0.08238493936893888, 0.0146941476673629, -0.0028405375053424287, -0.03555424663734528, -0.07930451589191206, -0.023480964391372417, 0.1552754796123577, -0.040475040716532656, -0.027755491965151514, -0.07337205574332233, -0.038311846327893646, 0.18270245539095828, -0.04377966358883991, -0.023411024590888313, -0.04024806756613623, 0.046928569373944164, 0.025546011911310267, -0.03980339245752068, -0.032486385392617716, -0.03281021568840427, -0.029999924843474638, -0.029456333588176436, -0.018408914660283812, -0.13654628198683252, -0.05013331048733961, -0.07529725583937602, 0.059079276202900294, -0.04091094735832523, -0.2644780216258669, -0.05446996460495353, 0.016559220377019616, -0.03478332790460518, -0.03423121520047992, -0.03382245199777445, -0.15531119050995357, -0.04171869995674604, -0.31793971027844226, 0.00041307890596434244, -0.02570432750969788, 0.09730667307342213, -0.10705471658806169, -0.038833724032609034, -0.036505688718521966, -0.03143944796946441, -0.004996266442873926, 0.06279938247666006, 0.0022997741451095503, -0.06111337050750327, 0.11219127168571694, -0.029129382130239235, -0.03497850882221863, -0.031138331739744524, -0.008175197915226045, -0.03341364534413183, -0.018581851298658466, -0.030469756111924602, -0.03637710617400545, 0.2656743171133466, -0.029298446079292332, -0.031828930081802084, -0.15760022790255984, 0.09484841385573275, -0.0342694794673496, -0.11874734014767684, -0.03512602701452895, 0.046995331244973716, 0.09068531862412556, 0.08604115616533944, 0.027666516567311387, 0.1290638817482603, 0.006426864708209482, -0.034972075615290095, -0.017664900744872827, 0.05456685083177133, -0.033640064917808285, -0.03757547570617224, 0.13518526762150052, 0.057349558516957035, -0.030862075794549703, -0.035388798775493405, 0.1851828815068634, 0.11394928254883764, -0.05670833430046084, -0.03817171012380728, -0.09247711741814729, -0.15142021921438986, -0.1075249931832644, 0.0031085940390301312, 0.025638605448565093, 0.12435636399264423, 0.16373709622547275, 0.16663936393150913, 0.052496330210489335, 0.3499692609779615, -0.01596571341299341, 0.05978016388090834, 0.11980313891981764, -0.03960175120782512, -0.029195345422612116, 0.06064898105572828, -0.04955802972028197, 0.08651443528778607, 0.28030605069229586, 0.040207437465065346, -0.12131782375829765, -0.08631030605360102, 0.17755155241296208, -0.03932753869248103, 0.20133762421822793, -0.02631163096499516, -0.0345435309360033, -0.027691554187194708, -0.027537358792785443, -0.02771921000593308, -0.07508483583506834, -0.020358331498879407, 0.024852798769152286, -0.03155905657492973, -0.01244915815061695, -0.02831214908624243, -0.02969357215992778, 0.01903386585211983, -0.06374468956677169, 0.22873475491058073, -0.043164734037901706, -0.036648746290168226, 0.17061925859262966, 0.0972049036855095, 0.1072967114222566, 0.03431580469884129, -0.023259691955954932, -0.02753055158137101, -0.05535742855576228, -0.03756159054327949, -0.037362201202450325, -0.1297963700902234, -0.022416807746550495, -0.0782781218138141, -0.04230404541917495, -0.03238814893317154, -0.014473273002786119, 0.005027900966779872, -0.03833305415001921, -0.031927826277418664, 0.0679733620120655, 0.019980584878911342, 0.0009142293313545865, -0.03745753861395519, 0.3817524738359661, 0.20738140946251804, 0.07445809507693818, -0.04129307842111993, -0.02396937759875666, -0.09204217617284306, -0.012280870168216393, 0.025114538448618957, 0.06411933572710755, 0.004974211509344099, -0.026780956521518722, 0.13238533196619107, -0.03155934186276954, -0.038330751809663215, -0.021154155653974868, -0.03050076236208188, -0.03402201554963766, -0.034715615268750714, -0.03466962242418118, -0.010883621600097038, -0.027250909653830712, -0.02959422038476473, 0.0809686254958265, -0.025203875477172445, -0.023767516785219316, -0.03495377665015554, -0.037179492979308754, 0.07199096348162441, 0.030388013833316924, -0.12981997269788012, -0.03612442789238718, -0.04016736195516767, -0.008956845622737275, -0.031706677593435054, -0.03236071236940002, -0.031217076945767645, -0.03164824469099032, -0.040083110517383204, 0.08196202528744444, 0.04408075514843714, -0.03929522167232966, -0.0390834642590443, -0.03578534036216165, 0.06359913486803662, -0.028575251823562672, -0.11756514110427807, 0.07863667269609488, -0.03880137156598698, -0.036009254252066906, -0.06960111523354459, -0.03380903628303012, -0.05335301618984006, -0.02336303019766805, -0.0442563099376721, 0.054742827988042704, -0.03751630579618613, -0.012142921817657727, -0.03224218253672653, -0.2122674870239034, 0.04918710578932798, -0.13221991899650865, -0.02913136650268554, 0.13840918562119242, -0.029620134791961045, 0.1516717743139901, -0.02934220916664834, -0.03690858277418099, 0.20993477181645206, -0.0025400284471312506, 0.14032298027472276, -0.030756939009723212, 0.15495101158812644, 0.04633568531716657, -0.02705825612154878, -0.035685411171262366, -0.008930800964844549, -0.03516841011784246, 0.04935330051671373, -0.0352569840842644, 0.17349552493533674, -0.004381842903347877, 0.013047044856803873, -0.10645625363987313, -0.025550088282451176, -0.05597431295266734, -0.0444353370263416, -0.0016042042933262024, 0.21250994545896446, -0.03310426225795417, 0.036515441384698345, 0.04556203780753377, -0.06446369703291376, -0.025580917904345225, -0.03319130195624085, -0.02466115916760381, -0.04397359607122961, -0.0353787744808413, -0.026487104469138913, -0.06389527414365054, 0.04962071893098591, -0.09510934794451932, -0.0410654514144753, -0.02688646071935624, 0.012903245019659842, 0.02671975514111833, 0.03496298662440334, 0.1369596299368893, 0.21338935366225664, -0.029406878408184543, -0.038123878832587395, 0.06453158916038325, 0.02321116442790277, 0.017464252940700725, 0.10005768475305711, -0.024320093204210306, 0.1433996254316649, -0.03086389877928315, -0.2058051109704628, -0.03864327742193096, -0.022664310230277294, -0.05215360627422751, 0.08434476544529826, 0.14960180776900628, -0.0360358585953311, 0.03895247988644624, -0.03770109551691776, -0.037654970724463915, 0.08644756133790699, -0.03120717553549868, -0.027678612324026252, 0.14171056486997383, -0.02265377655914964, 0.016796039714709332, -0.028329478102736203, -0.02404055511824242, 0.07037006989527125, -0.04030837979656796, -0.04338906966067976, -0.03220873529054326, -0.029008268526922787, -0.03423574721999366, -0.03536115690698311, -0.07078750920526157, -0.035328415752245865, 0.0007252041317930574, 0.0032976622737090166, -0.013126211220385212, -0.028563571190535854, 0.0020338412058318843, -0.10139633841928151, 0.21484352484637886, -0.10725212714431585, 0.11318348487054034, 0.13010128359606665, 0.04971773838428797, -0.0367852361239582, 0.006856862292924641, 0.1196928413613038, -0.03504467672522098, 0.14817224413622204, -0.13237158780003794, -0.1323099353582666, -0.2769719727710885, -0.032857364256151, -0.03317353794261057, -0.021902638765567962, -0.11553639364257914, -0.024914601184117532, 0.030025080960265016, -0.12721167255655266, 0.15657611024255666, -0.0006905719366252171, -0.03541036740285036, -0.11026558829525308, -0.03371780419598414, -0.36315039536377286, -0.02635171344947731, 0.050193545365030366, 0.04872225263279018, -0.037379747382100245, -0.03179984397452683, -0.03728131664128616, -0.1515530997359633, 0.054039778455075474, -0.02683947709457266, -0.0425082820881494, 0.13980555764460198, -0.024266899561163575, -0.14480757456166915, 0.04053829026854937, -0.022844193338399103, -0.04356437713122497, 0.11840660273321015, 0.11719823943644495, -0.3443191773033166, -0.02170474766662075, -0.012021166196836797, -0.033474754094211495, -0.03546098390482999, -0.3607463412163102, 0.2406566603260512, -0.035440363872021874, 0.15849903667834195, -0.031207730613693127, -0.028737100436977345, -0.007228721153960717, -0.039273600606431855, -0.061602189218899185, -0.1090804876462332, 0.12699802291301093, 0.05045154099764427, -0.028158669838704, -0.08909323038188825, -0.03447341967786173, -0.02615271133338102, -0.013590523527996777, -0.022568425303164455, -0.039611302144613905, -0.049687819991035546, 0.10684195406507967, -0.27011175668079496, 0.070092695160801, -0.021093249654299925, -0.015966074893230396, -0.039921596529609436, -0.031498489557486416, -0.04757387990485281, -0.022589224121063133, 0.048671358054823616, -0.02394493867683069, -0.031698969041511045, -0.03938101877279136, 0.07660570607431218, -0.00032867478633858555, 0.020973617088173035, -0.02570325808550008, 0.021084072281893254, -0.07195373614324753, 0.23613408730544533, -0.03363155062690182, -0.03601912323011392, -0.02788624819471324, -0.02265848816533754, -0.03787154293447767, 0.11110116535040197, 0.0479885348208217, -0.03554493663757643, 0.1128274634177501, -0.08656360904393458, -0.03360753210765433, -0.06306062253411196, -0.02645702107703509, 0.0002701464973814285, -0.051785059257738304, -0.01756771060514988, 0.08614633825435783, -0.06551350555592009, -0.0332190326882996, 0.10077770539490304, -0.039529141648216276, -0.030034243344109153, -0.022098639060434813, 0.03663308769314873, -0.08609052100333328, 0.29236733754335276, -0.039299862533287114, -0.03830826497425402, 0.07613968708333892, -0.022571221938687696, -0.029440750044702958, -0.027626449193028813, -0.0778323027586127, 0.1067811601264939, 0.10698522072627194], \"yaxis\": \"y\"}, {\"customdata\": [[null], [null], [null], [\"Pr\\u00e9sident d'ACDPN, Ma\\u00eetre de conf\\u00e9rences en Biologie-Biochimie. Mes tweets n'engagent personne et les retweets/likes ne valent pas soutien.\"], [\"Ecoathl\\u00e8te, Championne d'Europe xterra 2016-2017-2019,  \\nD\\u00e9veloppement durable CDOS Ardennes, ambassadrice Comit\\u00e9 Ethique et sport\"], [\"Directeur ex\\u00e9cutif BU DS Orano. \\nBU DS c'est 4000 Ing\\u00e9nieurs, Techniciens et Op\\u00e9rateurs pour le D\\u00e9mant\\u00e8lement, la gestion des dechets et les Services associ\\u00e9s.\"], [\"LREM avant / non-affili\\u00e9 maintenant / \\ud83d\\udeabGilets jaunes\"], [\"Smart data is the new #bigdata. Cleverm8 con\\u00e7oit et propose des produits d'IA diff\\u00e9renciative en SaaS/API. #AI #CognitiveAutomation #AI #cognitive #SmartData\"], [\"Etudiant en Sciences Politiques @UCLouvain_be | Pr\\u00e9sident @AGLouvain | \\ud83c\\udff3\\u200d\\ud83c\\udf08\\u00b7\\ud83c\\udf3f\\u00b7\\u270a | He Him\"], [null], [\"Journaliste - Reporter @ouestafnews -. Passionn\\u00e9 du #Web | Community manager #Football\"], [null], [\"N\\u00e9o interne de gyneco obs \\ud83d\\udc69\\u200d\\u2695\\ufe0f\"], [\"Chief Marketing & Digital Officer\"], [\"\\u2727  Phenicia     \\u2661 \\u3000\\u3000\\u3000  .\\n     \\u2729    CS:GO\\n  *\\u3000\\u3000\\u3000\\u3000 \\u029a\\ud83c\\udf38\\u025e.\\u3000\\n   Psychologie \\u3000\\u3000\\u3000Bordeaux \\u2727 *\\n       \\u2727 soutien TDS \\n      Deathcore \\\\o/ Metalcore\\u3000\\u3000\"], [\"\\ud83d\\udc68\\u200d\\u2695Etudiant en 4\\u00e8me ann\\u00e9e de m\\u00e9decine\\n\\n\\ud83d\\udccdToulouse\\n\\n\\ud83d\\udc8aPharmacien\"], [null], [\"lectureholic, f\\u00e9ministe & entrepreneuse #inclusion #diversity #empowerment #education #sant\\u00e9 mes tweets n\\u2019engagent que moi\"], [\"Etudiant #D3 #medecine 25YO\"], [\"Enseignant-chercheur en \\u00e9lectronique @Universite_Caen @GreycLab  #m\\u00e9diationScientifique #livingLab #fabLab #LearningLab #InnovationP\\u00e9dagogique #curieux\"], [null], [\"Des cercles vicieux et vertueux, des boules de neige et des serpents qui se mordent la queue. Biologiste discret.\"], [\"#psychiatre #criminologie  #victimologie\\nDocteur \\u00e8s pervers narcissiques mais pas que. Homo sapiens migrans. L'\\u00e2me soeur n'existe pas, cherchez pas.\"], [\"Grand Reporter \\u00e0 @BFMBusiness. Ex-JDD, La Tribune, Fig Eco, Nouvel Eco et Bateaux. Livres: \\\"L'Etat accro au tabac\\\" et \\\"Natixis, enqu\\u00eate sur une faillite d'Etat\\\"\"], [\"Scientist @CNRS @institutcochin studying macrophages and other myeloid cells as hosts for viral and non-viral pathogens\"], [\"Analyser l\\u2019information m\\u00e9diatique, identifier les nouvelles probl\\u00e9matiques dans les pays d\\u2019origine, de transit et d\\u2019accueil, diffuser une cartographie dynamique\"], [\"Researcher & Lecturer @ M\\u00e9dialab, Sciences Po.\\n\\nEngineer, data scientist, mathematician.\\nResearcher in complex systems and computational social sciences.\"], [\"\\u00c9quipe de mod\\u00e9lisation de l'\\u00e9pid\\u00e9miologie et de l'\\u00e9volution des maladies infectieuses (CNRS, IRD, Universit\\u00e9 de Montpellier)\"], [\"Document@liste en Institut de Formations Param\\u00e9dicales - Veille p\\u00e9dagogique & technique - \\\"On ne force pas une curiosit\\u00e9, on l'\\u00e9veille\\\" (D. Pennac)\"], [\"Senior Researcher \\nMigration, digital technologies, biometrics, deportation of foreigners...\\nSwitzerland, Turkey, France, EU...\"], [\"Ing\\u00e9nieur-chercheur en mod\\u00e9lisation statistique\\nPour plus de justice, stop \\u00e0 la dictature sanitaire.\"], [\"Consultant Pilote de Projets Qualit\\u00e9 et S\\u00e9curit\\u00e9 des Soins, Management, Gestion de crise, Exp\\u00e9rience patient, QVT, Simulation\\nConseil & Formation\"], [\"Ass. Prof. in philosophy of science (Sorbonne Univ.). Sociality, cooperation, consensus, diversity + phil. biology & economics.\\nR\\u00e9guli\\u00e8rement: #FilPhiloSciences\"], [\"Charg\\u00e9 de la strat\\u00e9gie bas carbone \\u00e0 la communaut\\u00e9 d'agglom\\u00e9ration de La Rochelle. Stephanois de \\ud83d\\udc9a, p\\u00e8re de \\ud83d\\udc6d et d\\u00e9voreur de \\ud83d\\udcda. Mes tweets n\\u2019engagent que moi\"], [\"The kind of independent scientist people claim they want to hear from, until they dislike the conclusions they hear. Spectacularly combustible. \\\"a real person?\\\"\"], [\"Interested among other subjects in microgrids, energy storage, renewable energies and electric mobility.\"], [\"VP of R&D @truepic. CoIlaborator on @contentauth & @c2pa_org. Building countermeasures to deceptively-manipulated media and deepfakes. \\ud83c\\uddfa\\ud83c\\uddf2\\ud83c\\udde8\\ud83c\\udde6\\ud83c\\uddea\\ud83c\\uddec\"], [null], [\"Postdoc LSCE/LOCEAN/@Sorbonne_Univ_, machine learning for oceanography. \\ud83c\\uddf2\\ud83c\\udde6\\ud83c\\uddeb\\ud83c\\uddf7 @africaiknow\"], [\"Engineer & PhD in Food Sciences; working as scientific affairs in Danone, I love yogurt and feel strongly concerned by nutritional societal issues \\ud83d\\ude09\"], [\"#Communication #Scientifique \\u25cf Mes tweets n'engagent que ceux qui les lisent...\"], [\"Co-Founder Creatiwity, Cardioid Games.\\nSwitch : SW-7133-1456-5425\\nhttp://covid-journal.org\"], [\"Sensibiliser au diagnostic pr\\u00e9coce des maladies rares #rarediseases #rheumatology #ethic #literature #pain #immunology #muscledisease #IA #chess #atdqm\"], [null], [\"M\\u00e9decin g\\u00e9n\\u00e9raliste et chef de clinique. Ancien enseignant chercheur sp\\u00e9cialis\\u00e9 en stats.  Enseignant/tuteur/directeurtheses etc. Gamer geek qd jai le tps!\"], [\"\\u00ab\\u00a0Toi qui chemines, il n'y a pas de chemin; le chemin se fait en marchant\\u00a0\\u00bb\"], [\"\\u00c9tudiant \\u00e0 l'ENSIM, dipl\\u00f4m\\u00e9 d'un DUT MP, je souhaite travailler dans la #robotique et les #IA !\\nJ'adore les arts touchants \\u00e0 l'univers #manga, #SF et #comics :)\"], [\"Savoir*Devenir, Sorbonne Nouvelle,TRANSLITERACY, MOOC, Education aux M\\u00e9dias, Litt\\u00e9raties num\\u00e9riques, Diversit\\u00e9 culturelle, Gouvernance d'Internet, UNESCO, UE\"], [\"J'adore la musique metal/rock, les jeux vid\\u00e9os. Je suis fan de jeu survie, horreur, RP... Ancienne joueuse FailyV: Angel Lemmy. J'\\u00e9cris aussi des po\\u00e8mes.\"], [\"Je ne suis ni pour, ni contre. Bien au contraire! \\ud83d\\udd34\\u26ab\\ufe0f\"], [\"soignant itinerant, toujours joyeux, jamais content ! #Fitness #BodyAttack #CrossFit\"], [null], [\"Postdoc in Numerical/Analytical Relativity: @LIGO, @unibirmingham. Formerly @UIBGRG, @SussexUni & @cardiffPHYSX. Opinions my own. \\ud83c\\udff4\\udb40\\udc67\\udb40\\udc62\\udb40\\udc77\\udb40\\udc6c\\udb40\\udc73\\udb40\\udc7f \\ud83c\\udde6\\ud83c\\uddf9 \\ud83c\\uddea\\ud83c\\uddfa\"], [\"Saas enthousiast, human centric (honest, direct, benevolent) and metrics addict + investor via @sriwgroup @wingbydw, ex @serenacap\"], [\"We're a not-for-profit research and campaigning organisation aiming to make the Eurozone & #ECB support a fair, democratic and sustainable economy.\"], [\"Mathematician/Fellow, Mentor/Adviser #EUvsVirus, Cofounder @pubreform @freejournalnet @SciOpenness, Strategy @oa_math #OpenScience #FairOA #FBPE #FBR\"], [\"Heliantis experimentations. Prestataire de services en experimentations agronomique, Selection et production de semences.\"], [\"Mus\\u00e9ographe // #Sciences #Space #Astro #Culture //\"], [\"Farmer, CCA, IFAO/NSCIA Director, Pioneer Rep serving W Norfolk & E Elgin since 1972, Balancing Economy&Agronomy, Curer of Meats&Brewer of Beer. Life is Great!\"], [null], [\"Securing #land to create #community-owned #biodynamic #organic #farms for people & #planet-friendly #farming. #communityshares #ecological #food\"], [\"The BC2 Basel Computational Biology Conference is Switzerland's main event in the domain of Computational Biology, find out more: https://tinyurl.com/y6grazad\"], [\"Chercheuse, dyslexique et bien d'autres choses.\\n#Psychology #Neuroscience #Ageing #MindWandering\"], [\"Enseignant-Chercheur au laboratoire @FAST_orsay\\nVice-Doyen de la Facult\\u00e9 des Sciences d'Orsay\\n@UnivParisSaclay\"], [\"Compte officiel d'ONU Changements climatiques. \\u00c9galement en anglais @UNFCCC, espagnol @CMNUCC, russe @RKIKOON & en allemand @UNKlima. Notre cheffe: @PEspinosaC\"], [null], [null], [\"Welcome to the future of tomorrow.\"], [\"Follow me, I know where I'm going to :D I'm a roman catholic\"], [\"On dit qu'au si\\u00e8cle prochain ou encore \\u00e0 celui d'apr\\u00e8s il y aura des vall\\u00e9es, des p\\u00e2turages o\\u00f9 nous pourrons nous rassembler en paix si on y arrive. G. Snyder\"], [\"Pour \\u00eatre int\\u00e9ressant, soyez int\\u00e9ress\\u00e9\"], [\"Strategy prof at @IMD_BSchool. Helps people improve their decisions & problem solving. \\nSomewhat dedicated triathlete.\"], [\"#Conf\\u00e9renci\\u00e8re, #Coach #Auteure, CEO En haut de l\\u2019Affiche, formation Leadership, n\\u00e9gociation. #Artiste EP #RebelleBienveillante  https://youtu.be/U-oMYan35tg\"], [null], [\"PhD in Bio - Nature Fan & World (Wide Web) Citizen - #Data naturalist #Genome #Food #Mind #Tech #Biomimicry\"], [\"#bascarbone #teamarchi #teaminge #teamR&D\\n@elioth @169architecture\\nplus sur linkedin qu'ici : https://www.linkedin.com/in/meunierguillaume\"], [\"PhD Pharmacologie, PharmD, Praticien Hospitalier; \\u00ab Il vous est jamais arriv\\u00e9 de tomber sur un mec qu\\u2019il fallait pas faire c..? c\\u2019est moi ... \\u00bb (in Gran Torino)\"], [null], [\"Ing\\u00e9nieur en solutions digitales pour le service public, fils d'agriculteurs. P\\u00e8re d'une fille. Entre France et Cor\\u00e9e.  Lutte contre toute discrimination.\"], [\"\\u00c7a sortira pas d internet !\"], [\"Homme de pub. Mari perfectible.\\nP\\u00e8re aimant. Ami franc. Manager s\\u00e9rieux. Twitto ins\\u00e9rieux. Citoyen bienveillant. Rendons 2021 meilleur.\"], [\"Utopiste pragmatique // Naturellement positif et optimiste //\\n| C'est plus facile de s'indigner que de penser. | Le\\u00efla Slimani\"], [\"#enseignant #lyc\\u00e9e #SVT #formateur #CAFFA #IAN #num\\u00e9rique #auteurBD co-cr\\u00e9ateur de @Survive_On_Mars\"], [\"Citoyen progressiste.  Et Malraux qui r\\u00e9sonne : le vingt et uni\\u00e8me si\\u00e8cle sera mystique ou ne sera pas...\"], [\"History doesn't repeat itself, but it often rhymes.\\n\\nAlso on Gab and Minds as @JuliusRuechel\"], [\"Docteur en m\\u00e9decine g\\u00e9n\\u00e9rale et\\nmembre officiel de la team #LesRempla\\u00e7antsCesBranleurs, #nofakemed\\n#MonMasqueTeProt\\u00e8ge\"], [\"comediante, tragediante, ragedediante.\\n\\nCo - auteur de chroniques youtube\\n\\n cortex libris : \\nhttp://youtu.be/gyh49IGVAWg\\nvous allez me dire : \\nhttp://youtu.be/mJnv2dDTsRc\"], [\"Directeur de publication @lemondelenergie. Journaliste et #CM freelance, ex-@Europe1 ; #\\u00e9nergie #renouvelables // Carte de presse 100 143\"], [\"27 yo - Maman d'une jolie Louise - aide soignante en psychiatrie \\ud83c\\udfe5\\ud83d\\udc75\\ud83c\\udffc - v\\u00e9g\\u00e9tarienne\"], [\"AI/ML Sympathetic , Computer Engineer, Software Architect , Technical advisor for Government of Canada, philosophy, Senegal Ngaye M\\u00e9ckh\\u00e9/ Qu\\u00e9bec St-Foy.\"], [\"Pal\\u00e9ontologue b\\u00e9n\\u00e9vole @Le_Museum (CR2P, UMR 7207), recherche, fouilles, pr\\u00e9paration... Sauropod systematics \\ud83e\\udd95. Chef d'entreprise \\u00e0 mes heures perdues.\"], [\"Recruiting manager @Sanofi - sustainable future through innovation / Digital addict and 6-strings guitars player !\"], [\"#COBOL #Perl #Sonar #Sodifrance #PascalAutourDuMonde #Neau\"], [\"Sp\\u00e9cialist in internet investigation,digital security,social media research,data journalism,freedom of information and reporting statisticsBloqu\\u00e9 par #quatremer\"], [\"Je d\\u00e9fends les Lumi\\u00e8res et l\\u2019universalisme de la raison humaine. La nuance n\\u2019est pas mon fort et je r\\u00e9ponds aussi quand je ne sais pas \\ud83e\\udd37\\ud83c\\udffc\\u200d\\u2642\\ufe0f\"], [\"Directeur Exp\\u00e9rience Clients Assistance de Cov\\u00e9a \\ud83d\\ude80 Co-fondateur de Hi! #BrainHacks #SciencesComportementales\"], [\"Gone fission. Interested in energy systems, publicly funded housing, public banking. Thats what the public in republic is about.\\nMember of @Socdems Galway East.\"], [\"ma famille, mon v\\u00e9lo,entre De Vlaeminck et Francesco Moser, le Nord, le Cap Sizun et les Abruzzes.\"], [\"Lyna, your average trans girl. 34yo. .Je ne suis pas la panda rousse que vous recherchez #DealeuseDeCute (Elle/She)\"], [\"Don't know what to put here\"], [null], [\"Pneumologue anti #tabac & pro #justicesociale\\ud83c\\udf3a  . \\n@cote_science    \\n\\n#nofreeLunch pour les docs .\\nI dream things that never were and say why not: ...JB Shaw\\ud83d\\udcd6\"], [\"Les Choses De La Vie.\\nPfizer2+\"], [\"Postgraduate degrees in maths & geopolitics.\\nDebunk myths & lies spread against Jews & Israel. \\nLe conflit israelo-arabe est une equation geopolitique complexe.\"], [\"reporter @TheIntercept \\nhttp://theintercept.com/staff/sharonle\\u2026\\nviews=mine \\ntips: sharon.lerner@theintercept.com\"], [\"blocage imm\\u00e9diat si insulte ou manque de respect...\"], [\"\\u271d\\ufe0f\\ud83c\\uddeb\\ud83c\\uddf7 #LaRacailleTue\"], [\"I'm the woman on the silver mountain \\ud83c\\udfd4\\ufe0f\\nBSc Electric Power Engineering, studying MSc in Nuclear Engineering\"], [null], [\"D\\u00e9l\\u00e9gu\\u00e9 r\\u00e9gional EDF en Bourgogne-Franche-Comt\\u00e9 #BFC\"], [\"Chercheur (et enseignant) sur l'addiction \\u00e0 l' #alcool, #amiens, #alcoologie, #UPJV, #inserm, #umr1247\"], [\"Senior Director in Translational Medicine @kymabltd. Excited about science, immunology, antibodies and new therapies. Tweets and opinions are my own.\\ud83c\\uddea\\ud83c\\uddfa\"], [\"Belgian Screen Composer / une part d'ombre / champion / quartier des banques /\\n\\nmud flow, Lisza et cie..\"], [\"Data science, drug discovery and everything in between. Views are my own.\"], [\"Infirmier Argentologue Dipl\\u00f4m\\u00e9 d'\\u00e9tat\"], [\"Plateforme d'Ing\\u00e9nierie p\\u00e9dagogique et m\\u00e9diation des savoirs de la recherche vers l'enseignement en sciences (SVT et SPC) ENS de Lyon\"], [\"Maitre de conf\\u00e9rences au Mus\\u00e9um @Le_Museum, @ISYEBsp\\n@ISYEB_UMR / Responsable scientifique des Editions du MNHN / Publications @Publi_MNHN\"], [\"PostDoc/climate modeller at MPI-M with focus on the interaction of vegetation/land-use and climate, visualization & optimism. (All views are my own.)\"]], \"hovertemplate\": \"label=1<br>0=%{x}<br>1=%{y}<br>description=%{customdata[0]}<extra></extra>\", \"legendgroup\": \"1\", \"marker\": {\"color\": \"#EF553B\", \"symbol\": \"circle\"}, \"mode\": \"markers\", \"name\": \"1\", \"showlegend\": true, \"type\": \"scattergl\", \"x\": [-0.04762078392351863, -0.051406248543591215, -0.04933225767873756, 0.1627643652483986, 0.032099908666964945, 0.20946482421984197, -0.04511344395644491, -0.006251766327591089, -0.00988650580683052, -0.040373846111991386, -0.015987188071324765, -0.05587179412796746, 0.10616848252449973, -0.06514365249904859, -0.045487653190177, 0.09241399001983554, -0.04995959942970012, 0.011530065469251742, -0.04459878864536046, -0.017005260909092164, -0.03105443433308631, 0.3100737324336313, 0.038553905679168984, 0.11929811038194023, -0.14276949146170628, 0.16876395713740955, -0.10892943110247359, 0.4129250664216317, 0.08452119706638529, -0.08694436728125517, 0.18575391366944763, 0.19593692359538362, -0.1040562616758933, 0.5862033450089259, -0.15184143812625658, -0.12722572757189604, -0.16444331427604725, -0.04928305894362854, -0.07498942104671906, -0.1498653057940584, 0.09446233774032411, -0.0633615327109192, -0.005009472904083431, -0.04130430614229533, 0.10996261207104888, 0.1639658734670887, 0.1924818429685881, -0.03523732444355355, 0.19009665215315863, 0.059017863132630646, -0.04700190361318642, 0.0334808190167993, -0.10817237729278521, -0.08916730535864494, -0.19903654691639885, -0.05522855365867232, 0.22600271015782808, -0.0342216798847349, -0.11602906483058668, -0.046506602655564507, -0.0991658064789908, -0.16767741231554908, 0.009918679465426643, 0.18083774774350228, 0.008020584394675973, -0.056985315372738564, -0.047412863970308576, -0.19148749621443878, -0.08170627036890545, 0.05057754687923989, -0.0025397574554074914, -0.07064340428489617, 0.05346810287309099, -0.05211567184250088, -0.08063270042357637, -0.043376549618133094, 0.10960601632921539, -0.0489980963682232, 0.09558497500712967, -0.017824115680589482, 0.0424269122073825, 0.25628982789758464, 0.05242299273268267, 0.13031270601019096, -0.11045700560445477, 0.2152095102203795, 0.023314254677702262, 0.18364157906256054, 0.06418747328133623, -0.09474968089995692, -0.024545918205000274, -0.10647346576657146, -0.04522584968603682, -0.15934844047204108, 0.38429480465572385, 0.1658004085385591, -0.1639254389215061, 0.2697280103910397, 0.11456709533995567, -0.09331815798657186, -0.05289278388296841, -0.05094298056369044, 0.26449496597883015, 0.0021339483327274256, -0.06413490211781804, 0.08564883044073632, 0.03495997858624883, -0.14609607226797827, -0.05253042645014441, -0.008363763284286485, 0.026782784302326796, -0.19337484435796037, 0.049690569239385814, -0.19067922748883018, -0.04985683512554961, 0.3388637804019926, 0.13775471477833406, -0.23110479271448378], \"xaxis\": \"x\", \"y\": [-0.03404218857376286, -0.03711736556104816, -0.03572126080217857, -0.046560723585321706, -0.06490096935968374, -0.09020221288783288, -0.042323543269467745, 0.027980268753358253, -0.014803109291852827, -0.023786153635902703, -0.004856375002252063, -0.02425476425115683, 0.11998502454642242, -0.009887596981057888, -0.02992301309138379, 0.07346779230081159, -0.03344848616191234, -0.11382477585492728, -0.029746060409190152, -0.030759355396281933, -0.03715326658634943, 0.06649281642168327, -0.14357671976544806, -0.025871387573492236, 0.10462127536749467, -0.016870006625707527, 0.06542967049482101, 0.33468279794406963, 0.03248216189007077, 0.05333465400355462, 0.07431727973599653, 0.14263991422440478, 0.04367884267853178, 0.3281765563503237, 0.12694721868602182, 0.07246769234257679, 0.15137387912286313, -0.03205325368664624, -0.004640050138220429, 0.09946459377923311, -0.18885054170769736, -0.015440793068574408, -0.019185069018865835, -0.03582244527956817, 0.011302724068234345, -0.03813088278060525, -0.16183553228423997, -0.0254818371853644, -0.05951915163647548, -0.2037115393112515, -0.05229000521073802, -0.06440289238823331, 0.041143695346270104, 0.027727892987116705, 0.19305483078642177, -0.025197585625816993, 0.1620643050749955, -0.007719762140392481, 0.0713123822691631, -0.03244896377378071, 0.03385307284701589, 0.15402575287756362, -0.04555918348413357, 0.10502531519379721, -0.026739640572852597, -0.03795816837886914, -0.03420092572727062, 0.20982079231266224, -0.0098894536326798, -0.03177874787269619, -0.07629259645642682, -0.012346152104553318, 0.05745087469248329, -0.03508664295540803, 0.037187381334733746, -0.03467679053881565, -0.06177612095060587, -0.03136532878011556, -0.07225099950755723, -0.07958549734574527, 0.04438175065203911, 0.08623563445381457, 0.06660525646524104, -0.13724572738089852, 0.062307778783700044, 0.09251534543604337, 0.026127262205948236, 0.14501000793069735, -0.023787520403239542, 0.040981255027451806, -0.046151881017954664, 0.04930094867329395, -0.03191823738649664, 0.14897833740591437, -0.23013549762594368, 0.18231582880225064, 0.13923196788876396, -0.08638150160173304, -0.21010908544548276, 0.01277415096171357, -0.03864935278527711, -0.012978187345050901, 0.08556625061309756, -0.06932135514051296, -0.013196499801328457, 0.06533848589078119, -0.1191642984599497, 0.12810287121393538, -0.03470615104266218, -0.03021112304771337, -0.039503425422924184, 0.17042356070989806, -0.0443468569798778, 0.1682343867412736, -0.04503628364547972, 0.16165087936757183, 0.07343834431614422, 0.24160937425891763], \"yaxis\": \"y\"}],                        {\"legend\": {\"title\": {\"text\": \"label\"}, \"tracegroupgap\": 0}, \"margin\": {\"t\": 60}, \"template\": {\"data\": {\"bar\": [{\"error_x\": {\"color\": \"#2a3f5f\"}, \"error_y\": {\"color\": \"#2a3f5f\"}, \"marker\": {\"line\": {\"color\": \"#E5ECF6\", \"width\": 0.5}}, \"type\": \"bar\"}], \"barpolar\": [{\"marker\": {\"line\": {\"color\": \"#E5ECF6\", \"width\": 0.5}}, \"type\": \"barpolar\"}], \"carpet\": [{\"aaxis\": {\"endlinecolor\": \"#2a3f5f\", \"gridcolor\": \"white\", \"linecolor\": \"white\", \"minorgridcolor\": \"white\", \"startlinecolor\": \"#2a3f5f\"}, \"baxis\": {\"endlinecolor\": \"#2a3f5f\", \"gridcolor\": \"white\", \"linecolor\": \"white\", \"minorgridcolor\": \"white\", \"startlinecolor\": \"#2a3f5f\"}, \"type\": \"carpet\"}], \"choropleth\": [{\"colorbar\": {\"outlinewidth\": 0, \"ticks\": \"\"}, \"type\": \"choropleth\"}], \"contour\": [{\"colorbar\": {\"outlinewidth\": 0, \"ticks\": \"\"}, \"colorscale\": [[0.0, \"#0d0887\"], [0.1111111111111111, \"#46039f\"], [0.2222222222222222, \"#7201a8\"], [0.3333333333333333, \"#9c179e\"], [0.4444444444444444, \"#bd3786\"], [0.5555555555555556, \"#d8576b\"], [0.6666666666666666, \"#ed7953\"], [0.7777777777777778, \"#fb9f3a\"], [0.8888888888888888, \"#fdca26\"], [1.0, \"#f0f921\"]], \"type\": \"contour\"}], \"contourcarpet\": [{\"colorbar\": {\"outlinewidth\": 0, \"ticks\": \"\"}, \"type\": \"contourcarpet\"}], \"heatmap\": [{\"colorbar\": {\"outlinewidth\": 0, \"ticks\": \"\"}, \"colorscale\": [[0.0, \"#0d0887\"], [0.1111111111111111, \"#46039f\"], [0.2222222222222222, \"#7201a8\"], [0.3333333333333333, \"#9c179e\"], [0.4444444444444444, \"#bd3786\"], [0.5555555555555556, \"#d8576b\"], [0.6666666666666666, \"#ed7953\"], [0.7777777777777778, \"#fb9f3a\"], [0.8888888888888888, \"#fdca26\"], [1.0, \"#f0f921\"]], \"type\": \"heatmap\"}], \"heatmapgl\": [{\"colorbar\": {\"outlinewidth\": 0, \"ticks\": \"\"}, \"colorscale\": [[0.0, \"#0d0887\"], [0.1111111111111111, \"#46039f\"], [0.2222222222222222, \"#7201a8\"], [0.3333333333333333, \"#9c179e\"], [0.4444444444444444, \"#bd3786\"], [0.5555555555555556, \"#d8576b\"], [0.6666666666666666, \"#ed7953\"], [0.7777777777777778, \"#fb9f3a\"], [0.8888888888888888, \"#fdca26\"], [1.0, \"#f0f921\"]], \"type\": \"heatmapgl\"}], \"histogram\": [{\"marker\": {\"colorbar\": {\"outlinewidth\": 0, \"ticks\": \"\"}}, \"type\": \"histogram\"}], \"histogram2d\": [{\"colorbar\": {\"outlinewidth\": 0, \"ticks\": \"\"}, \"colorscale\": [[0.0, \"#0d0887\"], [0.1111111111111111, \"#46039f\"], [0.2222222222222222, \"#7201a8\"], [0.3333333333333333, \"#9c179e\"], [0.4444444444444444, \"#bd3786\"], [0.5555555555555556, \"#d8576b\"], [0.6666666666666666, \"#ed7953\"], [0.7777777777777778, \"#fb9f3a\"], [0.8888888888888888, \"#fdca26\"], [1.0, \"#f0f921\"]], \"type\": \"histogram2d\"}], \"histogram2dcontour\": [{\"colorbar\": {\"outlinewidth\": 0, \"ticks\": \"\"}, \"colorscale\": [[0.0, \"#0d0887\"], [0.1111111111111111, \"#46039f\"], [0.2222222222222222, \"#7201a8\"], [0.3333333333333333, \"#9c179e\"], [0.4444444444444444, \"#bd3786\"], [0.5555555555555556, \"#d8576b\"], [0.6666666666666666, \"#ed7953\"], [0.7777777777777778, \"#fb9f3a\"], [0.8888888888888888, \"#fdca26\"], [1.0, \"#f0f921\"]], \"type\": \"histogram2dcontour\"}], \"mesh3d\": [{\"colorbar\": {\"outlinewidth\": 0, \"ticks\": \"\"}, \"type\": \"mesh3d\"}], \"parcoords\": [{\"line\": {\"colorbar\": {\"outlinewidth\": 0, \"ticks\": \"\"}}, \"type\": \"parcoords\"}], \"pie\": [{\"automargin\": true, \"type\": \"pie\"}], \"scatter\": [{\"marker\": {\"colorbar\": {\"outlinewidth\": 0, \"ticks\": \"\"}}, \"type\": \"scatter\"}], \"scatter3d\": [{\"line\": {\"colorbar\": {\"outlinewidth\": 0, \"ticks\": \"\"}}, \"marker\": {\"colorbar\": {\"outlinewidth\": 0, \"ticks\": \"\"}}, \"type\": \"scatter3d\"}], \"scattercarpet\": [{\"marker\": {\"colorbar\": {\"outlinewidth\": 0, \"ticks\": \"\"}}, \"type\": \"scattercarpet\"}], \"scattergeo\": [{\"marker\": {\"colorbar\": {\"outlinewidth\": 0, \"ticks\": \"\"}}, \"type\": \"scattergeo\"}], \"scattergl\": [{\"marker\": {\"colorbar\": {\"outlinewidth\": 0, \"ticks\": \"\"}}, \"type\": \"scattergl\"}], \"scattermapbox\": [{\"marker\": {\"colorbar\": {\"outlinewidth\": 0, \"ticks\": \"\"}}, \"type\": \"scattermapbox\"}], \"scatterpolar\": [{\"marker\": {\"colorbar\": {\"outlinewidth\": 0, \"ticks\": \"\"}}, \"type\": \"scatterpolar\"}], \"scatterpolargl\": [{\"marker\": {\"colorbar\": {\"outlinewidth\": 0, \"ticks\": \"\"}}, \"type\": \"scatterpolargl\"}], \"scatterternary\": [{\"marker\": {\"colorbar\": {\"outlinewidth\": 0, \"ticks\": \"\"}}, \"type\": \"scatterternary\"}], \"surface\": [{\"colorbar\": {\"outlinewidth\": 0, \"ticks\": \"\"}, \"colorscale\": [[0.0, \"#0d0887\"], [0.1111111111111111, \"#46039f\"], [0.2222222222222222, \"#7201a8\"], [0.3333333333333333, \"#9c179e\"], [0.4444444444444444, \"#bd3786\"], [0.5555555555555556, \"#d8576b\"], [0.6666666666666666, \"#ed7953\"], [0.7777777777777778, \"#fb9f3a\"], [0.8888888888888888, \"#fdca26\"], [1.0, \"#f0f921\"]], \"type\": \"surface\"}], \"table\": [{\"cells\": {\"fill\": {\"color\": \"#EBF0F8\"}, \"line\": {\"color\": \"white\"}}, \"header\": {\"fill\": {\"color\": \"#C8D4E3\"}, \"line\": {\"color\": \"white\"}}, \"type\": \"table\"}]}, \"layout\": {\"annotationdefaults\": {\"arrowcolor\": \"#2a3f5f\", \"arrowhead\": 0, \"arrowwidth\": 1}, \"autotypenumbers\": \"strict\", \"coloraxis\": {\"colorbar\": {\"outlinewidth\": 0, \"ticks\": \"\"}}, \"colorscale\": {\"diverging\": [[0, \"#8e0152\"], [0.1, \"#c51b7d\"], [0.2, \"#de77ae\"], [0.3, \"#f1b6da\"], [0.4, \"#fde0ef\"], [0.5, \"#f7f7f7\"], [0.6, \"#e6f5d0\"], [0.7, \"#b8e186\"], [0.8, \"#7fbc41\"], [0.9, \"#4d9221\"], [1, \"#276419\"]], \"sequential\": [[0.0, \"#0d0887\"], [0.1111111111111111, \"#46039f\"], [0.2222222222222222, \"#7201a8\"], [0.3333333333333333, \"#9c179e\"], [0.4444444444444444, \"#bd3786\"], [0.5555555555555556, \"#d8576b\"], [0.6666666666666666, \"#ed7953\"], [0.7777777777777778, \"#fb9f3a\"], [0.8888888888888888, \"#fdca26\"], [1.0, \"#f0f921\"]], \"sequentialminus\": [[0.0, \"#0d0887\"], [0.1111111111111111, \"#46039f\"], [0.2222222222222222, \"#7201a8\"], [0.3333333333333333, \"#9c179e\"], [0.4444444444444444, \"#bd3786\"], [0.5555555555555556, \"#d8576b\"], [0.6666666666666666, \"#ed7953\"], [0.7777777777777778, \"#fb9f3a\"], [0.8888888888888888, \"#fdca26\"], [1.0, \"#f0f921\"]]}, \"colorway\": [\"#636efa\", \"#EF553B\", \"#00cc96\", \"#ab63fa\", \"#FFA15A\", \"#19d3f3\", \"#FF6692\", \"#B6E880\", \"#FF97FF\", \"#FECB52\"], \"font\": {\"color\": \"#2a3f5f\"}, \"geo\": {\"bgcolor\": \"white\", \"lakecolor\": \"white\", \"landcolor\": \"#E5ECF6\", \"showlakes\": true, \"showland\": true, \"subunitcolor\": \"white\"}, \"hoverlabel\": {\"align\": \"left\"}, \"hovermode\": \"closest\", \"mapbox\": {\"style\": \"light\"}, \"paper_bgcolor\": \"white\", \"plot_bgcolor\": \"#E5ECF6\", \"polar\": {\"angularaxis\": {\"gridcolor\": \"white\", \"linecolor\": \"white\", \"ticks\": \"\"}, \"bgcolor\": \"#E5ECF6\", \"radialaxis\": {\"gridcolor\": \"white\", \"linecolor\": \"white\", \"ticks\": \"\"}}, \"scene\": {\"xaxis\": {\"backgroundcolor\": \"#E5ECF6\", \"gridcolor\": \"white\", \"gridwidth\": 2, \"linecolor\": \"white\", \"showbackground\": true, \"ticks\": \"\", \"zerolinecolor\": \"white\"}, \"yaxis\": {\"backgroundcolor\": \"#E5ECF6\", \"gridcolor\": \"white\", \"gridwidth\": 2, \"linecolor\": \"white\", \"showbackground\": true, \"ticks\": \"\", \"zerolinecolor\": \"white\"}, \"zaxis\": {\"backgroundcolor\": \"#E5ECF6\", \"gridcolor\": \"white\", \"gridwidth\": 2, \"linecolor\": \"white\", \"showbackground\": true, \"ticks\": \"\", \"zerolinecolor\": \"white\"}}, \"shapedefaults\": {\"line\": {\"color\": \"#2a3f5f\"}}, \"ternary\": {\"aaxis\": {\"gridcolor\": \"white\", \"linecolor\": \"white\", \"ticks\": \"\"}, \"baxis\": {\"gridcolor\": \"white\", \"linecolor\": \"white\", \"ticks\": \"\"}, \"bgcolor\": \"#E5ECF6\", \"caxis\": {\"gridcolor\": \"white\", \"linecolor\": \"white\", \"ticks\": \"\"}}, \"title\": {\"x\": 0.05}, \"xaxis\": {\"automargin\": true, \"gridcolor\": \"white\", \"linecolor\": \"white\", \"ticks\": \"\", \"title\": {\"standoff\": 15}, \"zerolinecolor\": \"white\", \"zerolinewidth\": 2}, \"yaxis\": {\"automargin\": true, \"gridcolor\": \"white\", \"linecolor\": \"white\", \"ticks\": \"\", \"title\": {\"standoff\": 15}, \"zerolinecolor\": \"white\", \"zerolinewidth\": 2}}}, \"xaxis\": {\"anchor\": \"y\", \"domain\": [0.0, 1.0], \"title\": {\"text\": \"0\"}}, \"yaxis\": {\"anchor\": \"x\", \"domain\": [0.0, 1.0], \"title\": {\"text\": \"1\"}}},                        {\"responsive\": true}                    ).then(function(){\n",
       "                            \n",
       "var gd = document.getElementById('3c5555e5-3ac3-484c-ab64-52c1bb6518c2');\n",
       "var x = new MutationObserver(function (mutations, observer) {{\n",
       "        var display = window.getComputedStyle(gd).display;\n",
       "        if (!display || display === 'none') {{\n",
       "            console.log([gd, 'removed!']);\n",
       "            Plotly.purge(gd);\n",
       "            observer.disconnect();\n",
       "        }}\n",
       "}});\n",
       "\n",
       "// Listen for the removal of the full notebook cells\n",
       "var notebookContainer = gd.closest('#notebook-container');\n",
       "if (notebookContainer) {{\n",
       "    x.observe(notebookContainer, {childList: true});\n",
       "}}\n",
       "\n",
       "// Listen for the clearing of the current output cell\n",
       "var outputEl = gd.closest('.output');\n",
       "if (outputEl) {{\n",
       "    x.observe(outputEl, {childList: true});\n",
       "}}\n",
       "\n",
       "                        })                };                });            </script>        </div>"
      ]
     },
     "metadata": {},
     "output_type": "display_data"
    }
   ],
   "source": [
    "import pandas as pd\n",
    "import numpy as np\n",
    "from sklearn.decomposition import PCA\n",
    "import plotly.express as px\n",
    "import plotly\n",
    "\n",
    "\n",
    "\n",
    "pca = PCA(n_components=2)\n",
    "emb_pca = pca.fit_transform(emb)\n",
    "\n",
    "df_emb = pd.DataFrame(emb_pca)\n",
    "df_emb = pd.concat([df_emb, data], axis=1)\n",
    "\n",
    "fig = px.scatter(df_emb, x=0, y=1, color=\"label\", hover_data=['description'])\n",
    "fig.show()\n",
    "# fig.write_html(\"figures/file.html\")"
   ]
  },
  {
   "cell_type": "code",
   "execution_count": null,
   "metadata": {},
   "outputs": [],
   "source": []
  },
  {
   "cell_type": "code",
   "execution_count": null,
   "metadata": {},
   "outputs": [],
   "source": []
  },
  {
   "cell_type": "code",
   "execution_count": null,
   "metadata": {},
   "outputs": [],
   "source": []
  },
  {
   "cell_type": "code",
   "execution_count": null,
   "metadata": {},
   "outputs": [],
   "source": []
  },
  {
   "cell_type": "code",
   "execution_count": null,
   "metadata": {},
   "outputs": [],
   "source": []
  }
 ],
 "metadata": {
  "kernelspec": {
   "display_name": "Python 3",
   "language": "python",
   "name": "python3"
  },
  "language_info": {
   "codemirror_mode": {
    "name": "ipython",
    "version": 3
   },
   "file_extension": ".py",
   "mimetype": "text/x-python",
   "name": "python",
   "nbconvert_exporter": "python",
   "pygments_lexer": "ipython3",
   "version": "3.8.5"
  }
 },
 "nbformat": 4,
 "nbformat_minor": 4
}
