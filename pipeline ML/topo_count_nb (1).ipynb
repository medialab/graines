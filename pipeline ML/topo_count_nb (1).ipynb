{
 "cells": [
  {
   "cell_type": "code",
   "execution_count": 9,
   "metadata": {},
   "outputs": [],
   "source": [
    "import numpy as np\n",
    "import pandas as pd\n",
    "import bamboolib\n",
    "\n",
    "df=pd.read_csv(\"data/followers_graines_version_2021_09_21.csv\",dtype={'follower_id':'str',\"twitter_handle\":'str'})\n",
    "dfri=pd.read_csv(\"data/friends_graines.csv.gz\",dtype={'friend_id':'str',\"twitter_handle\":'str'})\n",
    "\n",
    "meta=pd.read_csv(\"data/followers_graines_version_2021_09_21.csv\",dtype={'follower_id':'str',\"twitter_handle\":'str'})\n",
    "dg=pd.read_csv('data/graines_metadata.csv',dtype={'id':'str'})"
   ]
  },
  {
   "cell_type": "code",
   "execution_count": null,
   "metadata": {},
   "outputs": [],
   "source": []
  },
  {
   "cell_type": "code",
   "execution_count": null,
   "metadata": {},
   "outputs": [],
   "source": []
  },
  {
   "cell_type": "code",
   "execution_count": null,
   "metadata": {},
   "outputs": [],
   "source": []
  },
  {
   "cell_type": "code",
   "execution_count": null,
   "metadata": {},
   "outputs": [],
   "source": []
  },
  {
   "cell_type": "code",
   "execution_count": 12,
   "metadata": {},
   "outputs": [],
   "source": [
    "raisins=set(map(lambda x: str(x),dg['id'].values))\n",
    "\n",
    "dfri.head()\n",
    "net_fri={}\n",
    "for x,y in zip(dfri['friend_id'],dfri['twitter_handle']):\n",
    "    if x in raisins:\n",
    "        net_fri.setdefault(x,[]).append(y)\n",
    "\n",
    "net={}\n",
    "for x,y in zip(df['follower_id'],df['twitter_handle']):\n",
    "    if x in raisins:\n",
    "        net.setdefault(x,[]).append(y)"
   ]
  },
  {
   "cell_type": "code",
   "execution_count": null,
   "metadata": {},
   "outputs": [],
   "source": []
  },
  {
   "cell_type": "code",
   "execution_count": 28,
   "metadata": {},
   "outputs": [],
   "source": [
    "\n",
    "nb_followers_dict= dict(zip(dg.screen_name, dg.followers))"
   ]
  },
  {
   "cell_type": "code",
   "execution_count": 16,
   "metadata": {},
   "outputs": [],
   "source": [
    "net_fri={}\n",
    "for x,y in zip(dfri['friend_id'],dfri['twitter_handle']):\n",
    "    if x in raisins:\n",
    "        net_fri.setdefault(x,[]).append(y)"
   ]
  },
  {
   "cell_type": "code",
   "execution_count": null,
   "metadata": {},
   "outputs": [],
   "source": []
  },
  {
   "cell_type": "code",
   "execution_count": null,
   "metadata": {},
   "outputs": [],
   "source": []
  },
  {
   "cell_type": "code",
   "execution_count": 43,
   "metadata": {},
   "outputs": [],
   "source": [
    "dfri['nb_followers']=dfri['twitter_handle'].map(nb_followers_dict.get)\n",
    "dfri.sample(10)\n",
    "\n",
    "dfri.head()\n",
    "net_fri_norm={}\n",
    "for x,y,w in zip(dfri['friend_id'],dfri['twitter_handle'],dfri['nb_followers']):\n",
    "    if x in raisins:\n",
    "        \n",
    "        if w>0:\n",
    "            net_fri_norm.setdefault(x,[]).append(1/np.log(w))\n",
    "        else:\n",
    "            #print(x,y,w)\n",
    "            pass\n",
    "        \n",
    "#matadon_ and mcefic missing in graines_metadata.csv"
   ]
  },
  {
   "cell_type": "code",
   "execution_count": 44,
   "metadata": {},
   "outputs": [],
   "source": [
    "topo={}\n",
    "for id,fol,fri in zip(dg['id'],dg['followers'], dg['friends']):\n",
    "    #print (id,fol,fri,len(net.get(str(id),[])),len(net_fri.get(str(id),[])),sum(net_fri_norm.get(str(id),[])))\n",
    "    if fol>0:\n",
    "        topo[id]={}\n",
    "        topo[id]['proportion of graines following me']=float(len(net.get(str(id),[]))/(fri+1))\n",
    "        topo[id]['proportion of graines I follow']=float(len(net_fri.get(str(id),[]))/(fol+1))\n",
    "        topo[id]['normalized proportion of graines I follow']=10000*float(sum(net_fri_norm.get(str(id),[]))/(fol+1))\n",
    "        #print ('topo',id,topo[id])\n",
    "\n",
    "# In[93]:\n",
    "\n",
    "\n",
    "pd.DataFrame.from_dict(topo).transpose().to_csv('topology.csv')\n",
    "\n",
    "vector_topo=pd.DataFrame.from_dict(topo).transpose()\n",
    "dtopo=pd.DataFrame.from_dict(topo).transpose()"
   ]
  },
  {
   "cell_type": "code",
   "execution_count": 54,
   "metadata": {},
   "outputs": [
    {
     "data": {
      "application/vnd.jupyter.widget-view+json": {
       "model_id": "e3f9ecf8bbcc476ca597c0773f9b6daa"
      },
      "text/html": [
       "<div>\n",
       "<style scoped>\n",
       "    .dataframe tbody tr th:only-of-type {\n",
       "        vertical-align: middle;\n",
       "    }\n",
       "\n",
       "    .dataframe tbody tr th {\n",
       "        vertical-align: top;\n",
       "    }\n",
       "\n",
       "    .dataframe thead th {\n",
       "        text-align: right;\n",
       "    }\n",
       "</style>\n",
       "<table border=\"1\" class=\"dataframe\">\n",
       "  <thead>\n",
       "    <tr style=\"text-align: right;\">\n",
       "      <th></th>\n",
       "      <th>proportion of graines following me</th>\n",
       "      <th>proportion of graines I follow</th>\n",
       "      <th>normalized proportion of graines I follow</th>\n",
       "    </tr>\n",
       "  </thead>\n",
       "  <tbody>\n",
       "    <tr>\n",
       "      <th>3694615216</th>\n",
       "      <td>0.278947</td>\n",
       "      <td>0.001654</td>\n",
       "      <td>2.022920</td>\n",
       "    </tr>\n",
       "    <tr>\n",
       "      <th>762394911031394304</th>\n",
       "      <td>0.125000</td>\n",
       "      <td>0.002409</td>\n",
       "      <td>3.018515</td>\n",
       "    </tr>\n",
       "    <tr>\n",
       "      <th>868939398624272385</th>\n",
       "      <td>0.146067</td>\n",
       "      <td>0.001092</td>\n",
       "      <td>1.339053</td>\n",
       "    </tr>\n",
       "    <tr>\n",
       "      <th>1138430347669102592</th>\n",
       "      <td>0.325843</td>\n",
       "      <td>0.108108</td>\n",
       "      <td>130.152765</td>\n",
       "    </tr>\n",
       "    <tr>\n",
       "      <th>75977209</th>\n",
       "      <td>0.025493</td>\n",
       "      <td>0.003306</td>\n",
       "      <td>3.924103</td>\n",
       "    </tr>\n",
       "    <tr>\n",
       "      <th>...</th>\n",
       "      <td>...</td>\n",
       "      <td>...</td>\n",
       "      <td>...</td>\n",
       "    </tr>\n",
       "    <tr>\n",
       "      <th>49956717</th>\n",
       "      <td>0.013162</td>\n",
       "      <td>0.005331</td>\n",
       "      <td>6.263961</td>\n",
       "    </tr>\n",
       "    <tr>\n",
       "      <th>970280129552437248</th>\n",
       "      <td>0.054581</td>\n",
       "      <td>0.048154</td>\n",
       "      <td>58.257000</td>\n",
       "    </tr>\n",
       "    <tr>\n",
       "      <th>1329298158</th>\n",
       "      <td>0.027778</td>\n",
       "      <td>0.002136</td>\n",
       "      <td>2.588618</td>\n",
       "    </tr>\n",
       "    <tr>\n",
       "      <th>86301869</th>\n",
       "      <td>0.002042</td>\n",
       "      <td>0.000048</td>\n",
       "      <td>0.050376</td>\n",
       "    </tr>\n",
       "    <tr>\n",
       "      <th>282496911</th>\n",
       "      <td>0.016656</td>\n",
       "      <td>0.002121</td>\n",
       "      <td>2.420197</td>\n",
       "    </tr>\n",
       "  </tbody>\n",
       "</table>\n",
       "<p>204 rows × 3 columns</p>\n",
       "</div>"
      ],
      "text/plain": [
       "                     proportion of graines following me  \\\n",
       "3694615216                                     0.278947   \n",
       "762394911031394304                             0.125000   \n",
       "868939398624272385                             0.146067   \n",
       "1138430347669102592                            0.325843   \n",
       "75977209                                       0.025493   \n",
       "...                                                 ...   \n",
       "49956717                                       0.013162   \n",
       "970280129552437248                             0.054581   \n",
       "1329298158                                     0.027778   \n",
       "86301869                                       0.002042   \n",
       "282496911                                      0.016656   \n",
       "\n",
       "                     proportion of graines I follow  \\\n",
       "3694615216                                 0.001654   \n",
       "762394911031394304                         0.002409   \n",
       "868939398624272385                         0.001092   \n",
       "1138430347669102592                        0.108108   \n",
       "75977209                                   0.003306   \n",
       "...                                             ...   \n",
       "49956717                                   0.005331   \n",
       "970280129552437248                         0.048154   \n",
       "1329298158                                 0.002136   \n",
       "86301869                                   0.000048   \n",
       "282496911                                  0.002121   \n",
       "\n",
       "                     normalized proportion of graines I follow  \n",
       "3694615216                                            2.022920  \n",
       "762394911031394304                                    3.018515  \n",
       "868939398624272385                                    1.339053  \n",
       "1138430347669102592                                 130.152765  \n",
       "75977209                                              3.924103  \n",
       "...                                                        ...  \n",
       "49956717                                              6.263961  \n",
       "970280129552437248                                   58.257000  \n",
       "1329298158                                            2.588618  \n",
       "86301869                                              0.050376  \n",
       "282496911                                             2.420197  \n",
       "\n",
       "[204 rows x 3 columns]"
      ]
     },
     "metadata": {},
     "output_type": "display_data"
    }
   ],
   "source": [
    "dtopo"
   ]
  },
  {
   "cell_type": "code",
   "execution_count": 47,
   "metadata": {},
   "outputs": [
    {
     "data": {
      "text/plain": [
       "8488.0"
      ]
     },
     "execution_count": 47,
     "metadata": {},
     "output_type": "execute_result"
    }
   ],
   "source": [
    "/fol +1"
   ]
  },
  {
   "cell_type": "code",
   "execution_count": null,
   "metadata": {},
   "outputs": [],
   "source": [
    "# certaine grains ont tellement de followeers\n",
    "\n",
    "# Quant u suis quelqu'un une ce ces graines\n",
    "\n",
    "# je rajoute 1/log(nombre de followers de cette personne + 1 de la graine d'origine)\n",
    "\n",
    "# \n",
    "\n",
    "3 mesures\n",
    "\n",
    "Friends des graines\n",
    "frollowers des graines\n"
   ]
  },
  {
   "cell_type": "code",
   "execution_count": null,
   "metadata": {},
   "outputs": [],
   "source": [
    "(1/log (nombre de followers_dirty + 1) + 1/log(nombre de graine followers +1)) normalize par le nombre total des followers des candicat\n",
    "\n"
   ]
  },
  {
   "cell_type": "code",
   "execution_count": 49,
   "metadata": {},
   "outputs": [],
   "source": [
    "id = dg['id'][0]"
   ]
  },
  {
   "cell_type": "code",
   "execution_count": null,
   "metadata": {},
   "outputs": [],
   "source": []
  },
  {
   "cell_type": "code",
   "execution_count": 53,
   "metadata": {},
   "outputs": [
    {
     "data": {
      "text/plain": [
       "11.619246658062913"
      ]
     },
     "execution_count": 53,
     "metadata": {},
     "output_type": "execute_result"
    }
   ],
   "source": [
    "sum(net_fri_norm.get(id))"
   ]
  },
  {
   "cell_type": "code",
   "execution_count": null,
   "metadata": {},
   "outputs": [],
   "source": []
  },
  {
   "cell_type": "code",
   "execution_count": 37,
   "metadata": {},
   "outputs": [
    {
     "data": {
      "text/plain": [
       "['DEFAKATOR_Off',\n",
       " 'BaladoSC',\n",
       " 'TroncheBiais',\n",
       " 'Xilrian',\n",
       " 'Acermendax',\n",
       " 'MrSam144',\n",
       " 'ChatSceptique',\n",
       " 'Utopia_Rabbit',\n",
       " 'Evidencebbh',\n",
       " 'Chevre_Pensante',\n",
       " 'Bunker_D_',\n",
       " 'PLedebut',\n",
       " 'WTFake_',\n",
       " 'stdebove',\n",
       " 'dirtybiology',\n",
       " 'curiologie',\n",
       " 'SkepticsIn',\n",
       " 'Asclepios_YT',\n",
       " 'ERationnelle',\n",
       " 'GenieMalin',\n",
       " 'Omar_MalinGenie',\n",
       " 'cafe_sciences',\n",
       " 'ChocMeta',\n",
       " 'Tzitzimitl',\n",
       " 'Tranxen1',\n",
       " 'SkeptikonFR',\n",
       " 'CuriosityCtlyst',\n",
       " 'MiFougue',\n",
       " 'l_extracteur',\n",
       " 'tpsmort',\n",
       " 'Astroscept',\n",
       " 'intoxicateur',\n",
       " 'ChiasmaParis',\n",
       " 'fauxinfo',\n",
       " 'Guillaume_HB',\n",
       " 'JulienPain',\n",
       " 'ArteDesintox',\n",
       " 'clementfreze',\n",
       " 'afis_science',\n",
       " 'nofake_science',\n",
       " 'Utopia_Rabbit',\n",
       " 'Fuzzyraptor',\n",
       " 'JMAbrassart',\n",
       " 'RichMonvoisin',\n",
       " 'ngauvritparis',\n",
       " 'Asso_Conscience',\n",
       " 'JeromeQuirant',\n",
       " 'TheiereCosmique',\n",
       " 'hedgehogmsx',\n",
       " 'dlouapre',\n",
       " 'ACult2',\n",
       " 'GGmilgram',\n",
       " 'RichMonvoisin']"
      ]
     },
     "execution_count": 37,
     "metadata": {},
     "output_type": "execute_result"
    }
   ],
   "source": [
    "net.get(id)"
   ]
  },
  {
   "cell_type": "code",
   "execution_count": null,
   "metadata": {},
   "outputs": [],
   "source": [
    "float(len(net.get(str(id),[]))/(fri+1))"
   ]
  },
  {
   "cell_type": "code",
   "execution_count": null,
   "metadata": {},
   "outputs": [],
   "source": []
  }
 ],
 "metadata": {
  "kernelspec": {
   "display_name": "Python 3",
   "language": "python",
   "name": "python3"
  },
  "language_info": {
   "codemirror_mode": {
    "name": "ipython",
    "version": 3
   },
   "file_extension": ".py",
   "mimetype": "text/x-python",
   "name": "python",
   "nbconvert_exporter": "python",
   "pygments_lexer": "ipython3",
   "version": "3.8.5"
  }
 },
 "nbformat": 4,
 "nbformat_minor": 4
}
