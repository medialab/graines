{
 "cells": [
  {
   "cell_type": "code",
   "execution_count": 49,
   "metadata": {},
   "outputs": [],
   "source": [
    "import pandas as pd\n",
    "import numpy as np\n",
    "import os\n",
    "import bamboolib\n",
    "\n",
    "if not os.path.exists(\"data\"):\n",
    "    os.makedirs(\"data\")"
   ]
  },
  {
   "cell_type": "code",
   "execution_count": 50,
   "metadata": {},
   "outputs": [],
   "source": [
    "# Load the initial data and rename the id as user_id\n",
    "data = pd.read_csv('data/2000_followers_graines_version_2021_09_21 (1).csv', index_col = [0])\n",
    "data = data.rename(columns = {'id':'user_id'})\n",
    "data['graines_in_friends'] = data['graines_in_friends'].apply(lambda x:x.split('|'))\n",
    "\n",
    "# Load and concat the annotations\n",
    "data_1 = pd.read_csv('data/data annotated/project-116-at-2021-10-13-06-37-e3dd8cbd.csv')\n",
    "data_2 = pd.read_csv('data/data annotated/project-118-at-2021-10-13-06-38-e2172a5e.csv')\n",
    "df_ann = pd.concat([data_1, data_2])"
   ]
  },
  {
   "cell_type": "code",
   "execution_count": 51,
   "metadata": {},
   "outputs": [],
   "source": [
    "# Merge the initial data and the results of the annotations based on similar various keys\n",
    "key = ['screen_name', 'name', 'description', 'protected', 'location']\n",
    "merged = pd.merge(data[key + ['user_id']], df_ann, on = key, how = 'left')\n",
    "\n",
    "# Deal with the common data (I just randomly keep one )\n",
    "merged = merged.drop_duplicates(['user_id'], keep='first')\n",
    "merged = merged[['user_id', 'sentiment']]\n",
    "merged = merged.reset_index(drop=True)\n",
    "\n",
    "# Deal with data that have not been annotated\n",
    "merged_fin = merged[merged.sentiment.notna()].reset_index(drop=True)\n",
    "\n",
    "final = pd.merge(merged_fin, data, on = 'user_id')\n",
    "\n",
    "# Change the labeling into a categorical variable\n",
    "map_code = {\"non-graine\": 0, \"graine\": 1}\n",
    "final[\"label\"] = final[\"sentiment\"].map(map_code)"
   ]
  },
  {
   "cell_type": "code",
   "execution_count": 52,
   "metadata": {},
   "outputs": [],
   "source": [
    "# Add graines in followers\n",
    "\n",
    "foll = pd.read_csv('data/followers_graines_version_2021_09_21.csv', \n",
    "                   index_col = [0], \n",
    "                   low_memory=False, \n",
    "                   usecols = ['twitter_handle', 'follower_id']).reset_index()\n",
    "\n",
    "# The followers information of the original dataset is missing\n",
    "foll_grain = pd.merge(final, foll, left_on = 'user_id', right_on = 'follower_id').drop('follower_id', axis=1)\n",
    "foll_grain = foll_grain.groupby('user_id')['twitter_handle'].agg(['count', list])\n",
    "foll_grain.columns = ['count_graines_in_followers', 'graines_in_followers']\n",
    "foll_grain = foll_grain.reset_index()\n",
    "\n",
    "# remerge with the datase\n",
    "new_data = pd.merge(foll_grain, final, on = 'user_id')\n",
    "\n",
    "new_data.to_csv('data/data_ready.csv')"
   ]
  },
  {
   "cell_type": "code",
   "execution_count": null,
   "metadata": {},
   "outputs": [],
   "source": []
  }
 ],
 "metadata": {
  "kernelspec": {
   "display_name": "Python 3",
   "language": "python",
   "name": "python3"
  },
  "language_info": {
   "codemirror_mode": {
    "name": "ipython",
    "version": 3
   },
   "file_extension": ".py",
   "mimetype": "text/x-python",
   "name": "python",
   "nbconvert_exporter": "python",
   "pygments_lexer": "ipython3",
   "version": "3.8.5"
  }
 },
 "nbformat": 4,
 "nbformat_minor": 4
}
