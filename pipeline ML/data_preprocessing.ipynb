{
 "cells": [
  {
   "cell_type": "code",
   "execution_count": 26,
   "metadata": {},
   "outputs": [],
   "source": [
    "import pandas as pd\n",
    "import numpy as np"
   ]
  },
  {
   "cell_type": "code",
   "execution_count": 27,
   "metadata": {},
   "outputs": [],
   "source": [
    "# Load the initial data and rename the id as user_id\n",
    "data = pd.read_csv('data/2000_followers_graines_version_2021_09_21 (1).csv', index_col = [0])\n",
    "data = data.rename(columns = {'id':'user_id'})"
   ]
  },
  {
   "cell_type": "code",
   "execution_count": 28,
   "metadata": {},
   "outputs": [],
   "source": [
    "# Load and concat the annotations\n",
    "data_1 = pd.read_csv('data/data annotated/project-116-at-2021-10-13-06-37-e3dd8cbd.csv')\n",
    "data_2 = pd.read_csv('data/data annotated/project-118-at-2021-10-13-06-38-e2172a5e.csv')\n",
    "df_ann = pd.concat([data_1, data_2])"
   ]
  },
  {
   "cell_type": "code",
   "execution_count": 29,
   "metadata": {},
   "outputs": [],
   "source": [
    "# Merge the initial data and the results of the annotations based on similar various keys\n",
    "key = ['screen_name', 'name', 'description', 'protected', 'location']\n",
    "merged = pd.merge(data[key + ['user_id']], df_ann, on = key, how = 'left')\n",
    "\n",
    "# Deal with the common data (I just randomly keep one )\n",
    "merged = merged.drop_duplicates(['user_id'], keep='first')\n",
    "merged = merged[['user_id', 'sentiment']]\n",
    "merged = merged.reset_index(drop=True)\n",
    "\n",
    "# Deal with data that have not been annotated\n",
    "merged_fin = merged[merged.sentiment.notna()].reset_index(drop=True)"
   ]
  },
  {
   "cell_type": "code",
   "execution_count": 30,
   "metadata": {},
   "outputs": [],
   "source": [
    "final = pd.merge(merged_fin, data, on = 'user_id')\n",
    "map_code = {\"non-graine\": 0, \"graine\": 1}\n",
    "final[\"label\"] = final[\"sentiment\"].map(map_code)"
   ]
  },
  {
   "cell_type": "code",
   "execution_count": 31,
   "metadata": {},
   "outputs": [],
   "source": [
    "final.to_csv('data/data_ready.csv')"
   ]
  },
  {
   "cell_type": "code",
   "execution_count": null,
   "metadata": {},
   "outputs": [],
   "source": []
  },
  {
   "cell_type": "code",
   "execution_count": null,
   "metadata": {},
   "outputs": [],
   "source": []
  }
 ],
 "metadata": {
  "kernelspec": {
   "display_name": "Python 3",
   "language": "python",
   "name": "python3"
  },
  "language_info": {
   "codemirror_mode": {
    "name": "ipython",
    "version": 3
   },
   "file_extension": ".py",
   "mimetype": "text/x-python",
   "name": "python",
   "nbconvert_exporter": "python",
   "pygments_lexer": "ipython3",
   "version": "3.8.5"
  }
 },
 "nbformat": 4,
 "nbformat_minor": 4
}
